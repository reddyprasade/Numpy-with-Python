{
 "cells": [
  {
   "cell_type": "code",
   "execution_count": 1,
   "id": "27797754-67cf-408f-b217-54a264ccb539",
   "metadata": {},
   "outputs": [],
   "source": [
    "import numpy as np"
   ]
  },
  {
   "cell_type": "markdown",
   "id": "48e9842e-6216-4815-a169-81299a906ca8",
   "metadata": {},
   "source": [
    "<div class=\"bd-content col-12 col-md-9 col-xl-7\">\n",
    "                \n",
    "  <section id=\"statistics\">\n",
    "<h1>Statistics<a class=\"headerlink\" href=\"#statistics\" title=\"Permalink to this heading\">#</a></h1>\n",
    "<section id=\"order-statistics\">\n",
    "<h2>Order statistics<a class=\"headerlink\" href=\"#order-statistics\" title=\"Permalink to this heading\">#</a></h2>\n",
    "<table class=\"autosummary longtable table autosummary\">\n",
    "<tbody>\n",
    "<tr class=\"row-odd\"><td><p><a class=\"reference internal\" href=\"generated/numpy.ptp.html#numpy.ptp\" title=\"numpy.ptp\"><code class=\"xref py py-obj docutils literal notranslate\"><span class=\"pre\">ptp</span></code></a>(a[,&nbsp;axis,&nbsp;out,&nbsp;keepdims])</p></td>\n",
    "<td><p>Range of values (maximum - minimum) along an axis.</p></td>\n",
    "</tr>\n",
    "<tr class=\"row-even\"><td><p><a class=\"reference internal\" href=\"generated/numpy.percentile.html#numpy.percentile\" title=\"numpy.percentile\"><code class=\"xref py py-obj docutils literal notranslate\"><span class=\"pre\">percentile</span></code></a>(a,&nbsp;q[,&nbsp;axis,&nbsp;out,&nbsp;...])</p></td>\n",
    "<td><p>Compute the q-th percentile of the data along the specified axis.</p></td>\n",
    "</tr>\n",
    "<tr class=\"row-odd\"><td><p><a class=\"reference internal\" href=\"generated/numpy.nanpercentile.html#numpy.nanpercentile\" title=\"numpy.nanpercentile\"><code class=\"xref py py-obj docutils literal notranslate\"><span class=\"pre\">nanpercentile</span></code></a>(a,&nbsp;q[,&nbsp;axis,&nbsp;out,&nbsp;...])</p></td>\n",
    "<td><p>Compute the qth percentile of the data along the specified axis, while ignoring nan values.</p></td>\n",
    "</tr>\n",
    "<tr class=\"row-even\"><td><p><a class=\"reference internal\" href=\"generated/numpy.quantile.html#numpy.quantile\" title=\"numpy.quantile\"><code class=\"xref py py-obj docutils literal notranslate\"><span class=\"pre\">quantile</span></code></a>(a,&nbsp;q[,&nbsp;axis,&nbsp;out,&nbsp;overwrite_input,&nbsp;...])</p></td>\n",
    "<td><p>Compute the q-th quantile of the data along the specified axis.</p></td>\n",
    "</tr>\n",
    "<tr class=\"row-odd\"><td><p><a class=\"reference internal\" href=\"generated/numpy.nanquantile.html#numpy.nanquantile\" title=\"numpy.nanquantile\"><code class=\"xref py py-obj docutils literal notranslate\"><span class=\"pre\">nanquantile</span></code></a>(a,&nbsp;q[,&nbsp;axis,&nbsp;out,&nbsp;...])</p></td>\n",
    "<td><p>Compute the qth quantile of the data along the specified axis, while ignoring nan values.</p></td>\n",
    "</tr>\n",
    "</tbody>\n",
    "</table>\n",
    "</section>\n",
    "<section id=\"averages-and-variances\">\n",
    "<h2>Averages and variances<a class=\"headerlink\" href=\"#averages-and-variances\" title=\"Permalink to this heading\">#</a></h2>\n",
    "<table class=\"autosummary longtable table autosummary\">\n",
    "<tbody>\n",
    "<tr class=\"row-odd\"><td><p><a class=\"reference internal\" href=\"generated/numpy.median.html#numpy.median\" title=\"numpy.median\"><code class=\"xref py py-obj docutils literal notranslate\"><span class=\"pre\">median</span></code></a>(a[,&nbsp;axis,&nbsp;out,&nbsp;overwrite_input,&nbsp;keepdims])</p></td>\n",
    "<td><p>Compute the median along the specified axis.</p></td>\n",
    "</tr>\n",
    "<tr class=\"row-even\"><td><p><a class=\"reference internal\" href=\"generated/numpy.average.html#numpy.average\" title=\"numpy.average\"><code class=\"xref py py-obj docutils literal notranslate\"><span class=\"pre\">average</span></code></a>(a[,&nbsp;axis,&nbsp;weights,&nbsp;returned,&nbsp;keepdims])</p></td>\n",
    "<td><p>Compute the weighted average along the specified axis.</p></td>\n",
    "</tr>\n",
    "<tr class=\"row-odd\"><td><p><a class=\"reference internal\" href=\"generated/numpy.mean.html#numpy.mean\" title=\"numpy.mean\"><code class=\"xref py py-obj docutils literal notranslate\"><span class=\"pre\">mean</span></code></a>(a[,&nbsp;axis,&nbsp;dtype,&nbsp;out,&nbsp;keepdims,&nbsp;where])</p></td>\n",
    "<td><p>Compute the arithmetic mean along the specified axis.</p></td>\n",
    "</tr>\n",
    "<tr class=\"row-even\"><td><p><a class=\"reference internal\" href=\"generated/numpy.std.html#numpy.std\" title=\"numpy.std\"><code class=\"xref py py-obj docutils literal notranslate\"><span class=\"pre\">std</span></code></a>(a[,&nbsp;axis,&nbsp;dtype,&nbsp;out,&nbsp;ddof,&nbsp;keepdims,&nbsp;where])</p></td>\n",
    "<td><p>Compute the standard deviation along the specified axis.</p></td>\n",
    "</tr>\n",
    "<tr class=\"row-odd\"><td><p><a class=\"reference internal\" href=\"generated/numpy.var.html#numpy.var\" title=\"numpy.var\"><code class=\"xref py py-obj docutils literal notranslate\"><span class=\"pre\">var</span></code></a>(a[,&nbsp;axis,&nbsp;dtype,&nbsp;out,&nbsp;ddof,&nbsp;keepdims,&nbsp;where])</p></td>\n",
    "<td><p>Compute the variance along the specified axis.</p></td>\n",
    "</tr>\n",
    "<tr class=\"row-even\"><td><p><a class=\"reference internal\" href=\"generated/numpy.nanmedian.html#numpy.nanmedian\" title=\"numpy.nanmedian\"><code class=\"xref py py-obj docutils literal notranslate\"><span class=\"pre\">nanmedian</span></code></a>(a[,&nbsp;axis,&nbsp;out,&nbsp;overwrite_input,&nbsp;...])</p></td>\n",
    "<td><p>Compute the median along the specified axis, while ignoring NaNs.</p></td>\n",
    "</tr>\n",
    "<tr class=\"row-odd\"><td><p><a class=\"reference internal\" href=\"generated/numpy.nanmean.html#numpy.nanmean\" title=\"numpy.nanmean\"><code class=\"xref py py-obj docutils literal notranslate\"><span class=\"pre\">nanmean</span></code></a>(a[,&nbsp;axis,&nbsp;dtype,&nbsp;out,&nbsp;keepdims,&nbsp;where])</p></td>\n",
    "<td><p>Compute the arithmetic mean along the specified axis, ignoring NaNs.</p></td>\n",
    "</tr>\n",
    "<tr class=\"row-even\"><td><p><a class=\"reference internal\" href=\"generated/numpy.nanstd.html#numpy.nanstd\" title=\"numpy.nanstd\"><code class=\"xref py py-obj docutils literal notranslate\"><span class=\"pre\">nanstd</span></code></a>(a[,&nbsp;axis,&nbsp;dtype,&nbsp;out,&nbsp;ddof,&nbsp;...])</p></td>\n",
    "<td><p>Compute the standard deviation along the specified axis, while ignoring NaNs.</p></td>\n",
    "</tr>\n",
    "<tr class=\"row-odd\"><td><p><a class=\"reference internal\" href=\"generated/numpy.nanvar.html#numpy.nanvar\" title=\"numpy.nanvar\"><code class=\"xref py py-obj docutils literal notranslate\"><span class=\"pre\">nanvar</span></code></a>(a[,&nbsp;axis,&nbsp;dtype,&nbsp;out,&nbsp;ddof,&nbsp;...])</p></td>\n",
    "<td><p>Compute the variance along the specified axis, while ignoring NaNs.</p></td>\n",
    "</tr>\n",
    "</tbody>\n",
    "</table>\n",
    "</section>\n",
    "<section id=\"correlating\">\n",
    "<h2>Correlating<a class=\"headerlink\" href=\"#correlating\" title=\"Permalink to this heading\">#</a></h2>\n",
    "<table class=\"autosummary longtable table autosummary\">\n",
    "<tbody>\n",
    "<tr class=\"row-odd\"><td><p><a class=\"reference internal\" href=\"generated/numpy.corrcoef.html#numpy.corrcoef\" title=\"numpy.corrcoef\"><code class=\"xref py py-obj docutils literal notranslate\"><span class=\"pre\">corrcoef</span></code></a>(x[,&nbsp;y,&nbsp;rowvar,&nbsp;bias,&nbsp;ddof,&nbsp;dtype])</p></td>\n",
    "<td><p>Return Pearson product-moment correlation coefficients.</p></td>\n",
    "</tr>\n",
    "<tr class=\"row-even\"><td><p><a class=\"reference internal\" href=\"generated/numpy.correlate.html#numpy.correlate\" title=\"numpy.correlate\"><code class=\"xref py py-obj docutils literal notranslate\"><span class=\"pre\">correlate</span></code></a>(a,&nbsp;v[,&nbsp;mode])</p></td>\n",
    "<td><p>Cross-correlation of two 1-dimensional sequences.</p></td>\n",
    "</tr>\n",
    "<tr class=\"row-odd\"><td><p><a class=\"reference internal\" href=\"generated/numpy.cov.html#numpy.cov\" title=\"numpy.cov\"><code class=\"xref py py-obj docutils literal notranslate\"><span class=\"pre\">cov</span></code></a>(m[,&nbsp;y,&nbsp;rowvar,&nbsp;bias,&nbsp;ddof,&nbsp;fweights,&nbsp;...])</p></td>\n",
    "<td><p>Estimate a covariance matrix, given data and weights.</p></td>\n",
    "</tr>\n",
    "</tbody>\n",
    "</table>\n",
    "</section>\n",
    "<section id=\"histograms\">\n",
    "<h2>Histograms<a class=\"headerlink\" href=\"#histograms\" title=\"Permalink to this heading\">#</a></h2>\n",
    "<table class=\"autosummary longtable table autosummary\">\n",
    "<tbody>\n",
    "<tr class=\"row-odd\"><td><p><a class=\"reference internal\" href=\"generated/numpy.histogram.html#numpy.histogram\" title=\"numpy.histogram\"><code class=\"xref py py-obj docutils literal notranslate\"><span class=\"pre\">histogram</span></code></a>(a[,&nbsp;bins,&nbsp;range,&nbsp;density,&nbsp;weights])</p></td>\n",
    "<td><p>Compute the histogram of a dataset.</p></td>\n",
    "</tr>\n",
    "<tr class=\"row-even\"><td><p><a class=\"reference internal\" href=\"generated/numpy.histogram2d.html#numpy.histogram2d\" title=\"numpy.histogram2d\"><code class=\"xref py py-obj docutils literal notranslate\"><span class=\"pre\">histogram2d</span></code></a>(x,&nbsp;y[,&nbsp;bins,&nbsp;range,&nbsp;density,&nbsp;...])</p></td>\n",
    "<td><p>Compute the bi-dimensional histogram of two data samples.</p></td>\n",
    "</tr>\n",
    "<tr class=\"row-odd\"><td><p><a class=\"reference internal\" href=\"generated/numpy.histogramdd.html#numpy.histogramdd\" title=\"numpy.histogramdd\"><code class=\"xref py py-obj docutils literal notranslate\"><span class=\"pre\">histogramdd</span></code></a>(sample[,&nbsp;bins,&nbsp;range,&nbsp;density,&nbsp;...])</p></td>\n",
    "<td><p>Compute the multidimensional histogram of some data.</p></td>\n",
    "</tr>\n",
    "<tr class=\"row-even\"><td><p><a class=\"reference internal\" href=\"generated/numpy.bincount.html#numpy.bincount\" title=\"numpy.bincount\"><code class=\"xref py py-obj docutils literal notranslate\"><span class=\"pre\">bincount</span></code></a>(x,&nbsp;/[,&nbsp;weights,&nbsp;minlength])</p></td>\n",
    "<td><p>Count number of occurrences of each value in array of non-negative ints.</p></td>\n",
    "</tr>\n",
    "<tr class=\"row-odd\"><td><p><a class=\"reference internal\" href=\"generated/numpy.histogram_bin_edges.html#numpy.histogram_bin_edges\" title=\"numpy.histogram_bin_edges\"><code class=\"xref py py-obj docutils literal notranslate\"><span class=\"pre\">histogram_bin_edges</span></code></a>(a[,&nbsp;bins,&nbsp;range,&nbsp;weights])</p></td>\n",
    "<td><p>Function to calculate only the edges of the bins used by the <a class=\"reference internal\" href=\"generated/numpy.histogram.html#numpy.histogram\" title=\"numpy.histogram\"><code class=\"xref py py-obj docutils literal notranslate\"><span class=\"pre\">histogram</span></code></a> function.</p></td>\n",
    "</tr>\n",
    "<tr class=\"row-even\"><td><p><a class=\"reference internal\" href=\"generated/numpy.digitize.html#numpy.digitize\" title=\"numpy.digitize\"><code class=\"xref py py-obj docutils literal notranslate\"><span class=\"pre\">digitize</span></code></a>(x,&nbsp;bins[,&nbsp;right])</p></td>\n",
    "<td><p>Return the indices of the bins to which each value in input array belongs.</p></td>\n",
    "</tr>\n",
    "</tbody>\n",
    "</table>\n",
    "</section>\n",
    "</section>\n"
   ]
  },
  {
   "cell_type": "markdown",
   "id": "91857e2a-034c-4dbc-8ada-3d2962678d9f",
   "metadata": {},
   "source": [
    "#### Order statistics"
   ]
  },
  {
   "cell_type": "code",
   "execution_count": 2,
   "id": "77add66b-4309-482c-b936-4150ef2af486",
   "metadata": {},
   "outputs": [
    {
     "data": {
      "text/plain": [
       "array([[ 4,  9,  2, 10],\n",
       "       [ 6,  9,  7, 12]])"
      ]
     },
     "execution_count": 2,
     "metadata": {},
     "output_type": "execute_result"
    }
   ],
   "source": [
    "x = np.array([[4, 9, 2, 10],\n",
    "              [6, 9, 7, 12]])\n",
    "x"
   ]
  },
  {
   "cell_type": "code",
   "execution_count": 3,
   "id": "9156a1df-bc69-4938-9240-2ee1f3460ec2",
   "metadata": {},
   "outputs": [
    {
     "data": {
      "text/plain": [
       "10"
      ]
     },
     "execution_count": 3,
     "metadata": {},
     "output_type": "execute_result"
    }
   ],
   "source": [
    "np.ptp(x)"
   ]
  },
  {
   "cell_type": "code",
   "execution_count": 4,
   "id": "bec02148-f2a8-4849-a209-2dd019377fd4",
   "metadata": {},
   "outputs": [
    {
     "data": {
      "text/plain": [
       "array([8, 6])"
      ]
     },
     "execution_count": 4,
     "metadata": {},
     "output_type": "execute_result"
    }
   ],
   "source": [
    "np.ptp(x,axis=1)"
   ]
  },
  {
   "cell_type": "code",
   "execution_count": 5,
   "id": "f1f92cc4-fe24-4de4-8ab5-9c9cdf5ce57c",
   "metadata": {},
   "outputs": [
    {
     "data": {
      "text/plain": [
       "array([2, 0, 5, 2])"
      ]
     },
     "execution_count": 5,
     "metadata": {},
     "output_type": "execute_result"
    }
   ],
   "source": [
    "np.ptp(x,axis=0)"
   ]
  },
  {
   "cell_type": "code",
   "execution_count": 6,
   "id": "e6beb078-20ec-4f80-b208-6b8ab9eb610a",
   "metadata": {},
   "outputs": [
    {
     "data": {
      "text/plain": [
       "array([[10,  7,  4],\n",
       "       [ 3,  2,  1]])"
      ]
     },
     "execution_count": 6,
     "metadata": {},
     "output_type": "execute_result"
    }
   ],
   "source": [
    "a = np.array([[10, 7, 4], [3, 2, 1]])\n",
    "a"
   ]
  },
  {
   "cell_type": "code",
   "execution_count": 7,
   "id": "26353696-47b8-4420-a698-141ce71435c5",
   "metadata": {},
   "outputs": [
    {
     "data": {
      "text/plain": [
       "3.5"
      ]
     },
     "execution_count": 7,
     "metadata": {},
     "output_type": "execute_result"
    }
   ],
   "source": [
    "np.percentile(a, 50)"
   ]
  },
  {
   "cell_type": "code",
   "execution_count": 8,
   "id": "5904a5db-08fd-4226-baee-8a7cf6177a81",
   "metadata": {},
   "outputs": [
    {
     "data": {
      "text/plain": [
       "array([2.25, 3.5 , 6.25])"
      ]
     },
     "execution_count": 8,
     "metadata": {},
     "output_type": "execute_result"
    }
   ],
   "source": [
    "np.percentile(a, [25,50,75])"
   ]
  },
  {
   "cell_type": "code",
   "execution_count": 9,
   "id": "21b4ad39-7feb-41bf-9be2-4b6d81329525",
   "metadata": {},
   "outputs": [
    {
     "data": {
      "text/plain": [
       "array([6.5, 4.5, 2.5])"
      ]
     },
     "execution_count": 9,
     "metadata": {},
     "output_type": "execute_result"
    }
   ],
   "source": [
    "np.percentile(a, 50, axis=0)"
   ]
  },
  {
   "cell_type": "code",
   "execution_count": 10,
   "id": "d2dedc40-b375-4b72-b40e-5a5e16deebfe",
   "metadata": {},
   "outputs": [
    {
     "data": {
      "text/plain": [
       "array([7., 2.])"
      ]
     },
     "execution_count": 10,
     "metadata": {},
     "output_type": "execute_result"
    }
   ],
   "source": [
    "np.percentile(a, 50, axis=1)"
   ]
  },
  {
   "cell_type": "code",
   "execution_count": 11,
   "id": "4fa8a657-1af0-4db6-9427-0f2dd841597f",
   "metadata": {},
   "outputs": [
    {
     "data": {
      "text/plain": [
       "array([[7.],\n",
       "       [2.]])"
      ]
     },
     "execution_count": 11,
     "metadata": {},
     "output_type": "execute_result"
    }
   ],
   "source": [
    "np.percentile(a, 50, axis=1, keepdims=True)"
   ]
  },
  {
   "cell_type": "code",
   "execution_count": 12,
   "id": "7196a638-cd23-4ba5-8171-f7fc954142e3",
   "metadata": {},
   "outputs": [],
   "source": [
    "import matplotlib.pyplot as plt\n",
    "\n",
    "a = np.arange(4)\n",
    "p = np.linspace(0, 100, 6001)"
   ]
  },
  {
   "cell_type": "code",
   "execution_count": 13,
   "id": "80167f98-9e40-48be-83e8-322fd557ccbd",
   "metadata": {},
   "outputs": [
    {
     "data": {
      "text/plain": [
       "[<matplotlib.lines.Line2D at 0x25472e33eb0>]"
      ]
     },
     "execution_count": 13,
     "metadata": {},
     "output_type": "execute_result"
    },
    {
     "data": {
      "image/png": "[encoded data removed]",
      "text/plain": [
       "<Figure size 640x480 with 1 Axes>"
      ]
     },
     "metadata": {},
     "output_type": "display_data"
    }
   ],
   "source": [
    "plt.plot(p)"
   ]
  },
  {
   "cell_type": "code",
   "execution_count": 14,
   "id": "2148477d-1789-483e-b019-bdd59f25208a",
   "metadata": {},
   "outputs": [
    {
     "data": {
      "text/plain": [
       "(array([600., 600., 600., 600., 600., 600., 600., 600., 600., 601.]),\n",
       " array([  0.,  10.,  20.,  30.,  40.,  50.,  60.,  70.,  80.,  90., 100.]),\n",
       " <BarContainer object of 10 artists>)"
      ]
     },
     "execution_count": 14,
     "metadata": {},
     "output_type": "execute_result"
    },
    {
     "data": {
      "image/png": "[encoded data removed]",
      "text/plain": [
       "<Figure size 640x480 with 1 Axes>"
      ]
     },
     "metadata": {},
     "output_type": "display_data"
    }
   ],
   "source": [
    "plt.hist(p)"
   ]
  },
  {
   "cell_type": "code",
   "execution_count": 15,
   "id": "16e59d92-70a6-4aa7-9600-02f6d8614dc3",
   "metadata": {},
   "outputs": [
    {
     "data": {
      "text/plain": [
       "25.0"
      ]
     },
     "execution_count": 15,
     "metadata": {},
     "output_type": "execute_result"
    }
   ],
   "source": [
    "np.percentile(p,25)"
   ]
  },
  {
   "cell_type": "code",
   "execution_count": 16,
   "id": "c204073a-fad8-415a-95f4-0d75b003222e",
   "metadata": {},
   "outputs": [
    {
     "data": {
      "text/plain": [
       "50.0"
      ]
     },
     "execution_count": 16,
     "metadata": {},
     "output_type": "execute_result"
    }
   ],
   "source": [
    "np.percentile(p,50)"
   ]
  },
  {
   "cell_type": "code",
   "execution_count": 17,
   "id": "79a825f1-b16b-417a-9b6e-618333321444",
   "metadata": {},
   "outputs": [
    {
     "data": {
      "text/plain": [
       "75.0"
      ]
     },
     "execution_count": 17,
     "metadata": {},
     "output_type": "execute_result"
    }
   ],
   "source": [
    "np.percentile(p,75)"
   ]
  },
  {
   "cell_type": "code",
   "execution_count": 18,
   "id": "abab41d9-bf9e-4db7-b87e-d7aff7ea9ece",
   "metadata": {},
   "outputs": [
    {
     "data": {
      "text/plain": [
       "array([[10.,  7.,  4.],\n",
       "       [ 3.,  2.,  1.]])"
      ]
     },
     "execution_count": 18,
     "metadata": {},
     "output_type": "execute_result"
    }
   ],
   "source": [
    "a = np.array([[10., 7., 4.], [3., 2., 1.]])\n",
    "a"
   ]
  },
  {
   "cell_type": "code",
   "execution_count": 19,
   "id": "d134be8c-d237-4ade-a9ed-c6bb5b65d089",
   "metadata": {},
   "outputs": [],
   "source": [
    "a[0][1] = np.nan"
   ]
  },
  {
   "cell_type": "code",
   "execution_count": 20,
   "id": "718fcb01-32d5-4f14-bbc0-3601117ae200",
   "metadata": {},
   "outputs": [
    {
     "data": {
      "text/plain": [
       "array([[10., nan,  4.],\n",
       "       [ 3.,  2.,  1.]])"
      ]
     },
     "execution_count": 20,
     "metadata": {},
     "output_type": "execute_result"
    }
   ],
   "source": [
    "a"
   ]
  },
  {
   "cell_type": "code",
   "execution_count": 21,
   "id": "0a5a6d02-5e55-495f-aeb6-e966928601eb",
   "metadata": {},
   "outputs": [
    {
     "data": {
      "text/plain": [
       "nan"
      ]
     },
     "execution_count": 21,
     "metadata": {},
     "output_type": "execute_result"
    }
   ],
   "source": [
    "np.percentile(a,25)"
   ]
  },
  {
   "cell_type": "code",
   "execution_count": 22,
   "id": "dc26bd39-7885-45b6-8b49-35598e9954de",
   "metadata": {},
   "outputs": [
    {
     "data": {
      "text/plain": [
       "nan"
      ]
     },
     "execution_count": 22,
     "metadata": {},
     "output_type": "execute_result"
    }
   ],
   "source": [
    "np.percentile(a,50)"
   ]
  },
  {
   "cell_type": "code",
   "execution_count": 23,
   "id": "405c87d8-8807-4c40-9f88-4966593156d2",
   "metadata": {},
   "outputs": [
    {
     "data": {
      "text/plain": [
       "nan"
      ]
     },
     "execution_count": 23,
     "metadata": {},
     "output_type": "execute_result"
    }
   ],
   "source": [
    "np.percentile(a,75)"
   ]
  },
  {
   "cell_type": "code",
   "execution_count": 24,
   "id": "33eed0b6-b126-457f-a9dc-c1718ce24d2c",
   "metadata": {},
   "outputs": [
    {
     "data": {
      "text/plain": [
       "3.0"
      ]
     },
     "execution_count": 24,
     "metadata": {},
     "output_type": "execute_result"
    }
   ],
   "source": [
    "np.nanpercentile(a, 50)"
   ]
  },
  {
   "cell_type": "code",
   "execution_count": 25,
   "id": "4d8506d6-7cb5-436a-b868-e38624035ff1",
   "metadata": {},
   "outputs": [
    {
     "data": {
      "text/plain": [
       "2.0"
      ]
     },
     "execution_count": 25,
     "metadata": {},
     "output_type": "execute_result"
    }
   ],
   "source": [
    "np.nanpercentile(a, 25)"
   ]
  },
  {
   "cell_type": "code",
   "execution_count": 26,
   "id": "fff25c44-fbb3-4b8e-a695-c7c9b14555ff",
   "metadata": {},
   "outputs": [
    {
     "data": {
      "text/plain": [
       "4.0"
      ]
     },
     "execution_count": 26,
     "metadata": {},
     "output_type": "execute_result"
    }
   ],
   "source": [
    "np.nanpercentile(a, 75)"
   ]
  },
  {
   "cell_type": "code",
   "execution_count": 27,
   "id": "22ae4d26-c1e8-48fc-a28a-f7c8908c5d47",
   "metadata": {},
   "outputs": [
    {
     "data": {
      "text/plain": [
       "nan"
      ]
     },
     "execution_count": 27,
     "metadata": {},
     "output_type": "execute_result"
    }
   ],
   "source": [
    "np.quantile(a,.5)"
   ]
  },
  {
   "cell_type": "code",
   "execution_count": 28,
   "id": "3ae8656e-cd0a-44ff-a392-73eddebb944e",
   "metadata": {},
   "outputs": [
    {
     "data": {
      "text/plain": [
       "3.0"
      ]
     },
     "execution_count": 28,
     "metadata": {},
     "output_type": "execute_result"
    }
   ],
   "source": [
    "np.nanquantile(a,.5)"
   ]
  },
  {
   "cell_type": "code",
   "execution_count": 29,
   "id": "248d10cf-c81f-4cea-be68-8946955f917a",
   "metadata": {},
   "outputs": [
    {
     "data": {
      "text/plain": [
       "array([[10,  7,  4],\n",
       "       [ 3,  2,  1]])"
      ]
     },
     "execution_count": 29,
     "metadata": {},
     "output_type": "execute_result"
    }
   ],
   "source": [
    "x = np.array([[10, 7, 4], [3, 2, 1]])\n",
    "x"
   ]
  },
  {
   "cell_type": "code",
   "execution_count": 30,
   "id": "8a5c77e7-32a6-4b94-9313-1ac093275b0e",
   "metadata": {},
   "outputs": [
    {
     "data": {
      "text/plain": [
       "3.5"
      ]
     },
     "execution_count": 30,
     "metadata": {},
     "output_type": "execute_result"
    }
   ],
   "source": [
    "np.quantile(x,0.5)"
   ]
  },
  {
   "cell_type": "code",
   "execution_count": 31,
   "id": "6bd778d5-eb3e-47e7-947a-c6e3fe0e7d10",
   "metadata": {},
   "outputs": [
    {
     "data": {
      "text/plain": [
       "10"
      ]
     },
     "execution_count": 31,
     "metadata": {},
     "output_type": "execute_result"
    }
   ],
   "source": [
    "np.quantile(x,1)"
   ]
  },
  {
   "cell_type": "markdown",
   "id": "a90fb592-894f-49d3-9e2d-b47e64ffdfde",
   "metadata": {},
   "source": [
    "#### Averages and variances\n",
    "\n",
    "* "
   ]
  },
  {
   "cell_type": "code",
   "execution_count": 32,
   "id": "c8f5dd39-6e75-4f48-8091-2a870dc790e9",
   "metadata": {},
   "outputs": [
    {
     "data": {
      "text/plain": [
       "array([[10., nan,  4.],\n",
       "       [ 3.,  2.,  1.]])"
      ]
     },
     "execution_count": 32,
     "metadata": {},
     "output_type": "execute_result"
    }
   ],
   "source": [
    "a"
   ]
  },
  {
   "cell_type": "code",
   "execution_count": 33,
   "id": "0d870385-f284-4b77-8d44-2a7822e3c543",
   "metadata": {},
   "outputs": [
    {
     "data": {
      "text/plain": [
       "nan"
      ]
     },
     "execution_count": 33,
     "metadata": {},
     "output_type": "execute_result"
    }
   ],
   "source": [
    "np.median(a)"
   ]
  },
  {
   "cell_type": "code",
   "execution_count": 34,
   "id": "f3d90d0e-95e9-459f-8c97-e052a9968644",
   "metadata": {},
   "outputs": [
    {
     "data": {
      "text/plain": [
       "array([nan,  2.])"
      ]
     },
     "execution_count": 34,
     "metadata": {},
     "output_type": "execute_result"
    }
   ],
   "source": [
    "np.median(a,axis=1) # Row Wise "
   ]
  },
  {
   "cell_type": "code",
   "execution_count": 35,
   "id": "3631aebc-64d4-40ca-9dc1-1723f73d496a",
   "metadata": {},
   "outputs": [
    {
     "data": {
      "text/plain": [
       "array([6.5, nan, 2.5])"
      ]
     },
     "execution_count": 35,
     "metadata": {},
     "output_type": "execute_result"
    }
   ],
   "source": [
    "np.median(a,axis=0) # Col Wise"
   ]
  },
  {
   "cell_type": "code",
   "execution_count": 36,
   "id": "943721ce-6401-457b-bdfa-7ae62072f556",
   "metadata": {},
   "outputs": [
    {
     "data": {
      "text/plain": [
       "nan"
      ]
     },
     "execution_count": 36,
     "metadata": {},
     "output_type": "execute_result"
    }
   ],
   "source": [
    "np.average(a)"
   ]
  },
  {
   "cell_type": "code",
   "execution_count": 37,
   "id": "ccf6469a-0dde-4000-a130-e273741ccf8b",
   "metadata": {},
   "outputs": [
    {
     "data": {
      "text/plain": [
       "array([6.5, nan, 2.5])"
      ]
     },
     "execution_count": 37,
     "metadata": {},
     "output_type": "execute_result"
    }
   ],
   "source": [
    "np.average(a,axis=0)"
   ]
  },
  {
   "cell_type": "code",
   "execution_count": 38,
   "id": "15d5ba8c-7549-43a3-a951-3c801a49a1b2",
   "metadata": {},
   "outputs": [
    {
     "data": {
      "text/plain": [
       "array([nan,  2.])"
      ]
     },
     "execution_count": 38,
     "metadata": {},
     "output_type": "execute_result"
    }
   ],
   "source": [
    "np.average(a,axis=1)"
   ]
  },
  {
   "cell_type": "code",
   "execution_count": 39,
   "id": "8144870d-406e-4eb1-b916-df9c307dbd9f",
   "metadata": {},
   "outputs": [
    {
     "data": {
      "text/plain": [
       "nan"
      ]
     },
     "execution_count": 39,
     "metadata": {},
     "output_type": "execute_result"
    }
   ],
   "source": [
    "np.mean(a)"
   ]
  },
  {
   "cell_type": "code",
   "execution_count": 40,
   "id": "5fe1ac0e-a3f5-4f6a-9b0d-bcf186c05394",
   "metadata": {},
   "outputs": [
    {
     "data": {
      "text/plain": [
       "array([nan,  2.])"
      ]
     },
     "execution_count": 40,
     "metadata": {},
     "output_type": "execute_result"
    }
   ],
   "source": [
    "np.mean(a,axis=1)"
   ]
  },
  {
   "cell_type": "code",
   "execution_count": 41,
   "id": "b909c1d7-571d-40d5-ba98-51c13bf1b4fc",
   "metadata": {},
   "outputs": [
    {
     "data": {
      "text/plain": [
       "array([6.5, nan, 2.5])"
      ]
     },
     "execution_count": 41,
     "metadata": {},
     "output_type": "execute_result"
    }
   ],
   "source": [
    "np.mean(a,axis=0)"
   ]
  },
  {
   "cell_type": "markdown",
   "id": "e8d98dc0-cc9e-4d23-a743-ecbddfcfa242",
   "metadata": {},
   "source": [
    "* the standard deviation, a measure of the spread of a distribution, of the array elements"
   ]
  },
  {
   "cell_type": "code",
   "execution_count": 42,
   "id": "13bbd2e2-6098-49ba-908a-e7bc8f343e55",
   "metadata": {},
   "outputs": [
    {
     "data": {
      "text/plain": [
       "nan"
      ]
     },
     "execution_count": 42,
     "metadata": {},
     "output_type": "execute_result"
    }
   ],
   "source": [
    "np.std(a)"
   ]
  },
  {
   "cell_type": "code",
   "execution_count": 43,
   "id": "a0dc8edf-2161-4525-814e-5c60cd2319c3",
   "metadata": {},
   "outputs": [
    {
     "data": {
      "text/plain": [
       "array([       nan, 0.81649658])"
      ]
     },
     "execution_count": 43,
     "metadata": {},
     "output_type": "execute_result"
    }
   ],
   "source": [
    "np.std(a,axis=1)"
   ]
  },
  {
   "cell_type": "code",
   "execution_count": 44,
   "id": "fab94262-afbf-4cf6-a0f8-871553ca6d7c",
   "metadata": {},
   "outputs": [
    {
     "data": {
      "text/plain": [
       "array([3.5, nan, 1.5])"
      ]
     },
     "execution_count": 44,
     "metadata": {},
     "output_type": "execute_result"
    }
   ],
   "source": [
    "np.std(a,axis=0)"
   ]
  },
  {
   "cell_type": "code",
   "execution_count": 45,
   "id": "d0df93d2-842c-410f-8a34-90cfc742ab7d",
   "metadata": {},
   "outputs": [
    {
     "data": {
      "text/plain": [
       "nan"
      ]
     },
     "execution_count": 45,
     "metadata": {},
     "output_type": "execute_result"
    }
   ],
   "source": [
    "np.var(a)"
   ]
  },
  {
   "cell_type": "code",
   "execution_count": 46,
   "id": "8b904dfc-3fae-4678-ad32-491ac1879625",
   "metadata": {},
   "outputs": [
    {
     "data": {
      "text/plain": [
       "array([       nan, 0.66666667])"
      ]
     },
     "execution_count": 46,
     "metadata": {},
     "output_type": "execute_result"
    }
   ],
   "source": [
    "np.var(a,axis=1)"
   ]
  },
  {
   "cell_type": "code",
   "execution_count": 47,
   "id": "be4682fa-8c44-4f3d-ba05-2d196b5132d5",
   "metadata": {},
   "outputs": [
    {
     "data": {
      "text/plain": [
       "array([12.25,   nan,  2.25])"
      ]
     },
     "execution_count": 47,
     "metadata": {},
     "output_type": "execute_result"
    }
   ],
   "source": [
    "np.var(a,axis=0)"
   ]
  },
  {
   "cell_type": "code",
   "execution_count": 48,
   "id": "aa6c319a-c12a-41ae-8513-260ba50faf65",
   "metadata": {},
   "outputs": [
    {
     "data": {
      "text/plain": [
       "array([[10., nan,  4.],\n",
       "       [ 3.,  2.,  1.]])"
      ]
     },
     "execution_count": 48,
     "metadata": {},
     "output_type": "execute_result"
    }
   ],
   "source": [
    "y = np.array([[10,np.nan,4],[3,2,1]])\n",
    "y"
   ]
  },
  {
   "cell_type": "code",
   "execution_count": 49,
   "id": "5f27eb29-ba59-451e-858c-8f55cab8f9b3",
   "metadata": {},
   "outputs": [
    {
     "data": {
      "text/plain": [
       "3.0"
      ]
     },
     "execution_count": 49,
     "metadata": {},
     "output_type": "execute_result"
    }
   ],
   "source": [
    "np.nanmedian(a)"
   ]
  },
  {
   "cell_type": "code",
   "execution_count": 50,
   "id": "2f148e1a-15ad-494b-9559-5102e991ce09",
   "metadata": {},
   "outputs": [
    {
     "data": {
      "text/plain": [
       "10.0"
      ]
     },
     "execution_count": 50,
     "metadata": {},
     "output_type": "execute_result"
    }
   ],
   "source": [
    "np.nanvar(a)"
   ]
  },
  {
   "cell_type": "code",
   "execution_count": 51,
   "id": "bd7abe7a-6407-4da6-aa22-c62385534f78",
   "metadata": {},
   "outputs": [
    {
     "data": {
      "text/plain": [
       "3.0"
      ]
     },
     "execution_count": 51,
     "metadata": {},
     "output_type": "execute_result"
    }
   ],
   "source": [
    "np.nanmedian(a)"
   ]
  },
  {
   "cell_type": "code",
   "execution_count": 52,
   "id": "743558c5-1874-4133-b313-5b3226b98c10",
   "metadata": {},
   "outputs": [
    {
     "data": {
      "text/plain": [
       "3.1622776601683795"
      ]
     },
     "execution_count": 52,
     "metadata": {},
     "output_type": "execute_result"
    }
   ],
   "source": [
    "np.nanstd(a)"
   ]
  },
  {
   "cell_type": "markdown",
   "id": "63fc24dc-322d-46c8-8c0e-ad4b0918f2d8",
   "metadata": {},
   "source": [
    "#### Correlating\n",
    "* "
   ]
  },
  {
   "cell_type": "code",
   "execution_count": 53,
   "id": "f5f92034-18a1-4873-86fe-21a9a8259d58",
   "metadata": {},
   "outputs": [
    {
     "data": {
      "text/plain": [
       "array([[0.77395605, 0.43887844, 0.85859792],\n",
       "       [0.69736803, 0.09417735, 0.97562235],\n",
       "       [0.7611397 , 0.78606431, 0.12811363]])"
      ]
     },
     "execution_count": 53,
     "metadata": {},
     "output_type": "execute_result"
    }
   ],
   "source": [
    "rng = np.random.default_rng(seed=42)\n",
    "xarr = rng.random((3, 3))\n",
    "xarr"
   ]
  },
  {
   "cell_type": "code",
   "execution_count": 54,
   "id": "5be2733d-397f-405a-8997-e9695cf1813e",
   "metadata": {},
   "outputs": [
    {
     "data": {
      "text/plain": [
       "array([[ 1.        ,  0.99256089, -0.68080986],\n",
       "       [ 0.99256089,  1.        , -0.76492172],\n",
       "       [-0.68080986, -0.76492172,  1.        ]])"
      ]
     },
     "execution_count": 54,
     "metadata": {},
     "output_type": "execute_result"
    }
   ],
   "source": [
    "R1 = np.corrcoef(xarr)\n",
    "R1"
   ]
  },
  {
   "cell_type": "markdown",
   "id": "b208e017-d6f5-4b79-810d-1720fc408c76",
   "metadata": {},
   "source": [
    "y_hat = $b_0 + b_1 * X$"
   ]
  },
  {
   "cell_type": "code",
   "execution_count": 55,
   "id": "df70d37c-df32-46e0-aae2-3ea6d012b451",
   "metadata": {},
   "outputs": [
    {
     "data": {
      "text/plain": [
       "array([3.5])"
      ]
     },
     "execution_count": 55,
     "metadata": {},
     "output_type": "execute_result"
    }
   ],
   "source": [
    "np.correlate([1, 2, 3], [0, 1, 0.5])"
   ]
  },
  {
   "cell_type": "code",
   "execution_count": 56,
   "id": "3934e11c-600c-450a-8d3d-e8c5823ce6de",
   "metadata": {},
   "outputs": [
    {
     "data": {
      "text/plain": [
       "array([2. , 3.5, 3. ])"
      ]
     },
     "execution_count": 56,
     "metadata": {},
     "output_type": "execute_result"
    }
   ],
   "source": [
    "np.correlate([1, 2, 3], [0, 1, 0.5], \"same\")"
   ]
  },
  {
   "cell_type": "code",
   "execution_count": 57,
   "id": "1c856173-df7d-464d-ae9a-dbb5b5e420dc",
   "metadata": {},
   "outputs": [
    {
     "data": {
      "text/plain": [
       "array([0.5, 2. , 3.5, 3. , 0. ])"
      ]
     },
     "execution_count": 57,
     "metadata": {},
     "output_type": "execute_result"
    }
   ],
   "source": [
    "np.correlate([1, 2, 3], [0, 1, 0.5], \"full\")"
   ]
  },
  {
   "cell_type": "code",
   "execution_count": 58,
   "id": "6a8bc13f-295f-4587-a79f-80cc218f8c71",
   "metadata": {},
   "outputs": [],
   "source": [
    "m = np.arange(10, dtype=np.float64)\n",
    "f = np.arange(10) * 2\n",
    "a = np.arange(10) ** 2.\n",
    "ddof = 1\n",
    "w = f * a\n",
    "v1 = np.sum(w)\n",
    "v2 = np.sum(w * a)\n",
    "m -= np.sum(m * w, axis=None, keepdims=True) / v1\n",
    "cov = np.dot(m * w, m.T) * v1 / (v1**2 - ddof * v2)"
   ]
  },
  {
   "cell_type": "code",
   "execution_count": 59,
   "id": "3d0a6c49-996f-49c8-8934-c020221f4df2",
   "metadata": {},
   "outputs": [
    {
     "data": {
      "text/plain": [
       "2.3686219474841983"
      ]
     },
     "execution_count": 59,
     "metadata": {},
     "output_type": "execute_result"
    }
   ],
   "source": [
    "cov"
   ]
  },
  {
   "cell_type": "code",
   "execution_count": 60,
   "id": "8005cddf-34ca-4cca-8ca1-181a1f1e9e77",
   "metadata": {},
   "outputs": [
    {
     "data": {
      "text/plain": [
       "array([[0, 1, 2],\n",
       "       [2, 1, 0]])"
      ]
     },
     "execution_count": 60,
     "metadata": {},
     "output_type": "execute_result"
    }
   ],
   "source": [
    "\n",
    "x = np.array([[0, 2], [1, 1], [2, 0]]).T\n",
    "x"
   ]
  },
  {
   "cell_type": "code",
   "execution_count": 61,
   "id": "f056f7b2-b23c-43fb-b8e1-339c41a6e3a0",
   "metadata": {},
   "outputs": [
    {
     "data": {
      "text/plain": [
       "array([[ 1., -1.],\n",
       "       [-1.,  1.]])"
      ]
     },
     "execution_count": 61,
     "metadata": {},
     "output_type": "execute_result"
    }
   ],
   "source": [
    "np.cov(x)"
   ]
  },
  {
   "cell_type": "code",
   "execution_count": 62,
   "id": "9fd7ad7e-e0ef-4c68-9bde-4d976c53f617",
   "metadata": {},
   "outputs": [],
   "source": [
    "x_sqf = np.array([100,200,300,350,400.450])\n",
    "y_price = np.array([2500,3500,4000,5000,5500,6000])"
   ]
  },
  {
   "cell_type": "code",
   "execution_count": 63,
   "id": "7b6c120d-7cb0-4037-b16b-9ecfd352e90a",
   "metadata": {},
   "outputs": [
    {
     "data": {
      "text/plain": [
       "array([6977700., 6102475.])"
      ]
     },
     "execution_count": 63,
     "metadata": {},
     "output_type": "execute_result"
    }
   ],
   "source": [
    "np.correlate(x_sqf,y_price)"
   ]
  },
  {
   "cell_type": "code",
   "execution_count": 64,
   "id": "392e748c-7050-4923-9e62-4917096d84b7",
   "metadata": {},
   "outputs": [
    {
     "data": {
      "text/plain": [
       "array([[ 1.        ,  0.99256089, -0.68080986,  0.75008178, -0.934284  ,\n",
       "        -0.99004057],\n",
       "       [ 0.99256089,  1.        , -0.76492172,  0.82502011, -0.97074098,\n",
       "        -0.99981569],\n",
       "       [-0.68080986, -0.76492172,  1.        , -0.99507202,  0.89721355,\n",
       "         0.77714685],\n",
       "       [ 0.75008178,  0.82502011, -0.99507202,  1.        , -0.93657855,\n",
       "        -0.83571711],\n",
       "       [-0.934284  , -0.97074098,  0.89721355, -0.93657855,  1.        ,\n",
       "         0.97517215],\n",
       "       [-0.99004057, -0.99981569,  0.77714685, -0.83571711,  0.97517215,\n",
       "         1.        ]])"
      ]
     },
     "execution_count": 64,
     "metadata": {},
     "output_type": "execute_result"
    }
   ],
   "source": [
    "rng = np.random.default_rng(seed=42)\n",
    "x_sqf = rng.random((3, 3))\n",
    "y_price =rng.random((3, 3))\n",
    "c = np.corrcoef(x_sqf,y_price)\n",
    "c"
   ]
  },
  {
   "cell_type": "code",
   "execution_count": 65,
   "id": "1166571f-7db8-4192-ab6c-8c0d7e342ec7",
   "metadata": {},
   "outputs": [
    {
     "data": {
      "text/plain": [
       "array([ 1.        ,  0.99256089, -0.68080986,  0.75008178, -0.934284  ,\n",
       "       -0.99004057])"
      ]
     },
     "execution_count": 65,
     "metadata": {},
     "output_type": "execute_result"
    }
   ],
   "source": [
    "c[0]"
   ]
  },
  {
   "cell_type": "code",
   "execution_count": 66,
   "id": "ae9542a4-d6c8-49ba-9aca-cc7ce5635790",
   "metadata": {},
   "outputs": [],
   "source": [
    "import seaborn as sns"
   ]
  },
  {
   "cell_type": "code",
   "execution_count": 67,
   "id": "45c942fe-37e7-4ee0-a5b2-43130a0074a5",
   "metadata": {},
   "outputs": [
    {
     "data": {
      "text/plain": [
       "<Axes: >"
      ]
     },
     "execution_count": 67,
     "metadata": {},
     "output_type": "execute_result"
    },
    {
     "data": {
      "image/png": "[encoded data removed]",
      "text/plain": [
       "<Figure size 640x480 with 2 Axes>"
      ]
     },
     "metadata": {},
     "output_type": "display_data"
    }
   ],
   "source": [
    "sns.heatmap(c)"
   ]
  },
  {
   "cell_type": "code",
   "execution_count": 68,
   "id": "1f19e0de-64d8-42b6-8dca-7aada5fc531b",
   "metadata": {},
   "outputs": [
    {
     "data": {
      "text/plain": [
       "<seaborn.axisgrid.PairGrid at 0x2547ff47460>"
      ]
     },
     "execution_count": 68,
     "metadata": {},
     "output_type": "execute_result"
    },
    {
     "data": {
      "image/png": "[encoded data removed]",
      "text/plain": [
       "<Figure size 1500x1500 with 42 Axes>"
      ]
     },
     "metadata": {},
     "output_type": "display_data"
    }
   ],
   "source": [
    "import pandas as pd\n",
    "df = pd.DataFrame(c)\n",
    "sns.pairplot(df)"
   ]
  },
  {
   "cell_type": "markdown",
   "id": "da917528-459b-4122-945a-947fb209f91f",
   "metadata": {},
   "source": [
    "### Histograms\n",
    "* "
   ]
  },
  {
   "cell_type": "code",
   "execution_count": 70,
   "id": "0df09182-88f3-40dd-8cb3-ab5ceb64bb56",
   "metadata": {},
   "outputs": [
    {
     "data": {
      "text/plain": [
       "array([1, 2, 5, 8, 9])"
      ]
     },
     "execution_count": 70,
     "metadata": {},
     "output_type": "execute_result"
    }
   ],
   "source": [
    "arra = np.array([1,2,5,8,9])\n",
    "arra"
   ]
  },
  {
   "cell_type": "code",
   "execution_count": 71,
   "id": "3da08d7c-f1ab-46e5-886f-6dd5b7ae1cc3",
   "metadata": {},
   "outputs": [
    {
     "data": {
      "text/plain": [
       "(array([1, 1, 0, 0, 0, 1, 0, 0, 1, 1], dtype=int64),\n",
       " array([1. , 1.8, 2.6, 3.4, 4.2, 5. , 5.8, 6.6, 7.4, 8.2, 9. ]))"
      ]
     },
     "execution_count": 71,
     "metadata": {},
     "output_type": "execute_result"
    }
   ],
   "source": [
    "np.histogram(arra)"
   ]
  },
  {
   "cell_type": "code",
   "execution_count": 72,
   "id": "d0814a1c-73b3-40f5-94f1-8f9748caa5f5",
   "metadata": {},
   "outputs": [
    {
     "data": {
      "text/plain": [
       "(array([0, 1, 1], dtype=int64), array([0, 1, 2, 3]))"
      ]
     },
     "execution_count": 72,
     "metadata": {},
     "output_type": "execute_result"
    }
   ],
   "source": [
    "np.histogram(arra,bins=[0,1,2,3])"
   ]
  },
  {
   "cell_type": "code",
   "execution_count": 78,
   "id": "1df2f40b-c8b3-4306-8c5f-13d72b8be6f4",
   "metadata": {},
   "outputs": [],
   "source": [
    "import matplotlib.pyplot as plt"
   ]
  },
  {
   "cell_type": "code",
   "execution_count": 79,
   "id": "dcc3dcfc-ed3c-44f0-85c7-0a26a66712ef",
   "metadata": {},
   "outputs": [
    {
     "data": {
      "text/plain": [
       "RandomState(MT19937) at 0x2540984EB40"
      ]
     },
     "execution_count": 79,
     "metadata": {},
     "output_type": "execute_result"
    }
   ],
   "source": [
    "rng = np.random.RandomState(10)\n",
    "rng"
   ]
  },
  {
   "cell_type": "code",
   "execution_count": 80,
   "id": "f5ef8a66-ee4b-4a88-9383-4ad4f81346f7",
   "metadata": {},
   "outputs": [],
   "source": [
    "a = np.hstack((rng.normal(size=1000),\n",
    "                rng.normal(loc=5,scale=2,size=1000)\n",
    "              ))"
   ]
  },
  {
   "cell_type": "code",
   "execution_count": 81,
   "id": "397882d9-5253-4720-ac7c-8c9c0f698b83",
   "metadata": {},
   "outputs": [
    {
     "data": {
      "text/plain": [
       "array([ 1.3315865 ,  0.71527897, -1.54540029, ...,  5.74446677,\n",
       "        6.22449239,  8.42055014])"
      ]
     },
     "execution_count": 81,
     "metadata": {},
     "output_type": "execute_result"
    }
   ],
   "source": [
    "a"
   ]
  },
  {
   "cell_type": "code",
   "execution_count": 82,
   "id": "7621ae93-2461-4785-b0bb-bfa05a67fde1",
   "metadata": {},
   "outputs": [
    {
     "data": {
      "text/plain": [
       "Text(0.5, 1.0, \"Histogram with 'auto' bins\")"
      ]
     },
     "execution_count": 82,
     "metadata": {},
     "output_type": "execute_result"
    },
    {
     "data": {
      "image/png": "[encoded data removed]",
      "text/plain": [
       "<Figure size 640x480 with 1 Axes>"
      ]
     },
     "metadata": {},
     "output_type": "display_data"
    }
   ],
   "source": [
    "_ = plt.hist(a, bins='auto')  # arguments are passed to np.histogram\n",
    "plt.title(\"Histogram with 'auto' bins\")"
   ]
  },
  {
   "cell_type": "code",
   "execution_count": 83,
   "id": "f0596776-276a-460e-8c60-c8415256e0a9",
   "metadata": {},
   "outputs": [],
   "source": [
    "from matplotlib.image import NonUniformImage\n",
    "import matplotlib.pyplot as plt"
   ]
  },
  {
   "cell_type": "code",
   "execution_count": 84,
   "id": "d33c8270-ef95-4cf5-b73c-a3e55b1d5178",
   "metadata": {},
   "outputs": [],
   "source": [
    "xedges = [0, 1, 3, 5]\n",
    "yedges = [0, 2, 3, 4, 6]"
   ]
  },
  {
   "cell_type": "code",
   "execution_count": 85,
   "id": "6be1d928-3576-4691-82ab-e2a1452bd0c3",
   "metadata": {},
   "outputs": [],
   "source": [
    "x = np.random.normal(2, 1, 100)\n",
    "y = np.random.normal(1, 1, 100)"
   ]
  },
  {
   "cell_type": "code",
   "execution_count": 88,
   "id": "e32b04d7-2da1-40ba-8481-8440cc690ef5",
   "metadata": {},
   "outputs": [
    {
     "data": {
      "text/plain": [
       "array([[10.,  1.,  0.,  0.],\n",
       "       [38.,  6.,  2.,  0.],\n",
       "       [19.,  4.,  0.,  0.]])"
      ]
     },
     "execution_count": 88,
     "metadata": {},
     "output_type": "execute_result"
    }
   ],
   "source": [
    "H, xedges, yedges = np.histogram2d(x, y, bins=(xedges, yedges))\n",
    "H"
   ]
  },
  {
   "cell_type": "code",
   "execution_count": 87,
   "id": "4ffc7af6-da1f-4c2a-aa11-ea56839073c4",
   "metadata": {},
   "outputs": [
    {
     "data": {
      "text/plain": [
       "array([[10., 38., 19.],\n",
       "       [ 1.,  6.,  4.],\n",
       "       [ 0.,  2.,  0.],\n",
       "       [ 0.,  0.,  0.]])"
      ]
     },
     "execution_count": 87,
     "metadata": {},
     "output_type": "execute_result"
    }
   ],
   "source": [
    "H = H.T\n",
    "H"
   ]
  },
  {
   "cell_type": "code",
   "execution_count": 89,
   "id": "1903a5a6-0bd0-4195-8303-92131ef84fb5",
   "metadata": {},
   "outputs": [
    {
     "data": {
      "text/plain": [
       "<matplotlib.image.AxesImage at 0x25409a39190>"
      ]
     },
     "execution_count": 89,
     "metadata": {},
     "output_type": "execute_result"
    },
    {
     "data": {
      "image/png": "[encoded data removed]",
      "text/plain": [
       "<Figure size 700x300 with 1 Axes>"
      ]
     },
     "metadata": {},
     "output_type": "display_data"
    }
   ],
   "source": [
    "fig = plt.figure(figsize=(7, 3))\n",
    "ax = fig.add_subplot(131, title='imshow: square bins')\n",
    "plt.imshow(H, interpolation='nearest', origin='lower',\n",
    "        extent=[xedges[0], xedges[-1], yedges[0], yedges[-1]])"
   ]
  },
  {
   "cell_type": "code",
   "execution_count": 99,
   "id": "810da71e-44be-46d1-82ba-1a4ed570365e",
   "metadata": {},
   "outputs": [
    {
     "data": {
      "text/plain": [
       "<matplotlib.collections.QuadMesh at 0x25409ff41f0>"
      ]
     },
     "execution_count": 99,
     "metadata": {},
     "output_type": "execute_result"
    }
   ],
   "source": [
    "ax = fig.add_subplot(132, title='pcolormesh: actual edges',\n",
    "        aspect='equal')\n",
    "X, Y = np.meshgrid(xedges, yedges)\n",
    "ax.pcolormesh(X, Y, H.T)\n",
    "#plt.show()"
   ]
  },
  {
   "cell_type": "code",
   "execution_count": 98,
   "id": "7bd9cc18-0715-4495-9727-f56323bcd545",
   "metadata": {},
   "outputs": [
    {
     "data": {
      "text/plain": [
       "<matplotlib.image.NonUniformImage at 0x2540bd302e0>"
      ]
     },
     "execution_count": 98,
     "metadata": {},
     "output_type": "execute_result"
    }
   ],
   "source": [
    "ax = fig.add_subplot(133, title='NonUniformImage: interpolated',\n",
    "        aspect='equal', xlim=xedges[[0, -1]], ylim=yedges[[0, -1]])\n",
    "im = NonUniformImage(ax, interpolation='bilinear')\n",
    "xcenters = (xedges[:-1] + xedges[1:]) / 2\n",
    "ycenters = (yedges[:-1] + yedges[1:]) / 2\n",
    "im.set_data(xcenters, ycenters, H.T)\n",
    "ax.add_image(im)\n",
    "#plt.show()"
   ]
  },
  {
   "cell_type": "code",
   "execution_count": 103,
   "id": "e78ff2d0-bf01-485f-ab16-e2721f591f86",
   "metadata": {},
   "outputs": [
    {
     "data": {
      "text/plain": [
       "array([1, 1, 1, 1, 1, 1, 1, 1, 1, 1, 1, 1, 1, 1, 1, 1, 1, 1, 1, 1, 1, 1,\n",
       "       1, 1, 1, 1, 1, 1, 1, 1, 1, 1, 1, 1, 1, 1, 1, 1, 1, 1, 1, 1, 1, 1,\n",
       "       1, 1, 1, 1, 1, 1, 1, 1, 1, 1, 1, 1, 1, 1, 1, 1, 1, 1, 1, 1, 1, 1,\n",
       "       1, 1, 1, 1, 1, 1, 1, 1, 1, 1, 1, 1, 1, 1, 1, 1, 1, 1, 1, 1, 1, 1,\n",
       "       1, 1, 1, 1, 1, 1, 1, 1, 1, 1, 1, 1], dtype=int64)"
      ]
     },
     "execution_count": 103,
     "metadata": {},
     "output_type": "execute_result"
    }
   ],
   "source": [
    "np.bincount(np.arange(100))"
   ]
  },
  {
   "cell_type": "code",
   "execution_count": 104,
   "id": "3c5ffe96-56c4-4be7-8c6d-c37517721cb6",
   "metadata": {},
   "outputs": [
    {
     "data": {
      "text/plain": [
       "array([0, 0, 0, 1, 2, 3, 3, 4, 5])"
      ]
     },
     "execution_count": 104,
     "metadata": {},
     "output_type": "execute_result"
    }
   ],
   "source": [
    "arr = np.array([0, 0, 0, 1, 2, 3, 3, 4, 5])\n",
    "arr"
   ]
  },
  {
   "cell_type": "code",
   "execution_count": 106,
   "id": "0c042a4d-918b-4f99-bcfd-3316da5f150f",
   "metadata": {},
   "outputs": [
    {
     "data": {
      "text/plain": [
       "array([0., 1., 2., 3., 4., 5.])"
      ]
     },
     "execution_count": 106,
     "metadata": {},
     "output_type": "execute_result"
    }
   ],
   "source": [
    "np.histogram_bin_edges(arr, bins='auto')#, range=(0, 1))"
   ]
  },
  {
   "cell_type": "code",
   "execution_count": 107,
   "id": "939c6132-786e-46c9-a744-3d168cee50c9",
   "metadata": {},
   "outputs": [
    {
     "data": {
      "text/plain": [
       "[10, 20, 30, 10, 20, 30, 40]"
      ]
     },
     "execution_count": 107,
     "metadata": {},
     "output_type": "execute_result"
    }
   ],
   "source": [
    "li = [10,20,30,10,20,30,40]\n",
    "li"
   ]
  },
  {
   "cell_type": "code",
   "execution_count": 114,
   "id": "7b90ba37-4879-45d7-a3cc-e6f9cd23c64d",
   "metadata": {},
   "outputs": [
    {
     "data": {
      "text/plain": [
       "{10, 20, 30, 40}"
      ]
     },
     "execution_count": 114,
     "metadata": {},
     "output_type": "execute_result"
    }
   ],
   "source": [
    "s = set(li)\n",
    "s"
   ]
  },
  {
   "cell_type": "code",
   "execution_count": 117,
   "id": "39f948c0-f6c8-4a3a-8b13-5673b2bd76a5",
   "metadata": {},
   "outputs": [
    {
     "name": "stdout",
     "output_type": "stream",
     "text": [
      "EL 40\n",
      "Not El 10\n",
      "EL 20\n",
      "EL 30\n"
     ]
    }
   ],
   "source": [
    "for i in s:\n",
    "    if i <=18:\n",
    "        print(\"Not El\",i)\n",
    "    else:\n",
    "        print(\"EL\",i)"
   ]
  },
  {
   "cell_type": "code",
   "execution_count": null,
   "id": "d575840e-d207-4210-a699-9d8a9b1ecc90",
   "metadata": {},
   "outputs": [],
   "source": []
  }
 ],
 "metadata": {
  "kernelspec": {
   "display_name": "Python 3 (ipykernel)",
   "language": "python",
   "name": "python3"
  },
  "language_info": {
   "codemirror_mode": {
    "name": "ipython",
    "version": 3
   },
   "file_extension": ".py",
   "mimetype": "text/x-python",
   "name": "python",
   "nbconvert_exporter": "python",
   "pygments_lexer": "ipython3",
   "version": "3.8.10"
  }
 },
 "nbformat": 4,
 "nbformat_minor": 5
}
