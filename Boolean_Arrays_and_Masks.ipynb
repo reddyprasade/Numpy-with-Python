{
  "cells": [
    {
      "cell_type": "markdown",
      "metadata": {
        "id": "XtyZ1uq28lnr"
      },
      "source": [
        "# Comparisons, Masks, and Boolean Logic"
      ]
    },
    {
      "cell_type": "markdown",
      "metadata": {
        "id": "so6JAS5G8ln1"
      },
      "source": [
        "This chapter covers the use of Boolean masks to examine and manipulate values within NumPy arrays.\n",
        "Masking comes up when you want to extract, modify, count, or otherwise manipulate values in an array based on some criterion: for example, you might wish to count all values greater than a certain value, or remove all outliers that are above some threshold.\n",
        "In NumPy, Boolean masking is often the most efficient way to accomplish these types of tasks."
      ]
    },
    {
      "cell_type": "markdown",
      "metadata": {
        "id": "T4rOBKuT8ln3"
      },
      "source": [
        "## Example: Counting Rainy Days\n",
        "\n",
        "Imagine you have a series of data that represents the amount of precipitation each day for a year in a given city.\n",
        "For example, here we'll load the daily rainfall statistics for the city of Seattle in 2015, using Pandas (see [Part 3](03.00-Introduction-to-Pandas.ipynb)):"
      ]
    },
    {
      "cell_type": "code",
      "execution_count": null,
      "metadata": {
        "jupyter": {
          "outputs_hidden": false
        },
        "id": "HPcZ_-SH8ln6",
        "outputId": "c7584954-a355-4919-884f-64a7c73c5551"
      },
      "outputs": [
        {
          "data": {
            "text/plain": [
              "365"
            ]
          },
          "execution_count": 1,
          "metadata": {},
          "output_type": "execute_result"
        }
      ],
      "source": [
        "import numpy as np\n",
        "from vega_datasets import data\n",
        "\n",
        "# Use DataFrame operations to extract rainfall as a NumPy array\n",
        "rainfall_mm = np.array(\n",
        "    data.seattle_weather().set_index('date')['precipitation']['2015'])\n",
        "len(rainfall_mm)"
      ]
    },
    {
      "cell_type": "markdown",
      "metadata": {
        "id": "n8H7jlRG8loA"
      },
      "source": [
        "The array contains 365 values, giving daily rainfall in millimeters from January 1 to December 31, 2015.\n",
        "\n",
        "As a first quick visualization, let's look at the histogram of rainy days in the following figure, which was generated using Matplotlib (we will explore this tool more fully in [Part 4](04.00-Introduction-To-Matplotlib.ipynb)):"
      ]
    },
    {
      "cell_type": "code",
      "execution_count": null,
      "metadata": {
        "jupyter": {
          "outputs_hidden": false
        },
        "id": "Rvtie08C8loC"
      },
      "outputs": [],
      "source": [
        "%matplotlib inline\n",
        "import matplotlib.pyplot as plt\n",
        "plt.style.use('seaborn-whitegrid')"
      ]
    },
    {
      "cell_type": "code",
      "execution_count": null,
      "metadata": {
        "jupyter": {
          "outputs_hidden": false
        },
        "id": "uwIBBMby8loD",
        "outputId": "03c4846e-dbfa-4599-97c6-7af665ee404a"
      },
      "outputs": [
        {
          "data": {
            "image/png": "[encoded data removed]",
            "text/plain": [
              "<Figure size 432x288 with 1 Axes>"
            ]
          },
          "metadata": {},
          "output_type": "display_data"
        }
      ],
      "source": [
        "plt.hist(rainfall_mm, 40);"
      ]
    },
    {
      "cell_type": "markdown",
      "metadata": {
        "id": "cbBAyP4P8loG"
      },
      "source": [
        "This histogram gives us a general idea of what the data looks like: despite the city's rainy reputation, the vast majority of days in Seattle saw near zero measured rainfall in 2015.\n",
        "But this doesn't do a good job of conveying some information we'd like to see: for example, how many rainy days were there in the year? What was the average precipitation on those rainy days? How many days were there with more than 10 mm of rainfall?\n",
        "\n",
        "One approach to this would be to answer these questions by hand: we could loop through the data, incrementing a counter each time we see values in some desired range.\n",
        "But for reasons discussed throughout this chapter, such an approach is very inefficient from the standpoint of both time writing code and time computing the result.\n",
        "We saw in [Computation on NumPy Arrays: Universal Functions](02.03-Computation-on-arrays-ufuncs.ipynb) that NumPy's ufuncs can be used in place of loops to do fast element-wise arithmetic operations on arrays; in the same way, we can use other ufuncs to do element-wise *comparisons* over arrays, and we can then manipulate the results to answer the questions we have.\n",
        "We'll leave the data aside for now, and discuss some general tools in NumPy to use *masking* to quickly answer these types of questions."
      ]
    },
    {
      "cell_type": "markdown",
      "metadata": {
        "id": "hPVg68-y8loI"
      },
      "source": [
        "## Comparison Operators as Ufuncs\n",
        "\n",
        "[Computation on NumPy Arrays: Universal Functions](02.03-Computation-on-arrays-ufuncs.ipynb) introduced ufuncs, and focused in particular on arithmetic operators. We saw that using `+`, `-`, `*`, `/`, and other operators on arrays leads to element-wise operations.\n",
        "NumPy also implements comparison operators such as `<` (less than) and `>` (greater than) as element-wise ufuncs.\n",
        "The result of these comparison operators is always an array with a Boolean data type.\n",
        "All six of the standard comparison operations are available:"
      ]
    },
    {
      "cell_type": "code",
      "execution_count": null,
      "metadata": {
        "tags": [],
        "id": "2sGXoY_v8loJ"
      },
      "outputs": [],
      "source": [
        "x = np.array([1, 2, 3, 4, 5])"
      ]
    },
    {
      "cell_type": "code",
      "execution_count": null,
      "metadata": {
        "jupyter": {
          "outputs_hidden": false
        },
        "id": "yFIBY3Y28loK",
        "outputId": "e2620cc0-4863-4194-c927-861080504caa"
      },
      "outputs": [
        {
          "data": {
            "text/plain": [
              "array([ True,  True, False, False, False])"
            ]
          },
          "execution_count": 5,
          "metadata": {},
          "output_type": "execute_result"
        }
      ],
      "source": [
        "x < 3  # less than"
      ]
    },
    {
      "cell_type": "code",
      "execution_count": null,
      "metadata": {
        "jupyter": {
          "outputs_hidden": false
        },
        "id": "MJnnuVjR8loL",
        "outputId": "ad16ee96-7c8b-4480-ed7a-5eac96bae497"
      },
      "outputs": [
        {
          "data": {
            "text/plain": [
              "array([False, False, False,  True,  True])"
            ]
          },
          "execution_count": 6,
          "metadata": {},
          "output_type": "execute_result"
        }
      ],
      "source": [
        "x > 3  # greater than"
      ]
    },
    {
      "cell_type": "code",
      "execution_count": null,
      "metadata": {
        "jupyter": {
          "outputs_hidden": false
        },
        "id": "UZNwrsrl8loM",
        "outputId": "b9ff3fdd-e59d-438c-d091-6e280a14e932"
      },
      "outputs": [
        {
          "data": {
            "text/plain": [
              "array([ True,  True,  True, False, False])"
            ]
          },
          "execution_count": 7,
          "metadata": {},
          "output_type": "execute_result"
        }
      ],
      "source": [
        "x <= 3  # less than or equal"
      ]
    },
    {
      "cell_type": "code",
      "execution_count": null,
      "metadata": {
        "jupyter": {
          "outputs_hidden": false
        },
        "id": "nCeDRBT78loN",
        "outputId": "9e30e82d-df74-446d-dd0e-5057b29fa6b0"
      },
      "outputs": [
        {
          "data": {
            "text/plain": [
              "array([False, False,  True,  True,  True])"
            ]
          },
          "execution_count": 8,
          "metadata": {},
          "output_type": "execute_result"
        }
      ],
      "source": [
        "x >= 3  # greater than or equal"
      ]
    },
    {
      "cell_type": "code",
      "execution_count": null,
      "metadata": {
        "jupyter": {
          "outputs_hidden": false
        },
        "id": "mgcabybT8loO",
        "outputId": "d4235d87-4834-41ed-b120-b250ab00cdd6"
      },
      "outputs": [
        {
          "data": {
            "text/plain": [
              "array([ True,  True, False,  True,  True])"
            ]
          },
          "execution_count": 9,
          "metadata": {},
          "output_type": "execute_result"
        }
      ],
      "source": [
        "x != 3  # not equal"
      ]
    },
    {
      "cell_type": "code",
      "execution_count": null,
      "metadata": {
        "jupyter": {
          "outputs_hidden": false
        },
        "id": "FHehZUjQ8loP",
        "outputId": "391875b5-8900-45d7-c130-ccd61665d815"
      },
      "outputs": [
        {
          "data": {
            "text/plain": [
              "array([False, False,  True, False, False])"
            ]
          },
          "execution_count": 10,
          "metadata": {},
          "output_type": "execute_result"
        }
      ],
      "source": [
        "x == 3  # equal"
      ]
    },
    {
      "cell_type": "markdown",
      "metadata": {
        "id": "NDKtwDo48loQ"
      },
      "source": [
        "It is also possible to do an element-wise comparison of two arrays, and to include compound expressions:"
      ]
    },
    {
      "cell_type": "code",
      "execution_count": null,
      "metadata": {
        "jupyter": {
          "outputs_hidden": false
        },
        "id": "l8omWqXh8loR",
        "outputId": "c6dc1d42-5fce-45f0-b4a3-7ebd5a972669"
      },
      "outputs": [
        {
          "data": {
            "text/plain": [
              "array([False,  True, False, False, False])"
            ]
          },
          "execution_count": 11,
          "metadata": {},
          "output_type": "execute_result"
        }
      ],
      "source": [
        "(2 * x) == (x ** 2)"
      ]
    },
    {
      "cell_type": "markdown",
      "metadata": {
        "id": "kLvbM1RI8loS"
      },
      "source": [
        "As in the case of arithmetic operators, the comparison operators are implemented as ufuncs in NumPy; for example, when you write `x < 3`, internally NumPy uses `np.less(x, 3)`.\n",
        "    A summary of the comparison operators and their equivalent ufuncs is shown here:\n",
        "\n",
        "| Operator    | Equivalent ufunc  | Operator   | Equivalent ufunc |\n",
        "|-------------|-------------------|------------|------------------|\n",
        "|`==`         |`np.equal`         |`!=`        |`np.not_equal`    |\n",
        "|`<`          |`np.less`          |`<=`        |`np.less_equal`   |\n",
        "|`>`          |`np.greater`       |`>=`        |`np.greater_equal`|"
      ]
    },
    {
      "cell_type": "markdown",
      "metadata": {
        "id": "fdVVXV5v8loT"
      },
      "source": [
        "Just as in the case of arithmetic ufuncs, these will work on arrays of any size and shape.\n",
        "Here is a two-dimensional example:"
      ]
    },
    {
      "cell_type": "code",
      "execution_count": null,
      "metadata": {
        "jupyter": {
          "outputs_hidden": false
        },
        "id": "S-fHaaaT8loT",
        "outputId": "c57c42c8-5459-4be8-bf75-d42ff9c8827a"
      },
      "outputs": [
        {
          "data": {
            "text/plain": [
              "array([[9, 4, 0, 3],\n",
              "       [8, 6, 3, 1],\n",
              "       [3, 7, 4, 0]])"
            ]
          },
          "execution_count": 12,
          "metadata": {},
          "output_type": "execute_result"
        }
      ],
      "source": [
        "rng = np.random.default_rng(seed=1701)\n",
        "x = rng.integers(10, size=(3, 4))\n",
        "x"
      ]
    },
    {
      "cell_type": "code",
      "execution_count": null,
      "metadata": {
        "jupyter": {
          "outputs_hidden": false
        },
        "id": "Lsnj6xZD8loU",
        "outputId": "b1f0a01a-291e-4171-aa28-50f77379b851"
      },
      "outputs": [
        {
          "data": {
            "text/plain": [
              "array([[False,  True,  True,  True],\n",
              "       [False, False,  True,  True],\n",
              "       [ True, False,  True,  True]])"
            ]
          },
          "execution_count": 13,
          "metadata": {},
          "output_type": "execute_result"
        }
      ],
      "source": [
        "x < 6"
      ]
    },
    {
      "cell_type": "markdown",
      "metadata": {
        "id": "W1UPd0kj8loV"
      },
      "source": [
        "In each case, the result is a Boolean array, and NumPy provides a number of straightforward patterns for working with these Boolean results."
      ]
    },
    {
      "cell_type": "markdown",
      "metadata": {
        "id": "6BkOR7mM8loV"
      },
      "source": [
        "## Working with Boolean Arrays\n",
        "\n",
        "Given a Boolean array, there are a host of useful operations you can do.\n",
        "We'll work with `x`, the two-dimensional array we created earlier:"
      ]
    },
    {
      "cell_type": "code",
      "execution_count": null,
      "metadata": {
        "jupyter": {
          "outputs_hidden": false
        },
        "id": "RPcWugwo8loV",
        "outputId": "4fa76d4c-99f8-42b2-fffb-b225a2d3e926"
      },
      "outputs": [
        {
          "name": "stdout",
          "output_type": "stream",
          "text": [
            "[[9 4 0 3]\n",
            " [8 6 3 1]\n",
            " [3 7 4 0]]\n"
          ]
        }
      ],
      "source": [
        "print(x)"
      ]
    },
    {
      "cell_type": "markdown",
      "metadata": {
        "id": "wzwin32J8loW"
      },
      "source": [
        "### Counting Entries\n",
        "\n",
        "To count the number of `True` entries in a Boolean array, `np.count_nonzero` is useful:"
      ]
    },
    {
      "cell_type": "code",
      "execution_count": null,
      "metadata": {
        "jupyter": {
          "outputs_hidden": false
        },
        "id": "4b04KnxN8loW",
        "outputId": "11787aee-c2c1-4e68-f574-b9144053bd08"
      },
      "outputs": [
        {
          "data": {
            "text/plain": [
              "8"
            ]
          },
          "execution_count": 15,
          "metadata": {},
          "output_type": "execute_result"
        }
      ],
      "source": [
        "# how many values less than 6?\n",
        "np.count_nonzero(x < 6)"
      ]
    },
    {
      "cell_type": "markdown",
      "metadata": {
        "id": "SL2Z2NtC8loX"
      },
      "source": [
        "We see that there are eight array entries that are less than 6.\n",
        "Another way to get at this information is to use `np.sum`; in this case, `False` is interpreted as `0`, and `True` is interpreted as `1`:"
      ]
    },
    {
      "cell_type": "code",
      "execution_count": null,
      "metadata": {
        "jupyter": {
          "outputs_hidden": false
        },
        "id": "RDdy9REG8loY",
        "outputId": "c1ce3cda-87a2-4dd8-ff97-86f3dbdcb384"
      },
      "outputs": [
        {
          "data": {
            "text/plain": [
              "8"
            ]
          },
          "execution_count": 16,
          "metadata": {},
          "output_type": "execute_result"
        }
      ],
      "source": [
        "np.sum(x < 6)"
      ]
    },
    {
      "cell_type": "markdown",
      "metadata": {
        "id": "VhM5rUGn8loY"
      },
      "source": [
        "The benefit of `np.sum` is that, like with other NumPy aggregation functions, this summation can be done along rows or columns as well:"
      ]
    },
    {
      "cell_type": "code",
      "execution_count": null,
      "metadata": {
        "jupyter": {
          "outputs_hidden": false
        },
        "id": "BKXaBE848loZ",
        "outputId": "513d74ba-ef3c-4ae7-f4f1-e066d5cb146f"
      },
      "outputs": [
        {
          "data": {
            "text/plain": [
              "array([3, 2, 3])"
            ]
          },
          "execution_count": 17,
          "metadata": {},
          "output_type": "execute_result"
        }
      ],
      "source": [
        "# how many values less than 6 in each row?\n",
        "np.sum(x < 6, axis=1)"
      ]
    },
    {
      "cell_type": "markdown",
      "metadata": {
        "id": "aTXlQfBm8loZ"
      },
      "source": [
        "This counts the number of values less than 6 in each row of the matrix.\n",
        "\n",
        "If we're interested in quickly checking whether any or all the values are `True`, we can use (you guessed it) `np.any` or `np.all`:"
      ]
    },
    {
      "cell_type": "code",
      "execution_count": null,
      "metadata": {
        "jupyter": {
          "outputs_hidden": false
        },
        "id": "vcs4oXud8loa",
        "outputId": "dee50053-4af5-4af5-a272-bfdeb61b6bd9"
      },
      "outputs": [
        {
          "data": {
            "text/plain": [
              "True"
            ]
          },
          "execution_count": 18,
          "metadata": {},
          "output_type": "execute_result"
        }
      ],
      "source": [
        "# are there any values greater than 8?\n",
        "np.any(x > 8)"
      ]
    },
    {
      "cell_type": "code",
      "execution_count": null,
      "metadata": {
        "jupyter": {
          "outputs_hidden": false
        },
        "id": "Csl-FxYO8lob",
        "outputId": "131666a1-8353-4ac0-d70b-342c0ee46e76"
      },
      "outputs": [
        {
          "data": {
            "text/plain": [
              "False"
            ]
          },
          "execution_count": 19,
          "metadata": {},
          "output_type": "execute_result"
        }
      ],
      "source": [
        "# are there any values less than zero?\n",
        "np.any(x < 0)"
      ]
    },
    {
      "cell_type": "code",
      "execution_count": null,
      "metadata": {
        "jupyter": {
          "outputs_hidden": false
        },
        "id": "HsfaBD7e8lob",
        "outputId": "8d1b8799-6772-4095-c933-43fd03247a51"
      },
      "outputs": [
        {
          "data": {
            "text/plain": [
              "True"
            ]
          },
          "execution_count": 20,
          "metadata": {},
          "output_type": "execute_result"
        }
      ],
      "source": [
        "# are all values less than 10?\n",
        "np.all(x < 10)"
      ]
    },
    {
      "cell_type": "code",
      "execution_count": null,
      "metadata": {
        "jupyter": {
          "outputs_hidden": false
        },
        "id": "-RDGgMHc8loc",
        "outputId": "ac7e14f9-1e61-46f8-cadc-2bde56987f79"
      },
      "outputs": [
        {
          "data": {
            "text/plain": [
              "False"
            ]
          },
          "execution_count": 21,
          "metadata": {},
          "output_type": "execute_result"
        }
      ],
      "source": [
        "# are all values equal to 6?\n",
        "np.all(x == 6)"
      ]
    },
    {
      "cell_type": "markdown",
      "metadata": {
        "id": "5FdFoOJH8lod"
      },
      "source": [
        "`np.all` and `np.any` can be used along particular axes as well. For example:"
      ]
    },
    {
      "cell_type": "code",
      "execution_count": null,
      "metadata": {
        "jupyter": {
          "outputs_hidden": false
        },
        "id": "FPgkG0wb8lod",
        "outputId": "96b36c2d-73e4-467a-9cb4-ff120965ec14"
      },
      "outputs": [
        {
          "data": {
            "text/plain": [
              "array([False, False,  True])"
            ]
          },
          "execution_count": 22,
          "metadata": {},
          "output_type": "execute_result"
        }
      ],
      "source": [
        "# are all values in each row less than 8?\n",
        "np.all(x < 8, axis=1)"
      ]
    },
    {
      "cell_type": "markdown",
      "metadata": {
        "id": "9kKkfFjb8loe"
      },
      "source": [
        "Here all the elements in the third row are less than 8, while this is not the case for others.\n",
        "\n",
        "Finally, a quick warning: as mentioned in [Aggregations: Min, Max, and Everything In Between](02.04-Computation-on-arrays-aggregates.ipynb), Python has built-in `sum`, `any`, and `all` functions. These have a different syntax than the NumPy versions, and in particular will fail or produce unintended results when used on multidimensional arrays. Be sure that you are using `np.sum`, `np.any`, and `np.all` for these examples!"
      ]
    },
    {
      "cell_type": "markdown",
      "metadata": {
        "id": "yJMN12fz8lop"
      },
      "source": [
        "### Boolean Operators\n",
        "\n",
        "We've already seen how we might count, say, all days with less than 20 mm of rain, or all days with more than 10 mm of rain.\n",
        "But what if we want to know how many days there were with more than 10 mm and less than 20 mm of rain? We can accomplish this with Python's *bitwise logic operators*, `&`, `|`, `^`, and `~`.\n",
        "Like with the standard arithmetic operators, NumPy overloads these as ufuncs that work element-wise on (usually Boolean) arrays.\n",
        "\n",
        "For example, we can address this sort of compound question as follows:"
      ]
    },
    {
      "cell_type": "code",
      "execution_count": null,
      "metadata": {
        "jupyter": {
          "outputs_hidden": false
        },
        "id": "l9BYvRBv8lor",
        "outputId": "85a00aa9-884c-45e0-baeb-9986fd6f6489"
      },
      "outputs": [
        {
          "data": {
            "text/plain": [
              "16"
            ]
          },
          "execution_count": 23,
          "metadata": {},
          "output_type": "execute_result"
        }
      ],
      "source": [
        "np.sum((rainfall_mm > 10) & (rainfall_mm < 20))"
      ]
    },
    {
      "cell_type": "markdown",
      "metadata": {
        "id": "iAuZEdqF8los"
      },
      "source": [
        "This tells us that there were 16 days with rainfall of between 10 and 20 millimeters.\n",
        "\n",
        "The parentheses here are important. Because of operator precedence rules, with the parentheses removed this expression would be evaluated as follows, which results in an error:\n",
        "\n",
        "``` python\n",
        "rainfall_mm > (10 & rainfall_mm) < 20\n",
        "```\n",
        "\n",
        "Let's demonstrate a more complicated expression. Using De Morgan's laws, we can compute the same result in a different manner:"
      ]
    },
    {
      "cell_type": "code",
      "execution_count": null,
      "metadata": {
        "jupyter": {
          "outputs_hidden": false
        },
        "id": "fB8R8Bpi8los",
        "outputId": "884cd45d-f3a1-4a68-a2f6-75b48e9f3726"
      },
      "outputs": [
        {
          "data": {
            "text/plain": [
              "16"
            ]
          },
          "execution_count": 24,
          "metadata": {},
          "output_type": "execute_result"
        }
      ],
      "source": [
        "np.sum(~( (rainfall_mm <= 10) | (rainfall_mm >= 20) ))"
      ]
    },
    {
      "cell_type": "markdown",
      "metadata": {
        "id": "3Ujq2RbZ8lot"
      },
      "source": [
        "Combining comparison operators and Boolean operators on arrays can lead to a wide range of efficient logical operations.\n",
        "\n",
        "The following table summarizes the bitwise Boolean operators and their equivalent ufuncs:"
      ]
    },
    {
      "cell_type": "markdown",
      "metadata": {
        "id": "W0nKR3858lot"
      },
      "source": [
        "| Operator    | Equivalent ufunc  | Operator    | Equivalent ufunc  |\n",
        "|-------------|-------------------|-------------|-------------------|\n",
        "|`&`          |`np.bitwise_and`   |&#124;       |`np.bitwise_or`    |\n",
        "|`^`          |`np.bitwise_xor`   |`~`          |`np.bitwise_not`   |"
      ]
    },
    {
      "cell_type": "markdown",
      "metadata": {
        "id": "oFNOjWHF8lou"
      },
      "source": [
        "Using these tools, we can start to answer many of the questions we might have about our weather data.\n",
        "Here are some examples of results we can compute when combining masking with aggregations:"
      ]
    },
    {
      "cell_type": "code",
      "execution_count": null,
      "metadata": {
        "jupyter": {
          "outputs_hidden": false
        },
        "id": "gbEqJ57S8lou",
        "outputId": "50c5f9e2-16ec-469e-ca44-f048231c4749"
      },
      "outputs": [
        {
          "name": "stdout",
          "output_type": "stream",
          "text": [
            "Number days without rain:   221\n",
            "Number days with rain:      144\n",
            "Days with more than 10 mm:  34\n",
            "Rainy days with < 5 mm:     83\n"
          ]
        }
      ],
      "source": [
        "print(\"Number days without rain:  \", np.sum(rainfall_mm == 0))\n",
        "print(\"Number days with rain:     \", np.sum(rainfall_mm != 0))\n",
        "print(\"Days with more than 10 mm: \", np.sum(rainfall_mm > 10))\n",
        "print(\"Rainy days with < 5 mm:    \", np.sum((rainfall_mm > 0) &\n",
        "                                            (rainfall_mm < 5)))"
      ]
    },
    {
      "cell_type": "markdown",
      "metadata": {
        "id": "9ZcHb0d78lov"
      },
      "source": [
        "## Boolean Arrays as Masks\n",
        "\n",
        "In the preceding section we looked at aggregates computed directly on Boolean arrays.\n",
        "A more powerful pattern is to use Boolean arrays as masks, to select particular subsets of the data themselves. Let's return to our `x` array from before:"
      ]
    },
    {
      "cell_type": "code",
      "execution_count": null,
      "metadata": {
        "jupyter": {
          "outputs_hidden": false
        },
        "id": "uw0moaKW8lov",
        "outputId": "4b291393-fbd0-4e87-9afd-9490ee94aac1"
      },
      "outputs": [
        {
          "data": {
            "text/plain": [
              "array([[9, 4, 0, 3],\n",
              "       [8, 6, 3, 1],\n",
              "       [3, 7, 4, 0]])"
            ]
          },
          "execution_count": 26,
          "metadata": {},
          "output_type": "execute_result"
        }
      ],
      "source": [
        "x"
      ]
    },
    {
      "cell_type": "markdown",
      "metadata": {
        "id": "fjM7yW5F8low"
      },
      "source": [
        "Suppose we want an array of all values in the array that are less than, say, 5. We can obtain a Boolean array for this condition easily, as we've already seen:"
      ]
    },
    {
      "cell_type": "code",
      "execution_count": null,
      "metadata": {
        "jupyter": {
          "outputs_hidden": false
        },
        "id": "Khk0mf708low",
        "outputId": "e36e1f07-c173-446d-a5f3-d3f9e8829416"
      },
      "outputs": [
        {
          "data": {
            "text/plain": [
              "array([[False,  True,  True,  True],\n",
              "       [False, False,  True,  True],\n",
              "       [ True, False,  True,  True]])"
            ]
          },
          "execution_count": 27,
          "metadata": {},
          "output_type": "execute_result"
        }
      ],
      "source": [
        "x < 5"
      ]
    },
    {
      "cell_type": "markdown",
      "metadata": {
        "id": "t8XsDj3g8low"
      },
      "source": [
        "Now, to *select* these values from the array, we can simply index on this Boolean array; this is known as a *masking* operation:"
      ]
    },
    {
      "cell_type": "code",
      "execution_count": null,
      "metadata": {
        "jupyter": {
          "outputs_hidden": false
        },
        "id": "V6jeB7Qn8lox",
        "outputId": "de3238e5-2ffa-429e-afc9-a9c9015bd2eb"
      },
      "outputs": [
        {
          "data": {
            "text/plain": [
              "array([4, 0, 3, 3, 1, 3, 4, 0])"
            ]
          },
          "execution_count": 28,
          "metadata": {},
          "output_type": "execute_result"
        }
      ],
      "source": [
        "x[x < 5]"
      ]
    },
    {
      "cell_type": "markdown",
      "metadata": {
        "id": "M04hgBAS8lox"
      },
      "source": [
        "What is returned is a one-dimensional array filled with all the values that meet this condition; in other words, all the values in positions at which the mask array is `True`.\n",
        "\n",
        "We are then free to operate on these values as we wish.\n",
        "For example, we can compute some relevant statistics on our Seattle rain data:"
      ]
    },
    {
      "cell_type": "code",
      "execution_count": null,
      "metadata": {
        "jupyter": {
          "outputs_hidden": false
        },
        "id": "gmtikkdq8loy",
        "outputId": "875f71cd-96a4-498b-8592-c93a95418e6a"
      },
      "outputs": [
        {
          "name": "stdout",
          "output_type": "stream",
          "text": [
            "Median precip on rainy days in 2015 (mm):    3.8\n",
            "Median precip on summer days in 2015 (mm):   0.0\n",
            "Maximum precip on summer days in 2015 (mm):  32.5\n",
            "Median precip on non-summer rainy days (mm): 4.1\n"
          ]
        }
      ],
      "source": [
        "# construct a mask of all rainy days\n",
        "rainy = (rainfall_mm > 0)\n",
        "\n",
        "# construct a mask of all summer days (June 21st is the 172nd day)\n",
        "days = np.arange(365)\n",
        "summer = (days > 172) & (days < 262)\n",
        "\n",
        "print(\"Median precip on rainy days in 2015 (mm):   \",\n",
        "      np.median(rainfall_mm[rainy]))\n",
        "print(\"Median precip on summer days in 2015 (mm):  \",\n",
        "      np.median(rainfall_mm[summer]))\n",
        "print(\"Maximum precip on summer days in 2015 (mm): \",\n",
        "      np.max(rainfall_mm[summer]))\n",
        "print(\"Median precip on non-summer rainy days (mm):\",\n",
        "      np.median(rainfall_mm[rainy & ~summer]))"
      ]
    },
    {
      "cell_type": "markdown",
      "metadata": {
        "id": "TPt75yg78loy"
      },
      "source": [
        "By combining Boolean operations, masking operations, and aggregates, we can very quickly answer these sorts of questions about our dataset."
      ]
    },
    {
      "cell_type": "markdown",
      "metadata": {
        "id": "iU9ufT2P8loz"
      },
      "source": [
        "## Using the Keywords and/or Versus the Operators &/|\n",
        "\n",
        "One common point of confusion is the difference between the keywords `and` and `or` on the one hand, and the operators `&` and `|` on the other.\n",
        "When would you use one versus the other?\n",
        "\n",
        "The difference is this: `and` and `or` operate on the object as a whole, while `&` and `|` operate on the elements within the object.\n",
        "\n",
        "When you use `and` or `or`, it is equivalent to asking Python to treat the object as a single Boolean entity.\n",
        "In Python, all nonzero integers will evaluate as `True`. Thus:"
      ]
    },
    {
      "cell_type": "code",
      "execution_count": null,
      "metadata": {
        "jupyter": {
          "outputs_hidden": false
        },
        "id": "iOTjUL8v8loz",
        "outputId": "1381f1f8-b7e6-46aa-9cf5-dd83b60fa733"
      },
      "outputs": [
        {
          "data": {
            "text/plain": [
              "(True, False)"
            ]
          },
          "execution_count": 30,
          "metadata": {},
          "output_type": "execute_result"
        }
      ],
      "source": [
        "bool(42), bool(0)"
      ]
    },
    {
      "cell_type": "code",
      "execution_count": null,
      "metadata": {
        "jupyter": {
          "outputs_hidden": false
        },
        "id": "Y0VSQsk58lo0",
        "outputId": "cbfba793-70c0-4951-d16b-f1edabaad5ec"
      },
      "outputs": [
        {
          "data": {
            "text/plain": [
              "False"
            ]
          },
          "execution_count": 31,
          "metadata": {},
          "output_type": "execute_result"
        }
      ],
      "source": [
        "bool(42 and 0)"
      ]
    },
    {
      "cell_type": "code",
      "execution_count": null,
      "metadata": {
        "jupyter": {
          "outputs_hidden": false
        },
        "id": "z9QoZRcE8lo0",
        "outputId": "cf505f74-f624-48ca-8b81-baa44654cbef"
      },
      "outputs": [
        {
          "data": {
            "text/plain": [
              "True"
            ]
          },
          "execution_count": 32,
          "metadata": {},
          "output_type": "execute_result"
        }
      ],
      "source": [
        "bool(42 or 0)"
      ]
    },
    {
      "cell_type": "markdown",
      "metadata": {
        "id": "Lr83mE698lo3"
      },
      "source": [
        "When you use `&` and `|` on integers, the expression operates on the bitwise representation of the element, applying the *and* or the *or* to the individual bits making up the number:"
      ]
    },
    {
      "cell_type": "code",
      "execution_count": null,
      "metadata": {
        "jupyter": {
          "outputs_hidden": false
        },
        "id": "OiNwgBcF8lo4",
        "outputId": "6d2b1b28-b5b7-4447-ebfb-493127592c49"
      },
      "outputs": [
        {
          "data": {
            "text/plain": [
              "'0b101010'"
            ]
          },
          "execution_count": 33,
          "metadata": {},
          "output_type": "execute_result"
        }
      ],
      "source": [
        "bin(42)"
      ]
    },
    {
      "cell_type": "code",
      "execution_count": null,
      "metadata": {
        "jupyter": {
          "outputs_hidden": false
        },
        "id": "TBYXwKl88lo4",
        "outputId": "60f106ac-5931-4fce-a101-97e85b77ebb9"
      },
      "outputs": [
        {
          "data": {
            "text/plain": [
              "'0b111011'"
            ]
          },
          "execution_count": 34,
          "metadata": {},
          "output_type": "execute_result"
        }
      ],
      "source": [
        "bin(59)"
      ]
    },
    {
      "cell_type": "code",
      "execution_count": null,
      "metadata": {
        "jupyter": {
          "outputs_hidden": false
        },
        "id": "SQcklMXu8lo4",
        "outputId": "caa8fc8d-c617-444e-d774-076077cb31ee"
      },
      "outputs": [
        {
          "data": {
            "text/plain": [
              "'0b101010'"
            ]
          },
          "execution_count": 35,
          "metadata": {},
          "output_type": "execute_result"
        }
      ],
      "source": [
        "bin(42 & 59)"
      ]
    },
    {
      "cell_type": "code",
      "execution_count": null,
      "metadata": {
        "jupyter": {
          "outputs_hidden": false
        },
        "id": "YrH-3eb48lo5",
        "outputId": "8b4b0943-2ec3-4827-b57b-16cdcf2ad6aa"
      },
      "outputs": [
        {
          "data": {
            "text/plain": [
              "'0b111011'"
            ]
          },
          "execution_count": 36,
          "metadata": {},
          "output_type": "execute_result"
        }
      ],
      "source": [
        "bin(42 | 59)"
      ]
    },
    {
      "cell_type": "markdown",
      "metadata": {
        "id": "cCcUYs2d8lo5"
      },
      "source": [
        "Notice that the corresponding bits of the binary representation are compared in order to yield the result.\n",
        "\n",
        "When you have an array of Boolean values in NumPy, this can be thought of as a string of bits where `1 = True` and `0 = False`, and `&` and `|` will operate similarly to in the preceding examples:"
      ]
    },
    {
      "cell_type": "code",
      "execution_count": null,
      "metadata": {
        "jupyter": {
          "outputs_hidden": false
        },
        "id": "9sAtSk3y8lo5",
        "outputId": "89398b1c-0945-4d1a-f1b3-2416374775e6"
      },
      "outputs": [
        {
          "data": {
            "text/plain": [
              "array([ True,  True,  True, False,  True,  True])"
            ]
          },
          "execution_count": 37,
          "metadata": {},
          "output_type": "execute_result"
        }
      ],
      "source": [
        "A = np.array([1, 0, 1, 0, 1, 0], dtype=bool)\n",
        "B = np.array([1, 1, 1, 0, 1, 1], dtype=bool)\n",
        "A | B"
      ]
    },
    {
      "cell_type": "markdown",
      "metadata": {
        "id": "btMipb5T8lo6"
      },
      "source": [
        "But if you use `or` on these arrays it will try to evaluate the truth or falsehood of the entire array object, which is not a well-defined value:"
      ]
    },
    {
      "cell_type": "code",
      "execution_count": null,
      "metadata": {
        "jupyter": {
          "outputs_hidden": false
        },
        "id": "IhsMuZ2O8lo6",
        "outputId": "d7cfa4d9-3b54-4528-e0e4-aa8191b47593"
      },
      "outputs": [
        {
          "ename": "ValueError",
          "evalue": "The truth value of an array with more than one element is ambiguous. Use a.any() or a.all()",
          "output_type": "error",
          "traceback": [
            "\u001b[0;31m---------------------------------------------------------------------------\u001b[0m",
            "\u001b[0;31mValueError\u001b[0m                                Traceback (most recent call last)",
            "\u001b[0;32m/var/folders/xc/sptt9bk14s34rgxt7453p03r0000gp/T/ipykernel_93010/3447948156.py\u001b[0m in \u001b[0;36m<module>\u001b[0;34m\u001b[0m\n\u001b[0;32m----> 1\u001b[0;31m \u001b[0mA\u001b[0m \u001b[0;32mor\u001b[0m \u001b[0mB\u001b[0m\u001b[0;34m\u001b[0m\u001b[0;34m\u001b[0m\u001b[0m\n\u001b[0m",
            "\u001b[0;31mValueError\u001b[0m: The truth value of an array with more than one element is ambiguous. Use a.any() or a.all()"
          ]
        }
      ],
      "source": [
        "A or B"
      ]
    },
    {
      "cell_type": "markdown",
      "metadata": {
        "id": "POZtAEvo8lo6"
      },
      "source": [
        "Similarly, when evaluating a Boolean expression on a given array, you should use `|` or `&` rather than `or` or `and`:"
      ]
    },
    {
      "cell_type": "code",
      "execution_count": null,
      "metadata": {
        "jupyter": {
          "outputs_hidden": false
        },
        "id": "gbYw2HU38lo7",
        "outputId": "81527685-f75a-4523-c53e-3dbdb90aaedc"
      },
      "outputs": [
        {
          "data": {
            "text/plain": [
              "array([False, False, False, False, False,  True,  True,  True, False,\n",
              "       False])"
            ]
          },
          "execution_count": 39,
          "metadata": {},
          "output_type": "execute_result"
        }
      ],
      "source": [
        "x = np.arange(10)\n",
        "(x > 4) & (x < 8)"
      ]
    },
    {
      "cell_type": "markdown",
      "metadata": {
        "id": "Kfn0FiR18lo7"
      },
      "source": [
        "Trying to evaluate the truth or falsehood of the entire array will give the same `ValueError` we saw previously:"
      ]
    },
    {
      "cell_type": "code",
      "execution_count": null,
      "metadata": {
        "jupyter": {
          "outputs_hidden": false
        },
        "id": "hMzLuF5K8lo7",
        "outputId": "75fb1253-c87e-4027-c7d7-31cc57e0d15b"
      },
      "outputs": [
        {
          "ename": "ValueError",
          "evalue": "The truth value of an array with more than one element is ambiguous. Use a.any() or a.all()",
          "output_type": "error",
          "traceback": [
            "\u001b[0;31m---------------------------------------------------------------------------\u001b[0m",
            "\u001b[0;31mValueError\u001b[0m                                Traceback (most recent call last)",
            "\u001b[0;32m/var/folders/xc/sptt9bk14s34rgxt7453p03r0000gp/T/ipykernel_93010/2869511139.py\u001b[0m in \u001b[0;36m<module>\u001b[0;34m\u001b[0m\n\u001b[0;32m----> 1\u001b[0;31m \u001b[0;34m(\u001b[0m\u001b[0mx\u001b[0m \u001b[0;34m>\u001b[0m \u001b[0;36m4\u001b[0m\u001b[0;34m)\u001b[0m \u001b[0;32mand\u001b[0m \u001b[0;34m(\u001b[0m\u001b[0mx\u001b[0m \u001b[0;34m<\u001b[0m \u001b[0;36m8\u001b[0m\u001b[0;34m)\u001b[0m\u001b[0;34m\u001b[0m\u001b[0;34m\u001b[0m\u001b[0m\n\u001b[0m",
            "\u001b[0;31mValueError\u001b[0m: The truth value of an array with more than one element is ambiguous. Use a.any() or a.all()"
          ]
        }
      ],
      "source": [
        "(x > 4) and (x < 8)"
      ]
    },
    {
      "cell_type": "markdown",
      "metadata": {
        "id": "syTyPFKw8lo8"
      },
      "source": [
        "So, remember this: `and` and `or` perform a single Boolean evaluation on an entire object, while `&` and `|` perform multiple Boolean evaluations on the content (the individual bits or bytes) of an object.\n",
        "For Boolean NumPy arrays, the latter is nearly always the desired operation."
      ]
    }
  ],
  "metadata": {
    "anaconda-cloud": {},
    "jupytext": {
      "formats": "ipynb,md"
    },
    "kernelspec": {
      "display_name": "Python 3.9.6 64-bit ('3.9.6')",
      "language": "python",
      "name": "python3"
    },
    "language_info": {
      "codemirror_mode": {
        "name": "ipython",
        "version": 3
      },
      "file_extension": ".py",
      "mimetype": "text/x-python",
      "name": "python",
      "nbconvert_exporter": "python",
      "pygments_lexer": "ipython3",
      "version": "3.9.6"
    },
    "vscode": {
      "interpreter": {
        "hash": "513788764cd0ec0f97313d5418a13e1ea666d16d72f976a8acadce25a5af2ffc"
      }
    },
    "colab": {
      "provenance": []
    }
  },
  "nbformat": 4,
  "nbformat_minor": 0
}