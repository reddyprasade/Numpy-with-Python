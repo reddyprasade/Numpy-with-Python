{
  "cells": [
    {
      "cell_type": "markdown",
      "metadata": {
        "id": "uzRGgQqk8zgS"
      },
      "source": [
        "# The Basics of NumPy Arrays"
      ]
    },
    {
      "cell_type": "markdown",
      "metadata": {
        "id": "26sJ1HNk8zgZ"
      },
      "source": [
        "Data manipulation in Python is nearly synonymous with NumPy array manipulation: even newer tools like Pandas ([Part 3](03.00-Introduction-to-Pandas.ipynb)) are built around the NumPy array.\n",
        "This chapter will present several examples of using NumPy array manipulation to access data and subarrays, and to split, reshape, and join the arrays.\n",
        "While the types of operations shown here may seem a bit dry and pedantic, they comprise the building blocks of many other examples used throughout the book.\n",
        "Get to know them well!\n",
        "\n",
        "We'll cover a few categories of basic array manipulations here:\n",
        "\n",
        "- *Attributes of arrays*: Determining the size, shape, memory consumption, and data types of arrays\n",
        "- *Indexing of arrays*: Getting and setting the values of individual array elements\n",
        "- *Slicing of arrays*: Getting and setting smaller subarrays within a larger array\n",
        "- *Reshaping of arrays*: Changing the shape of a given array\n",
        "- *Joining and splitting of arrays*: Combining multiple arrays into one, and splitting one array into many"
      ]
    },
    {
      "cell_type": "markdown",
      "metadata": {
        "id": "pLpMqb_68zgb"
      },
      "source": [
        "## NumPy Array Attributes"
      ]
    },
    {
      "cell_type": "markdown",
      "metadata": {
        "id": "Ag6neEOl8zgb"
      },
      "source": [
        "First let's discuss some useful array attributes.\n",
        "We'll start by defining random arrays of one, two, and three dimensions.\n",
        "We'll use NumPy's random number generator, which we will *seed* with a set value in order to ensure that the same random arrays are generated each time this code is run:"
      ]
    },
    {
      "cell_type": "code",
      "execution_count": null,
      "metadata": {
        "jupyter": {
          "outputs_hidden": false
        },
        "id": "wp_ozjzz8zgc"
      },
      "outputs": [],
      "source": [
        "import numpy as np\n",
        "rng = np.random.default_rng(seed=1701)  # seed for reproducibility\n",
        "\n",
        "x1 = rng.integers(10, size=6)  # one-dimensional array\n",
        "x2 = rng.integers(10, size=(3, 4))  # two-dimensional array\n",
        "x3 = rng.integers(10, size=(3, 4, 5))  # three-dimensional array"
      ]
    },
    {
      "cell_type": "markdown",
      "metadata": {
        "id": "54wPwr1h8zgf"
      },
      "source": [
        "Each array has attributes including `ndim` (the number of dimensions), `shape` (the size of each dimension), `size` (the total size of the array), and `dtype` (the type of each element):"
      ]
    },
    {
      "cell_type": "code",
      "execution_count": null,
      "metadata": {
        "jupyter": {
          "outputs_hidden": false
        },
        "id": "fslXLk7X8zgf",
        "outputId": "fd608f61-4859-430f-9e29-e911bc640a3c"
      },
      "outputs": [
        {
          "name": "stdout",
          "output_type": "stream",
          "text": [
            "x3 ndim:  3\n",
            "x3 shape: (3, 4, 5)\n",
            "x3 size:  60\n",
            "dtype:    int64\n"
          ]
        }
      ],
      "source": [
        "print(\"x3 ndim: \", x3.ndim)\n",
        "print(\"x3 shape:\", x3.shape)\n",
        "print(\"x3 size: \", x3.size)\n",
        "print(\"dtype:   \", x3.dtype)"
      ]
    },
    {
      "cell_type": "markdown",
      "metadata": {
        "id": "07aPrRFg8zgi"
      },
      "source": [
        "For more discussion of data types, see [Understanding Data Types in Python](02.01-Understanding-Data-Types.ipynb)."
      ]
    },
    {
      "cell_type": "markdown",
      "metadata": {
        "id": "XkI7khb38zgi"
      },
      "source": [
        "## Array Indexing: Accessing Single Elements"
      ]
    },
    {
      "cell_type": "markdown",
      "metadata": {
        "id": "eztavKhn8zgj"
      },
      "source": [
        "If you are familiar with Python's standard list indexing, indexing in NumPy will feel quite familiar.\n",
        "In a one-dimensional array, the $i^{th}$ value (counting from zero) can be accessed by specifying the desired index in square brackets, just as with Python lists:"
      ]
    },
    {
      "cell_type": "code",
      "execution_count": null,
      "metadata": {
        "jupyter": {
          "outputs_hidden": false
        },
        "id": "IuffW6ZG8zgk",
        "outputId": "025978e1-c9de-43f1-b077-5d0871be1ac4"
      },
      "outputs": [
        {
          "data": {
            "text/plain": [
              "array([9, 4, 0, 3, 8, 6])"
            ]
          },
          "execution_count": 3,
          "metadata": {},
          "output_type": "execute_result"
        }
      ],
      "source": [
        "x1"
      ]
    },
    {
      "cell_type": "code",
      "execution_count": null,
      "metadata": {
        "jupyter": {
          "outputs_hidden": false
        },
        "id": "iy2p56dC8zgl",
        "outputId": "323e3e26-d996-46c3-f129-a579640c101d"
      },
      "outputs": [
        {
          "data": {
            "text/plain": [
              "9"
            ]
          },
          "execution_count": 4,
          "metadata": {},
          "output_type": "execute_result"
        }
      ],
      "source": [
        "x1[0]"
      ]
    },
    {
      "cell_type": "code",
      "execution_count": null,
      "metadata": {
        "jupyter": {
          "outputs_hidden": false
        },
        "id": "c5t3kD8u8zgl",
        "outputId": "6fb94f10-e00c-4057-e2d4-6f8e9a0a2161"
      },
      "outputs": [
        {
          "data": {
            "text/plain": [
              "8"
            ]
          },
          "execution_count": 5,
          "metadata": {},
          "output_type": "execute_result"
        }
      ],
      "source": [
        "x1[4]"
      ]
    },
    {
      "cell_type": "markdown",
      "metadata": {
        "id": "L_cMEN2c8zgm"
      },
      "source": [
        "To index from the end of the array, you can use negative indices:"
      ]
    },
    {
      "cell_type": "code",
      "execution_count": null,
      "metadata": {
        "jupyter": {
          "outputs_hidden": false
        },
        "id": "38dTHQUK8zgm",
        "outputId": "7fd66e1a-0618-410b-d7c5-6ddb7cd3b96c"
      },
      "outputs": [
        {
          "data": {
            "text/plain": [
              "6"
            ]
          },
          "execution_count": 6,
          "metadata": {},
          "output_type": "execute_result"
        }
      ],
      "source": [
        "x1[-1]"
      ]
    },
    {
      "cell_type": "code",
      "execution_count": null,
      "metadata": {
        "jupyter": {
          "outputs_hidden": false
        },
        "id": "yx_x_L_m8zgm",
        "outputId": "cd4d7cfe-d20b-4cb5-c92e-1645cb7a8efe"
      },
      "outputs": [
        {
          "data": {
            "text/plain": [
              "8"
            ]
          },
          "execution_count": 7,
          "metadata": {},
          "output_type": "execute_result"
        }
      ],
      "source": [
        "x1[-2]"
      ]
    },
    {
      "cell_type": "markdown",
      "metadata": {
        "id": "vnd6RH608zgn"
      },
      "source": [
        "In a multidimensional array, items can be accessed using a comma-separated `(row, column)` tuple:"
      ]
    },
    {
      "cell_type": "code",
      "execution_count": null,
      "metadata": {
        "jupyter": {
          "outputs_hidden": false
        },
        "id": "-BhTszh68zgn",
        "outputId": "7e136606-0bea-4167-8470-0feeedac3aaf"
      },
      "outputs": [
        {
          "data": {
            "text/plain": [
              "array([[3, 1, 3, 7],\n",
              "       [4, 0, 2, 3],\n",
              "       [0, 0, 6, 9]])"
            ]
          },
          "execution_count": 8,
          "metadata": {},
          "output_type": "execute_result"
        }
      ],
      "source": [
        "x2"
      ]
    },
    {
      "cell_type": "code",
      "execution_count": null,
      "metadata": {
        "jupyter": {
          "outputs_hidden": false
        },
        "id": "WFbdQ7oJ8zgo",
        "outputId": "92916cde-4080-456a-81d3-39ed6936fdf7"
      },
      "outputs": [
        {
          "data": {
            "text/plain": [
              "3"
            ]
          },
          "execution_count": 9,
          "metadata": {},
          "output_type": "execute_result"
        }
      ],
      "source": [
        "x2[0, 0]"
      ]
    },
    {
      "cell_type": "code",
      "execution_count": null,
      "metadata": {
        "jupyter": {
          "outputs_hidden": false
        },
        "id": "uYmVw1Qg8zgo",
        "outputId": "731d9da8-3ba7-4ca5-8f32-26fe7bfb4d68"
      },
      "outputs": [
        {
          "data": {
            "text/plain": [
              "0"
            ]
          },
          "execution_count": 10,
          "metadata": {},
          "output_type": "execute_result"
        }
      ],
      "source": [
        "x2[2, 0]"
      ]
    },
    {
      "cell_type": "code",
      "execution_count": null,
      "metadata": {
        "jupyter": {
          "outputs_hidden": false
        },
        "id": "j4Iq_Y7I8zgp",
        "outputId": "95703288-1c7f-47c2-a248-7cfa317972d3"
      },
      "outputs": [
        {
          "data": {
            "text/plain": [
              "9"
            ]
          },
          "execution_count": 11,
          "metadata": {},
          "output_type": "execute_result"
        }
      ],
      "source": [
        "x2[2, -1]"
      ]
    },
    {
      "cell_type": "markdown",
      "metadata": {
        "id": "ivq1O3Ym8zgp"
      },
      "source": [
        "Values can also be modified using any of the preceding index notation:"
      ]
    },
    {
      "cell_type": "code",
      "execution_count": null,
      "metadata": {
        "jupyter": {
          "outputs_hidden": false
        },
        "id": "ykSczia18zgp",
        "outputId": "aefcee91-e17c-4c5d-8e2d-695f089936e6"
      },
      "outputs": [
        {
          "data": {
            "text/plain": [
              "array([[12,  1,  3,  7],\n",
              "       [ 4,  0,  2,  3],\n",
              "       [ 0,  0,  6,  9]])"
            ]
          },
          "execution_count": 12,
          "metadata": {},
          "output_type": "execute_result"
        }
      ],
      "source": [
        "x2[0, 0] = 12\n",
        "x2"
      ]
    },
    {
      "cell_type": "markdown",
      "metadata": {
        "id": "pwI4BQ8X8zgq"
      },
      "source": [
        "Keep in mind that, unlike Python lists, NumPy arrays have a fixed type.\n",
        "This means, for example, that if you attempt to insert a floating-point value into an integer array, the value will be silently truncated. Don't be caught unaware by this behavior!"
      ]
    },
    {
      "cell_type": "code",
      "execution_count": null,
      "metadata": {
        "jupyter": {
          "outputs_hidden": false
        },
        "id": "ZhmMP3TW8zgq",
        "outputId": "b1d57ba3-f560-472e-d440-3baff5bfae30"
      },
      "outputs": [
        {
          "data": {
            "text/plain": [
              "array([3, 4, 0, 3, 8, 6])"
            ]
          },
          "execution_count": 13,
          "metadata": {},
          "output_type": "execute_result"
        }
      ],
      "source": [
        "x1[0] = 3.14159  # this will be truncated!\n",
        "x1"
      ]
    },
    {
      "cell_type": "markdown",
      "metadata": {
        "id": "PO4oXQY08zgq"
      },
      "source": [
        "## Array Slicing: Accessing Subarrays"
      ]
    },
    {
      "cell_type": "markdown",
      "metadata": {
        "id": "c2Mb50SB8zgr"
      },
      "source": [
        "Just as we can use square brackets to access individual array elements, we can also use them to access subarrays with the *slice* notation, marked by the colon (`:`) character.\n",
        "The NumPy slicing syntax follows that of the standard Python list; to access a slice of an array `x`, use this:\n",
        "``` python\n",
        "x[start:stop:step]\n",
        "```\n",
        "If any of these are unspecified, they default to the values `start=0`, `stop=<size of dimension>`, `step=1`.\n",
        "Let's look at some examples of accessing subarrays in one dimension and in multiple dimensions."
      ]
    },
    {
      "cell_type": "markdown",
      "metadata": {
        "id": "HbcOE5_u8zgr"
      },
      "source": [
        "### One-Dimensional Subarrays\n",
        "\n",
        "Here are some examples of accessing elements in one-dimensional subarrays:"
      ]
    },
    {
      "cell_type": "code",
      "execution_count": null,
      "metadata": {
        "jupyter": {
          "outputs_hidden": false
        },
        "id": "nNoKa1Es8zgr",
        "outputId": "7b2cc417-75fd-4d13-d55e-0315824bb0e3"
      },
      "outputs": [
        {
          "data": {
            "text/plain": [
              "array([3, 4, 0, 3, 8, 6])"
            ]
          },
          "execution_count": 14,
          "metadata": {},
          "output_type": "execute_result"
        }
      ],
      "source": [
        "x1"
      ]
    },
    {
      "cell_type": "code",
      "execution_count": null,
      "metadata": {
        "jupyter": {
          "outputs_hidden": false
        },
        "id": "GiHOJo2g8zgr",
        "outputId": "75296fb8-fdcb-4956-bbf6-2df77598ffb4"
      },
      "outputs": [
        {
          "data": {
            "text/plain": [
              "array([3, 4, 0])"
            ]
          },
          "execution_count": 15,
          "metadata": {},
          "output_type": "execute_result"
        }
      ],
      "source": [
        "x1[:3]  # first three elements"
      ]
    },
    {
      "cell_type": "code",
      "execution_count": null,
      "metadata": {
        "jupyter": {
          "outputs_hidden": false
        },
        "id": "_7smQZ8l8zgs",
        "outputId": "431afe69-12ac-4d62-eab5-a7f62cc0693b"
      },
      "outputs": [
        {
          "data": {
            "text/plain": [
              "array([3, 8, 6])"
            ]
          },
          "execution_count": 16,
          "metadata": {},
          "output_type": "execute_result"
        }
      ],
      "source": [
        "x1[3:]  # elements after index 3"
      ]
    },
    {
      "cell_type": "code",
      "execution_count": null,
      "metadata": {
        "jupyter": {
          "outputs_hidden": false
        },
        "id": "bCpm4yn68zgs",
        "outputId": "8d80997e-b7a4-4912-ac0c-e584f6338ea8"
      },
      "outputs": [
        {
          "data": {
            "text/plain": [
              "array([4, 0, 3])"
            ]
          },
          "execution_count": 17,
          "metadata": {},
          "output_type": "execute_result"
        }
      ],
      "source": [
        "x1[1:4]  # middle subarray"
      ]
    },
    {
      "cell_type": "code",
      "execution_count": null,
      "metadata": {
        "jupyter": {
          "outputs_hidden": false
        },
        "id": "3Nt7xBr68zgs",
        "outputId": "d75a60b6-3c7d-47e7-d2e1-e8d0759bc99c"
      },
      "outputs": [
        {
          "data": {
            "text/plain": [
              "array([3, 0, 8])"
            ]
          },
          "execution_count": 18,
          "metadata": {},
          "output_type": "execute_result"
        }
      ],
      "source": [
        "x1[::2]  # every second element"
      ]
    },
    {
      "cell_type": "code",
      "execution_count": null,
      "metadata": {
        "jupyter": {
          "outputs_hidden": false
        },
        "id": "Zy-38kmF8zgt",
        "outputId": "53e727dc-8bf0-4058-80cf-658acabaa88f"
      },
      "outputs": [
        {
          "data": {
            "text/plain": [
              "array([4, 3, 6])"
            ]
          },
          "execution_count": 19,
          "metadata": {},
          "output_type": "execute_result"
        }
      ],
      "source": [
        "x1[1::2]  # every second element, starting at index 1"
      ]
    },
    {
      "cell_type": "markdown",
      "metadata": {
        "id": "KLjXbN1r8zgt"
      },
      "source": [
        "A potentially confusing case is when the `step` value is negative.\n",
        "In this case, the defaults for `start` and `stop` are swapped.\n",
        "This becomes a convenient way to reverse an array:"
      ]
    },
    {
      "cell_type": "code",
      "execution_count": null,
      "metadata": {
        "jupyter": {
          "outputs_hidden": false
        },
        "id": "Couvm7lX8zgt",
        "outputId": "286dbcc0-489f-4e1b-a5a9-a1189dc7819b"
      },
      "outputs": [
        {
          "data": {
            "text/plain": [
              "array([6, 8, 3, 0, 4, 3])"
            ]
          },
          "execution_count": 20,
          "metadata": {},
          "output_type": "execute_result"
        }
      ],
      "source": [
        "x1[::-1]  # all elements, reversed"
      ]
    },
    {
      "cell_type": "code",
      "execution_count": null,
      "metadata": {
        "jupyter": {
          "outputs_hidden": false
        },
        "id": "1o7alT8F8zgu",
        "outputId": "14b76501-d1e8-47a8-f3f9-489bbe360462"
      },
      "outputs": [
        {
          "data": {
            "text/plain": [
              "array([8, 0, 3])"
            ]
          },
          "execution_count": 21,
          "metadata": {},
          "output_type": "execute_result"
        }
      ],
      "source": [
        "x1[4::-2]  # every second element from index 4, reversed"
      ]
    },
    {
      "cell_type": "markdown",
      "metadata": {
        "id": "2dFummCc8zgu"
      },
      "source": [
        "### Multidimensional Subarrays\n",
        "\n",
        "Multidimensional slices work in the same way, with multiple slices separated by commas.\n",
        "For example:"
      ]
    },
    {
      "cell_type": "code",
      "execution_count": null,
      "metadata": {
        "jupyter": {
          "outputs_hidden": false
        },
        "id": "VWlikR-n8zgu",
        "outputId": "333bba90-23ad-44be-a6c4-12ee0048c6d6"
      },
      "outputs": [
        {
          "data": {
            "text/plain": [
              "array([[12,  1,  3,  7],\n",
              "       [ 4,  0,  2,  3],\n",
              "       [ 0,  0,  6,  9]])"
            ]
          },
          "execution_count": 22,
          "metadata": {},
          "output_type": "execute_result"
        }
      ],
      "source": [
        "x2"
      ]
    },
    {
      "cell_type": "code",
      "execution_count": null,
      "metadata": {
        "jupyter": {
          "outputs_hidden": false
        },
        "id": "yvgkgPYg8zg4",
        "outputId": "92ec9f2c-e739-404a-bec4-b115332e4f3f"
      },
      "outputs": [
        {
          "data": {
            "text/plain": [
              "array([[12,  1,  3],\n",
              "       [ 4,  0,  2]])"
            ]
          },
          "execution_count": 23,
          "metadata": {},
          "output_type": "execute_result"
        }
      ],
      "source": [
        "x2[:2, :3]  # first two rows & three columns"
      ]
    },
    {
      "cell_type": "code",
      "execution_count": null,
      "metadata": {
        "jupyter": {
          "outputs_hidden": false
        },
        "id": "K_oJXYZl8zg4",
        "outputId": "310cff24-f4ae-4c1f-b1c9-8938ef4209d7"
      },
      "outputs": [
        {
          "data": {
            "text/plain": [
              "array([[12,  3],\n",
              "       [ 4,  2],\n",
              "       [ 0,  6]])"
            ]
          },
          "execution_count": 24,
          "metadata": {},
          "output_type": "execute_result"
        }
      ],
      "source": [
        "x2[:3, ::2]  # three rows, every second column"
      ]
    },
    {
      "cell_type": "code",
      "execution_count": null,
      "metadata": {
        "jupyter": {
          "outputs_hidden": false
        },
        "id": "VL-QGxQj8zg5",
        "outputId": "aebf6cc4-3fbe-4831-9680-457bb525411a"
      },
      "outputs": [
        {
          "data": {
            "text/plain": [
              "array([[ 9,  6,  0,  0],\n",
              "       [ 3,  2,  0,  4],\n",
              "       [ 7,  3,  1, 12]])"
            ]
          },
          "execution_count": 25,
          "metadata": {},
          "output_type": "execute_result"
        }
      ],
      "source": [
        "x2[::-1, ::-1]  # all rows & columns, reversed"
      ]
    },
    {
      "cell_type": "markdown",
      "metadata": {
        "id": "XinUarWl8zg5"
      },
      "source": [
        "#### Accessing array rows and columns\n",
        "\n",
        "One commonly needed routine is accessing single rows or columns of an array.\n",
        "This can be done by combining indexing and slicing, using an empty slice marked by a single colon (`:`):"
      ]
    },
    {
      "cell_type": "code",
      "execution_count": null,
      "metadata": {
        "jupyter": {
          "outputs_hidden": false
        },
        "id": "OWJdINSD8zg5",
        "outputId": "2408fd84-1c0f-404f-82ca-67b209d5454d"
      },
      "outputs": [
        {
          "data": {
            "text/plain": [
              "array([12,  4,  0])"
            ]
          },
          "execution_count": 26,
          "metadata": {},
          "output_type": "execute_result"
        }
      ],
      "source": [
        "x2[:, 0]  # first column of x2"
      ]
    },
    {
      "cell_type": "code",
      "execution_count": null,
      "metadata": {
        "jupyter": {
          "outputs_hidden": false
        },
        "id": "0Vakzfgr8zg6",
        "outputId": "2fb05ddd-1b7e-4ded-b156-ed0c7b5d8a92"
      },
      "outputs": [
        {
          "data": {
            "text/plain": [
              "array([12,  1,  3,  7])"
            ]
          },
          "execution_count": 27,
          "metadata": {},
          "output_type": "execute_result"
        }
      ],
      "source": [
        "x2[0, :]  # first row of x2"
      ]
    },
    {
      "cell_type": "markdown",
      "metadata": {
        "id": "TkeYdIBN8zg6"
      },
      "source": [
        "In the case of row access, the empty slice can be omitted for a more compact syntax:"
      ]
    },
    {
      "cell_type": "code",
      "execution_count": null,
      "metadata": {
        "jupyter": {
          "outputs_hidden": false
        },
        "id": "R1Wfteed8zg6",
        "outputId": "8fb3cd14-7a7d-4429-bddc-68f390c3030a"
      },
      "outputs": [
        {
          "data": {
            "text/plain": [
              "array([12,  1,  3,  7])"
            ]
          },
          "execution_count": 28,
          "metadata": {},
          "output_type": "execute_result"
        }
      ],
      "source": [
        "x2[0]  # equivalent to x2[0, :]"
      ]
    },
    {
      "cell_type": "markdown",
      "metadata": {
        "id": "uqB66Nm48zg7"
      },
      "source": [
        "### Subarrays as No-Copy Views\n",
        "\n",
        "Unlike Python list slices, NumPy array slices are returned as *views* rather than *copies* of the array data.\n",
        "Consider our two-dimensional array from before:"
      ]
    },
    {
      "cell_type": "code",
      "execution_count": null,
      "metadata": {
        "jupyter": {
          "outputs_hidden": false
        },
        "id": "18vXyMfL8zg7",
        "outputId": "565fe838-e3e6-4041-943a-8c2d3bc9cc78"
      },
      "outputs": [
        {
          "name": "stdout",
          "output_type": "stream",
          "text": [
            "[[12  1  3  7]\n",
            " [ 4  0  2  3]\n",
            " [ 0  0  6  9]]\n"
          ]
        }
      ],
      "source": [
        "print(x2)"
      ]
    },
    {
      "cell_type": "markdown",
      "metadata": {
        "id": "eSbgV8zd8zg7"
      },
      "source": [
        "Let's extract a $2 \\times 2$ subarray from this:"
      ]
    },
    {
      "cell_type": "code",
      "execution_count": null,
      "metadata": {
        "jupyter": {
          "outputs_hidden": false
        },
        "id": "5kQx9Dm58zg7",
        "outputId": "2017c5bf-5223-47ff-b3f1-08ac678f5e38"
      },
      "outputs": [
        {
          "name": "stdout",
          "output_type": "stream",
          "text": [
            "[[12  1]\n",
            " [ 4  0]]\n"
          ]
        }
      ],
      "source": [
        "x2_sub = x2[:2, :2]\n",
        "print(x2_sub)"
      ]
    },
    {
      "cell_type": "markdown",
      "metadata": {
        "id": "p6UsAZQV8zg8"
      },
      "source": [
        "Now if we modify this subarray, we'll see that the original array is changed! Observe:"
      ]
    },
    {
      "cell_type": "code",
      "execution_count": null,
      "metadata": {
        "jupyter": {
          "outputs_hidden": false
        },
        "id": "WJ2T3fSZ8zg8",
        "outputId": "d62a2187-c09e-45bd-b93b-c241c021a7dd"
      },
      "outputs": [
        {
          "name": "stdout",
          "output_type": "stream",
          "text": [
            "[[99  1]\n",
            " [ 4  0]]\n"
          ]
        }
      ],
      "source": [
        "x2_sub[0, 0] = 99\n",
        "print(x2_sub)"
      ]
    },
    {
      "cell_type": "code",
      "execution_count": null,
      "metadata": {
        "jupyter": {
          "outputs_hidden": false
        },
        "id": "uqug1rPz8zg9",
        "outputId": "99f3b40a-ff78-44a8-f8f2-30124e1640d2"
      },
      "outputs": [
        {
          "name": "stdout",
          "output_type": "stream",
          "text": [
            "[[99  1  3  7]\n",
            " [ 4  0  2  3]\n",
            " [ 0  0  6  9]]\n"
          ]
        }
      ],
      "source": [
        "print(x2)"
      ]
    },
    {
      "cell_type": "markdown",
      "metadata": {
        "id": "qGYOh55m8zg9"
      },
      "source": [
        "Some users may find this surprising, but it can be advantageous: for example, when working with large datasets, we can access and process pieces of these datasets without the need to copy the underlying data buffer."
      ]
    },
    {
      "cell_type": "markdown",
      "metadata": {
        "id": "bkr-cBBn8zg9"
      },
      "source": [
        "### Creating Copies of Arrays\n",
        "\n",
        "Despite the nice features of array views, it is sometimes useful to instead explicitly copy the data within an array or a subarray. This can be most easily done with the `copy` method:"
      ]
    },
    {
      "cell_type": "code",
      "execution_count": null,
      "metadata": {
        "jupyter": {
          "outputs_hidden": false
        },
        "id": "IIwuvUEF8zg9",
        "outputId": "03bc7946-18fb-42fa-ba4d-9025fbc63614"
      },
      "outputs": [
        {
          "name": "stdout",
          "output_type": "stream",
          "text": [
            "[[99  1]\n",
            " [ 4  0]]\n"
          ]
        }
      ],
      "source": [
        "x2_sub_copy = x2[:2, :2].copy()\n",
        "print(x2_sub_copy)"
      ]
    },
    {
      "cell_type": "markdown",
      "metadata": {
        "id": "JFVTnQ998zg-"
      },
      "source": [
        "If we now modify this subarray, the original array is not touched:"
      ]
    },
    {
      "cell_type": "code",
      "execution_count": null,
      "metadata": {
        "jupyter": {
          "outputs_hidden": false
        },
        "id": "9CfuivoK8zg-",
        "outputId": "2f42028e-63c3-463c-9e75-24ee60b787b6"
      },
      "outputs": [
        {
          "name": "stdout",
          "output_type": "stream",
          "text": [
            "[[42  1]\n",
            " [ 4  0]]\n"
          ]
        }
      ],
      "source": [
        "x2_sub_copy[0, 0] = 42\n",
        "print(x2_sub_copy)"
      ]
    },
    {
      "cell_type": "code",
      "execution_count": null,
      "metadata": {
        "jupyter": {
          "outputs_hidden": false
        },
        "id": "2wNRkEJW8zg_",
        "outputId": "5fe45062-b1f7-46aa-a08f-6f68e2c2f05b"
      },
      "outputs": [
        {
          "name": "stdout",
          "output_type": "stream",
          "text": [
            "[[99  1  3  7]\n",
            " [ 4  0  2  3]\n",
            " [ 0  0  6  9]]\n"
          ]
        }
      ],
      "source": [
        "print(x2)"
      ]
    },
    {
      "cell_type": "markdown",
      "metadata": {
        "id": "LybOno2N8zg_"
      },
      "source": [
        "## Reshaping of Arrays\n",
        "\n",
        "Another useful type of operation is reshaping of arrays, which can be done with the `reshape` method.\n",
        "For example, if you want to put the numbers 1 through 9 in a $3 \\times 3$ grid, you can do the following:"
      ]
    },
    {
      "cell_type": "code",
      "execution_count": null,
      "metadata": {
        "jupyter": {
          "outputs_hidden": false
        },
        "id": "7ekSMh5d8zg_",
        "outputId": "b5f0907b-d07e-4932-f6cb-b120fd811c0e"
      },
      "outputs": [
        {
          "name": "stdout",
          "output_type": "stream",
          "text": [
            "[[1 2 3]\n",
            " [4 5 6]\n",
            " [7 8 9]]\n"
          ]
        }
      ],
      "source": [
        "grid = np.arange(1, 10).reshape(3, 3)\n",
        "print(grid)"
      ]
    },
    {
      "cell_type": "markdown",
      "metadata": {
        "id": "hmGF0NM58zg_"
      },
      "source": [
        "Note that for this to work, the size of the initial array must match the size of the reshaped array, and in most cases the `reshape` method will return a no-copy view of the initial array."
      ]
    },
    {
      "cell_type": "markdown",
      "metadata": {
        "id": "jG4R9Ej78zhA"
      },
      "source": [
        "A common reshaping operation is converting a one-dimensional array into a two-dimensional row or column matrix:"
      ]
    },
    {
      "cell_type": "code",
      "execution_count": null,
      "metadata": {
        "jupyter": {
          "outputs_hidden": false
        },
        "id": "8m7Q9s938zhA",
        "outputId": "d57ea743-497d-4655-a76c-884c89563ece"
      },
      "outputs": [
        {
          "data": {
            "text/plain": [
              "array([[1, 2, 3]])"
            ]
          },
          "execution_count": 37,
          "metadata": {},
          "output_type": "execute_result"
        }
      ],
      "source": [
        "x = np.array([1, 2, 3])\n",
        "x.reshape((1, 3))  # row vector via reshape"
      ]
    },
    {
      "cell_type": "code",
      "execution_count": null,
      "metadata": {
        "id": "7kKAWVIL8zhA",
        "outputId": "f91a949b-f8fb-44b2-ead7-6e241d0a3135"
      },
      "outputs": [
        {
          "data": {
            "text/plain": [
              "array([[1],\n",
              "       [2],\n",
              "       [3]])"
            ]
          },
          "execution_count": 38,
          "metadata": {},
          "output_type": "execute_result"
        }
      ],
      "source": [
        "x.reshape((3, 1))  # column vector via reshape"
      ]
    },
    {
      "cell_type": "markdown",
      "metadata": {
        "id": "K-JY7Gkw8zhB"
      },
      "source": [
        "A convenient shorthand for this is to use `np.newaxis` in the slicing syntax:"
      ]
    },
    {
      "cell_type": "code",
      "execution_count": null,
      "metadata": {
        "jupyter": {
          "outputs_hidden": false
        },
        "id": "EJxpm93b8zhB",
        "outputId": "8bd20c78-bf3b-44d4-aed7-c1764785309e"
      },
      "outputs": [
        {
          "data": {
            "text/plain": [
              "array([[1, 2, 3]])"
            ]
          },
          "execution_count": 39,
          "metadata": {},
          "output_type": "execute_result"
        }
      ],
      "source": [
        "x[np.newaxis, :]  # row vector via newaxis"
      ]
    },
    {
      "cell_type": "code",
      "execution_count": null,
      "metadata": {
        "jupyter": {
          "outputs_hidden": false
        },
        "id": "79BgqVbc8zhB",
        "outputId": "2312265f-0336-4b39-b5e1-121f1ffebda3"
      },
      "outputs": [
        {
          "data": {
            "text/plain": [
              "array([[1],\n",
              "       [2],\n",
              "       [3]])"
            ]
          },
          "execution_count": 40,
          "metadata": {},
          "output_type": "execute_result"
        }
      ],
      "source": [
        "x[:, np.newaxis]  # column vector via newaxis"
      ]
    },
    {
      "cell_type": "markdown",
      "metadata": {
        "id": "VG6kpQhm8zhC"
      },
      "source": [
        "This is a pattern that we will utilize often throughout the remainder of the book."
      ]
    },
    {
      "cell_type": "markdown",
      "metadata": {
        "id": "YV7yY6mt8zhC"
      },
      "source": [
        "## Array Concatenation and Splitting\n",
        "\n",
        "All of the preceding routines worked on single arrays. NumPy also provides tools to combine multiple arrays into one, and to conversely split a single array into multiple arrays."
      ]
    },
    {
      "cell_type": "markdown",
      "metadata": {
        "id": "MaY9ZAdm8zhC"
      },
      "source": [
        "### Concatenation of Arrays\n",
        "\n",
        "Concatenation, or joining of two arrays in NumPy, is primarily accomplished using the routines `np.concatenate`, `np.vstack`, and `np.hstack`.\n",
        "`np.concatenate` takes a tuple or list of arrays as its first argument, as you can see here:"
      ]
    },
    {
      "cell_type": "code",
      "execution_count": null,
      "metadata": {
        "jupyter": {
          "outputs_hidden": false
        },
        "id": "AUc7JueG8zhD",
        "outputId": "27dd583b-0196-4e11-fad9-480a9487601b"
      },
      "outputs": [
        {
          "data": {
            "text/plain": [
              "array([1, 2, 3, 3, 2, 1])"
            ]
          },
          "execution_count": 41,
          "metadata": {},
          "output_type": "execute_result"
        }
      ],
      "source": [
        "x = np.array([1, 2, 3])\n",
        "y = np.array([3, 2, 1])\n",
        "np.concatenate([x, y])"
      ]
    },
    {
      "cell_type": "markdown",
      "metadata": {
        "id": "9tiJ5ctK8zhD"
      },
      "source": [
        "You can also concatenate more than two arrays at once:"
      ]
    },
    {
      "cell_type": "code",
      "execution_count": null,
      "metadata": {
        "jupyter": {
          "outputs_hidden": false
        },
        "id": "BB8RqN8Y8zhD",
        "outputId": "6fe7c60d-5113-4af8-c52f-cf38d04b9c97"
      },
      "outputs": [
        {
          "name": "stdout",
          "output_type": "stream",
          "text": [
            "[ 1  2  3  3  2  1 99 99 99]\n"
          ]
        }
      ],
      "source": [
        "z = np.array([99, 99, 99])\n",
        "print(np.concatenate([x, y, z]))"
      ]
    },
    {
      "cell_type": "markdown",
      "metadata": {
        "id": "s7syMd878zhE"
      },
      "source": [
        "And it can be used for two-dimensional arrays:"
      ]
    },
    {
      "cell_type": "code",
      "execution_count": null,
      "metadata": {
        "jupyter": {
          "outputs_hidden": false
        },
        "id": "KQn99J898zhE"
      },
      "outputs": [],
      "source": [
        "grid = np.array([[1, 2, 3],\n",
        "                 [4, 5, 6]])"
      ]
    },
    {
      "cell_type": "code",
      "execution_count": null,
      "metadata": {
        "jupyter": {
          "outputs_hidden": false
        },
        "id": "R-yty3f48zhE",
        "outputId": "f9c4d092-f8af-461f-bcaf-e9d3b786f94e"
      },
      "outputs": [
        {
          "data": {
            "text/plain": [
              "array([[1, 2, 3],\n",
              "       [4, 5, 6],\n",
              "       [1, 2, 3],\n",
              "       [4, 5, 6]])"
            ]
          },
          "execution_count": 44,
          "metadata": {},
          "output_type": "execute_result"
        }
      ],
      "source": [
        "# concatenate along the first axis\n",
        "np.concatenate([grid, grid])"
      ]
    },
    {
      "cell_type": "code",
      "execution_count": null,
      "metadata": {
        "jupyter": {
          "outputs_hidden": false
        },
        "id": "qfUC5tzz8zhE",
        "outputId": "b33aa444-5290-4b55-eb6a-dcfa6802ef0b"
      },
      "outputs": [
        {
          "data": {
            "text/plain": [
              "array([[1, 2, 3, 1, 2, 3],\n",
              "       [4, 5, 6, 4, 5, 6]])"
            ]
          },
          "execution_count": 45,
          "metadata": {},
          "output_type": "execute_result"
        }
      ],
      "source": [
        "# concatenate along the second axis (zero-indexed)\n",
        "np.concatenate([grid, grid], axis=1)"
      ]
    },
    {
      "cell_type": "markdown",
      "metadata": {
        "id": "fxfbzxq18zhF"
      },
      "source": [
        "For working with arrays of mixed dimensions, it can be clearer to use the `np.vstack` (vertical stack) and `np.hstack` (horizontal stack) functions:"
      ]
    },
    {
      "cell_type": "code",
      "execution_count": null,
      "metadata": {
        "jupyter": {
          "outputs_hidden": false
        },
        "id": "xSYrrqV58zhF",
        "outputId": "678d6cb7-ca1c-469a-9f69-70620c77fd7a"
      },
      "outputs": [
        {
          "data": {
            "text/plain": [
              "array([[1, 2, 3],\n",
              "       [1, 2, 3],\n",
              "       [4, 5, 6]])"
            ]
          },
          "execution_count": 46,
          "metadata": {},
          "output_type": "execute_result"
        }
      ],
      "source": [
        "# vertically stack the arrays\n",
        "np.vstack([x, grid])"
      ]
    },
    {
      "cell_type": "code",
      "execution_count": null,
      "metadata": {
        "jupyter": {
          "outputs_hidden": false
        },
        "id": "4mAfo4Fx8zhG",
        "outputId": "f75f842a-ebe5-4c12-a175-c6942177e5c3"
      },
      "outputs": [
        {
          "data": {
            "text/plain": [
              "array([[ 1,  2,  3, 99],\n",
              "       [ 4,  5,  6, 99]])"
            ]
          },
          "execution_count": 47,
          "metadata": {},
          "output_type": "execute_result"
        }
      ],
      "source": [
        "# horizontally stack the arrays\n",
        "y = np.array([[99],\n",
        "              [99]])\n",
        "np.hstack([grid, y])"
      ]
    },
    {
      "cell_type": "markdown",
      "metadata": {
        "id": "JHEcg8iU8zhG"
      },
      "source": [
        "Similarly, for higher-dimensional arrays, `np.dstack` will stack arrays along the third axis."
      ]
    },
    {
      "cell_type": "markdown",
      "metadata": {
        "id": "ag5TFtBP8zhG"
      },
      "source": [
        "### Splitting of Arrays\n",
        "\n",
        "The opposite of concatenation is splitting, which is implemented by the functions `np.split`, `np.hsplit`, and `np.vsplit`.  For each of these, we can pass a list of indices giving the split points:"
      ]
    },
    {
      "cell_type": "code",
      "execution_count": null,
      "metadata": {
        "jupyter": {
          "outputs_hidden": false
        },
        "id": "EQtlFRK38zhG",
        "outputId": "f825276d-c16e-4dbb-d5a6-2dd1b963fe61"
      },
      "outputs": [
        {
          "name": "stdout",
          "output_type": "stream",
          "text": [
            "[1 2 3] [99 99] [3 2 1]\n"
          ]
        }
      ],
      "source": [
        "x = [1, 2, 3, 99, 99, 3, 2, 1]\n",
        "x1, x2, x3 = np.split(x, [3, 5])\n",
        "print(x1, x2, x3)"
      ]
    },
    {
      "cell_type": "markdown",
      "metadata": {
        "id": "Yj5ZZnrk8zhH"
      },
      "source": [
        "Notice that *N* split points leads to *N* + 1 subarrays.\n",
        "The related functions `np.hsplit` and `np.vsplit` are similar:"
      ]
    },
    {
      "cell_type": "code",
      "execution_count": null,
      "metadata": {
        "jupyter": {
          "outputs_hidden": false
        },
        "id": "mpeXRMCU8zhH",
        "outputId": "476276d6-4b10-4ead-b0c0-3e438984a30d"
      },
      "outputs": [
        {
          "data": {
            "text/plain": [
              "array([[ 0,  1,  2,  3],\n",
              "       [ 4,  5,  6,  7],\n",
              "       [ 8,  9, 10, 11],\n",
              "       [12, 13, 14, 15]])"
            ]
          },
          "execution_count": 49,
          "metadata": {},
          "output_type": "execute_result"
        }
      ],
      "source": [
        "grid = np.arange(16).reshape((4, 4))\n",
        "grid"
      ]
    },
    {
      "cell_type": "code",
      "execution_count": null,
      "metadata": {
        "jupyter": {
          "outputs_hidden": false
        },
        "id": "l4LVaW208zhH",
        "outputId": "4b14890d-0649-41a7-f1e2-cf71c5e211e4"
      },
      "outputs": [
        {
          "name": "stdout",
          "output_type": "stream",
          "text": [
            "[[0 1 2 3]\n",
            " [4 5 6 7]]\n",
            "[[ 8  9 10 11]\n",
            " [12 13 14 15]]\n"
          ]
        }
      ],
      "source": [
        "upper, lower = np.vsplit(grid, [2])\n",
        "print(upper)\n",
        "print(lower)"
      ]
    },
    {
      "cell_type": "code",
      "execution_count": null,
      "metadata": {
        "jupyter": {
          "outputs_hidden": false
        },
        "id": "GalT1vuH8zhI",
        "outputId": "84c817da-e8ad-4a80-c8df-37c387d2c244"
      },
      "outputs": [
        {
          "name": "stdout",
          "output_type": "stream",
          "text": [
            "[[ 0  1]\n",
            " [ 4  5]\n",
            " [ 8  9]\n",
            " [12 13]]\n",
            "[[ 2  3]\n",
            " [ 6  7]\n",
            " [10 11]\n",
            " [14 15]]\n"
          ]
        }
      ],
      "source": [
        "left, right = np.hsplit(grid, [2])\n",
        "print(left)\n",
        "print(right)"
      ]
    },
    {
      "cell_type": "markdown",
      "metadata": {
        "id": "OlpqPjY58zhI"
      },
      "source": [
        "Similarly, for higher-dimensional arrays, `np.dsplit` will split arrays along the third axis."
      ]
    }
  ],
  "metadata": {
    "anaconda-cloud": {},
    "jupytext": {
      "formats": "ipynb,md"
    },
    "kernelspec": {
      "display_name": "Python 3",
      "language": "python",
      "name": "python3"
    },
    "language_info": {
      "codemirror_mode": {
        "name": "ipython",
        "version": 3
      },
      "file_extension": ".py",
      "mimetype": "text/x-python",
      "name": "python",
      "nbconvert_exporter": "python",
      "pygments_lexer": "ipython3",
      "version": "3.9.2"
    },
    "colab": {
      "provenance": []
    }
  },
  "nbformat": 4,
  "nbformat_minor": 0
}