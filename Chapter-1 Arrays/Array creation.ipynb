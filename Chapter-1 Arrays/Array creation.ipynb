{
 "cells": [
  {
   "cell_type": "markdown",
   "id": "83577aab-6b6c-4aed-a9bd-6996975df770",
   "metadata": {},
   "source": [
    "### Creating Arrays\n",
    "\n",
    "- We can create a NumPy array (a.k.a. the mighty ndarray) by passing a python list to it and using ` np.array()`.\n",
    "- There are 6 general mechanisms for creating arrays:\n",
    "  \n",
    "<ol class=\"arabic simple\">\r\n",
    "<li><p>Conversion from other Python structures (i.e. lists and tuples)</p></li>\r\n",
    "<li><p>Intrinsic NumPy array creation functions (e.g. arange, ones, zeros,\r\n",
    "etc.)</p></li>\r\n",
    "<li><p>Replicating, joining, or mutating existing arrays</p></li>\r\n",
    "<li><p>Reading arrays from disk, either from standard or custom formats</p></li>\r\n",
    "<li><p>Creating arrays from raw bytes through the use of strings or buffers</p></li>\r\n",
    "<li><p>Use of special library functions (e.g., random)<p></li\n",
    "\n",
    ">\r\n",
    "</ol>\n",
    "- In this case, python creates the array we can see on the right here:"
   ]
  },
  {
   "cell_type": "markdown",
   "id": "e0b8e4c1-a913-4f2c-b4cd-35cf369ce602",
   "metadata": {},
   "source": [
    "#### Conversion from other Python Data structures\n",
    "\n",
    "- Convert list to Array\n",
    "- Convert tuple to array\n",
    "- Convert set to array\n",
    "- Convert dict to array"
   ]
  },
  {
   "cell_type": "code",
   "execution_count": 2,
   "id": "8321da03-7454-4ac1-9d06-5c1b803e130a",
   "metadata": {},
   "outputs": [],
   "source": [
    "import numpy as np"
   ]
  },
  {
   "cell_type": "code",
   "execution_count": 3,
   "id": "caf66eaf-1e2c-4732-b518-8cc9bc226a31",
   "metadata": {},
   "outputs": [],
   "source": [
    "li = [1, 2, 3, 4]"
   ]
  },
  {
   "cell_type": "code",
   "execution_count": 4,
   "id": "59bef0c8-5f52-43d4-b273-f91219e96df1",
   "metadata": {},
   "outputs": [
    {
     "data": {
      "text/plain": [
       "[1, 2, 3, 4]"
      ]
     },
     "execution_count": 4,
     "metadata": {},
     "output_type": "execute_result"
    }
   ],
   "source": [
    "li"
   ]
  },
  {
   "cell_type": "code",
   "execution_count": 5,
   "id": "6a2e2715-4a91-4e36-be94-51fb3a780a93",
   "metadata": {},
   "outputs": [
    {
     "data": {
      "text/plain": [
       "list"
      ]
     },
     "execution_count": 5,
     "metadata": {},
     "output_type": "execute_result"
    }
   ],
   "source": [
    "type(li)"
   ]
  },
  {
   "cell_type": "markdown",
   "id": "4a2d33a4-3a03-4fa3-9ae1-f369db29a967",
   "metadata": {},
   "source": [
    "We can create a NumPy array (a.k.a. the mighty ndarray) by passing a Python list to it and using ` np.array()`. In this case, python creates the array we can see on the right here:\n",
    "\n",
    "\n",
    "\n",
    "![](images/create-numpy-array-1.png)"
   ]
  },
  {
   "cell_type": "code",
   "execution_count": 6,
   "id": "d7bd59c7-a600-4ec6-8bd5-76dfeae25191",
   "metadata": {},
   "outputs": [
    {
     "data": {
      "text/plain": [
       "array([1, 2, 3, 4])"
      ]
     },
     "execution_count": 6,
     "metadata": {},
     "output_type": "execute_result"
    }
   ],
   "source": [
    "li_array = np.array(li)  # a list of numbers will create a 1D array,\n",
    "li_array"
   ]
  },
  {
   "cell_type": "code",
   "execution_count": 7,
   "id": "c640e128-7fd6-4e45-86c4-6a6f2c75d6ec",
   "metadata": {},
   "outputs": [
    {
     "data": {
      "text/plain": [
       "numpy.ndarray"
      ]
     },
     "execution_count": 7,
     "metadata": {},
     "output_type": "execute_result"
    }
   ],
   "source": [
    "type(li_array)"
   ]
  },
  {
   "cell_type": "code",
   "execution_count": 8,
   "id": "7d7120a0-8bf2-4e92-982e-01c3f24f3941",
   "metadata": {},
   "outputs": [
    {
     "data": {
      "text/plain": [
       "(1, 2, 3, 4)"
      ]
     },
     "execution_count": 8,
     "metadata": {},
     "output_type": "execute_result"
    }
   ],
   "source": [
    "tu = tuple(li)\n",
    "tu"
   ]
  },
  {
   "cell_type": "code",
   "execution_count": 9,
   "id": "999c285a-94dd-441c-9c3f-56d8de19c075",
   "metadata": {},
   "outputs": [
    {
     "data": {
      "text/plain": [
       "tuple"
      ]
     },
     "execution_count": 9,
     "metadata": {},
     "output_type": "execute_result"
    }
   ],
   "source": [
    "type(tu)"
   ]
  },
  {
   "cell_type": "code",
   "execution_count": 10,
   "id": "0210c031-29bd-4758-bea7-61f2372edca2",
   "metadata": {},
   "outputs": [
    {
     "data": {
      "text/plain": [
       "array([1, 2, 3, 4])"
      ]
     },
     "execution_count": 10,
     "metadata": {},
     "output_type": "execute_result"
    }
   ],
   "source": [
    "tu_array = np.array(tu)\n",
    "tu_array"
   ]
  },
  {
   "cell_type": "code",
   "execution_count": 11,
   "id": "848c5feb-5c75-45c2-b8bc-e734735b6a8b",
   "metadata": {},
   "outputs": [
    {
     "data": {
      "text/plain": [
       "numpy.ndarray"
      ]
     },
     "execution_count": 11,
     "metadata": {},
     "output_type": "execute_result"
    }
   ],
   "source": [
    "type(tu_array)"
   ]
  },
  {
   "cell_type": "code",
   "execution_count": 12,
   "id": "7c7744d8-6164-4c16-a80f-fa3ba988c832",
   "metadata": {},
   "outputs": [],
   "source": [
    "# Write the Python program to Convert set to array and Convert dict to array\n"
   ]
  },
  {
   "cell_type": "code",
   "execution_count": null,
   "id": "b5c0855b-6420-4535-a6c2-3e83d47c71af",
   "metadata": {},
   "outputs": [],
   "source": []
  },
  {
   "cell_type": "code",
   "execution_count": null,
   "id": "010db2f1-aba7-40f5-8d37-e5324d6dd339",
   "metadata": {},
   "outputs": [],
   "source": []
  },
  {
   "cell_type": "code",
   "execution_count": null,
   "id": "279b4ac6-b7f4-4c5e-aeee-3413861ecdff",
   "metadata": {},
   "outputs": [],
   "source": []
  },
  {
   "cell_type": "code",
   "execution_count": null,
   "id": "c79402af-9ba7-4557-bdaa-e0ddb26cd46b",
   "metadata": {},
   "outputs": [],
   "source": []
  },
  {
   "cell_type": "code",
   "execution_count": null,
   "id": "feefc4ba-e8c0-4046-8188-6bf7158aa55c",
   "metadata": {},
   "outputs": [],
   "source": []
  },
  {
   "cell_type": "code",
   "execution_count": null,
   "id": "0e5f7424-c87f-4b64-bf95-e0e49778755a",
   "metadata": {},
   "outputs": [],
   "source": []
  },
  {
   "cell_type": "code",
   "execution_count": null,
   "id": "88add4f4-2dae-446a-a368-26bc0b415d89",
   "metadata": {},
   "outputs": [],
   "source": []
  },
  {
   "cell_type": "code",
   "execution_count": null,
   "id": "92ae80d4-60f4-460a-8867-db1ddb1e9578",
   "metadata": {},
   "outputs": [],
   "source": []
  },
  {
   "cell_type": "code",
   "execution_count": null,
   "id": "84240711-e568-430a-8d5c-c13a13908ff9",
   "metadata": {},
   "outputs": [],
   "source": []
  },
  {
   "cell_type": "code",
   "execution_count": null,
   "id": "4ef77b59-b07a-460f-9b1f-fd8390f48a35",
   "metadata": {},
   "outputs": [],
   "source": []
  },
  {
   "cell_type": "code",
   "execution_count": null,
   "id": "51b3c625-6a76-4211-87b6-8e8f32db09f1",
   "metadata": {},
   "outputs": [],
   "source": []
  },
  {
   "cell_type": "markdown",
   "id": "a7da7352-9f13-4a0f-9601-ff503a6ea1d0",
   "metadata": {},
   "source": [
    "#### NumPy array creation\n",
    "\n",
    "- A list of numbers will create a 1D array\n",
    "- A list of lists will create a 2D array\n",
    "- 3D Arrays\n",
    "- ND Arrays"
   ]
  },
  {
   "cell_type": "code",
   "execution_count": 13,
   "id": "e8887336-166e-45bb-b3b0-4e47542f7b31",
   "metadata": {},
   "outputs": [],
   "source": [
    "import numpy as np"
   ]
  },
  {
   "cell_type": "code",
   "execution_count": 14,
   "id": "75fc83c3-f407-41b9-b23f-5bfcf9c1baea",
   "metadata": {},
   "outputs": [
    {
     "data": {
      "text/plain": [
       "array([], dtype=float64)"
      ]
     },
     "execution_count": 14,
     "metadata": {},
     "output_type": "execute_result"
    }
   ],
   "source": [
    "# Way to Create an empty array empty Vector\n",
    "array = np.array([])\n",
    "array"
   ]
  },
  {
   "cell_type": "code",
   "execution_count": 15,
   "id": "060d0e4a-8f67-4a56-86df-2101d6adeb54",
   "metadata": {},
   "outputs": [
    {
     "data": {
      "text/plain": [
       "(0,)"
      ]
     },
     "execution_count": 15,
     "metadata": {},
     "output_type": "execute_result"
    }
   ],
   "source": [
    "array.shape"
   ]
  },
  {
   "cell_type": "code",
   "execution_count": 16,
   "id": "aac85f77-6166-469a-aa65-d7fddd7527f6",
   "metadata": {},
   "outputs": [
    {
     "data": {
      "text/plain": [
       "0"
      ]
     },
     "execution_count": 16,
     "metadata": {},
     "output_type": "execute_result"
    }
   ],
   "source": [
    "array.size"
   ]
  },
  {
   "cell_type": "code",
   "execution_count": 17,
   "id": "d33a76f3-ab3f-4feb-b51b-b78abe6a0b41",
   "metadata": {},
   "outputs": [
    {
     "data": {
      "text/plain": [
       "1"
      ]
     },
     "execution_count": 17,
     "metadata": {},
     "output_type": "execute_result"
    }
   ],
   "source": [
    "array.ndim"
   ]
  },
  {
   "cell_type": "code",
   "execution_count": 18,
   "id": "efc8b7f9-ef86-4705-91c5-794802514ecd",
   "metadata": {},
   "outputs": [
    {
     "data": {
      "text/plain": [
       "dtype('float64')"
      ]
     },
     "execution_count": 18,
     "metadata": {},
     "output_type": "execute_result"
    }
   ],
   "source": [
    "array.dtype"
   ]
  },
  {
   "cell_type": "code",
   "execution_count": 19,
   "id": "c5347662-0553-4108-bb6c-6a8ee89f72be",
   "metadata": {},
   "outputs": [
    {
     "data": {
      "text/plain": [
       "array([1., 2., 3.])"
      ]
     },
     "execution_count": 19,
     "metadata": {},
     "output_type": "execute_result"
    }
   ],
   "source": [
    "a = np.array([1,2,3],dtype=np.float64) # Horizontal Vector\n",
    "a"
   ]
  },
  {
   "cell_type": "code",
   "execution_count": 20,
   "id": "cc8d5a60-fcbe-4056-91e6-5ba361fcaf32",
   "metadata": {},
   "outputs": [
    {
     "data": {
      "text/plain": [
       "(3,)"
      ]
     },
     "execution_count": 20,
     "metadata": {},
     "output_type": "execute_result"
    }
   ],
   "source": [
    "a.shape"
   ]
  },
  {
   "cell_type": "code",
   "execution_count": 21,
   "id": "f22ab48d-de82-436e-b8fc-b3592a46bfda",
   "metadata": {},
   "outputs": [
    {
     "data": {
      "text/plain": [
       "1"
      ]
     },
     "execution_count": 21,
     "metadata": {},
     "output_type": "execute_result"
    }
   ],
   "source": [
    "a.ndim"
   ]
  },
  {
   "cell_type": "code",
   "execution_count": 22,
   "id": "4b23bf1e-04a0-49f0-bccd-9c44cbc47d00",
   "metadata": {},
   "outputs": [
    {
     "data": {
      "text/plain": [
       "0"
      ]
     },
     "execution_count": 22,
     "metadata": {},
     "output_type": "execute_result"
    }
   ],
   "source": [
    "array.size"
   ]
  },
  {
   "cell_type": "code",
   "execution_count": 23,
   "id": "912202e2-5b82-4927-8db0-1d1f5cd20c25",
   "metadata": {},
   "outputs": [
    {
     "data": {
      "text/plain": [
       "dtype('float64')"
      ]
     },
     "execution_count": 23,
     "metadata": {},
     "output_type": "execute_result"
    }
   ],
   "source": [
    "array.dtype"
   ]
  },
  {
   "cell_type": "code",
   "execution_count": null,
   "id": "e2e795d8-c6f8-48ab-9adf-9e99eb07d377",
   "metadata": {},
   "outputs": [],
   "source": []
  },
  {
   "cell_type": "code",
   "execution_count": 24,
   "id": "92ef7b6d-f5eb-473b-aa78-5ef4805d0a68",
   "metadata": {},
   "outputs": [
    {
     "data": {
      "text/plain": [
       "array([[1],\n",
       "       [2],\n",
       "       [3]])"
      ]
     },
     "execution_count": 24,
     "metadata": {},
     "output_type": "execute_result"
    }
   ],
   "source": [
    "va = np.array([[1],[2],[3]])\n",
    "va"
   ]
  },
  {
   "cell_type": "code",
   "execution_count": 25,
   "id": "7a1a12f1-ff79-4652-9efe-9abaa50382f6",
   "metadata": {},
   "outputs": [
    {
     "data": {
      "text/plain": [
       "(3, 1)"
      ]
     },
     "execution_count": 25,
     "metadata": {},
     "output_type": "execute_result"
    }
   ],
   "source": [
    "va.shape"
   ]
  },
  {
   "cell_type": "markdown",
   "id": "4388d48e-a15f-4358-aef0-3a56b97295a5",
   "metadata": {},
   "source": [
    "\r\n",
    "</div>\r\n",
    "<section id=\"from-shape-or-value\">\r\n",
    "<h2>From shape or value<a class=\"headerlink\" href=\"#from-shape-or-value\" title=\"Permalink to this heading\">#</a></h2>\r\n",
    "<table class=\"autosummary longtable table autosummary\">\r\n",
    "<tbody>\r\n",
    "<tr class=\"row-odd\"><td><p><a class=\"reference internal\" href=\"generated/numpy.empty.html#numpy.empty\" title=\"numpy.empty\"><code class=\"xref py py-obj docutils literal notranslate\"><span class=\"pre\">empty</span></code></a>(shape[,&nbsp;dtype,&nbsp;order,&nbsp;like])</p></td>\r\n",
    "<td><p>Return a new array of given shape and type, without initializing entries.</p></td>\r\n",
    "</tr>\r\n",
    "<tr class=\"row-even\"><td><p><a class=\"reference internal\" href=\"generated/numpy.empty_like.html#numpy.empty_like\" title=\"numpy.empty_like\"><code class=\"xref py py-obj docutils literal notranslate\"><span class=\"pre\">empty_like</span></code></a>(prototype[,&nbsp;dtype,&nbsp;order,&nbsp;subok,&nbsp;...])</p></td>\r\n",
    "<td><p>Return a new array with the same shape and type as a given array.</p></td>\r\n",
    "</tr>\r\n",
    "<tr class=\"row-odd\"><td><p><a class=\"reference internal\" href=\"generated/numpy.eye.html#numpy.eye\" title=\"numpy.eye\"><code class=\"xref py py-obj docutils literal notranslate\"><span class=\"pre\">eye</span></code></a>(N[,&nbsp;M,&nbsp;k,&nbsp;dtype,&nbsp;order,&nbsp;like])</p></td>\r\n",
    "<td><p>Return a 2-D array with ones on the diagonal and zeros elsewhere.</p></td>\r\n",
    "</tr>\r\n",
    "<tr class=\"row-even\"><td><p><a class=\"reference internal\" href=\"generated/numpy.identity.html#numpy.identity\" title=\"numpy.identity\"><code class=\"xref py py-obj docutils literal notranslate\"><span class=\"pre\">identity</span></code></a>(n[,&nbsp;dtype,&nbsp;like])</p></td>\r\n",
    "<td><p>Return the identity array.</p></td>\r\n",
    "</tr>\r\n",
    "<tr class=\"row-odd\"><td><p><a class=\"reference internal\" href=\"generated/numpy.ones.html#numpy.ones\" title=\"numpy.ones\"><code class=\"xref py py-obj docutils literal notranslate\"><span class=\"pre\">ones</span></code></a>(shape[,&nbsp;dtype,&nbsp;order,&nbsp;like])</p></td>\r\n",
    "<td><p>Return a new array of given shape and type, filled with ones.</p></td>\r\n",
    "</tr>\r\n",
    "<tr class=\"row-even\"><td><p><a class=\"reference internal\" href=\"generated/numpy.ones_like.html#numpy.ones_like\" title=\"numpy.ones_like\"><code class=\"xref py py-obj docutils literal notranslate\"><span class=\"pre\">ones_like</span></code></a>(a[,&nbsp;dtype,&nbsp;order,&nbsp;subok,&nbsp;shape])</p></td>\r\n",
    "<td><p>Return an array of ones with the same shape and type as a given array.</p></td>\r\n",
    "</tr>\r\n",
    "<tr class=\"row-odd\"><td><p><a class=\"reference internal\" href=\"generated/numpy.zeros.html#numpy.zeros\" title=\"numpy.zeros\"><code class=\"xref py py-obj docutils literal notranslate\"><span class=\"pre\">zeros</span></code></a>(shape[,&nbsp;dtype,&nbsp;order,&nbsp;like])</p></td>\r\n",
    "<td><p>Return a new array of given shape and type, filled with zeros.</p></td>\r\n",
    "</tr>\r\n",
    "<tr class=\"row-even\"><td><p><a class=\"reference internal\" href=\"generated/numpy.zeros_like.html#numpy.zeros_like\" title=\"numpy.zeros_like\"><code class=\"xref py py-obj docutils literal notranslate\"><span class=\"pre\">zeros_like</span></code></a>(a[,&nbsp;dtype,&nbsp;order,&nbsp;subok,&nbsp;shape])</p></td>\r\n",
    "<td><p>Return an array of zeros with the same shape and type as a given array.</p></td>\r\n",
    "</tr>\r\n",
    "<tr class=\"row-odd\"><td><p><a class=\"reference internal\" href=\"generated/numpy.full.html#numpy.full\" title=\"numpy.full\"><code class=\"xref py py-obj docutils literal notranslate\"><span class=\"pre\">full</span></code></a>(shape,&nbsp;fill_value[,&nbsp;dtype,&nbsp;order,&nbsp;like])</p></td>\r\n",
    "<td><p>Return a new array of given shape and type, filled with <em class=\"xref py py-obj\">fill_value</em>.</p></td>\r\n",
    "</tr>\r\n",
    "<tr class=\"row-even\"><td><p><a class=\"reference internal\" href=\"generated/numpy.full_like.html#numpy.full_like\" title=\"numpy.full_like\"><code class=\"xref py py-obj docutils literal notranslate\"><span class=\"pre\">full_like</span></code></a>(a,&nbsp;fill_value[,&nbsp;dtype,&nbsp;order,&nbsp;...])</p></td>\r\n",
    "<td><p>Return a full array with the same shape and type as a given array.</-next-info\">\r\n",
    "      <p class=\"prev-next-subtitle\">next</p>\r\n",
    "      <p class=\"prev-next-title\">numpy.empty</p>\r\n",
    "  </div>\r\n",
    "  <i class=\"fas fa-angle-right\"></i>\r\n",
    "  </a>\r\n",
    "</div>\r\n",
    "              </footer>\r\n",
    "              \r\n",
    "          </div>"
   ]
  },
  {
   "cell_type": "code",
   "execution_count": 26,
   "id": "6c3f05d0-7f16-4a6a-8d21-ccfcce82cf58",
   "metadata": {},
   "outputs": [
    {
     "data": {
      "text/plain": [
       "array([[0., 0., 0.],\n",
       "       [0., 0., 0.]])"
      ]
     },
     "execution_count": 26,
     "metadata": {},
     "output_type": "execute_result"
    }
   ],
   "source": [
    "empty_array = np.empty([2,3])\n",
    "empty_array"
   ]
  },
  {
   "cell_type": "code",
   "execution_count": 27,
   "id": "ab3e6bfa-2831-44b5-82c3-17bfabeda20a",
   "metadata": {},
   "outputs": [
    {
     "data": {
      "text/plain": [
       "(2, 3)"
      ]
     },
     "execution_count": 27,
     "metadata": {},
     "output_type": "execute_result"
    }
   ],
   "source": [
    "empty_array.shape"
   ]
  },
  {
   "cell_type": "code",
   "execution_count": 28,
   "id": "baab16b8-1360-494f-a273-9343b9c8f0d3",
   "metadata": {},
   "outputs": [
    {
     "data": {
      "text/plain": [
       "6"
      ]
     },
     "execution_count": 28,
     "metadata": {},
     "output_type": "execute_result"
    }
   ],
   "source": [
    "empty_array.size"
   ]
  },
  {
   "cell_type": "code",
   "execution_count": 29,
   "id": "0f76a3cb-bd44-4179-8447-1b37d201086e",
   "metadata": {},
   "outputs": [
    {
     "data": {
      "text/plain": [
       "2"
      ]
     },
     "execution_count": 29,
     "metadata": {},
     "output_type": "execute_result"
    }
   ],
   "source": [
    "empty_array.ndim # Rows and Columns"
   ]
  },
  {
   "cell_type": "code",
   "execution_count": 30,
   "id": "e19c30ac-f05e-4033-931c-6e5723eaa0cb",
   "metadata": {},
   "outputs": [
    {
     "data": {
      "text/plain": [
       "array([1634492784,  170816370])"
      ]
     },
     "execution_count": 30,
     "metadata": {},
     "output_type": "execute_result"
    }
   ],
   "source": [
    "empty_like = np.empty_like([5,6])\n",
    "empty_like"
   ]
  },
  {
   "cell_type": "code",
   "execution_count": 31,
   "id": "64ce02e5-df27-4ab0-a51a-d7e8bb330208",
   "metadata": {},
   "outputs": [
    {
     "data": {
      "text/plain": [
       "([1, 2, 3], [4, 5, 6])"
      ]
     },
     "execution_count": 31,
     "metadata": {},
     "output_type": "execute_result"
    }
   ],
   "source": [
    "a = ([1,2,3], [4,5,6]) \n",
    "a"
   ]
  },
  {
   "cell_type": "code",
   "execution_count": 32,
   "id": "9672d7cc-0871-4fb7-bd3f-2300cc1a3ec2",
   "metadata": {},
   "outputs": [
    {
     "data": {
      "text/plain": [
       "tuple"
      ]
     },
     "execution_count": 32,
     "metadata": {},
     "output_type": "execute_result"
    }
   ],
   "source": [
    "type(a)"
   ]
  },
  {
   "cell_type": "code",
   "execution_count": 33,
   "id": "9c729e5f-b00e-4a8a-a496-988e0b1bd72e",
   "metadata": {},
   "outputs": [
    {
     "data": {
      "text/plain": [
       "array([[         0, 1072693248,          0],\n",
       "       [1073741824,          0, 1074266112]])"
      ]
     },
     "execution_count": 33,
     "metadata": {},
     "output_type": "execute_result"
    }
   ],
   "source": [
    "ea = np.empty_like(a)\n",
    "ea   # uninitialized"
   ]
  },
  {
   "cell_type": "code",
   "execution_count": 34,
   "id": "2834fe96-ba67-41e7-867b-45d3af5a6569",
   "metadata": {},
   "outputs": [
    {
     "data": {
      "text/plain": [
       "(2, 3)"
      ]
     },
     "execution_count": 34,
     "metadata": {},
     "output_type": "execute_result"
    }
   ],
   "source": [
    "ea.shape"
   ]
  },
  {
   "cell_type": "code",
   "execution_count": 35,
   "id": "67bf9c88-80ac-49a8-b7e4-993e4cf08fdd",
   "metadata": {},
   "outputs": [
    {
     "data": {
      "text/plain": [
       "array([[1., 0.],\n",
       "       [0., 1.]])"
      ]
     },
     "execution_count": 35,
     "metadata": {},
     "output_type": "execute_result"
    }
   ],
   "source": [
    "np.eye(2)"
   ]
  },
  {
   "cell_type": "code",
   "execution_count": 36,
   "id": "3f37feaa-2cf1-47c1-933a-fb640d708021",
   "metadata": {},
   "outputs": [
    {
     "data": {
      "text/plain": [
       "array([[1., 0., 0.],\n",
       "       [0., 1., 0.],\n",
       "       [0., 0., 1.]])"
      ]
     },
     "execution_count": 36,
     "metadata": {},
     "output_type": "execute_result"
    }
   ],
   "source": [
    "np.eye(3)"
   ]
  },
  {
   "cell_type": "code",
   "execution_count": 37,
   "id": "80c76acd-4bb8-45b4-8e49-2951394738a7",
   "metadata": {},
   "outputs": [
    {
     "data": {
      "text/plain": [
       "array([[0., 1., 0.],\n",
       "       [0., 0., 1.],\n",
       "       [0., 0., 0.]])"
      ]
     },
     "execution_count": 37,
     "metadata": {},
     "output_type": "execute_result"
    }
   ],
   "source": [
    "np.eye(3,k=1)"
   ]
  },
  {
   "cell_type": "code",
   "execution_count": 38,
   "id": "4b5c2d76-705c-47e7-9f1d-e8e9daaec06d",
   "metadata": {},
   "outputs": [
    {
     "data": {
      "text/plain": [
       "array([[1., 0., 0.],\n",
       "       [0., 1., 0.],\n",
       "       [0., 0., 1.]])"
      ]
     },
     "execution_count": 38,
     "metadata": {},
     "output_type": "execute_result"
    }
   ],
   "source": [
    "identity = np.identity(3)  # The identity array is a square array with ones on the main diagonal.\n",
    "identity"
   ]
  },
  {
   "cell_type": "markdown",
   "id": "e8164cbe-45fe-4ca0-ae1e-a1772ba49f22",
   "metadata": {},
   "source": [
    "There are often cases when we want NumPy to initialize the values of the array for us. NumPy provides methods like ones(), zeros(), and random.random() for these cases. We just pass them the number of elements we want it to generate:\n",
    "\n",
    "\n",
    "![](Arrays/images/create-numpy-array-ones-zeros-random.png)"
   ]
  },
  {
   "cell_type": "code",
   "execution_count": 39,
   "id": "dedab47f-ccaf-428c-8f05-9063a5db9307",
   "metadata": {},
   "outputs": [
    {
     "data": {
      "text/plain": [
       "array([[0., 0.],\n",
       "       [0., 0.],\n",
       "       [0., 0.],\n",
       "       [0., 0.]])"
      ]
     },
     "execution_count": 39,
     "metadata": {},
     "output_type": "execute_result"
    }
   ],
   "source": [
    "np.zeros([4,2])"
   ]
  },
  {
   "cell_type": "code",
   "execution_count": 40,
   "id": "158027fa-15d1-4eae-b9d5-9dc4e5ff5e40",
   "metadata": {},
   "outputs": [
    {
     "data": {
      "text/plain": [
       "array([0, 0])"
      ]
     },
     "execution_count": 40,
     "metadata": {},
     "output_type": "execute_result"
    }
   ],
   "source": [
    "np.zeros_like([4,5])"
   ]
  },
  {
   "cell_type": "code",
   "execution_count": 41,
   "id": "7dfdcb95-9af5-4491-a51e-b9af320d53c3",
   "metadata": {},
   "outputs": [
    {
     "data": {
      "text/plain": [
       "array([[1., 1., 1., 1.],\n",
       "       [1., 1., 1., 1.]])"
      ]
     },
     "execution_count": 41,
     "metadata": {},
     "output_type": "execute_result"
    }
   ],
   "source": [
    "np.ones([2,4])"
   ]
  },
  {
   "cell_type": "code",
   "execution_count": 42,
   "id": "cd3a54eb-c09c-4ddc-8e8f-a48844c118f5",
   "metadata": {},
   "outputs": [
    {
     "data": {
      "text/plain": [
       "array(1)"
      ]
     },
     "execution_count": 42,
     "metadata": {},
     "output_type": "execute_result"
    }
   ],
   "source": [
    "np.ones_like(5)"
   ]
  },
  {
   "cell_type": "code",
   "execution_count": 43,
   "id": "d7d772db-963a-4525-9444-b3880e4bea9b",
   "metadata": {},
   "outputs": [
    {
     "data": {
      "text/plain": [
       "array([[2, 2],\n",
       "       [2, 2],\n",
       "       [2, 2],\n",
       "       [2, 2]])"
      ]
     },
     "execution_count": 43,
     "metadata": {},
     "output_type": "execute_result"
    }
   ],
   "source": [
    "np.full((4,2),fill_value=2)"
   ]
  },
  {
   "cell_type": "code",
   "execution_count": 44,
   "id": "64630a96-9bf2-44ee-bff6-55e7a03e9175",
   "metadata": {},
   "outputs": [
    {
     "data": {
      "text/plain": [
       "array([[0.1, 0.1, 0.1],\n",
       "       [0.1, 0.1, 0.1]])"
      ]
     },
     "execution_count": 44,
     "metadata": {},
     "output_type": "execute_result"
    }
   ],
   "source": [
    "np.full_like(a,0.1,dtype=np.double)"
   ]
  },
  {
   "cell_type": "code",
   "execution_count": 45,
   "id": "dd36fd97-d852-4714-adbb-9276fb8b2b6e",
   "metadata": {},
   "outputs": [
    {
     "data": {
      "text/plain": [
       "[2, 5, 6, 8, 9]"
      ]
     },
     "execution_count": 45,
     "metadata": {},
     "output_type": "execute_result"
    }
   ],
   "source": [
    "li = [2,5,6,8,9]\n",
    "li"
   ]
  },
  {
   "cell_type": "markdown",
   "id": "563f2011-3e25-48d4-ae65-d48cae0cec6d",
   "metadata": {},
   "source": [
    "<section id=\"from-existing-data\">\n",
    "<h2>From existing data<a class=\"headerlink\" href=\"#from-existing-data\" title=\"Permalink to this heading\">#</a></h2>\n",
    "<table class=\"autosummary longtable table autosummary\">\n",
    "<tbody>\n",
    "<tr class=\"row-odd\"><td><p><a class=\"reference internal\" href=\"generated/numpy.array.html#numpy.array\" title=\"numpy.array\"><code class=\"xref py py-obj docutils literal notranslate\"><span class=\"pre\">array</span></code></a>(object[,&nbsp;dtype,&nbsp;copy,&nbsp;order,&nbsp;subok,&nbsp;...])</p></td>\n",
    "<td><p>Create an array.</p></td>\n",
    "</tr>\n",
    "<tr class=\"row-even\"><td><p><a class=\"reference internal\" href=\"generated/numpy.asarray.html#numpy.asarray\" title=\"numpy.asarray\"><code class=\"xref py py-obj docutils literal notranslate\"><span class=\"pre\">asarray</span></code></a>(a[,&nbsp;dtype,&nbsp;order,&nbsp;like])</p></td>\n",
    "<td><p>Convert the input to an array.</p></td>\n",
    "</tr>\n",
    "<tr class=\"row-odd\"><td><p><a class=\"reference internal\" href=\"generated/numpy.asanyarray.html#numpy.asanyarray\" title=\"numpy.asanyarray\"><code class=\"xref py py-obj docutils literal notranslate\"><span class=\"pre\">asanyarray</span></code></a>(a[,&nbsp;dtype,&nbsp;order,&nbsp;like])</p></td>\n",
    "<td><p>Convert the input to an ndarray, but pass ndarray subclasses through.</p></td>\n",
    "</tr>\n",
    "<tr class=\"row-even\"><td><p><a class=\"reference internal\" href=\"generated/numpy.ascontiguousarray.html#numpy.ascontiguousarray\" title=\"numpy.ascontiguousarray\"><code class=\"xref py py-obj docutils literal notranslate\"><span class=\"pre\">ascontiguousarray</span></code></a>(a[,&nbsp;dtype,&nbsp;like])</p></td>\n",
    "<td><p>Return a contiguous array (ndim &gt;= 1) in memory (C order).</p></td>\n",
    "</tr>\n",
    "<tr class=\"row-odd\"><td><p><a class=\"reference internal\" href=\"generated/numpy.asmatrix.html#numpy.asmatrix\" title=\"numpy.asmatrix\"><code class=\"xref py py-obj docutils literal notranslate\"><span class=\"pre\">asmatrix</span></code></a>(data[,&nbsp;dtype])</p></td>\n",
    "<td><p>Interpret the input as a matrix.</p></td>\n",
    "</tr>\n",
    "<tr class=\"row-even\"><td><p><a class=\"reference internal\" href=\"generated/numpy.copy.html#numpy.copy\" title=\"numpy.copy\"><code class=\"xref py py-obj docutils literal notranslate\"><span class=\"pre\">copy</span></code></a>(a[,&nbsp;order,&nbsp;subok])</p></td>\n",
    "<td><p>Return an array copy of the given object.</p></td>\n",
    "</tr>\n",
    "<tr class=\"row-odd\"><td><p><a class=\"reference internal\" href=\"generated/numpy.frombuffer.html#numpy.frombuffer\" title=\"numpy.frombuffer\"><code class=\"xref py py-obj docutils literal notranslate\"><span class=\"pre\">frombuffer</span></code></a>(buffer[,&nbsp;dtype,&nbsp;count,&nbsp;offset,&nbsp;like])</p></td>\n",
    "<td><p>Interpret a buffer as a 1-dimensional array.</p></td>\n",
    "</tr>\n",
    "<tr class=\"row-even\"><td><p><a class=\"reference internal\" href=\"generated/numpy.from_dlpack.html#numpy.from_dlpack\" title=\"numpy.from_dlpack\"><code class=\"xref py py-obj docutils literal notranslate\"><span class=\"pre\">from_dlpack</span></code></a>(x,&nbsp;/)</p></td>\n",
    "<td><p>Create a NumPy array from an object implementing the <code class=\"docutils literal notranslate\"><span class=\"pre\">__dlpack__</span></code> protocol.</p></td>\n",
    "</tr>\n",
    "<tr class=\"row-odd\"><td><p><a class=\"reference internal\" href=\"generated/numpy.fromfile.html#numpy.fromfile\" title=\"numpy.fromfile\"><code class=\"xref py py-obj docutils literal notranslate\"><span class=\"pre\">fromfile</span></code></a>(file[,&nbsp;dtype,&nbsp;count,&nbsp;sep,&nbsp;offset,&nbsp;like])</p></td>\n",
    "<td><p>Construct an array from data in a text or binary file.</p></td>\n",
    "</tr>\n",
    "<tr class=\"row-even\"><td><p><a class=\"reference internal\" href=\"generated/numpy.fromfunction.html#numpy.fromfunction\" title=\"numpy.fromfunction\"><code class=\"xref py py-obj docutils literal notranslate\"><span class=\"pre\">fromfunction</span></code></a>(function,&nbsp;shape,&nbsp;*[,&nbsp;dtype,&nbsp;like])</p></td>\n",
    "<td><p>Construct an array by executing a function over each coordinate.</p></td>\n",
    "</tr>\n",
    "<tr class=\"row-odd\"><td><p><a class=\"reference internal\" href=\"generated/numpy.fromiter.html#numpy.fromiter\" title=\"numpy.fromiter\"><code class=\"xref py py-obj docutils literal notranslate\"><span class=\"pre\">fromiter</span></code></a>(iter,&nbsp;dtype[,&nbsp;count,&nbsp;like])</p></td>\n",
    "<td><p>Create a new 1-dimensional array from an iterable object.</p></td>\n",
    "</tr>\n",
    "<tr class=\"row-even\"><td><p><a class=\"reference internal\" href=\"generated/numpy.fromstring.html#numpy.fromstring\" title=\"numpy.fromstring\"><code class=\"xref py py-obj docutils literal notranslate\"><span class=\"pre\">fromstring</span></code></a>(string[,&nbsp;dtype,&nbsp;count,&nbsp;like])</p></td>\n",
    "<td><p>A new 1-D array initialized from text data in a string.</p></td>\n",
    "</tr>\n",
    "<tr class=\"row-odd\"><td><p><a class=\"reference internal\" href=\"generated/numpy.loadtxt.html#numpy.loadtxt\" title=\"numpy.loadtxt\"><code class=\"xref py py-obj docutils literal notranslate\"><span class=\"pre\">loadtxt</span></code></a>(fname[,&nbsp;dtype,&nbsp;comments,&nbsp;delimiter,&nbsp;...])</p></td>\n",
    "<td><p>Load data from a text file.</p></td>\n",
    "</tr>\n",
    "</tbody>\n",
    "</table>\n",
    "</section>"
   ]
  },
  {
   "cell_type": "code",
   "execution_count": 46,
   "id": "f0acbd74-02f6-4bc5-8739-d316478571b7",
   "metadata": {},
   "outputs": [
    {
     "data": {
      "text/plain": [
       "array([2, 5, 6, 8, 9])"
      ]
     },
     "execution_count": 46,
     "metadata": {},
     "output_type": "execute_result"
    }
   ],
   "source": [
    "np.asarray(li)"
   ]
  },
  {
   "cell_type": "code",
   "execution_count": 47,
   "id": "f1aaa2a1-0078-4f44-a68f-9c769c3bb9c7",
   "metadata": {},
   "outputs": [
    {
     "data": {
      "text/plain": [
       "array([2, 5, 6, 8, 9])"
      ]
     },
     "execution_count": 47,
     "metadata": {},
     "output_type": "execute_result"
    }
   ],
   "source": [
    "np.array(li)"
   ]
  },
  {
   "cell_type": "code",
   "execution_count": 48,
   "id": "f3432144-15a0-43c6-bb50-3141d0d082f5",
   "metadata": {},
   "outputs": [
    {
     "data": {
      "text/plain": [
       "matrix([[2, 5, 6, 8, 9]])"
      ]
     },
     "execution_count": 48,
     "metadata": {},
     "output_type": "execute_result"
    }
   ],
   "source": [
    "np.asmatrix(li)"
   ]
  },
  {
   "cell_type": "code",
   "execution_count": 49,
   "id": "e03ce686-8bad-4fc1-95c9-8c048f8f0fc1",
   "metadata": {},
   "outputs": [
    {
     "data": {
      "text/plain": [
       "[10, 11, 12, 13, 14, 15, 16, 17, 18, 19]"
      ]
     },
     "execution_count": 49,
     "metadata": {},
     "output_type": "execute_result"
    }
   ],
   "source": [
    "li1 = [i for i in range(10,20)]\n",
    "li1"
   ]
  },
  {
   "cell_type": "code",
   "execution_count": 50,
   "id": "353c1880-f2fd-4b6a-a98c-7e9067d04389",
   "metadata": {},
   "outputs": [
    {
     "data": {
      "text/plain": [
       "array([10, 11, 12, 13, 14, 15, 16, 17, 18, 19])"
      ]
     },
     "execution_count": 50,
     "metadata": {},
     "output_type": "execute_result"
    }
   ],
   "source": [
    "np.array(li1)"
   ]
  },
  {
   "cell_type": "code",
   "execution_count": 51,
   "id": "a7655968-b76d-4fa7-afa8-185c2be01ebf",
   "metadata": {},
   "outputs": [
    {
     "data": {
      "text/plain": [
       "array([1, 2])"
      ]
     },
     "execution_count": 51,
     "metadata": {},
     "output_type": "execute_result"
    }
   ],
   "source": [
    "a = [1, 2]\n",
    "np.asanyarray(a)"
   ]
  },
  {
   "cell_type": "code",
   "execution_count": 52,
   "id": "fd572cb8-15f3-4b66-b555-533707fdc4bb",
   "metadata": {},
   "outputs": [
    {
     "data": {
      "text/plain": [
       "rec.array([(1., 2), (3., 4)],\n",
       "          dtype=[('f0', '<f4'), ('f1', '<i4')])"
      ]
     },
     "execution_count": 52,
     "metadata": {},
     "output_type": "execute_result"
    }
   ],
   "source": [
    "a = np.array([(1.0, 2), (3.0, 4)], dtype='f4,i4').view(np.recarray)\n",
    "a"
   ]
  },
  {
   "cell_type": "code",
   "execution_count": 53,
   "id": "96013a1d-65fc-425a-b02f-d15ce4f48f6c",
   "metadata": {},
   "outputs": [
    {
     "data": {
      "text/plain": [
       "rec.array([(1., 2), (3., 4)],\n",
       "          dtype=[('f0', '<f4'), ('f1', '<i4')])"
      ]
     },
     "execution_count": 53,
     "metadata": {},
     "output_type": "execute_result"
    }
   ],
   "source": [
    "np.asanyarray(a)"
   ]
  },
  {
   "cell_type": "code",
   "execution_count": 54,
   "id": "312503a3-a0a8-46b9-b80d-7070ccf200b1",
   "metadata": {},
   "outputs": [
    {
     "data": {
      "text/plain": [
       "True"
      ]
     },
     "execution_count": 54,
     "metadata": {},
     "output_type": "execute_result"
    }
   ],
   "source": [
    "np.asanyarray(a) is a"
   ]
  },
  {
   "cell_type": "code",
   "execution_count": 55,
   "id": "f8a4f66a-80bb-47a0-8fc9-c8dbdc108c96",
   "metadata": {},
   "outputs": [
    {
     "data": {
      "text/plain": [
       "array([[1., 1., 1.],\n",
       "       [1., 1., 1.]])"
      ]
     },
     "execution_count": 55,
     "metadata": {},
     "output_type": "execute_result"
    }
   ],
   "source": [
    "x = np.ones((2, 3), order='F')\n",
    "x"
   ]
  },
  {
   "cell_type": "code",
   "execution_count": 56,
   "id": "cdd2badb-6036-40eb-aaf7-e7045dd67bf3",
   "metadata": {},
   "outputs": [
    {
     "data": {
      "text/plain": [
       "True"
      ]
     },
     "execution_count": 56,
     "metadata": {},
     "output_type": "execute_result"
    }
   ],
   "source": [
    "x.flags['F_CONTIGUOUS']"
   ]
  },
  {
   "cell_type": "code",
   "execution_count": 57,
   "id": "863b5411-07fe-47fc-a965-562235022558",
   "metadata": {},
   "outputs": [
    {
     "data": {
      "text/plain": [
       "array([[1., 1., 1.],\n",
       "       [1., 1., 1.]])"
      ]
     },
     "execution_count": 57,
     "metadata": {},
     "output_type": "execute_result"
    }
   ],
   "source": [
    "y = np.ascontiguousarray(x)\n",
    "y"
   ]
  },
  {
   "cell_type": "code",
   "execution_count": 58,
   "id": "6a75e039-836e-4256-a9b3-d8dac9b565c5",
   "metadata": {},
   "outputs": [
    {
     "data": {
      "text/plain": [
       "True"
      ]
     },
     "execution_count": 58,
     "metadata": {},
     "output_type": "execute_result"
    }
   ],
   "source": [
    "y.flags['C_CONTIGUOUS']"
   ]
  },
  {
   "cell_type": "code",
   "execution_count": 59,
   "id": "74dc730c-0c9a-4dd5-83ab-12129aabc24c",
   "metadata": {},
   "outputs": [
    {
     "data": {
      "text/plain": [
       "False"
      ]
     },
     "execution_count": 59,
     "metadata": {},
     "output_type": "execute_result"
    }
   ],
   "source": [
    "np.may_share_memory(x,y)"
   ]
  },
  {
   "cell_type": "code",
   "execution_count": 60,
   "id": "8d14c332-270b-452d-a724-495ec01883d5",
   "metadata": {},
   "outputs": [
    {
     "data": {
      "text/plain": [
       "matrix([[1., 1., 1.],\n",
       "        [1., 1., 1.]])"
      ]
     },
     "execution_count": 60,
     "metadata": {},
     "output_type": "execute_result"
    }
   ],
   "source": [
    "np.asmatrix(x)"
   ]
  },
  {
   "cell_type": "code",
   "execution_count": 61,
   "id": "7b57269a-d04e-406d-b8f5-05f6b9451b9e",
   "metadata": {},
   "outputs": [
    {
     "data": {
      "text/plain": [
       "array([1, 2, 3])"
      ]
     },
     "execution_count": 61,
     "metadata": {},
     "output_type": "execute_result"
    }
   ],
   "source": [
    "x = np.array([1, 2, 3])\n",
    "x"
   ]
  },
  {
   "cell_type": "code",
   "execution_count": 62,
   "id": "d3f00748-562a-4327-a4b4-45ae3c4ccddf",
   "metadata": {},
   "outputs": [
    {
     "data": {
      "text/plain": [
       "array([1, 2, 3])"
      ]
     },
     "execution_count": 62,
     "metadata": {},
     "output_type": "execute_result"
    }
   ],
   "source": [
    "np.array(x, copy=True)  "
   ]
  },
  {
   "cell_type": "code",
   "execution_count": 63,
   "id": "f57f3a47-e565-4804-9c47-c94f4504714b",
   "metadata": {},
   "outputs": [],
   "source": [
    "z = np.copy(x)"
   ]
  },
  {
   "cell_type": "code",
   "execution_count": 64,
   "id": "602a1ae2-bb43-4c45-b284-4d2e065a0cdb",
   "metadata": {},
   "outputs": [
    {
     "data": {
      "text/plain": [
       "array([1, 2, 3])"
      ]
     },
     "execution_count": 64,
     "metadata": {},
     "output_type": "execute_result"
    }
   ],
   "source": [
    "z"
   ]
  },
  {
   "cell_type": "markdown",
   "id": "959395bb-b707-4de4-8c0b-56d63f5f3aeb",
   "metadata": {},
   "source": [
    "<section id=\"creating-character-arrays-numpy-char\">\n",
    "<span id=\"routines-array-creation-char\"></span><h2>Creating character arrays (<a class=\"reference internal\" href=\"routines.char.html#module-numpy.char\" title=\"numpy.char\"><code class=\"xref py py-mod docutils literal notranslate\"><span class=\"pre\">numpy.char</span></code></a>)<a class=\"headerlink\" href=\"#creating-character-arrays-numpy-char\" title=\"Permalink to this heading\">#</a></h2>\n",
    "<div class=\"admonition note\">\n",
    "<p class=\"admonition-title\">Note</p>\n",
    "<p><a class=\"reference internal\" href=\"routines.char.html#module-numpy.char\" title=\"numpy.char\"><code class=\"xref py py-mod docutils literal notranslate\"><span class=\"pre\">numpy.char</span></code></a> is the preferred alias for\n",
    "<code class=\"xref py py-mod docutils literal notranslate\"><span class=\"pre\">numpy.core.defchararray</span></code>.</p>\n",
    "</div>\n",
    "<table class=\"autosummary longtable table autosummary\">\n",
    "<tbody>\n",
    "<tr class=\"row-odd\"><td><p><a class=\"reference internal\" href=\"generated/numpy.core.defchararray.array.html#numpy.core.defchararray.array\" title=\"numpy.core.defchararray.array\"><code class=\"xref py py-obj docutils literal notranslate\"><span class=\"pre\">core.defchararray.array</span></code></a>(obj[,&nbsp;itemsize,&nbsp;...])</p></td>\n",
    "<td><p>Create a <a class=\"reference internal\" href=\"generated/numpy.char.chararray.html#numpy.char.chararray\" title=\"numpy.chararray\"><code class=\"xref py py-obj docutils literal notranslate\"><span class=\"pre\">chararray</span></code></a>.</p></td>\n",
    "</tr>\n",
    "<tr class=\"row-even\"><td><p><a class=\"reference internal\" href=\"generated/numpy.core.defchararray.asarray.html#numpy.core.defchararray.asarray\" title=\"numpy.core.defchararray.asarray\"><code class=\"xref py py-obj docutils literal notranslate\"><span class=\"pre\">core.defchararray.asarray</span></code></a>(obj[,&nbsp;itemsize,&nbsp;...])</p></td>\n",
    "<td><p>Convert the input to a <a class=\"reference internal\" href=\"generated/numpy.char.chararray.html#numpy.char.chararray\" title=\"numpy.chararray\"><code class=\"xref py py-obj docutils literal notranslate\"><span class=\"pre\">chararray</span></code></a>, copying the data only if necessary.</p></td>\n",
    "</tr>\n",
    "</tbody>\n",
    "</table>\n",
    "</section>"
   ]
  },
  {
   "cell_type": "code",
   "execution_count": 65,
   "id": "7334b3cb-7ee7-4ab6-be47-00ae78188462",
   "metadata": {},
   "outputs": [
    {
     "data": {
      "text/plain": [
       "chararray([[b'\\x01', '', ''],\n",
       "           ['', b'\\x01', ''],\n",
       "           ['', '', b'\\x01']], dtype='|S1')"
      ]
     },
     "execution_count": 65,
     "metadata": {},
     "output_type": "execute_result"
    }
   ],
   "source": [
    "charar = np.chararray((3, 3))\n",
    "charar"
   ]
  },
  {
   "cell_type": "markdown",
   "id": "5bdb61ad-7d55-4938-8887-8eed09a8e6ae",
   "metadata": {},
   "source": [
    "<section id=\"numerical-ranges\">\n",
    "<h2>Numerical ranges<a class=\"headerlink\" href=\"#numerical-ranges\" title=\"Permalink to this heading\">#</a></h2>\n",
    "<table class=\"autosummary longtable table autosummary\">\n",
    "<tbody>\n",
    "<tr class=\"row-odd\"><td><p><a class=\"reference internal\" href=\"generated/numpy.arange.html#numpy.arange\" title=\"numpy.arange\"><code class=\"xref py py-obj docutils literal notranslate\"><span class=\"pre\">arange</span></code></a>([start,]&nbsp;stop[,&nbsp;step,][,&nbsp;dtype,&nbsp;like])</p></td>\n",
    "<td><p>Return evenly spaced values within a given interval.</p></td>\n",
    "</tr>\n",
    "<tr class=\"row-even\"><td><p><a class=\"reference internal\" href=\"generated/numpy.linspace.html#numpy.linspace\" title=\"numpy.linspace\"><code class=\"xref py py-obj docutils literal notranslate\"><span class=\"pre\">linspace</span></code></a>(start,&nbsp;stop[,&nbsp;num,&nbsp;endpoint,&nbsp;...])</p></td>\n",
    "<td><p>Return evenly spaced numbers over a specified interval.</p></td>\n",
    "</tr>\n",
    "<tr class=\"row-odd\"><td><p><a class=\"reference internal\" href=\"generated/numpy.logspace.html#numpy.logspace\" title=\"numpy.logspace\"><code class=\"xref py py-obj docutils literal notranslate\"><span class=\"pre\">logspace</span></code></a>(start,&nbsp;stop[,&nbsp;num,&nbsp;endpoint,&nbsp;base,&nbsp;...])</p></td>\n",
    "<td><p>Return numbers spaced evenly on a log scale.</p></td>\n",
    "</tr>\n",
    "<tr class=\"row-even\"><td><p><a class=\"reference internal\" href=\"generated/numpy.geomspace.html#numpy.geomspace\" title=\"numpy.geomspace\"><code class=\"xref py py-obj docutils literal notranslate\"><span class=\"pre\">geomspace</span></code></a>(start,&nbsp;stop[,&nbsp;num,&nbsp;endpoint,&nbsp;...])</p></td>\n",
    "<td><p>Return numbers spaced evenly on a log scale (a geometric progression).</p></td>\n",
    "</tr>\n",
    "<tr class=\"row-odd\"><td><p><a class=\"reference internal\" href=\"generated/numpy.meshgrid.html#numpy.meshgrid\" title=\"numpy.meshgrid\"><code class=\"xref py py-obj docutils literal notranslate\"><span class=\"pre\">meshgrid</span></code></a>(*xi[,&nbsp;copy,&nbsp;sparse,&nbsp;indexing])</p></td>\n",
    "<td><p>Return a list of coordinate matrices from coordinate vectors.</p></td>\n",
    "</tr>\n",
    "<tr class=\"row-even\"><td><p><a class=\"reference internal\" href=\"generated/numpy.mgrid.html#numpy.mgrid\" title=\"numpy.mgrid\"><code class=\"xref py py-obj docutils literal notranslate\"><span class=\"pre\">mgrid</span></code></a></p></td>\n",
    "<td><p>An instance which returns a dense multi-dimensional \"meshgrid\".</p></td>\n",
    "</tr>\n",
    "<tr class=\"row-odd\"><td><p><a class=\"reference internal\" href=\"generated/numpy.ogrid.html#numpy.ogrid\" title=\"numpy.ogrid\"><code class=\"xref py py-obj docutils literal notranslate\"><span class=\"pre\">ogrid</span></code></a></p></td>\n",
    "<td><p>An instance which returns an open multi-dimensional \"meshgrid\".</p></td>\n",
    "</tr>\n",
    "</tbody>\n",
    "</table>\n",
    "</section>"
   ]
  },
  {
   "cell_type": "code",
   "execution_count": 66,
   "id": "b9814c2f-e70e-4ac8-b1a1-3e9dbdf90835",
   "metadata": {
    "jupyter": {
     "source_hidden": true
    }
   },
   "outputs": [
    {
     "data": {
      "text/plain": [
       "array([10, 11, 12, 13, 14, 15, 16, 17, 18, 19])"
      ]
     },
     "execution_count": 66,
     "metadata": {},
     "output_type": "execute_result"
    }
   ],
   "source": [
    "np.arange(10,20)"
   ]
  },
  {
   "cell_type": "code",
   "execution_count": 67,
   "id": "15da8d67-e8a0-484d-b1fa-c6259edecaf2",
   "metadata": {},
   "outputs": [
    {
     "data": {
      "text/plain": [
       "array([-10.        ,  -9.3877551 ,  -8.7755102 ,  -8.16326531,\n",
       "        -7.55102041,  -6.93877551,  -6.32653061,  -5.71428571,\n",
       "        -5.10204082,  -4.48979592,  -3.87755102,  -3.26530612,\n",
       "        -2.65306122,  -2.04081633,  -1.42857143,  -0.81632653,\n",
       "        -0.20408163,   0.40816327,   1.02040816,   1.63265306,\n",
       "         2.24489796,   2.85714286,   3.46938776,   4.08163265,\n",
       "         4.69387755,   5.30612245,   5.91836735,   6.53061224,\n",
       "         7.14285714,   7.75510204,   8.36734694,   8.97959184,\n",
       "         9.59183673,  10.20408163,  10.81632653,  11.42857143,\n",
       "        12.04081633,  12.65306122,  13.26530612,  13.87755102,\n",
       "        14.48979592,  15.10204082,  15.71428571,  16.32653061,\n",
       "        16.93877551,  17.55102041,  18.16326531,  18.7755102 ,\n",
       "        19.3877551 ,  20.        ])"
      ]
     },
     "execution_count": 67,
     "metadata": {},
     "output_type": "execute_result"
    }
   ],
   "source": [
    "linespace = np.linspace(-10,20)\n",
    "linespace"
   ]
  },
  {
   "cell_type": "code",
   "execution_count": 68,
   "id": "a9552f7b-c4f7-406b-abcd-6c989e3c32de",
   "metadata": {},
   "outputs": [],
   "source": [
    "import matplotlib.pyplot as plt"
   ]
  },
  {
   "cell_type": "code",
   "execution_count": 69,
   "id": "07431bb2-bfd9-46e0-9077-08e78663944d",
   "metadata": {},
   "outputs": [
    {
     "data": {
      "text/plain": [
       "[<matplotlib.lines.Line2D at 0x2348de0da90>]"
      ]
     },
     "execution_count": 69,
     "metadata": {},
     "output_type": "execute_result"
    },
    {
     "data": {
      "image/png": "[encoded data removed]",
      "text/plain": [
       "<Figure size 640x480 with 1 Axes>"
      ]
     },
     "metadata": {},
     "output_type": "display_data"
    }
   ],
   "source": [
    "plt.plot(linespace)"
   ]
  },
  {
   "cell_type": "code",
   "execution_count": 70,
   "id": "f874763f-deb9-416f-b64d-fcb8311a1f9e",
   "metadata": {},
   "outputs": [
    {
     "data": {
      "text/plain": [
       "array([1.00000000e-10, 4.09491506e-10, 1.67683294e-09, 6.86648845e-09,\n",
       "       2.81176870e-08, 1.15139540e-07, 4.71486636e-07, 1.93069773e-06,\n",
       "       7.90604321e-06, 3.23745754e-05, 1.32571137e-04, 5.42867544e-04,\n",
       "       2.22299648e-03, 9.10298178e-03, 3.72759372e-02, 1.52641797e-01,\n",
       "       6.25055193e-01, 2.55954792e+00, 1.04811313e+01, 4.29193426e+01,\n",
       "       1.75751062e+02, 7.19685673e+02, 2.94705170e+03, 1.20679264e+04,\n",
       "       4.94171336e+04, 2.02358965e+05, 8.28642773e+05, 3.39322177e+06,\n",
       "       1.38949549e+07, 5.68986603e+07, 2.32995181e+08, 9.54095476e+08,\n",
       "       3.90693994e+09, 1.59985872e+10, 6.55128557e+10, 2.68269580e+11,\n",
       "       1.09854114e+12, 4.49843267e+12, 1.84206997e+13, 7.54312006e+13,\n",
       "       3.08884360e+14, 1.26485522e+15, 5.17947468e+15, 2.12095089e+16,\n",
       "       8.68511374e+16, 3.55648031e+17, 1.45634848e+18, 5.96362332e+18,\n",
       "       2.44205309e+19, 1.00000000e+20])"
      ]
     },
     "execution_count": 70,
     "metadata": {},
     "output_type": "execute_result"
    }
   ],
   "source": [
    "logspace = np.logspace(-10,20)\n",
    "logspace"
   ]
  },
  {
   "cell_type": "code",
   "execution_count": 71,
   "id": "719265e4-b427-48e3-9a0d-e0f7fed851dd",
   "metadata": {},
   "outputs": [
    {
     "data": {
      "text/plain": [
       "[<matplotlib.lines.Line2D at 0x2349002af10>]"
      ]
     },
     "execution_count": 71,
     "metadata": {},
     "output_type": "execute_result"
    },
    {
     "data": {
      "image/png": "[encoded data removed]",
      "text/plain": [
       "<Figure size 640x480 with 1 Axes>"
      ]
     },
     "metadata": {},
     "output_type": "display_data"
    }
   ],
   "source": [
    "plt.plot(logspace)"
   ]
  },
  {
   "cell_type": "code",
   "execution_count": 72,
   "id": "832d83ff-84d3-4b7c-a1ca-b4d6ba391210",
   "metadata": {},
   "outputs": [
    {
     "data": {
      "text/plain": [
       "array([ 3.        ,  4.05360046,  5.47722558,  7.40082804, 10.        ])"
      ]
     },
     "execution_count": 72,
     "metadata": {},
     "output_type": "execute_result"
    }
   ],
   "source": [
    "geospace = np.geomspace(3,10,num=5)\n",
    "geospace"
   ]
  },
  {
   "cell_type": "code",
   "execution_count": 73,
   "id": "c5800c34-b18e-4a64-933d-5790f2e5274e",
   "metadata": {},
   "outputs": [
    {
     "data": {
      "text/plain": [
       "[<matplotlib.lines.Line2D at 0x2348dea6df0>]"
      ]
     },
     "execution_count": 73,
     "metadata": {},
     "output_type": "execute_result"
    },
    {
     "data": {
      "image/png": "[encoded data removed]",
      "text/plain": [
       "<Figure size 640x480 with 1 Axes>"
      ]
     },
     "metadata": {},
     "output_type": "display_data"
    }
   ],
   "source": [
    "plt.plot(geospace)"
   ]
  },
  {
   "cell_type": "code",
   "execution_count": 74,
   "id": "0b5e89d1-7036-4686-8728-2798b792723b",
   "metadata": {},
   "outputs": [],
   "source": [
    "x = np.arange(-5,10)\n",
    "y = np.arange(5,10)"
   ]
  },
  {
   "cell_type": "code",
   "execution_count": 75,
   "id": "42e2935e-46c1-4b86-9c35-ee612a534497",
   "metadata": {},
   "outputs": [
    {
     "data": {
      "text/plain": [
       "array([[-5, -4, -3, -2, -1,  0,  1,  2,  3,  4,  5,  6,  7,  8,  9],\n",
       "       [-5, -4, -3, -2, -1,  0,  1,  2,  3,  4,  5,  6,  7,  8,  9],\n",
       "       [-5, -4, -3, -2, -1,  0,  1,  2,  3,  4,  5,  6,  7,  8,  9],\n",
       "       [-5, -4, -3, -2, -1,  0,  1,  2,  3,  4,  5,  6,  7,  8,  9],\n",
       "       [-5, -4, -3, -2, -1,  0,  1,  2,  3,  4,  5,  6,  7,  8,  9]])"
      ]
     },
     "execution_count": 75,
     "metadata": {},
     "output_type": "execute_result"
    }
   ],
   "source": [
    "xx,yy = np.meshgrid(x,y)\n",
    "xx"
   ]
  },
  {
   "cell_type": "code",
   "execution_count": 76,
   "id": "ecc66e5f-afc6-4b87-9ae5-577df9d657e2",
   "metadata": {},
   "outputs": [
    {
     "data": {
      "text/plain": [
       "array([[5, 5, 5, 5, 5, 5, 5, 5, 5, 5, 5, 5, 5, 5, 5],\n",
       "       [6, 6, 6, 6, 6, 6, 6, 6, 6, 6, 6, 6, 6, 6, 6],\n",
       "       [7, 7, 7, 7, 7, 7, 7, 7, 7, 7, 7, 7, 7, 7, 7],\n",
       "       [8, 8, 8, 8, 8, 8, 8, 8, 8, 8, 8, 8, 8, 8, 8],\n",
       "       [9, 9, 9, 9, 9, 9, 9, 9, 9, 9, 9, 9, 9, 9, 9]])"
      ]
     },
     "execution_count": 76,
     "metadata": {},
     "output_type": "execute_result"
    }
   ],
   "source": [
    "yy"
   ]
  },
  {
   "cell_type": "code",
   "execution_count": 77,
   "id": "b7ecb32b-e95c-4743-9697-988ab098b54f",
   "metadata": {},
   "outputs": [
    {
     "data": {
      "text/plain": [
       "[<matplotlib.lines.Line2D at 0x2348df37910>,\n",
       " <matplotlib.lines.Line2D at 0x2348df379d0>,\n",
       " <matplotlib.lines.Line2D at 0x2348df37ac0>,\n",
       " <matplotlib.lines.Line2D at 0x2348df37bb0>,\n",
       " <matplotlib.lines.Line2D at 0x2348df37ca0>,\n",
       " <matplotlib.lines.Line2D at 0x2348df37d90>,\n",
       " <matplotlib.lines.Line2D at 0x2348df37e80>,\n",
       " <matplotlib.lines.Line2D at 0x2348df37f70>,\n",
       " <matplotlib.lines.Line2D at 0x2348df460a0>,\n",
       " <matplotlib.lines.Line2D at 0x2348df46190>,\n",
       " <matplotlib.lines.Line2D at 0x2348df46280>,\n",
       " <matplotlib.lines.Line2D at 0x2348df46370>,\n",
       " <matplotlib.lines.Line2D at 0x2348df1c790>,\n",
       " <matplotlib.lines.Line2D at 0x2348df464f0>,\n",
       " <matplotlib.lines.Line2D at 0x2348df465e0>]"
      ]
     },
     "execution_count": 77,
     "metadata": {},
     "output_type": "execute_result"
    },
    {
     "data": {
      "image/png": "[encoded data removed]",
      "text/plain": [
       "<Figure size 640x480 with 1 Axes>"
      ]
     },
     "metadata": {},
     "output_type": "display_data"
    }
   ],
   "source": [
    "plt.plot(xx,yy,marker='o', color='k', linestyle='none')"
   ]
  },
  {
   "cell_type": "code",
   "execution_count": 78,
   "id": "1497dafd-9966-4c71-871e-7a9ed669c03b",
   "metadata": {},
   "outputs": [],
   "source": [
    "p,q = np.mgrid[0:5, 0:5]"
   ]
  },
  {
   "cell_type": "code",
   "execution_count": 79,
   "id": "e09f5a4b-dbde-4302-a961-8660d9e17ea5",
   "metadata": {},
   "outputs": [
    {
     "data": {
      "text/plain": [
       "array([[0, 0, 0, 0, 0],\n",
       "       [1, 1, 1, 1, 1],\n",
       "       [2, 2, 2, 2, 2],\n",
       "       [3, 3, 3, 3, 3],\n",
       "       [4, 4, 4, 4, 4]])"
      ]
     },
     "execution_count": 79,
     "metadata": {},
     "output_type": "execute_result"
    }
   ],
   "source": [
    "p"
   ]
  },
  {
   "cell_type": "code",
   "execution_count": 80,
   "id": "f3b7568b-fbb3-4539-8eb0-4c648968cf72",
   "metadata": {},
   "outputs": [
    {
     "data": {
      "text/plain": [
       "array([[0, 1, 2, 3, 4],\n",
       "       [0, 1, 2, 3, 4],\n",
       "       [0, 1, 2, 3, 4],\n",
       "       [0, 1, 2, 3, 4],\n",
       "       [0, 1, 2, 3, 4]])"
      ]
     },
     "execution_count": 80,
     "metadata": {},
     "output_type": "execute_result"
    }
   ],
   "source": [
    "q"
   ]
  },
  {
   "cell_type": "code",
   "execution_count": 81,
   "id": "e7b27055-b75b-4798-9a83-da7541843b00",
   "metadata": {},
   "outputs": [
    {
     "data": {
      "image/png": "[encoded data removed]",
      "text/plain": [
       "<Figure size 640x480 with 1 Axes>"
      ]
     },
     "metadata": {},
     "output_type": "display_data"
    }
   ],
   "source": [
    "x = np.arange(0, 1, 0.05)\n",
    "y = np.power(x, 2)\n",
    "\n",
    "fig = plt.figure()\n",
    "ax = fig.gca()\n",
    "ax.set_xticks(np.arange(0, 1, 0.1))\n",
    "ax.set_yticks(np.arange(0, 1., 0.1))\n",
    "plt.scatter(x, y)\n",
    "plt.grid()\n",
    "plt.show()\n"
   ]
  },
  {
   "cell_type": "code",
   "execution_count": 82,
   "id": "0101af2f-8af8-45a7-8294-9b039b1ede77",
   "metadata": {},
   "outputs": [
    {
     "data": {
      "text/plain": [
       "array([-1. , -0.5,  0. ,  0.5,  1. ])"
      ]
     },
     "execution_count": 82,
     "metadata": {},
     "output_type": "execute_result"
    }
   ],
   "source": [
    "b = np.ogrid[-1:1:5j]\n",
    "b"
   ]
  },
  {
   "cell_type": "code",
   "execution_count": null,
   "id": "0d4f58c7-58a4-4524-aacc-4079168965b9",
   "metadata": {},
   "outputs": [],
   "source": []
  },
  {
   "cell_type": "markdown",
   "id": "1b531a9c-ff4a-4e0e-b4ec-b6a28d6da971",
   "metadata": {},
   "source": [
    "<section id=\"creating-record-arrays-numpy-rec\">\n",
    "<span id=\"routines-array-creation-rec\"></span><h2>Creating record arrays (<code class=\"xref py py-mod docutils literal notranslate\"><span class=\"pre\">numpy.rec</span></code>)<a class=\"headerlink\" href=\"#creating-record-arrays-numpy-rec\" title=\"Permalink to this heading\">#</a></h2>\n",
    "<div class=\"admonition note\">\n",
    "<p class=\"admonition-title\">Note</p>\n",
    "<p><code class=\"xref py py-mod docutils literal notranslate\"><span class=\"pre\">numpy.rec</span></code> is the preferred alias for\n",
    "<code class=\"xref py py-mod docutils literal notranslate\"><span class=\"pre\">numpy.core.records</span></code>.</p>\n",
    "</div>\n",
    "<table class=\"autosummary longtable table autosummary\">\n",
    "<tbody>\n",
    "<tr class=\"row-odd\"><td><p><a class=\"reference internal\" href=\"generated/numpy.core.records.array.html#numpy.core.records.array\" title=\"numpy.core.records.array\"><code class=\"xref py py-obj docutils literal notranslate\"><span class=\"pre\">core.records.array</span></code></a>(obj[,&nbsp;dtype,&nbsp;shape,&nbsp;...])</p></td>\n",
    "<td><p>Construct a record array from a wide-variety of objects.</p></td>\n",
    "</tr>\n",
    "<tr class=\"row-even\"><td><p><a class=\"reference internal\" href=\"generated/numpy.core.records.fromarrays.html#numpy.core.records.fromarrays\" title=\"numpy.core.records.fromarrays\"><code class=\"xref py py-obj docutils literal notranslate\"><span class=\"pre\">core.records.fromarrays</span></code></a>(arrayList[,&nbsp;dtype,&nbsp;...])</p></td>\n",
    "<td><p>Create a record array from a (flat) list of arrays</p></td>\n",
    "</tr>\n",
    "<tr class=\"row-odd\"><td><p><a class=\"reference internal\" href=\"generated/numpy.core.records.fromrecords.html#numpy.core.records.fromrecords\" title=\"numpy.core.records.fromrecords\"><code class=\"xref py py-obj docutils literal notranslate\"><span class=\"pre\">core.records.fromrecords</span></code></a>(recList[,&nbsp;dtype,&nbsp;...])</p></td>\n",
    "<td><p>Create a recarray from a list of records in text form.</p></td>\n",
    "</tr>\n",
    "<tr class=\"row-even\"><td><p><a class=\"reference internal\" href=\"generated/numpy.core.records.fromstring.html#numpy.core.records.fromstring\" title=\"numpy.core.records.fromstring\"><code class=\"xref py py-obj docutils literal notranslate\"><span class=\"pre\">core.records.fromstring</span></code></a>(datastring[,&nbsp;dtype,&nbsp;...])</p></td>\n",
    "<td><p>Create a record array from binary data</p></td>\n",
    "</tr>\n",
    "<tr class=\"row-odd\"><td><p><a class=\"reference internal\" href=\"generated/numpy.core.records.fromfile.html#numpy.core.records.fromfile\" title=\"numpy.core.records.fromfile\"><code class=\"xref py py-obj docutils literal notranslate\"><span class=\"pre\">core.records.fromfile</span></code></a>(fd[,&nbsp;dtype,&nbsp;shape,&nbsp;...])</p></td>\n",
    "<td><p>Create an array from binary file data</p></td>\n",
    "</tr>\n",
    "</tbody>\n",
    "</table>\n",
    "</section>"
   ]
  },
  {
   "cell_type": "markdown",
   "id": "1dbdae32-1bf1-4a8c-a815-c100f7f2d0af",
   "metadata": {},
   "source": [
    "![](https://www.w3resource.com/w3r_images/python-numpy-image-exercise-78.png)"
   ]
  },
  {
   "cell_type": "code",
   "execution_count": 83,
   "id": "92c2f97d-4022-4d4e-ad6c-83dbcf598d7d",
   "metadata": {},
   "outputs": [
    {
     "data": {
      "text/plain": [
       "array([[1, 2, 3],\n",
       "       [4, 5, 6],\n",
       "       [7, 8, 9]])"
      ]
     },
     "execution_count": 83,
     "metadata": {},
     "output_type": "execute_result"
    }
   ],
   "source": [
    "a = np.array([[1, 2, 3], [4, 5, 6], [7, 8, 9]])\n",
    "a"
   ]
  },
  {
   "cell_type": "code",
   "execution_count": 84,
   "id": "4b0778f1-f620-40dc-8555-10d4653eb4da",
   "metadata": {},
   "outputs": [
    {
     "data": {
      "text/plain": [
       "dtype('int32')"
      ]
     },
     "execution_count": 84,
     "metadata": {},
     "output_type": "execute_result"
    }
   ],
   "source": [
    "a.dtype"
   ]
  },
  {
   "cell_type": "code",
   "execution_count": 92,
   "id": "cf22b174-1c30-452e-8471-c903cdb5963f",
   "metadata": {},
   "outputs": [
    {
     "data": {
      "text/plain": [
       "9"
      ]
     },
     "execution_count": 92,
     "metadata": {},
     "output_type": "execute_result"
    }
   ],
   "source": [
    "a.size"
   ]
  },
  {
   "cell_type": "code",
   "execution_count": 94,
   "id": "e575dec7-48aa-4f4f-8a9a-c871896a43bd",
   "metadata": {},
   "outputs": [
    {
     "data": {
      "text/plain": [
       "dtype('int32')"
      ]
     },
     "execution_count": 94,
     "metadata": {},
     "output_type": "execute_result"
    }
   ],
   "source": [
    "a[0].dtype"
   ]
  },
  {
   "cell_type": "code",
   "execution_count": 87,
   "id": "48274438-7073-4e7e-bfc1-890293b79469",
   "metadata": {},
   "outputs": [],
   "source": [
    "core_array = np.core.records.array(a)"
   ]
  },
  {
   "cell_type": "code",
   "execution_count": 88,
   "id": "5de53431-13e5-431e-9578-763bfe160438",
   "metadata": {},
   "outputs": [
    {
     "data": {
      "text/plain": [
       "rec.array([[1, 2, 3],\n",
       "           [4, 5, 6],\n",
       "           [7, 8, 9]],\n",
       "          dtype=int32)"
      ]
     },
     "execution_count": 88,
     "metadata": {},
     "output_type": "execute_result"
    }
   ],
   "source": [
    "core_array"
   ]
  },
  {
   "cell_type": "code",
   "execution_count": 89,
   "id": "33bf1bcc-9a91-401f-9215-fa76e87856c7",
   "metadata": {},
   "outputs": [
    {
     "data": {
      "text/plain": [
       "9"
      ]
     },
     "execution_count": 89,
     "metadata": {},
     "output_type": "execute_result"
    }
   ],
   "source": [
    "core_array.size"
   ]
  },
  {
   "cell_type": "code",
   "execution_count": 91,
   "id": "95c0ef89-e319-4e9f-8e7e-f5d49cc7725a",
   "metadata": {},
   "outputs": [
    {
     "data": {
      "text/plain": [
       "dtype('int32')"
      ]
     },
     "execution_count": 91,
     "metadata": {},
     "output_type": "execute_result"
    }
   ],
   "source": [
    "core_array[0].dtype"
   ]
  },
  {
   "cell_type": "code",
   "execution_count": 95,
   "id": "0ca4589e-3646-4b5f-9dc6-6ae152114dc0",
   "metadata": {},
   "outputs": [],
   "source": [
    "x1=np.array([1,2,3,4])\n",
    "x2=np.array(['a','dd','xyz','12'])\n",
    "x3=np.array([1.1,2,3,4])"
   ]
  },
  {
   "cell_type": "code",
   "execution_count": 96,
   "id": "3e3bca85-41b3-4e8c-a322-f0a1e3080f10",
   "metadata": {},
   "outputs": [
    {
     "data": {
      "text/plain": [
       "rec.array([(1, 'a', 1.1), (2, 'dd', 2. ), (3, 'xyz', 3. ), (4, '12', 4. )],\n",
       "          dtype=[('a', '<i4'), ('b', '<U3'), ('c', '<f8')])"
      ]
     },
     "execution_count": 96,
     "metadata": {},
     "output_type": "execute_result"
    }
   ],
   "source": [
    "r = np.core.records.fromarrays([x1,x2,x3],names='a,b,c')\n",
    "r"
   ]
  },
  {
   "cell_type": "code",
   "execution_count": 97,
   "id": "68703703-445d-4729-bac2-e4938769558f",
   "metadata": {},
   "outputs": [
    {
     "name": "stdout",
     "output_type": "stream",
     "text": [
      "(2, 'dd', 2.)\n"
     ]
    }
   ],
   "source": [
    "print(r[1])"
   ]
  },
  {
   "cell_type": "code",
   "execution_count": 98,
   "id": "4445bda1-8a2b-4821-bac2-7a6d0f03f0fb",
   "metadata": {},
   "outputs": [
    {
     "data": {
      "text/plain": [
       "rec.array([(456, 'dbe', 1.2), (  2, 'de', 1.3)],\n",
       "          dtype=[('col1', '<i4'), ('col2', '<U3'), ('col3', '<f8')])"
      ]
     },
     "execution_count": 98,
     "metadata": {},
     "output_type": "execute_result"
    }
   ],
   "source": [
    "r=np.core.records.fromrecords([(456,'dbe',1.2),(2,'de',1.3)],\n",
    "names='col1,col2,col3')\n",
    "r"
   ]
  },
  {
   "cell_type": "code",
   "execution_count": 99,
   "id": "e1d00174-2bb7-4898-9889-647a12ca1e3b",
   "metadata": {},
   "outputs": [],
   "source": [
    "import pickle"
   ]
  },
  {
   "cell_type": "code",
   "execution_count": 100,
   "id": "498e63cd-9f90-4c39-8f7b-c877bb70841c",
   "metadata": {},
   "outputs": [],
   "source": [
    "path = \"Arrays/Data\""
   ]
  },
  {
   "cell_type": "code",
   "execution_count": 103,
   "id": "078da947-85fe-4e69-b502-636d9db334bb",
   "metadata": {},
   "outputs": [
    {
     "data": {
      "text/plain": [
       "b'\\x80\\x04\\x95N\\x01\\x00\\x00\\x00\\x00\\x00\\x00\\x8c\\x15numpy.core.multiarray\\x94\\x8c\\x0c_reconstruct\\x94\\x93\\x94\\x8c\\x05numpy\\x94\\x8c\\x08recarray\\x94\\x93\\x94K\\x00\\x85\\x94C\\x01b\\x94\\x87\\x94R\\x94(K\\x01K\\x02\\x85\\x94h\\x03\\x8c\\x05dtype\\x94\\x93\\x94h\\x03\\x8c\\x06record\\x94\\x93\\x94\\x89\\x88\\x87\\x94R\\x94(K\\x03\\x8c\\x01|\\x94N\\x8c\\x04col1\\x94\\x8c\\x04col2\\x94\\x8c\\x04col3\\x94\\x87\\x94}\\x94(h\\x12h\\x0c\\x8c\\x02i4\\x94\\x89\\x88\\x87\\x94R\\x94(K\\x03\\x8c\\x01<\\x94NNNJ\\xff\\xff\\xff\\xffJ\\xff\\xff\\xff\\xffK\\x00t\\x94bK\\x00\\x86\\x94h\\x13h\\x0c\\x8c\\x02U3\\x94\\x89\\x88\\x87\\x94R\\x94(K\\x03h\\x1aNNNK\\x0cK\\x04K\\x08t\\x94bK\\x04\\x86\\x94h\\x14h\\x0c\\x8c\\x02f8\\x94\\x89\\x88\\x87\\x94R\\x94(K\\x03h\\x1aNNNJ\\xff\\xff\\xff\\xffJ\\xff\\xff\\xff\\xffK\\x00t\\x94bK\\x10\\x86\\x94uK\\x18K\\x01K\\x18t\\x94b\\x89C0\\xc8\\x01\\x00\\x00d\\x00\\x00\\x00b\\x00\\x00\\x00e\\x00\\x00\\x00333333\\xf3?\\x02\\x00\\x00\\x00d\\x00\\x00\\x00e\\x00\\x00\\x00\\x00\\x00\\x00\\x00\\xcd\\xcc\\xcc\\xcc\\xcc\\xcc\\xf4?\\x94t\\x94b.'"
      ]
     },
     "execution_count": 103,
     "metadata": {},
     "output_type": "execute_result"
    }
   ],
   "source": [
    "dump = pickle.dumps(r)\n",
    "dump"
   ]
  },
  {
   "cell_type": "code",
   "execution_count": 104,
   "id": "e40fd1dd-8323-48ee-b40b-cd8653f105f4",
   "metadata": {},
   "outputs": [
    {
     "data": {
      "text/plain": [
       "rec.array([(456, 'dbe', 1.2), (  2, 'de', 1.3)],\n",
       "          dtype=[('col1', '<i4'), ('col2', '<U3'), ('col3', '<f8')])"
      ]
     },
     "execution_count": 104,
     "metadata": {},
     "output_type": "execute_result"
    }
   ],
   "source": [
    "pickle.loads(dump)"
   ]
  },
  {
   "cell_type": "code",
   "execution_count": 116,
   "id": "a87845db-51d2-4ca0-8c59-3f7171daa818",
   "metadata": {},
   "outputs": [],
   "source": [
    "blob = b'\\x01\\x02\\x03abc\\x04abcd'"
   ]
  },
  {
   "cell_type": "code",
   "execution_count": 118,
   "id": "f2f6d4b3-4fb3-423a-aaf4-4df8f878ce1f",
   "metadata": {},
   "outputs": [
    {
     "data": {
      "text/plain": [
       "rec.array([(1, 2, 4, b'abc', b'd')],\n",
       "          dtype=[('f0', 'u1'), ('f1', 'u1'), ('f2', 'u1'), ('f3', 'S3'), ('f4', 'S1')])"
      ]
     },
     "execution_count": 118,
     "metadata": {},
     "output_type": "execute_result"
    }
   ],
   "source": [
    "np.core.records.fromstring(blob,dtype='u1,u1,u1,S3,S1')"
   ]
  },
  {
   "cell_type": "markdown",
   "id": "6fdb497c-e2c0-4c42-9f1e-ddf5aa34aaea",
   "metadata": {},
   "source": [
    "<section id=\"building-matrices\">\n",
    "<h2>Building matrices<a class=\"headerlink\" href=\"#building-matrices\" title=\"Permalink to this heading\">#</a></h2>\n",
    "<table class=\"autosummary longtable table autosummary\">\n",
    "<tbody>\n",
    "<tr class=\"row-odd\"><td><p><a class=\"reference internal\" href=\"generated/numpy.diag.html#numpy.diag\" title=\"numpy.diag\"><code class=\"xref py py-obj docutils literal notranslate\"><span class=\"pre\">diag</span></code></a>(v[,&nbsp;k])</p></td>\n",
    "<td><p>Extract a diagonal or construct a diagonal array.</p></td>\n",
    "</tr>\n",
    "<tr class=\"row-even\"><td><p><a class=\"reference internal\" href=\"generated/numpy.diagflat.html#numpy.diagflat\" title=\"numpy.diagflat\"><code class=\"xref py py-obj docutils literal notranslate\"><span class=\"pre\">diagflat</span></code></a>(v[,&nbsp;k])</p></td>\n",
    "<td><p>Create a two-dimensional array with the flattened input as a diagonal.</p></td>\n",
    "</tr>\n",
    "<tr class=\"row-odd\"><td><p><a class=\"reference internal\" href=\"generated/numpy.tri.html#numpy.tri\" title=\"numpy.tri\"><code class=\"xref py py-obj docutils literal notranslate\"><span class=\"pre\">tri</span></code></a>(N[,&nbsp;M,&nbsp;k,&nbsp;dtype,&nbsp;like])</p></td>\n",
    "<td><p>An array with ones at and below the given diagonal and zeros elsewhere.</p></td>\n",
    "</tr>\n",
    "<tr class=\"row-even\"><td><p><a class=\"reference internal\" href=\"generated/numpy.tril.html#numpy.tril\" title=\"numpy.tril\"><code class=\"xref py py-obj docutils literal notranslate\"><span class=\"pre\">tril</span></code></a>(m[,&nbsp;k])</p></td>\n",
    "<td><p>Lower triangle of an array.</p></td>\n",
    "</tr>\n",
    "<tr class=\"row-odd\"><td><p><a class=\"reference internal\" href=\"generated/numpy.triu.html#numpy.triu\" title=\"numpy.triu\"><code class=\"xref py py-obj docutils literal notranslate\"><span class=\"pre\">triu</span></code></a>(m[,&nbsp;k])</p></td>\n",
    "<td><p>Upper triangle of an array.</p></td>\n",
    "</tr>\n",
    "<tr class=\"row-even\"><td><p><a class=\"reference internal\" href=\"generated/numpy.vander.html#numpy.vander\" title=\"numpy.vander\"><code class=\"xref py py-obj docutils literal notranslate\"><span class=\"pre\">vander</span></code></a>(x[,&nbsp;N,&nbsp;increasing])</p></td>\n",
    "<td><p>Generate a Vandermonde matrix.</p></td>\n",
    "</tr>\n",
    "</tbody>\n",
    "</table>\n",
    "</section>"
   ]
  },
  {
   "cell_type": "code",
   "execution_count": null,
   "id": "b3cf2be1-840f-406c-add2-60b810f4e077",
   "metadata": {},
   "outputs": [],
   "source": [
    "3  * 5 = 15\n",
    "5  * 3 = 15\n",
    "1  * 15 = 15\n",
    "15 * 1 = 15"
   ]
  },
  {
   "cell_type": "code",
   "execution_count": 128,
   "id": "25037f4b-823c-4001-80b0-4d14ff74e837",
   "metadata": {},
   "outputs": [
    {
     "data": {
      "text/plain": [
       "matrix([[ 0,  1,  2,  3],\n",
       "        [ 4,  5,  6,  7],\n",
       "        [ 8,  9, 10, 11]])"
      ]
     },
     "execution_count": 128,
     "metadata": {},
     "output_type": "execute_result"
    }
   ],
   "source": [
    "x = np.matrix(np.arange(12)).reshape(3,4)\n",
    "x"
   ]
  },
  {
   "cell_type": "code",
   "execution_count": 132,
   "id": "039bdefd-faa3-44d8-bea6-d4a6aabfb7ab",
   "metadata": {},
   "outputs": [],
   "source": [
    "di = np.diag(x)"
   ]
  },
  {
   "cell_type": "code",
   "execution_count": 133,
   "id": "7507b463-789d-4104-9827-3799df93d06b",
   "metadata": {},
   "outputs": [
    {
     "data": {
      "text/plain": [
       "array([ 0,  5, 10])"
      ]
     },
     "execution_count": 133,
     "metadata": {},
     "output_type": "execute_result"
    }
   ],
   "source": [
    "di"
   ]
  },
  {
   "cell_type": "code",
   "execution_count": 134,
   "id": "08d6b7e5-34c4-492b-8676-cc6358ae5af9",
   "metadata": {},
   "outputs": [
    {
     "ename": "TypeError",
     "evalue": "Invalid shape (3,) for image data",
     "output_type": "error",
     "traceback": [
      "\u001b[1;31m---------------------------------------------------------------------------\u001b[0m",
      "\u001b[1;31mTypeError\u001b[0m                                 Traceback (most recent call last)",
      "Cell \u001b[1;32mIn[134], line 1\u001b[0m\n\u001b[1;32m----> 1\u001b[0m \u001b[43mplt\u001b[49m\u001b[38;5;241;43m.\u001b[39;49m\u001b[43mimshow\u001b[49m\u001b[43m(\u001b[49m\u001b[43mdi\u001b[49m\u001b[43m)\u001b[49m\n",
      "File \u001b[1;32mc:\\users\\esambatireddyprasad\\appdata\\local\\programs\\python\\python38\\lib\\site-packages\\matplotlib\\pyplot.py:2695\u001b[0m, in \u001b[0;36mimshow\u001b[1;34m(X, cmap, norm, aspect, interpolation, alpha, vmin, vmax, origin, extent, interpolation_stage, filternorm, filterrad, resample, url, data, **kwargs)\u001b[0m\n\u001b[0;32m   2689\u001b[0m \u001b[38;5;129m@_copy_docstring_and_deprecators\u001b[39m(Axes\u001b[38;5;241m.\u001b[39mimshow)\n\u001b[0;32m   2690\u001b[0m \u001b[38;5;28;01mdef\u001b[39;00m \u001b[38;5;21mimshow\u001b[39m(\n\u001b[0;32m   2691\u001b[0m         X, cmap\u001b[38;5;241m=\u001b[39m\u001b[38;5;28;01mNone\u001b[39;00m, norm\u001b[38;5;241m=\u001b[39m\u001b[38;5;28;01mNone\u001b[39;00m, \u001b[38;5;241m*\u001b[39m, aspect\u001b[38;5;241m=\u001b[39m\u001b[38;5;28;01mNone\u001b[39;00m, interpolation\u001b[38;5;241m=\u001b[39m\u001b[38;5;28;01mNone\u001b[39;00m,\n\u001b[0;32m   2692\u001b[0m         alpha\u001b[38;5;241m=\u001b[39m\u001b[38;5;28;01mNone\u001b[39;00m, vmin\u001b[38;5;241m=\u001b[39m\u001b[38;5;28;01mNone\u001b[39;00m, vmax\u001b[38;5;241m=\u001b[39m\u001b[38;5;28;01mNone\u001b[39;00m, origin\u001b[38;5;241m=\u001b[39m\u001b[38;5;28;01mNone\u001b[39;00m, extent\u001b[38;5;241m=\u001b[39m\u001b[38;5;28;01mNone\u001b[39;00m,\n\u001b[0;32m   2693\u001b[0m         interpolation_stage\u001b[38;5;241m=\u001b[39m\u001b[38;5;28;01mNone\u001b[39;00m, filternorm\u001b[38;5;241m=\u001b[39m\u001b[38;5;28;01mTrue\u001b[39;00m, filterrad\u001b[38;5;241m=\u001b[39m\u001b[38;5;241m4.0\u001b[39m,\n\u001b[0;32m   2694\u001b[0m         resample\u001b[38;5;241m=\u001b[39m\u001b[38;5;28;01mNone\u001b[39;00m, url\u001b[38;5;241m=\u001b[39m\u001b[38;5;28;01mNone\u001b[39;00m, data\u001b[38;5;241m=\u001b[39m\u001b[38;5;28;01mNone\u001b[39;00m, \u001b[38;5;241m*\u001b[39m\u001b[38;5;241m*\u001b[39mkwargs):\n\u001b[1;32m-> 2695\u001b[0m     __ret \u001b[38;5;241m=\u001b[39m \u001b[43mgca\u001b[49m\u001b[43m(\u001b[49m\u001b[43m)\u001b[49m\u001b[38;5;241;43m.\u001b[39;49m\u001b[43mimshow\u001b[49m\u001b[43m(\u001b[49m\n\u001b[0;32m   2696\u001b[0m \u001b[43m        \u001b[49m\u001b[43mX\u001b[49m\u001b[43m,\u001b[49m\u001b[43m \u001b[49m\u001b[43mcmap\u001b[49m\u001b[38;5;241;43m=\u001b[39;49m\u001b[43mcmap\u001b[49m\u001b[43m,\u001b[49m\u001b[43m \u001b[49m\u001b[43mnorm\u001b[49m\u001b[38;5;241;43m=\u001b[39;49m\u001b[43mnorm\u001b[49m\u001b[43m,\u001b[49m\u001b[43m \u001b[49m\u001b[43maspect\u001b[49m\u001b[38;5;241;43m=\u001b[39;49m\u001b[43maspect\u001b[49m\u001b[43m,\u001b[49m\n\u001b[0;32m   2697\u001b[0m \u001b[43m        \u001b[49m\u001b[43minterpolation\u001b[49m\u001b[38;5;241;43m=\u001b[39;49m\u001b[43minterpolation\u001b[49m\u001b[43m,\u001b[49m\u001b[43m \u001b[49m\u001b[43malpha\u001b[49m\u001b[38;5;241;43m=\u001b[39;49m\u001b[43malpha\u001b[49m\u001b[43m,\u001b[49m\u001b[43m \u001b[49m\u001b[43mvmin\u001b[49m\u001b[38;5;241;43m=\u001b[39;49m\u001b[43mvmin\u001b[49m\u001b[43m,\u001b[49m\n\u001b[0;32m   2698\u001b[0m \u001b[43m        \u001b[49m\u001b[43mvmax\u001b[49m\u001b[38;5;241;43m=\u001b[39;49m\u001b[43mvmax\u001b[49m\u001b[43m,\u001b[49m\u001b[43m \u001b[49m\u001b[43morigin\u001b[49m\u001b[38;5;241;43m=\u001b[39;49m\u001b[43morigin\u001b[49m\u001b[43m,\u001b[49m\u001b[43m \u001b[49m\u001b[43mextent\u001b[49m\u001b[38;5;241;43m=\u001b[39;49m\u001b[43mextent\u001b[49m\u001b[43m,\u001b[49m\n\u001b[0;32m   2699\u001b[0m \u001b[43m        \u001b[49m\u001b[43minterpolation_stage\u001b[49m\u001b[38;5;241;43m=\u001b[39;49m\u001b[43minterpolation_stage\u001b[49m\u001b[43m,\u001b[49m\n\u001b[0;32m   2700\u001b[0m \u001b[43m        \u001b[49m\u001b[43mfilternorm\u001b[49m\u001b[38;5;241;43m=\u001b[39;49m\u001b[43mfilternorm\u001b[49m\u001b[43m,\u001b[49m\u001b[43m \u001b[49m\u001b[43mfilterrad\u001b[49m\u001b[38;5;241;43m=\u001b[39;49m\u001b[43mfilterrad\u001b[49m\u001b[43m,\u001b[49m\u001b[43m \u001b[49m\u001b[43mresample\u001b[49m\u001b[38;5;241;43m=\u001b[39;49m\u001b[43mresample\u001b[49m\u001b[43m,\u001b[49m\n\u001b[0;32m   2701\u001b[0m \u001b[43m        \u001b[49m\u001b[43murl\u001b[49m\u001b[38;5;241;43m=\u001b[39;49m\u001b[43murl\u001b[49m\u001b[43m,\u001b[49m\u001b[43m \u001b[49m\u001b[38;5;241;43m*\u001b[39;49m\u001b[38;5;241;43m*\u001b[39;49m\u001b[43m(\u001b[49m\u001b[43m{\u001b[49m\u001b[38;5;124;43m\"\u001b[39;49m\u001b[38;5;124;43mdata\u001b[39;49m\u001b[38;5;124;43m\"\u001b[39;49m\u001b[43m:\u001b[49m\u001b[43m \u001b[49m\u001b[43mdata\u001b[49m\u001b[43m}\u001b[49m\u001b[43m \u001b[49m\u001b[38;5;28;43;01mif\u001b[39;49;00m\u001b[43m \u001b[49m\u001b[43mdata\u001b[49m\u001b[43m \u001b[49m\u001b[38;5;129;43;01mis\u001b[39;49;00m\u001b[43m \u001b[49m\u001b[38;5;129;43;01mnot\u001b[39;49;00m\u001b[43m \u001b[49m\u001b[38;5;28;43;01mNone\u001b[39;49;00m\u001b[43m \u001b[49m\u001b[38;5;28;43;01melse\u001b[39;49;00m\u001b[43m \u001b[49m\u001b[43m{\u001b[49m\u001b[43m}\u001b[49m\u001b[43m)\u001b[49m\u001b[43m,\u001b[49m\n\u001b[0;32m   2702\u001b[0m \u001b[43m        \u001b[49m\u001b[38;5;241;43m*\u001b[39;49m\u001b[38;5;241;43m*\u001b[39;49m\u001b[43mkwargs\u001b[49m\u001b[43m)\u001b[49m\n\u001b[0;32m   2703\u001b[0m     sci(__ret)\n\u001b[0;32m   2704\u001b[0m     \u001b[38;5;28;01mreturn\u001b[39;00m __ret\n",
      "File \u001b[1;32mc:\\users\\esambatireddyprasad\\appdata\\local\\programs\\python\\python38\\lib\\site-packages\\matplotlib\\__init__.py:1473\u001b[0m, in \u001b[0;36m_preprocess_data.<locals>.inner\u001b[1;34m(ax, data, *args, **kwargs)\u001b[0m\n\u001b[0;32m   1470\u001b[0m \u001b[38;5;129m@functools\u001b[39m\u001b[38;5;241m.\u001b[39mwraps(func)\n\u001b[0;32m   1471\u001b[0m \u001b[38;5;28;01mdef\u001b[39;00m \u001b[38;5;21minner\u001b[39m(ax, \u001b[38;5;241m*\u001b[39margs, data\u001b[38;5;241m=\u001b[39m\u001b[38;5;28;01mNone\u001b[39;00m, \u001b[38;5;241m*\u001b[39m\u001b[38;5;241m*\u001b[39mkwargs):\n\u001b[0;32m   1472\u001b[0m     \u001b[38;5;28;01mif\u001b[39;00m data \u001b[38;5;129;01mis\u001b[39;00m \u001b[38;5;28;01mNone\u001b[39;00m:\n\u001b[1;32m-> 1473\u001b[0m         \u001b[38;5;28;01mreturn\u001b[39;00m \u001b[43mfunc\u001b[49m\u001b[43m(\u001b[49m\u001b[43max\u001b[49m\u001b[43m,\u001b[49m\u001b[43m \u001b[49m\u001b[38;5;241;43m*\u001b[39;49m\u001b[38;5;28;43mmap\u001b[39;49m\u001b[43m(\u001b[49m\u001b[43msanitize_sequence\u001b[49m\u001b[43m,\u001b[49m\u001b[43m \u001b[49m\u001b[43margs\u001b[49m\u001b[43m)\u001b[49m\u001b[43m,\u001b[49m\u001b[43m \u001b[49m\u001b[38;5;241;43m*\u001b[39;49m\u001b[38;5;241;43m*\u001b[39;49m\u001b[43mkwargs\u001b[49m\u001b[43m)\u001b[49m\n\u001b[0;32m   1475\u001b[0m     bound \u001b[38;5;241m=\u001b[39m new_sig\u001b[38;5;241m.\u001b[39mbind(ax, \u001b[38;5;241m*\u001b[39margs, \u001b[38;5;241m*\u001b[39m\u001b[38;5;241m*\u001b[39mkwargs)\n\u001b[0;32m   1476\u001b[0m     auto_label \u001b[38;5;241m=\u001b[39m (bound\u001b[38;5;241m.\u001b[39marguments\u001b[38;5;241m.\u001b[39mget(label_namer)\n\u001b[0;32m   1477\u001b[0m                   \u001b[38;5;129;01mor\u001b[39;00m bound\u001b[38;5;241m.\u001b[39mkwargs\u001b[38;5;241m.\u001b[39mget(label_namer))\n",
      "File \u001b[1;32mc:\\users\\esambatireddyprasad\\appdata\\local\\programs\\python\\python38\\lib\\site-packages\\matplotlib\\axes\\_axes.py:5663\u001b[0m, in \u001b[0;36mAxes.imshow\u001b[1;34m(self, X, cmap, norm, aspect, interpolation, alpha, vmin, vmax, origin, extent, interpolation_stage, filternorm, filterrad, resample, url, **kwargs)\u001b[0m\n\u001b[0;32m   5655\u001b[0m \u001b[38;5;28mself\u001b[39m\u001b[38;5;241m.\u001b[39mset_aspect(aspect)\n\u001b[0;32m   5656\u001b[0m im \u001b[38;5;241m=\u001b[39m mimage\u001b[38;5;241m.\u001b[39mAxesImage(\u001b[38;5;28mself\u001b[39m, cmap\u001b[38;5;241m=\u001b[39mcmap, norm\u001b[38;5;241m=\u001b[39mnorm,\n\u001b[0;32m   5657\u001b[0m                       interpolation\u001b[38;5;241m=\u001b[39minterpolation, origin\u001b[38;5;241m=\u001b[39morigin,\n\u001b[0;32m   5658\u001b[0m                       extent\u001b[38;5;241m=\u001b[39mextent, filternorm\u001b[38;5;241m=\u001b[39mfilternorm,\n\u001b[0;32m   5659\u001b[0m                       filterrad\u001b[38;5;241m=\u001b[39mfilterrad, resample\u001b[38;5;241m=\u001b[39mresample,\n\u001b[0;32m   5660\u001b[0m                       interpolation_stage\u001b[38;5;241m=\u001b[39minterpolation_stage,\n\u001b[0;32m   5661\u001b[0m                       \u001b[38;5;241m*\u001b[39m\u001b[38;5;241m*\u001b[39mkwargs)\n\u001b[1;32m-> 5663\u001b[0m \u001b[43mim\u001b[49m\u001b[38;5;241;43m.\u001b[39;49m\u001b[43mset_data\u001b[49m\u001b[43m(\u001b[49m\u001b[43mX\u001b[49m\u001b[43m)\u001b[49m\n\u001b[0;32m   5664\u001b[0m im\u001b[38;5;241m.\u001b[39mset_alpha(alpha)\n\u001b[0;32m   5665\u001b[0m \u001b[38;5;28;01mif\u001b[39;00m im\u001b[38;5;241m.\u001b[39mget_clip_path() \u001b[38;5;129;01mis\u001b[39;00m \u001b[38;5;28;01mNone\u001b[39;00m:\n\u001b[0;32m   5666\u001b[0m     \u001b[38;5;66;03m# image does not already have clipping set, clip to axes patch\u001b[39;00m\n",
      "File \u001b[1;32mc:\\users\\esambatireddyprasad\\appdata\\local\\programs\\python\\python38\\lib\\site-packages\\matplotlib\\image.py:710\u001b[0m, in \u001b[0;36m_ImageBase.set_data\u001b[1;34m(self, A)\u001b[0m\n\u001b[0;32m    706\u001b[0m     \u001b[38;5;28mself\u001b[39m\u001b[38;5;241m.\u001b[39m_A \u001b[38;5;241m=\u001b[39m \u001b[38;5;28mself\u001b[39m\u001b[38;5;241m.\u001b[39m_A[:, :, \u001b[38;5;241m0\u001b[39m]\n\u001b[0;32m    708\u001b[0m \u001b[38;5;28;01mif\u001b[39;00m \u001b[38;5;129;01mnot\u001b[39;00m (\u001b[38;5;28mself\u001b[39m\u001b[38;5;241m.\u001b[39m_A\u001b[38;5;241m.\u001b[39mndim \u001b[38;5;241m==\u001b[39m \u001b[38;5;241m2\u001b[39m\n\u001b[0;32m    709\u001b[0m         \u001b[38;5;129;01mor\u001b[39;00m \u001b[38;5;28mself\u001b[39m\u001b[38;5;241m.\u001b[39m_A\u001b[38;5;241m.\u001b[39mndim \u001b[38;5;241m==\u001b[39m \u001b[38;5;241m3\u001b[39m \u001b[38;5;129;01mand\u001b[39;00m \u001b[38;5;28mself\u001b[39m\u001b[38;5;241m.\u001b[39m_A\u001b[38;5;241m.\u001b[39mshape[\u001b[38;5;241m-\u001b[39m\u001b[38;5;241m1\u001b[39m] \u001b[38;5;129;01min\u001b[39;00m [\u001b[38;5;241m3\u001b[39m, \u001b[38;5;241m4\u001b[39m]):\n\u001b[1;32m--> 710\u001b[0m     \u001b[38;5;28;01mraise\u001b[39;00m \u001b[38;5;167;01mTypeError\u001b[39;00m(\u001b[38;5;124m\"\u001b[39m\u001b[38;5;124mInvalid shape \u001b[39m\u001b[38;5;132;01m{}\u001b[39;00m\u001b[38;5;124m for image data\u001b[39m\u001b[38;5;124m\"\u001b[39m\n\u001b[0;32m    711\u001b[0m                     \u001b[38;5;241m.\u001b[39mformat(\u001b[38;5;28mself\u001b[39m\u001b[38;5;241m.\u001b[39m_A\u001b[38;5;241m.\u001b[39mshape))\n\u001b[0;32m    713\u001b[0m \u001b[38;5;28;01mif\u001b[39;00m \u001b[38;5;28mself\u001b[39m\u001b[38;5;241m.\u001b[39m_A\u001b[38;5;241m.\u001b[39mndim \u001b[38;5;241m==\u001b[39m \u001b[38;5;241m3\u001b[39m:\n\u001b[0;32m    714\u001b[0m     \u001b[38;5;66;03m# If the input data has values outside the valid range (after\u001b[39;00m\n\u001b[0;32m    715\u001b[0m     \u001b[38;5;66;03m# normalisation), we issue a warning and then clip X to the bounds\u001b[39;00m\n\u001b[0;32m    716\u001b[0m     \u001b[38;5;66;03m# - otherwise casting wraps extreme values, hiding outliers and\u001b[39;00m\n\u001b[0;32m    717\u001b[0m     \u001b[38;5;66;03m# making reliable interpretation impossible.\u001b[39;00m\n\u001b[0;32m    718\u001b[0m     high \u001b[38;5;241m=\u001b[39m \u001b[38;5;241m255\u001b[39m \u001b[38;5;28;01mif\u001b[39;00m np\u001b[38;5;241m.\u001b[39missubdtype(\u001b[38;5;28mself\u001b[39m\u001b[38;5;241m.\u001b[39m_A\u001b[38;5;241m.\u001b[39mdtype, np\u001b[38;5;241m.\u001b[39minteger) \u001b[38;5;28;01melse\u001b[39;00m \u001b[38;5;241m1\u001b[39m\n",
      "\u001b[1;31mTypeError\u001b[0m: Invalid shape (3,) for image data"
     ]
    },
    {
     "data": {
      "image/png": "[encoded data removed]",
      "text/plain": [
       "<Figure size 640x480 with 1 Axes>"
      ]
     },
     "metadata": {},
     "output_type": "display_data"
    }
   ],
   "source": [
    "plt.imshow(di)"
   ]
  },
  {
   "cell_type": "code",
   "execution_count": 131,
   "id": "85588fc7-a5e5-453b-aa32-0ae361cc8a6c",
   "metadata": {},
   "outputs": [
    {
     "data": {
      "text/plain": [
       "<matplotlib.image.AxesImage at 0x23491e2d070>"
      ]
     },
     "execution_count": 131,
     "metadata": {},
     "output_type": "execute_result"
    },
    {
     "data": {
      "image/png": "[encoded data removed]",
      "text/plain": [
       "<Figure size 640x480 with 1 Axes>"
      ]
     },
     "metadata": {},
     "output_type": "display_data"
    }
   ],
   "source": [
    "plt.imshow(x)"
   ]
  },
  {
   "cell_type": "code",
   "execution_count": 135,
   "id": "ec894444-39ee-4341-b534-9c17ed5e21d8",
   "metadata": {},
   "outputs": [
    {
     "data": {
      "text/plain": [
       "array([[1, 0, 0, 0],\n",
       "       [0, 2, 0, 0],\n",
       "       [0, 0, 3, 0],\n",
       "       [0, 0, 0, 4]])"
      ]
     },
     "execution_count": 135,
     "metadata": {},
     "output_type": "execute_result"
    }
   ],
   "source": [
    "np.diagflat([[1,2], [3,4]])"
   ]
  },
  {
   "cell_type": "code",
   "execution_count": 139,
   "id": "1e59c3b3-71e1-4fc2-9d0f-ae3bf823f575",
   "metadata": {},
   "outputs": [
    {
     "data": {
      "text/plain": [
       "array([[0, 0, 0, 0, 1, 0],\n",
       "       [0, 0, 0, 0, 0, 2],\n",
       "       [0, 0, 0, 0, 0, 0],\n",
       "       [0, 0, 0, 0, 0, 0],\n",
       "       [0, 0, 0, 0, 0, 0],\n",
       "       [0, 0, 0, 0, 0, 0]])"
      ]
     },
     "execution_count": 139,
     "metadata": {},
     "output_type": "execute_result"
    }
   ],
   "source": [
    "np.diagflat([1,2], 4)"
   ]
  },
  {
   "cell_type": "code",
   "execution_count": 162,
   "id": "58a0c5c1-7a8b-41f8-9846-e8b90de2a977",
   "metadata": {},
   "outputs": [
    {
     "data": {
      "text/plain": [
       "array([[[[[2, 4, 5],\n",
       "          [2, 3, 2]]]]])"
      ]
     },
     "execution_count": 162,
     "metadata": {},
     "output_type": "execute_result"
    }
   ],
   "source": [
    "array = np.array([[[[[2,4,5],[2,3,2]]]]],\n",
    "                 # [[2.5,3.5,6.6],[2.5,3.5,6.6]],\n",
    "                 #  [['hi','hello','python'],['reddy','prasade','AIML']],\n",
    "                 )\n",
    "array"
   ]
  },
  {
   "cell_type": "code",
   "execution_count": 163,
   "id": "add952b6-2a60-4b14-aeed-3e4aeb21df01",
   "metadata": {},
   "outputs": [
    {
     "data": {
      "text/plain": [
       "(1, 1, 1, 2, 3)"
      ]
     },
     "execution_count": 163,
     "metadata": {},
     "output_type": "execute_result"
    }
   ],
   "source": [
    "array.shape"
   ]
  },
  {
   "cell_type": "code",
   "execution_count": 164,
   "id": "c45524b4-084a-4af8-a69d-6ec4cb98c87e",
   "metadata": {},
   "outputs": [
    {
     "data": {
      "text/plain": [
       "5"
      ]
     },
     "execution_count": 164,
     "metadata": {},
     "output_type": "execute_result"
    }
   ],
   "source": [
    "array.ndim"
   ]
  },
  {
   "cell_type": "code",
   "execution_count": 181,
   "id": "42202987-ca62-49c7-a8b7-7fada36482b8",
   "metadata": {},
   "outputs": [
    {
     "data": {
      "text/plain": [
       "array([[1, 0, 0, 0, 0, 0, 0, 0, 0, 0, 0, 0, 0, 0, 0],\n",
       "       [1, 1, 0, 0, 0, 0, 0, 0, 0, 0, 0, 0, 0, 0, 0],\n",
       "       [1, 1, 1, 0, 0, 0, 0, 0, 0, 0, 0, 0, 0, 0, 0],\n",
       "       [1, 1, 1, 1, 0, 0, 0, 0, 0, 0, 0, 0, 0, 0, 0],\n",
       "       [1, 1, 1, 1, 1, 0, 0, 0, 0, 0, 0, 0, 0, 0, 0],\n",
       "       [1, 1, 1, 1, 1, 1, 0, 0, 0, 0, 0, 0, 0, 0, 0],\n",
       "       [1, 1, 1, 1, 1, 1, 1, 0, 0, 0, 0, 0, 0, 0, 0],\n",
       "       [1, 1, 1, 1, 1, 1, 1, 1, 0, 0, 0, 0, 0, 0, 0],\n",
       "       [1, 1, 1, 1, 1, 1, 1, 1, 1, 0, 0, 0, 0, 0, 0],\n",
       "       [1, 1, 1, 1, 1, 1, 1, 1, 1, 1, 0, 0, 0, 0, 0],\n",
       "       [1, 1, 1, 1, 1, 1, 1, 1, 1, 1, 1, 0, 0, 0, 0],\n",
       "       [1, 1, 1, 1, 1, 1, 1, 1, 1, 1, 1, 1, 0, 0, 0],\n",
       "       [1, 1, 1, 1, 1, 1, 1, 1, 1, 1, 1, 1, 1, 0, 0],\n",
       "       [1, 1, 1, 1, 1, 1, 1, 1, 1, 1, 1, 1, 1, 1, 0],\n",
       "       [1, 1, 1, 1, 1, 1, 1, 1, 1, 1, 1, 1, 1, 1, 1]])"
      ]
     },
     "execution_count": 181,
     "metadata": {},
     "output_type": "execute_result"
    }
   ],
   "source": [
    "np.tri(15, 15, 0, dtype=int)"
   ]
  },
  {
   "cell_type": "code",
   "execution_count": 184,
   "id": "cfcdfa23-7889-417b-979d-26d35abc8451",
   "metadata": {},
   "outputs": [
    {
     "data": {
      "text/plain": [
       "array([[0, 0, 0, 0, 0, 0, 0, 0, 0, 0, 0, 0, 0, 0, 0],\n",
       "       [1, 0, 0, 0, 0, 0, 0, 0, 0, 0, 0, 0, 0, 0, 0],\n",
       "       [1, 1, 0, 0, 0, 0, 0, 0, 0, 0, 0, 0, 0, 0, 0],\n",
       "       [1, 1, 1, 0, 0, 0, 0, 0, 0, 0, 0, 0, 0, 0, 0],\n",
       "       [1, 1, 1, 1, 0, 0, 0, 0, 0, 0, 0, 0, 0, 0, 0],\n",
       "       [1, 1, 1, 1, 1, 0, 0, 0, 0, 0, 0, 0, 0, 0, 0],\n",
       "       [1, 1, 1, 1, 1, 1, 0, 0, 0, 0, 0, 0, 0, 0, 0],\n",
       "       [1, 1, 1, 1, 1, 1, 1, 0, 0, 0, 0, 0, 0, 0, 0],\n",
       "       [1, 1, 1, 1, 1, 1, 1, 1, 0, 0, 0, 0, 0, 0, 0],\n",
       "       [1, 1, 1, 1, 1, 1, 1, 1, 1, 0, 0, 0, 0, 0, 0],\n",
       "       [1, 1, 1, 1, 1, 1, 1, 1, 1, 1, 0, 0, 0, 0, 0],\n",
       "       [1, 1, 1, 1, 1, 1, 1, 1, 1, 1, 1, 0, 0, 0, 0],\n",
       "       [1, 1, 1, 1, 1, 1, 1, 1, 1, 1, 1, 1, 0, 0, 0],\n",
       "       [1, 1, 1, 1, 1, 1, 1, 1, 1, 1, 1, 1, 1, 0, 0],\n",
       "       [1, 1, 1, 1, 1, 1, 1, 1, 1, 1, 1, 1, 1, 1, 0]])"
      ]
     },
     "execution_count": 184,
     "metadata": {},
     "output_type": "execute_result"
    }
   ],
   "source": [
    "np.tri(15, 15, -1, dtype=int)"
   ]
  },
  {
   "cell_type": "code",
   "execution_count": null,
   "id": "726f1a41-fdc9-46e0-b163-a5d4f02505d8",
   "metadata": {},
   "outputs": [],
   "source": []
  },
  {
   "cell_type": "code",
   "execution_count": null,
   "id": "354dedea-b65a-41ad-be61-7b7150de488d",
   "metadata": {},
   "outputs": [],
   "source": []
  },
  {
   "cell_type": "markdown",
   "id": "2444fb09-8ed8-4927-85b7-3dc413c4db45",
   "metadata": {},
   "source": [
    "<section id=\"the-matrix-class\">\n",
    "<h2>The Matrix class<a class=\"headerlink\" href=\"#the-matrix-class\" title=\"Permalink to this heading\">#</a></h2>\n",
    "<table class=\"autosummary longtable table autosummary\">\n",
    "<tbody>\n",
    "<tr class=\"row-odd\"><td><p><a class=\"reference internal\" href=\"generated/numpy.mat.html#numpy.mat\" title=\"numpy.mat\"><code class=\"xref py py-obj docutils literal notranslate\"><span class=\"pre\">mat</span></code></a>(data[,&nbsp;dtype])</p></td>\n",
    "<td><p>Interpret the input as a matrix.</p></td>\n",
    "</tr>\n",
    "<tr class=\"row-even\"><td><p><a class=\"reference internal\" href=\"generated/numpy.bmat.html#numpy.bmat\" title=\"numpy.bmat\"><code class=\"xref py py-obj docutils literal notranslate\"><span class=\"pre\">bmat</span></code></a>(obj[,&nbsp;ldict,&nbsp;gdict])</p></td>\n",
    "<td><p>Build a matrix object from a string, nested sequence, or array.</p></td>\n",
    "</tr>\n",
    "</tbody>\n",
    "</table>\n",
    "</section>"
   ]
  },
  {
   "cell_type": "code",
   "execution_count": 187,
   "id": "c8b008cc-d850-4d4a-a57c-847a7c161392",
   "metadata": {},
   "outputs": [],
   "source": [
    "mx = np.matrix([[2,4,5],[3,5,8]])"
   ]
  },
  {
   "cell_type": "code",
   "execution_count": 188,
   "id": "7776e972-36e6-44c9-a52b-4ebac90ff0bd",
   "metadata": {},
   "outputs": [
    {
     "data": {
      "text/plain": [
       "matrix([[2, 4, 5],\n",
       "        [3, 5, 8]])"
      ]
     },
     "execution_count": 188,
     "metadata": {},
     "output_type": "execute_result"
    }
   ],
   "source": [
    "mx"
   ]
  },
  {
   "cell_type": "code",
   "execution_count": 189,
   "id": "ee452bc0-3d32-48a2-ab10-f22a68c57502",
   "metadata": {},
   "outputs": [
    {
     "data": {
      "text/plain": [
       "matrix([[2, 4, 5],\n",
       "        [3, 5, 8]])"
      ]
     },
     "execution_count": 189,
     "metadata": {},
     "output_type": "execute_result"
    }
   ],
   "source": [
    "np.mat(mx)"
   ]
  },
  {
   "cell_type": "code",
   "execution_count": 190,
   "id": "2f973ecd-7258-4eca-8552-55990c96a266",
   "metadata": {},
   "outputs": [],
   "source": [
    "x = np.array([[1, 2], [3, 4]])"
   ]
  },
  {
   "cell_type": "code",
   "execution_count": 191,
   "id": "94e6d715-6950-4a6a-bf1f-6fcef5088daa",
   "metadata": {},
   "outputs": [
    {
     "data": {
      "text/plain": [
       "matrix([[1, 2],\n",
       "        [3, 4]])"
      ]
     },
     "execution_count": 191,
     "metadata": {},
     "output_type": "execute_result"
    }
   ],
   "source": [
    "m = np.asmatrix(x)\n",
    "m"
   ]
  },
  {
   "cell_type": "code",
   "execution_count": 194,
   "id": "08e2774d-55be-4745-a9be-2426218b33cf",
   "metadata": {},
   "outputs": [],
   "source": [
    "m[0,0] = 5"
   ]
  },
  {
   "cell_type": "code",
   "execution_count": 195,
   "id": "609ac891-a568-4185-9775-60c890900d2f",
   "metadata": {},
   "outputs": [
    {
     "data": {
      "text/plain": [
       "matrix([[5, 2],\n",
       "        [3, 4]])"
      ]
     },
     "execution_count": 195,
     "metadata": {},
     "output_type": "execute_result"
    }
   ],
   "source": [
    "m"
   ]
  },
  {
   "cell_type": "code",
   "execution_count": 196,
   "id": "b196b422-aab7-4e89-81ab-4eb620bc5f0f",
   "metadata": {},
   "outputs": [],
   "source": [
    "matrix = np.mat(x, dtype = float)"
   ]
  },
  {
   "cell_type": "code",
   "execution_count": 197,
   "id": "be284dd1-9d0d-4ccf-b16d-5fabbf84a50b",
   "metadata": {},
   "outputs": [
    {
     "data": {
      "text/plain": [
       "matrix([[5., 2.],\n",
       "        [3., 4.]])"
      ]
     },
     "execution_count": 197,
     "metadata": {},
     "output_type": "execute_result"
    }
   ],
   "source": [
    "matrix"
   ]
  },
  {
   "cell_type": "code",
   "execution_count": 198,
   "id": "d17f13bf-e8bb-4f04-b71c-e0cf037e57de",
   "metadata": {},
   "outputs": [],
   "source": [
    "A = np.mat('1 1; 1 1')\n",
    "B = np.mat('2 2; 2 2')\n",
    "C = np.mat('3 4; 5 6')\n",
    "D = np.mat('7 8; 9 0')"
   ]
  },
  {
   "cell_type": "code",
   "execution_count": 199,
   "id": "a17203ce-e9c9-4a74-9a06-962e809c7d56",
   "metadata": {},
   "outputs": [
    {
     "data": {
      "text/plain": [
       "matrix([[1, 1],\n",
       "        [1, 1]])"
      ]
     },
     "execution_count": 199,
     "metadata": {},
     "output_type": "execute_result"
    }
   ],
   "source": [
    "A"
   ]
  },
  {
   "cell_type": "code",
   "execution_count": 200,
   "id": "1c407462-0901-4356-aad5-b487349ae26b",
   "metadata": {},
   "outputs": [
    {
     "data": {
      "text/plain": [
       "matrix([[1, 1, 2, 2],\n",
       "        [1, 1, 2, 2],\n",
       "        [3, 4, 7, 8],\n",
       "        [5, 6, 9, 0]])"
      ]
     },
     "execution_count": 200,
     "metadata": {},
     "output_type": "execute_result"
    }
   ],
   "source": [
    "np.bmat([[A, B], [C, D]])"
   ]
  },
  {
   "cell_type": "code",
   "execution_count": null,
   "id": "1f10adf3-ef6a-4b8c-a057-3cf8e0a45e0b",
   "metadata": {},
   "outputs": [],
   "source": []
  }
 ],
 "metadata": {
  "kernelspec": {
   "display_name": "Python 3 (ipykernel)",
   "language": "python",
   "name": "python3"
  },
  "language_info": {
   "codemirror_mode": {
    "name": "ipython",
    "version": 3
   },
   "file_extension": ".py",
   "mimetype": "text/x-python",
   "name": "python",
   "nbconvert_exporter": "python",
   "pygments_lexer": "ipython3",
   "version": "3.8.10"
  }
 },
 "nbformat": 4,
 "nbformat_minor": 5
}
