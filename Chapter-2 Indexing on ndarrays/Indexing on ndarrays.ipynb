{
 "cells": [
  {
   "cell_type": "markdown",
   "id": "28422f6f-512d-49b9-9b80-e3b60e4c2293",
   "metadata": {},
   "source": [
    "### Indexing on ndarrays\n",
    "\n",
    "<p id=\"index-0\"><a class=\"reference internal\" href=\"../reference/generated/numpy.ndarray.html#numpy.ndarray\" title=\"numpy.ndarray\"><code class=\"xref py py-class docutils literal notranslate\"><span class=\"pre\">ndarrays</span></code></a> can be indexed using the standard Python\r\n",
    "<code class=\"docutils literal notranslate\"><span class=\"pre\">x[obj]</span></code> syntax, where <em>x</em> is the array and <em>obj</em> the selection\r\n",
    "There are different kinds of indexing available depending on <em>obj</em:\r\n",
    "basic indexing, advanced indexing and field access.<\n",
    "\n",
    "\n",
    "![](https://miro.medium.com/v2/resize:fit:1400/1*4xpufyWZWcIbabsOHVlc4g.png)/p>"
   ]
  },
  {
   "cell_type": "code",
   "execution_count": 2,
   "id": "73dae397-158b-42b9-8732-b32d7fa7e600",
   "metadata": {},
   "outputs": [],
   "source": [
    "import numpy as np"
   ]
  },
  {
   "cell_type": "code",
   "execution_count": 3,
   "id": "7b2f679c-bb53-410a-9541-fce51d186900",
   "metadata": {},
   "outputs": [
    {
     "data": {
      "text/plain": [
       "array([1, 2, 3, 4, 5])"
      ]
     },
     "execution_count": 3,
     "metadata": {},
     "output_type": "execute_result"
    }
   ],
   "source": [
    "a = np.arange(1,6)\n",
    "a"
   ]
  },
  {
   "cell_type": "code",
   "execution_count": 4,
   "id": "fc2f8b9d-5607-49ee-b5bb-e67d9b51acc8",
   "metadata": {},
   "outputs": [
    {
     "data": {
      "text/plain": [
       "2"
      ]
     },
     "execution_count": 4,
     "metadata": {},
     "output_type": "execute_result"
    }
   ],
   "source": [
    "a[1] # Indexing"
   ]
  },
  {
   "cell_type": "code",
   "execution_count": 5,
   "id": "3a53a437-3782-4612-99f7-27aa97a3b250",
   "metadata": {},
   "outputs": [
    {
     "data": {
      "text/plain": [
       "array([3, 4])"
      ]
     },
     "execution_count": 5,
     "metadata": {},
     "output_type": "execute_result"
    }
   ],
   "source": [
    "a[2:4] # Postive Slice"
   ]
  },
  {
   "cell_type": "code",
   "execution_count": 6,
   "id": "75745eab-1115-4d4a-b2bf-c2c0cbd04bf1",
   "metadata": {},
   "outputs": [
    {
     "data": {
      "text/plain": [
       "array([4, 5])"
      ]
     },
     "execution_count": 6,
     "metadata": {},
     "output_type": "execute_result"
    }
   ],
   "source": [
    "a[-2:] # Nagative Slice"
   ]
  },
  {
   "cell_type": "code",
   "execution_count": 7,
   "id": "db2cf37b-8a4e-4e9e-9175-b9b6d2100502",
   "metadata": {},
   "outputs": [
    {
     "data": {
      "text/plain": [
       "array([1, 3, 5])"
      ]
     },
     "execution_count": 7,
     "metadata": {},
     "output_type": "execute_result"
    }
   ],
   "source": [
    "a[::2] # extended Slice"
   ]
  },
  {
   "cell_type": "code",
   "execution_count": 11,
   "id": "c1efb845-02f1-4d7f-9818-6d5db924f294",
   "metadata": {},
   "outputs": [
    {
     "data": {
      "text/plain": [
       "array([3, 4, 5])"
      ]
     },
     "execution_count": 11,
     "metadata": {},
     "output_type": "execute_result"
    }
   ],
   "source": [
    "a[[2,3,4]] # Facncy Index"
   ]
  },
  {
   "cell_type": "code",
   "execution_count": 12,
   "id": "62ff8126-e48a-4dc8-a08e-4fbc3cd0e053",
   "metadata": {},
   "outputs": [
    {
     "data": {
      "text/plain": [
       "(10,)"
      ]
     },
     "execution_count": 12,
     "metadata": {},
     "output_type": "execute_result"
    }
   ],
   "source": [
    "x = np.arange(10) # Vector\n",
    "\n",
    "x.shape"
   ]
  },
  {
   "cell_type": "code",
   "execution_count": 13,
   "id": "e81d36f5-7a8a-4b75-8679-9682ee50f26a",
   "metadata": {},
   "outputs": [
    {
     "data": {
      "text/plain": [
       "1"
      ]
     },
     "execution_count": 13,
     "metadata": {},
     "output_type": "execute_result"
    }
   ],
   "source": [
    "x.ndim"
   ]
  },
  {
   "cell_type": "code",
   "execution_count": null,
   "id": "726b12ba-9344-4a82-ad53-82ad6f1039f3",
   "metadata": {},
   "outputs": [],
   "source": [
    "1 * 10 = 10\n",
    "10 * 1 = 10\n",
    "5 * 2 = 10 \n",
    "2 * 5 = 10\n"
   ]
  },
  {
   "cell_type": "code",
   "execution_count": 14,
   "id": "1006ddeb-5162-4e5a-91d3-70598e687f1c",
   "metadata": {},
   "outputs": [],
   "source": [
    "x.shape = (2,5) # Reshaping"
   ]
  },
  {
   "cell_type": "code",
   "execution_count": 15,
   "id": "4bdada00-e8c5-4f7a-b560-4f4ecaa64fa3",
   "metadata": {},
   "outputs": [
    {
     "data": {
      "text/plain": [
       "array([[0, 1, 2, 3, 4],\n",
       "       [5, 6, 7, 8, 9]])"
      ]
     },
     "execution_count": 15,
     "metadata": {},
     "output_type": "execute_result"
    }
   ],
   "source": [
    "x"
   ]
  },
  {
   "cell_type": "code",
   "execution_count": 16,
   "id": "37129e1d-7237-4fb1-9882-9bb9b0216dd0",
   "metadata": {},
   "outputs": [
    {
     "data": {
      "text/plain": [
       "2"
      ]
     },
     "execution_count": 16,
     "metadata": {},
     "output_type": "execute_result"
    }
   ],
   "source": [
    "x.ndim"
   ]
  },
  {
   "cell_type": "markdown",
   "id": "64314015-d813-4eaa-b47a-d121bf2f5944",
   "metadata": {
    "jp-MarkdownHeadingCollapsed": true
   },
   "source": [
    "#### Indexing"
   ]
  },
  {
   "cell_type": "code",
   "execution_count": 17,
   "id": "b7fdf668-3fd9-4f06-b3eb-bbcc822834f1",
   "metadata": {},
   "outputs": [
    {
     "data": {
      "text/plain": [
       "array([5, 6, 7, 8, 9])"
      ]
     },
     "execution_count": 17,
     "metadata": {},
     "output_type": "execute_result"
    }
   ],
   "source": [
    "x[1]"
   ]
  },
  {
   "cell_type": "code",
   "execution_count": 18,
   "id": "ebcc5596-a49c-47c1-96fc-7bab1dc1d4a9",
   "metadata": {},
   "outputs": [
    {
     "data": {
      "text/plain": [
       "5"
      ]
     },
     "execution_count": 18,
     "metadata": {},
     "output_type": "execute_result"
    }
   ],
   "source": [
    "x[1][0]"
   ]
  },
  {
   "cell_type": "code",
   "execution_count": 19,
   "id": "26a4addb-029f-4a08-a848-f02198cb075b",
   "metadata": {},
   "outputs": [
    {
     "data": {
      "text/plain": [
       "5"
      ]
     },
     "execution_count": 19,
     "metadata": {},
     "output_type": "execute_result"
    }
   ],
   "source": [
    "x[1,0]"
   ]
  },
  {
   "cell_type": "code",
   "execution_count": 20,
   "id": "e4e641f1-1c29-43b2-b109-1cafa34bd6c9",
   "metadata": {},
   "outputs": [
    {
     "data": {
      "text/plain": [
       "array([ 1,  2,  3,  4,  5,  6,  7,  8,  9, 10, 11, 12, 13, 14, 15, 16, 17,\n",
       "       18, 19, 20, 21, 22, 23, 24])"
      ]
     },
     "execution_count": 20,
     "metadata": {},
     "output_type": "execute_result"
    }
   ],
   "source": [
    "_3d = np.array(np.arange(1,25))\n",
    "_3d"
   ]
  },
  {
   "cell_type": "code",
   "execution_count": 21,
   "id": "f3656964-456e-4f17-a04c-ddddf7fdb279",
   "metadata": {},
   "outputs": [
    {
     "data": {
      "text/plain": [
       "(24,)"
      ]
     },
     "execution_count": 21,
     "metadata": {},
     "output_type": "execute_result"
    }
   ],
   "source": [
    "_3d.shape"
   ]
  },
  {
   "cell_type": "code",
   "execution_count": 22,
   "id": "178cac81-57c7-48f3-806d-62590a032bdd",
   "metadata": {},
   "outputs": [
    {
     "data": {
      "text/plain": [
       "1"
      ]
     },
     "execution_count": 22,
     "metadata": {},
     "output_type": "execute_result"
    }
   ],
   "source": [
    "_3d.ndim"
   ]
  },
  {
   "cell_type": "code",
   "execution_count": 23,
   "id": "88f05b90-bb61-4d7e-a510-4173dd14407c",
   "metadata": {},
   "outputs": [
    {
     "data": {
      "text/plain": [
       "24"
      ]
     },
     "execution_count": 23,
     "metadata": {},
     "output_type": "execute_result"
    }
   ],
   "source": [
    "# 2 D Array Covertion \n",
    "12 * 2\n",
    "2 * 12\n",
    "24 * 1\n",
    "1 * 24\n",
    "6 * 4\n",
    "4 * 6 \n",
    "8 * 3\n",
    "3 * 8 "
   ]
  },
  {
   "cell_type": "code",
   "execution_count": null,
   "id": "b9594ad3-5089-470e-b21a-0b547834a999",
   "metadata": {},
   "outputs": [],
   "source": [
    "# 3 D Array Conversation\n",
    "\n",
    "6 * 2 * 2\n",
    "2 * 6 * 2\n",
    "12 * 2 * 1\n"
   ]
  },
  {
   "cell_type": "code",
   "execution_count": 24,
   "id": "91250fe6-e28f-479c-a9fa-4c7056d3cdd7",
   "metadata": {},
   "outputs": [
    {
     "data": {
      "text/plain": [
       "array([[[ 1,  2],\n",
       "        [ 3,  4]],\n",
       "\n",
       "       [[ 5,  6],\n",
       "        [ 7,  8]],\n",
       "\n",
       "       [[ 9, 10],\n",
       "        [11, 12]],\n",
       "\n",
       "       [[13, 14],\n",
       "        [15, 16]],\n",
       "\n",
       "       [[17, 18],\n",
       "        [19, 20]],\n",
       "\n",
       "       [[21, 22],\n",
       "        [23, 24]]])"
      ]
     },
     "execution_count": 24,
     "metadata": {},
     "output_type": "execute_result"
    }
   ],
   "source": [
    "_3d_convert = _3d.reshape(6,2,2)\n",
    "_3d_convert"
   ]
  },
  {
   "cell_type": "code",
   "execution_count": 25,
   "id": "05447917-3039-482a-8416-22bbcc335baf",
   "metadata": {},
   "outputs": [
    {
     "data": {
      "text/plain": [
       "3"
      ]
     },
     "execution_count": 25,
     "metadata": {},
     "output_type": "execute_result"
    }
   ],
   "source": [
    "_3d_convert.ndim"
   ]
  },
  {
   "cell_type": "code",
   "execution_count": 26,
   "id": "d22f05e9-c5da-4ca5-a3c3-58c9ab24c4d5",
   "metadata": {},
   "outputs": [
    {
     "data": {
      "text/plain": [
       "(6, 2, 2)"
      ]
     },
     "execution_count": 26,
     "metadata": {},
     "output_type": "execute_result"
    }
   ],
   "source": [
    "_3d_convert.shape"
   ]
  },
  {
   "cell_type": "code",
   "execution_count": 27,
   "id": "30a781f4-5615-4ad7-bf81-c87c94a69f9c",
   "metadata": {},
   "outputs": [
    {
     "data": {
      "text/plain": [
       "array([[1, 2],\n",
       "       [3, 4]])"
      ]
     },
     "execution_count": 27,
     "metadata": {},
     "output_type": "execute_result"
    }
   ],
   "source": [
    "_3d_convert[0]"
   ]
  },
  {
   "cell_type": "code",
   "execution_count": 28,
   "id": "aa879b77-944c-4f89-b9e3-bbdc6b59af01",
   "metadata": {},
   "outputs": [
    {
     "data": {
      "text/plain": [
       "array([3, 4])"
      ]
     },
     "execution_count": 28,
     "metadata": {},
     "output_type": "execute_result"
    }
   ],
   "source": [
    "_3d_convert[0][1]"
   ]
  },
  {
   "cell_type": "code",
   "execution_count": 29,
   "id": "2a11d3e9-4aba-4b41-8d56-1e2e96fab0a1",
   "metadata": {},
   "outputs": [
    {
     "data": {
      "text/plain": [
       "4"
      ]
     },
     "execution_count": 29,
     "metadata": {},
     "output_type": "execute_result"
    }
   ],
   "source": [
    "_3d_convert[0][1][1]"
   ]
  },
  {
   "cell_type": "code",
   "execution_count": 30,
   "id": "201014b1-fd71-4b89-8595-cd3f90c59051",
   "metadata": {},
   "outputs": [
    {
     "data": {
      "text/plain": [
       "4"
      ]
     },
     "execution_count": 30,
     "metadata": {},
     "output_type": "execute_result"
    }
   ],
   "source": [
    "_3d_convert[0,1,1] "
   ]
  },
  {
   "cell_type": "markdown",
   "id": "44d1cdeb-841a-4cd1-9af3-26b9fa0ec946",
   "metadata": {},
   "source": [
    "#### Slicing and striding\n",
    "\n",
    "\n",
    "\n",
    "<p>Basic slicing extends Python’s basic concept of slicing to N\r\n",
    "dimensions. Basic slicing occurs when <em>obj</em> is a <a class=\"reference external\" href=\"https://docs.python.org/3/library/functions.html#slice\" title=\"(in Python v3.12)\"><code class=\"xref py py-class docutils literal notranslate\"><span class=\"pre\">slice</span></code></a> object\r\n",
    "(constructed by <code class=\"docutils literal notranslate\"><span class=\"pre\">start:stop:step</span></code> notation inside of brackets), an\r\n",
    "integer, or a tuple of slice objects and integers. <a class=\"reference external\" href=\"https://docs.python.org/3/library/constants.html#Ellipsis\" title=\"(in Python v3.12)\"><code class=\"xref py py-data docutils literal notranslate\"><span class=\"pre\">Ellipsis</span></code></a>\r\n",
    "and <a class=\"reference internal\" href=\"../reference/constants.html#numpy.newaxis\" title=\"numpy.newaxis\"><code class=\"xref py py-const docutils literal notranslate\"><span class=\"pre\">newaxis</span></code></a> objects can be interspersed with these as\r\n",
    "well\n",
    "\n",
    "<p id=\"index-1\">The simplest case of indexing with <em>N</em> integers returns an <a class=\"reference internal\" href=\"../reference/arrays.scalars.html#arrays-scalars\"><span class=\"std std-ref\">array\r\n",
    "scalar</span></a> representing the corresponding item.  As in\r\n",
    "Python, all indices are zero-based: for the <em>i</em>-th index <span class=\"math notranslate nohighlight\"><span class=\"MathJax_Preview\" style=\"color: inherit; display: none;\"></span><span class=\"MathJax_SVG\" id=\"MathJax-Element-1-Frame\" tabindex=\"0\" data-mathml=\"<math xmlns=&quot;http://www.w3.org/1998/Math/MathML&quot;><msub><mi>n</mi><mi>i</mi></msub></math>\" role=\"presentation\" style=\"font-size: 100%; display: inline-block; position: relative;\"><svg xmlns:xlink=\"http://www.w3.org/1999/xlink\" width=\"2.194ex\" height=\"1.752ex\" viewBox=\"0 -538 944.8 754.3\" role=\"img\" focusable=\"false\" style=\"vertical-align: -0.503ex;\" aria-hidden=\"true\"><g stroke=\"currentColor\" fill=\"currentColor\" stroke-width=\"0\" transform=\"matrix(1 0 0 -1 0 0)\"><use xlink:href=\"#MJMATHI-6E\" x=\"0\" y=\"0\"></use><use transform=\"scale(0.707)\" xlink:href=\"#MJMATHI-69\" x=\"849\" y=\"-213\"></use></g></svg><span class=\"MJX_Assistive_MathML\" role=\"presentation\"><math xmlns=\"http://www.w3.org/1998/Math/MathML\"><msub><mi>n</mi><mi>i</mi></msub></math></span></span><script type=\"math/tex\" id=\"MathJax-Element-1\">n_i</script></span>,\r\n",
    "the valid range is <span class=\"math notranslate nohighlight\"><span class=\"MathJax_Preview\" style=\"color: inherit; display: none;\"></span><span class=\"MathJax_SVG\" id=\"MathJax-Element-2-Frame\" tabindex=\"0\" data-mathml=\"<math xmlns=&quot;http://www.w3.org/1998/Math/MathML&quot;><mn>0</mn><mo>&amp;#x2264;</mo><msub><mi>n</mi><mi>i</mi></msub><mo>&amp;lt;</mo><msub><mi>d</mi><mi>i</mi></msub></math>\" role=\"presentation\" style=\"font-size: 100%; display: inline-block; position: relative;\"><svg xmlns:xlink=\"http://www.w3.org/1999/xlink\" width=\"11.562ex\" height=\"2.25ex\" viewBox=\"0 -752.3 4978.2 968.7\" role=\"img\" focusable=\"false\" style=\"vertical-align: -0.503ex;\" aria-hidden=\"true\"><g stroke=\"currentColor\" fill=\"currentColor\" stroke-width=\"0\" transform=\"matrix(1 0 0 -1 0 0)\"><use xlink:href=\"#MJMAIN-30\" x=\"0\" y=\"0\"></use><use xlink:href=\"#MJMAIN-2264\" x=\"778\" y=\"0\"></use><g transform=\"translate(1834,0)\"><use xlink:href=\"#MJMATHI-6E\" x=\"0\" y=\"0\"></use><use transform=\"scale(0.707)\" xlink:href=\"#MJMATHI-69\" x=\"849\" y=\"-213\"></use></g><use xlink:href=\"#MJMAIN-3C\" x=\"3057\" y=\"0\"></use><g transform=\"translate(4113,0)\"><use xlink:href=\"#MJMATHI-64\" x=\"0\" y=\"0\"></use><use transform=\"scale(0.707)\" xlink:href=\"#MJMATHI-69\" x=\"736\" y=\"-213\"></use></g></g></svg><span class=\"MJX_Assistive_MathML\" role=\"presentation\"><math xmlns=\"http://www.w3.org/1998/Math/MathML\"><mn>0</mn><mo>≤</mo><msub><mi>n</mi><mi>i</mi></msub><mo>&lt;</mo><msub><mi>d</mi><mi>i</mi></msub></math></span></span><script type=\"math/tex\" id=\"MathJax-Element-2\">0 \\le n_i < d_i</script></span> where <span class=\"math notranslate nohighlight\"><span class=\"MathJax_Preview\" style=\"color: inherit; display: none;\"></span><span class=\"MathJax_SVG\" id=\"MathJax-Element-3-Frame\" tabindex=\"0\" data-mathml=\"<math xmlns=&quot;http://www.w3.org/1998/Math/MathML&quot;><msub><mi>d</mi><mi>i</mi></msub></math>\" role=\"presentation\" style=\"font-size: 100%; display: inline-block; position: relative;\"><svg xmlns:xlink=\"http://www.w3.org/1999/xlink\" width=\"2.009ex\" height=\"2.25ex\" viewBox=\"0 -752.3 864.8 968.7\" role=\"img\" focusable=\"false\" style=\"vertical-align: -0.503ex;\" aria-hidden=\"true\"><g stroke=\"currentColor\" fill=\"currentColor\" stroke-width=\"0\" transform=\"matrix(1 0 0 -1 0 0)\"><use xlink:href=\"#MJMATHI-64\" x=\"0\" y=\"0\"></use><use transform=\"scale(0.707)\" xlink:href=\"#MJMATHI-69\" x=\"736\" y=\"-213\"></use></g></svg><span class=\"MJX_Assistive_MathML\" role=\"presentation\"><math xmlns=\"http://www.w3.org/1998/Math/MathML\"><msub><mi>d</mi><mi>i</mi></msub></math></span></span><script type=\"math/tex\" id=\"MathJax-Element-3\">d_i</script></span> is the\r\n",
    "<em>i</em>-th element of the shape of the array.  Negative indices are\r\n",
    "interpreted as counting from the end of the array (<em>i.e.</em>, if\r\n",
    "<span class=\"math notranslate nohighlight\"><span class=\"MathJax_Preview\" style=\"color: inherit; display: none;\"></span><span class=\"MathJax_SVG\" id=\"MathJax-Element-4-Frame\" tabindex=\"0\" data-mathml=\"<math xmlns=&quot;http://www.w3.org/1998/Math/MathML&quot;><msub><mi>n</mi><mi>i</mi></msub><mo>&amp;lt;</mo><mn>0</mn></math>\" role=\"presentation\" style=\"font-size: 100%; display: inline-block; position: relative;\"><svg xmlns:xlink=\"http://www.w3.org/1999/xlink\" width=\"6.455ex\" height=\"2.25ex\" viewBox=\"0 -752.3 2779.4 968.7\" role=\"img\" focusable=\"false\" style=\"vertical-align: -0.503ex;\" aria-hidden=\"true\"><g stroke=\"currentColor\" fill=\"currentColor\" stroke-width=\"0\" transform=\"matrix(1 0 0 -1 0 0)\"><use xlink:href=\"#MJMATHI-6E\" x=\"0\" y=\"0\"></use><use transform=\"scale(0.707)\" xlink:href=\"#MJMATHI-69\" x=\"849\" y=\"-213\"></use><use xlink:href=\"#MJMAIN-3C\" x=\"1222\" y=\"0\"></use><use xlink:href=\"#MJMAIN-30\" x=\"2278\" y=\"0\"></use></g></svg><span class=\"MJX_Assistive_MathML\" role=\"presentation\"><math xmlns=\"http://www.w3.org/1998/Math/MathML\"><msub><mi>n</mi><mi>i</mi></msub><mo>&lt;</mo><mn>0</mn></math></span></span><script type=\"math/tex\" id=\"MathJax-Element-4\">n_i < 0</script></span>, it means <span class=\"math notranslate nohighlight\"><span class=\"MathJax_Preview\" style=\"color: inherit; display: none;\"></span><span class=\"MathJax_SVG\" id=\"MathJax-Element-5-Frame\" tabindex=\"0\" data-mathml=\"<math xmlns=&quot;http://www.w3.org/1998/Math/MathML&quot;><msub><mi>n</mi><mi>i</mi></msub><mo>+</mo><msub><mi>d</mi><mi>i</mi></msub></math>\" role=\"presentation\" style=\"font-size: 100%; display: inline-block; position: relative;\"><svg xmlns:xlink=\"http://www.w3.org/1999/xlink\" width=\"7.043ex\" height=\"2.25ex\" viewBox=\"0 -752.3 3032.6 968.7\" role=\"img\" focusable=\"false\" style=\"vertical-align: -0.503ex;\" aria-hidden=\"true\"><g stroke=\"currentColor\" fill=\"currentColor\" stroke-width=\"0\" transform=\"matrix(1 0 0 -1 0 0)\"><use xlink:href=\"#MJMATHI-6E\" x=\"0\" y=\"0\"></use><use transform=\"scale(0.707)\" xlink:href=\"#MJMATHI-69\" x=\"849\" y=\"-213\"></use><use xlink:href=\"#MJMAIN-2B\" x=\"1167\" y=\"0\"></use><g transform=\"translate(2167,0)\"><use xlink:href=\"#MJMATHI-64\" x=\"0\" y=\"0\"></use><use transform=\"scale(0.707)\" xlink:href=\"#MJMATHI-69\" x=\"736\" y=\"-213\"></use></g></g></svg><span class=\"MJX_Assistive_MathML\" role=\"presentation\"><math xmlns=\"http://www.w3.org/1998/Math/MathML\"><msub><mi>n</mi><mi>i</mi></msub><mo>+</mo><msub><mi>d</mi><mi>i</mi></msub></math></span></span><script type=\"math/tex\" id=\"MathJax-Element-5\">n_i + d_i</script></span>).</p>.</p>"
   ]
  },
  {
   "cell_type": "code",
   "execution_count": 3,
   "id": "ce973793-23fc-4ea4-9c6a-85760e87f7ba",
   "metadata": {},
   "outputs": [
    {
     "data": {
      "text/plain": [
       "array([0, 1, 2, 3, 4, 5, 6, 7, 8, 9])"
      ]
     },
     "execution_count": 3,
     "metadata": {},
     "output_type": "execute_result"
    }
   ],
   "source": [
    "x = np.array([0, 1, 2, 3, 4, 5, 6, 7, 8, 9])\n",
    "x"
   ]
  },
  {
   "cell_type": "code",
   "execution_count": 5,
   "id": "e1d01cca-4d45-4e81-9298-9a1233df5abc",
   "metadata": {},
   "outputs": [
    {
     "data": {
      "text/plain": [
       "array([1, 2, 3, 4, 5, 6])"
      ]
     },
     "execution_count": 5,
     "metadata": {},
     "output_type": "execute_result"
    }
   ],
   "source": [
    "x[1:7]"
   ]
  },
  {
   "cell_type": "code",
   "execution_count": 6,
   "id": "8c61ec1c-5089-4755-b131-92a2582e0a0a",
   "metadata": {},
   "outputs": [
    {
     "data": {
      "text/plain": [
       "array([1, 4])"
      ]
     },
     "execution_count": 6,
     "metadata": {},
     "output_type": "execute_result"
    }
   ],
   "source": [
    "x[1:7:3]"
   ]
  },
  {
   "cell_type": "code",
   "execution_count": 7,
   "id": "d899cc21-60cb-47bf-860b-15644864a4fc",
   "metadata": {},
   "outputs": [
    {
     "data": {
      "text/plain": [
       "array([8, 9])"
      ]
     },
     "execution_count": 7,
     "metadata": {},
     "output_type": "execute_result"
    }
   ],
   "source": [
    "x[-2:10]"
   ]
  },
  {
   "cell_type": "code",
   "execution_count": 9,
   "id": "b9f68be5-d6a2-4456-92be-1f9c2e114105",
   "metadata": {},
   "outputs": [
    {
     "data": {
      "text/plain": [
       "array([7, 6, 5, 4])"
      ]
     },
     "execution_count": 9,
     "metadata": {},
     "output_type": "execute_result"
    }
   ],
   "source": [
    "x[-3:3:-1]"
   ]
  },
  {
   "cell_type": "code",
   "execution_count": 10,
   "id": "3d4c9b3e-2397-4c0c-8126-8c207f72daf9",
   "metadata": {},
   "outputs": [
    {
     "data": {
      "text/plain": [
       "array([[[1],\n",
       "        [2],\n",
       "        [3]],\n",
       "\n",
       "       [[4],\n",
       "        [5],\n",
       "        [6]]])"
      ]
     },
     "execution_count": 10,
     "metadata": {},
     "output_type": "execute_result"
    }
   ],
   "source": [
    "x = np.array([[[1],[2],[3]], [[4],[5],[6]]])\n",
    "x"
   ]
  },
  {
   "cell_type": "code",
   "execution_count": 11,
   "id": "a5002480-a164-4777-b5ab-0c158964f601",
   "metadata": {},
   "outputs": [
    {
     "data": {
      "text/plain": [
       "(2, 3, 1)"
      ]
     },
     "execution_count": 11,
     "metadata": {},
     "output_type": "execute_result"
    }
   ],
   "source": [
    "x.shape"
   ]
  },
  {
   "cell_type": "code",
   "execution_count": 13,
   "id": "e62b1d26-3036-427e-83ce-a2493ad5d84a",
   "metadata": {},
   "outputs": [
    {
     "data": {
      "text/plain": [
       "array([[4],\n",
       "       [5],\n",
       "       [6]])"
      ]
     },
     "execution_count": 13,
     "metadata": {},
     "output_type": "execute_result"
    }
   ],
   "source": [
    "x[1]"
   ]
  },
  {
   "cell_type": "code",
   "execution_count": 14,
   "id": "6965032b-0a0d-465d-b89b-b2367e67892a",
   "metadata": {},
   "outputs": [
    {
     "data": {
      "text/plain": [
       "array([[[4],\n",
       "        [5],\n",
       "        [6]]])"
      ]
     },
     "execution_count": 14,
     "metadata": {},
     "output_type": "execute_result"
    }
   ],
   "source": [
    "x[1:2]"
   ]
  },
  {
   "cell_type": "markdown",
   "id": "a37e81fd-8729-40e6-a391-e41ab73e5195",
   "metadata": {},
   "source": [
    "##### Dimensional indexing tools"
   ]
  },
  {
   "cell_type": "code",
   "execution_count": 19,
   "id": "77c51e98-f260-4a49-a96b-5eb80c980f94",
   "metadata": {},
   "outputs": [
    {
     "data": {
      "text/plain": [
       "array([[1, 2, 3],\n",
       "       [4, 5, 6]])"
      ]
     },
     "execution_count": 19,
     "metadata": {},
     "output_type": "execute_result"
    }
   ],
   "source": [
    "x[..., 0] # Ellipsis expands to the number of objects needed for the selection tuple to index all dimensions"
   ]
  },
  {
   "cell_type": "code",
   "execution_count": 20,
   "id": "83f9c0eb-cff1-47a4-b911-183e318b09d8",
   "metadata": {},
   "outputs": [
    {
     "data": {
      "text/plain": [
       "array([[1, 2, 3],\n",
       "       [4, 5, 6]])"
      ]
     },
     "execution_count": 20,
     "metadata": {},
     "output_type": "execute_result"
    }
   ],
   "source": [
    "x[:, :, 0]"
   ]
  },
  {
   "cell_type": "markdown",
   "id": "5605e321-880d-4b8c-b204-dbaa9d5dc599",
   "metadata": {},
   "source": [
    "Each `newaxis` object in the selection tuple serves to expand the dimensions of the resulting selection by one unit-length dimension."
   ]
  },
  {
   "cell_type": "code",
   "execution_count": 21,
   "id": "e2c4d895-32d8-4fd4-be70-ee5058bf100e",
   "metadata": {},
   "outputs": [
    {
     "data": {
      "text/plain": [
       "(2, 1, 3, 1)"
      ]
     },
     "execution_count": 21,
     "metadata": {},
     "output_type": "execute_result"
    }
   ],
   "source": [
    "x[:,np.newaxis,:,:].shape"
   ]
  },
  {
   "cell_type": "code",
   "execution_count": 22,
   "id": "ae60cf38-913f-4a5d-a3df-4734fd682117",
   "metadata": {},
   "outputs": [
    {
     "data": {
      "text/plain": [
       "(2, 1, 3, 1)"
      ]
     },
     "execution_count": 22,
     "metadata": {},
     "output_type": "execute_result"
    }
   ],
   "source": [
    "x[:, None, :, :].shape"
   ]
  },
  {
   "cell_type": "code",
   "execution_count": 23,
   "id": "7993afdf-a75b-4874-a023-de151f7b7e02",
   "metadata": {},
   "outputs": [
    {
     "data": {
      "text/plain": [
       "array([[[[1],\n",
       "         [2],\n",
       "         [3]]],\n",
       "\n",
       "\n",
       "       [[[4],\n",
       "         [5],\n",
       "         [6]]]])"
      ]
     },
     "execution_count": 23,
     "metadata": {},
     "output_type": "execute_result"
    }
   ],
   "source": [
    "x[:, None, :, :]"
   ]
  },
  {
   "cell_type": "code",
   "execution_count": 24,
   "id": "4d13bbfe-fc0d-41ba-b520-ab0c45f52d9d",
   "metadata": {},
   "outputs": [
    {
     "data": {
      "text/plain": [
       "array([0, 1, 2, 3, 4])"
      ]
     },
     "execution_count": 24,
     "metadata": {},
     "output_type": "execute_result"
    }
   ],
   "source": [
    "x = np.arange(5)\n",
    "x"
   ]
  },
  {
   "cell_type": "code",
   "execution_count": 26,
   "id": "e5fda7be-fdd3-4229-a903-9d510fd5835b",
   "metadata": {},
   "outputs": [
    {
     "data": {
      "text/plain": [
       "array([[0],\n",
       "       [1],\n",
       "       [2],\n",
       "       [3],\n",
       "       [4]])"
      ]
     },
     "execution_count": 26,
     "metadata": {},
     "output_type": "execute_result"
    }
   ],
   "source": [
    "x[:,np.newaxis] # Convert 1 dim to 2 dim"
   ]
  },
  {
   "cell_type": "code",
   "execution_count": 27,
   "id": "10d2a1b9-5c01-412a-ab47-48bf39a6a086",
   "metadata": {},
   "outputs": [
    {
     "data": {
      "text/plain": [
       "array([[0, 1, 2, 3, 4]])"
      ]
     },
     "execution_count": 27,
     "metadata": {},
     "output_type": "execute_result"
    }
   ],
   "source": [
    "x[np.newaxis,:] "
   ]
  },
  {
   "cell_type": "code",
   "execution_count": 25,
   "id": "d4239a01-68ef-4fe0-829d-a37ce2133311",
   "metadata": {},
   "outputs": [
    {
     "data": {
      "text/plain": [
       "array([[0, 1, 2, 3, 4],\n",
       "       [1, 2, 3, 4, 5],\n",
       "       [2, 3, 4, 5, 6],\n",
       "       [3, 4, 5, 6, 7],\n",
       "       [4, 5, 6, 7, 8]])"
      ]
     },
     "execution_count": 25,
     "metadata": {},
     "output_type": "execute_result"
    }
   ],
   "source": [
    "x[:,np.newaxis] + x[np.newaxis,:]"
   ]
  },
  {
   "cell_type": "code",
   "execution_count": 28,
   "id": "f8a75832-001d-4ecc-b00b-214d802ceed1",
   "metadata": {},
   "outputs": [
    {
     "data": {
      "text/plain": [
       "array([0, 1, 2, 3, 4])"
      ]
     },
     "execution_count": 28,
     "metadata": {},
     "output_type": "execute_result"
    }
   ],
   "source": [
    "x"
   ]
  },
  {
   "cell_type": "markdown",
   "id": "36b915a8-7847-4d5a-8dfa-b8847f313d4e",
   "metadata": {},
   "source": [
    "#### Advanced indexing \n",
    "\n",
    "1. Advanced Indexing is triggered when the selection object, obj, is a non-tuple sequence object, an ndarray (of data type integer or bool), or a tuple with at least one sequence object or ndarray (of data type integer or bool).\n",
    "2. There are **two types of advanced indexing**: `integer` and `Boolean`."
   ]
  },
  {
   "cell_type": "markdown",
   "id": "b7224e0f-8185-48d8-a623-f4e537264cf6",
   "metadata": {
    "jp-MarkdownHeadingCollapsed": true
   },
   "source": [
    "##### Integer Advance Indexig"
   ]
  },
  {
   "cell_type": "code",
   "execution_count": 29,
   "id": "400a3bfe-a138-4606-b406-e43fc9d14566",
   "metadata": {},
   "outputs": [
    {
     "data": {
      "text/plain": [
       "array([10,  9,  8,  7,  6,  5,  4,  3,  2])"
      ]
     },
     "execution_count": 29,
     "metadata": {},
     "output_type": "execute_result"
    }
   ],
   "source": [
    "x = np.arange(10, 1, -1)\n",
    "x"
   ]
  },
  {
   "cell_type": "code",
   "execution_count": 30,
   "id": "309c0a20-e547-412f-8786-a98f02e90c5e",
   "metadata": {},
   "outputs": [
    {
     "data": {
      "text/plain": [
       "array([7, 7, 9, 2])"
      ]
     },
     "execution_count": 30,
     "metadata": {},
     "output_type": "execute_result"
    }
   ],
   "source": [
    "x[np.array([3,3,1,8])] # array advanced indexing with integer"
   ]
  },
  {
   "cell_type": "code",
   "execution_count": 31,
   "id": "9fd9a2be-2e8a-4cf8-a1a2-8dd55027caa5",
   "metadata": {},
   "outputs": [
    {
     "data": {
      "text/plain": [
       "array([7, 7, 4, 2])"
      ]
     },
     "execution_count": 31,
     "metadata": {},
     "output_type": "execute_result"
    }
   ],
   "source": [
    "x[np.array([3,3,-3,8])]"
   ]
  },
  {
   "cell_type": "code",
   "execution_count": 32,
   "id": "e175cd2c-2ba4-4380-a4bb-628b011f6eec",
   "metadata": {},
   "outputs": [
    {
     "data": {
      "text/plain": [
       "array([[1, 2],\n",
       "       [3, 4],\n",
       "       [5, 6]])"
      ]
     },
     "execution_count": 32,
     "metadata": {},
     "output_type": "execute_result"
    }
   ],
   "source": [
    "x = np.array([[1, 2], [3, 4], [5, 6]])\n",
    "x"
   ]
  },
  {
   "cell_type": "code",
   "execution_count": 33,
   "id": "19b97148-3d24-40d8-8b00-f5b8892c26bf",
   "metadata": {},
   "outputs": [
    {
     "data": {
      "text/plain": [
       "array([[3, 4],\n",
       "       [5, 6]])"
      ]
     },
     "execution_count": 33,
     "metadata": {},
     "output_type": "execute_result"
    }
   ],
   "source": [
    "x[np.array([1, -1])]"
   ]
  },
  {
   "cell_type": "code",
   "execution_count": 37,
   "id": "cce5792a-ab76-48fd-8806-637e3b3f5a9f",
   "metadata": {},
   "outputs": [
    {
     "data": {
      "text/plain": [
       "array([[5, 6]])"
      ]
     },
     "execution_count": 37,
     "metadata": {},
     "output_type": "execute_result"
    }
   ],
   "source": [
    "x[np.array([2])]"
   ]
  },
  {
   "cell_type": "code",
   "execution_count": 38,
   "id": "99106801-a1ad-4bc7-b9b3-a2e8595762f3",
   "metadata": {},
   "outputs": [
    {
     "ename": "IndexError",
     "evalue": "index 3 is out of bounds for axis 0 with size 3",
     "output_type": "error",
     "traceback": [
      "\u001b[1;31m---------------------------------------------------------------------------\u001b[0m",
      "\u001b[1;31mIndexError\u001b[0m                                Traceback (most recent call last)",
      "Cell \u001b[1;32mIn[38], line 1\u001b[0m\n\u001b[1;32m----> 1\u001b[0m \u001b[43mx\u001b[49m\u001b[43m[\u001b[49m\u001b[43mnp\u001b[49m\u001b[38;5;241;43m.\u001b[39;49m\u001b[43marray\u001b[49m\u001b[43m(\u001b[49m\u001b[43m[\u001b[49m\u001b[38;5;241;43m3\u001b[39;49m\u001b[43m,\u001b[49m\u001b[43m \u001b[49m\u001b[38;5;241;43m4\u001b[39;49m\u001b[43m]\u001b[49m\u001b[43m)\u001b[49m\u001b[43m]\u001b[49m\n",
      "\u001b[1;31mIndexError\u001b[0m: index 3 is out of bounds for axis 0 with size 3"
     ]
    }
   ],
   "source": [
    "x[np.array([3, 4])]"
   ]
  },
  {
   "cell_type": "code",
   "execution_count": 39,
   "id": "c8b9fa15-fabc-476f-a1a4-e96b9050b4c4",
   "metadata": {},
   "outputs": [
    {
     "data": {
      "text/plain": [
       "array([[ 0,  1,  2,  3,  4,  5,  6],\n",
       "       [ 7,  8,  9, 10, 11, 12, 13],\n",
       "       [14, 15, 16, 17, 18, 19, 20],\n",
       "       [21, 22, 23, 24, 25, 26, 27],\n",
       "       [28, 29, 30, 31, 32, 33, 34]])"
      ]
     },
     "execution_count": 39,
     "metadata": {},
     "output_type": "execute_result"
    }
   ],
   "source": [
    "y = np.arange(35).reshape(5, 7)\n",
    "y"
   ]
  },
  {
   "cell_type": "code",
   "execution_count": 41,
   "id": "2988c818-6a08-4154-844d-f1d765c2675b",
   "metadata": {},
   "outputs": [
    {
     "data": {
      "text/plain": [
       "array([ 0, 15, 34])"
      ]
     },
     "execution_count": 41,
     "metadata": {},
     "output_type": "execute_result"
    }
   ],
   "source": [
    "y[np.array([0,2,4]),np.array([0,1,-1])]"
   ]
  },
  {
   "cell_type": "code",
   "execution_count": 42,
   "id": "83e3dc86-b4e4-4588-ba12-704824adf53b",
   "metadata": {},
   "outputs": [
    {
     "ename": "IndexError",
     "evalue": "shape mismatch: indexing arrays could not be broadcast together with shapes (3,) (2,) ",
     "output_type": "error",
     "traceback": [
      "\u001b[1;31m---------------------------------------------------------------------------\u001b[0m",
      "\u001b[1;31mIndexError\u001b[0m                                Traceback (most recent call last)",
      "Cell \u001b[1;32mIn[42], line 1\u001b[0m\n\u001b[1;32m----> 1\u001b[0m \u001b[43my\u001b[49m\u001b[43m[\u001b[49m\u001b[43mnp\u001b[49m\u001b[38;5;241;43m.\u001b[39;49m\u001b[43marray\u001b[49m\u001b[43m(\u001b[49m\u001b[43m[\u001b[49m\u001b[38;5;241;43m0\u001b[39;49m\u001b[43m,\u001b[49m\u001b[38;5;241;43m2\u001b[39;49m\u001b[43m,\u001b[49m\u001b[38;5;241;43m4\u001b[39;49m\u001b[43m]\u001b[49m\u001b[43m)\u001b[49m\u001b[43m,\u001b[49m\u001b[43mnp\u001b[49m\u001b[38;5;241;43m.\u001b[39;49m\u001b[43marray\u001b[49m\u001b[43m(\u001b[49m\u001b[43m[\u001b[49m\u001b[38;5;241;43m0\u001b[39;49m\u001b[43m,\u001b[49m\u001b[38;5;241;43m1\u001b[39;49m\u001b[43m]\u001b[49m\u001b[43m)\u001b[49m\u001b[43m]\u001b[49m\n",
      "\u001b[1;31mIndexError\u001b[0m: shape mismatch: indexing arrays could not be broadcast together with shapes (3,) (2,) "
     ]
    }
   ],
   "source": [
    "y[np.array([0,2,4]),np.array([0,1])]"
   ]
  },
  {
   "cell_type": "code",
   "execution_count": 43,
   "id": "2910876e-2f98-415f-a13d-7113232d6008",
   "metadata": {},
   "outputs": [
    {
     "data": {
      "text/plain": [
       "array([ 1, 15, 29])"
      ]
     },
     "execution_count": 43,
     "metadata": {},
     "output_type": "execute_result"
    }
   ],
   "source": [
    "y[np.array([0, 2, 4]), 1]  # 2 Row Selected in one column"
   ]
  },
  {
   "cell_type": "code",
   "execution_count": 44,
   "id": "973670b1-8140-42f4-89ca-464be82d9eed",
   "metadata": {},
   "outputs": [
    {
     "data": {
      "text/plain": [
       "array([[ 0,  1,  2,  3,  4,  5,  6],\n",
       "       [14, 15, 16, 17, 18, 19, 20],\n",
       "       [28, 29, 30, 31, 32, 33, 34]])"
      ]
     },
     "execution_count": 44,
     "metadata": {},
     "output_type": "execute_result"
    }
   ],
   "source": [
    "y[np.array([0, 2, 4])]  # Only Row Selction"
   ]
  },
  {
   "cell_type": "code",
   "execution_count": 45,
   "id": "691edd7d-d020-40cd-b05f-64b79d54c6d7",
   "metadata": {},
   "outputs": [
    {
     "data": {
      "text/plain": [
       "array([[ 0,  1,  2],\n",
       "       [ 3,  4,  5],\n",
       "       [ 6,  7,  8],\n",
       "       [ 9, 10, 11]])"
      ]
     },
     "execution_count": 45,
     "metadata": {},
     "output_type": "execute_result"
    }
   ],
   "source": [
    "x = np.array([[ 0,  1,  2],\n",
    "              [ 3,  4,  5],\n",
    "              [ 6,  7,  8],\n",
    "              [ 9, 10, 11]])\n",
    "x"
   ]
  },
  {
   "cell_type": "code",
   "execution_count": 46,
   "id": "c64ffb44-b8e2-4488-9827-77a9c4b1d7ac",
   "metadata": {},
   "outputs": [
    {
     "data": {
      "text/plain": [
       "array([[0, 0],\n",
       "       [3, 3]], dtype=int64)"
      ]
     },
     "execution_count": 46,
     "metadata": {},
     "output_type": "execute_result"
    }
   ],
   "source": [
    "rows = np.array([[0, 0],\n",
    "                 [3, 3]], dtype=np.intp)\n",
    "rows"
   ]
  },
  {
   "cell_type": "code",
   "execution_count": 47,
   "id": "a3602c9d-c7ad-47d5-9cab-c4f50493d8fd",
   "metadata": {},
   "outputs": [],
   "source": [
    "columns = np.array([[0, 2],\n",
    "                    [0, 2]], dtype=np.intp)"
   ]
  },
  {
   "cell_type": "code",
   "execution_count": 49,
   "id": "3c90ef92-e2b9-4a29-9a2e-72caf344d0a3",
   "metadata": {},
   "outputs": [
    {
     "data": {
      "text/plain": [
       "array([[ 0,  2],\n",
       "       [ 9, 11]])"
      ]
     },
     "execution_count": 49,
     "metadata": {},
     "output_type": "execute_result"
    }
   ],
   "source": [
    "x[rows,columns]"
   ]
  },
  {
   "cell_type": "code",
   "execution_count": 50,
   "id": "7600ad92-f15e-434a-9368-d5403e5f8a31",
   "metadata": {},
   "outputs": [
    {
     "data": {
      "text/plain": [
       "array([[0],\n",
       "       [3]], dtype=int64)"
      ]
     },
     "execution_count": 50,
     "metadata": {},
     "output_type": "execute_result"
    }
   ],
   "source": [
    "rows = np.array([0, 3], dtype=np.intp)\n",
    "columns = np.array([0, 2], dtype=np.intp)\n",
    "rows[:, np.newaxis]"
   ]
  },
  {
   "cell_type": "code",
   "execution_count": 51,
   "id": "961300cb-d89c-427f-b3fd-c3d8a936ee09",
   "metadata": {},
   "outputs": [
    {
     "data": {
      "text/plain": [
       "array([[ 0,  2],\n",
       "       [ 9, 11]])"
      ]
     },
     "execution_count": 51,
     "metadata": {},
     "output_type": "execute_result"
    }
   ],
   "source": [
    "x[rows[:, np.newaxis], columns]"
   ]
  },
  {
   "cell_type": "code",
   "execution_count": 52,
   "id": "5b091490-f09f-4e0b-a37b-628770bd4b27",
   "metadata": {},
   "outputs": [
    {
     "data": {
      "text/plain": [
       "array([[ 0,  2],\n",
       "       [ 9, 11]])"
      ]
     },
     "execution_count": 52,
     "metadata": {},
     "output_type": "execute_result"
    }
   ],
   "source": [
    "x[np.ix_(rows, columns)]"
   ]
  },
  {
   "cell_type": "code",
   "execution_count": 59,
   "id": "13ce24c4-a0f1-4d53-8088-7a8bc500022f",
   "metadata": {},
   "outputs": [
    {
     "data": {
      "text/plain": [
       "array([ 0, 10, 20, 30])"
      ]
     },
     "execution_count": 59,
     "metadata": {},
     "output_type": "execute_result"
    }
   ],
   "source": [
    "a = np.array([0,10,20,30])\n",
    "a"
   ]
  },
  {
   "cell_type": "code",
   "execution_count": 60,
   "id": "f4f6fc16-213b-43d5-8672-96e007a1f938",
   "metadata": {},
   "outputs": [],
   "source": [
    "b =  np.array([0,1,2])"
   ]
  },
  {
   "cell_type": "code",
   "execution_count": 61,
   "id": "ec7b6475-50bc-4770-8e5b-2ecf718cef9f",
   "metadata": {},
   "outputs": [
    {
     "data": {
      "text/plain": [
       "array([0, 1, 2])"
      ]
     },
     "execution_count": 61,
     "metadata": {},
     "output_type": "execute_result"
    }
   ],
   "source": [
    "b"
   ]
  },
  {
   "cell_type": "code",
   "execution_count": 62,
   "id": "1164a46e-3776-4f37-91a0-0f6860e820c7",
   "metadata": {},
   "outputs": [
    {
     "data": {
      "text/plain": [
       "array([[ 0,  1,  2],\n",
       "       [10, 11, 12],\n",
       "       [20, 21, 22],\n",
       "       [30, 31, 32]])"
      ]
     },
     "execution_count": 62,
     "metadata": {},
     "output_type": "execute_result"
    }
   ],
   "source": [
    "y = a[:,np.newaxis] + b\n",
    "y"
   ]
  },
  {
   "cell_type": "markdown",
   "id": "017e016e-2435-425c-b301-c6012f3cf92b",
   "metadata": {},
   "source": [
    "![](images/newaxis.png)"
   ]
  },
  {
   "cell_type": "markdown",
   "id": "bc7dac4e-9c6e-4955-9c77-71b8fa3f6ef7",
   "metadata": {},
   "source": [
    "##### Boolean array indexing"
   ]
  },
  {
   "cell_type": "code",
   "execution_count": 68,
   "id": "007a431b-3b45-4b1e-97a9-0537ef544566",
   "metadata": {},
   "outputs": [
    {
     "data": {
      "text/plain": [
       "array([[ 1.,  2.],\n",
       "       [nan,  3.],\n",
       "       [nan, nan]])"
      ]
     },
     "execution_count": 68,
     "metadata": {},
     "output_type": "execute_result"
    }
   ],
   "source": [
    "x = np.array([[1., 2.], [np.nan, 3.], [np.nan, np.nan]])#[np.nan, None]])\n",
    "x"
   ]
  },
  {
   "cell_type": "code",
   "execution_count": 69,
   "id": "b426ae8a-df65-4d08-89c9-6919840537ef",
   "metadata": {},
   "outputs": [
    {
     "data": {
      "text/plain": [
       "array([1., 2., 3.])"
      ]
     },
     "execution_count": 69,
     "metadata": {},
     "output_type": "execute_result"
    }
   ],
   "source": [
    "x[~np.isnan(x)]"
   ]
  },
  {
   "cell_type": "code",
   "execution_count": 75,
   "id": "571a6253-5e07-4936-8be7-2439ced02dea",
   "metadata": {},
   "outputs": [
    {
     "data": {
      "text/plain": [
       "array([ 1., -1., -2.,  3.])"
      ]
     },
     "execution_count": 75,
     "metadata": {},
     "output_type": "execute_result"
    }
   ],
   "source": [
    "x = np.array([1., -1., -2., 3])\n",
    "x"
   ]
  },
  {
   "cell_type": "code",
   "execution_count": 79,
   "id": "5feb45d3-35fe-410b-9073-0e192bb2d416",
   "metadata": {},
   "outputs": [
    {
     "data": {
      "text/plain": [
       "array([ True,  True,  True, False])"
      ]
     },
     "execution_count": 79,
     "metadata": {},
     "output_type": "execute_result"
    }
   ],
   "source": [
    "x<=1"
   ]
  },
  {
   "cell_type": "code",
   "execution_count": 80,
   "id": "906cf2f6-8af1-4d24-a0cd-faa8d022cce6",
   "metadata": {},
   "outputs": [
    {
     "data": {
      "text/plain": [
       "array([ 1., -1., -2.])"
      ]
     },
     "execution_count": 80,
     "metadata": {},
     "output_type": "execute_result"
    }
   ],
   "source": [
    "x[x<=1]"
   ]
  },
  {
   "cell_type": "code",
   "execution_count": 73,
   "id": "722b0d1b-ccba-4ca0-a67b-30f2d900e722",
   "metadata": {},
   "outputs": [
    {
     "data": {
      "text/plain": [
       "array([21., 19., 18., 23.])"
      ]
     },
     "execution_count": 73,
     "metadata": {},
     "output_type": "execute_result"
    }
   ],
   "source": [
    "x[x<10] +=20\n",
    "x"
   ]
  },
  {
   "cell_type": "code",
   "execution_count": 81,
   "id": "b398d3d0-8832-4843-bb84-57a0890f4878",
   "metadata": {},
   "outputs": [
    {
     "data": {
      "text/plain": [
       "array([[ 0,  1,  2,  3,  4,  5,  6],\n",
       "       [ 7,  8,  9, 10, 11, 12, 13],\n",
       "       [14, 15, 16, 17, 18, 19, 20],\n",
       "       [21, 22, 23, 24, 25, 26, 27],\n",
       "       [28, 29, 30, 31, 32, 33, 34]])"
      ]
     },
     "execution_count": 81,
     "metadata": {},
     "output_type": "execute_result"
    }
   ],
   "source": [
    "x = np.arange(35).reshape(5, 7)\n",
    "x"
   ]
  },
  {
   "cell_type": "code",
   "execution_count": 82,
   "id": "65ed7f2f-d0cf-4894-a23f-0cf60f2d3e45",
   "metadata": {},
   "outputs": [
    {
     "data": {
      "text/plain": [
       "array([[False, False, False, False, False, False, False],\n",
       "       [False, False, False, False, False, False, False],\n",
       "       [False, False, False, False, False, False, False],\n",
       "       [ True,  True,  True,  True,  True,  True,  True],\n",
       "       [ True,  True,  True,  True,  True,  True,  True]])"
      ]
     },
     "execution_count": 82,
     "metadata": {},
     "output_type": "execute_result"
    }
   ],
   "source": [
    "b = x > 20\n",
    "b"
   ]
  },
  {
   "cell_type": "code",
   "execution_count": 90,
   "id": "3e015772-241a-4b2f-9199-f9418a571dcc",
   "metadata": {},
   "outputs": [
    {
     "data": {
      "text/plain": [
       "array([False, False, False,  True,  True])"
      ]
     },
     "execution_count": 90,
     "metadata": {},
     "output_type": "execute_result"
    }
   ],
   "source": [
    "b[:,5]"
   ]
  },
  {
   "cell_type": "code",
   "execution_count": 88,
   "id": "251b0783-39a8-4887-b6db-bca438d08d4f",
   "metadata": {},
   "outputs": [
    {
     "data": {
      "text/plain": [
       "array([[21, 22, 23, 24, 25, 26, 27],\n",
       "       [28, 29, 30, 31, 32, 33, 34]])"
      ]
     },
     "execution_count": 88,
     "metadata": {},
     "output_type": "execute_result"
    }
   ],
   "source": [
    "x[b[:,0]]"
   ]
  },
  {
   "cell_type": "code",
   "execution_count": 91,
   "id": "eb0578b1-93c5-4ff1-b624-df22fe22c8ea",
   "metadata": {},
   "outputs": [
    {
     "data": {
      "text/plain": [
       "array([1, 2, 4])"
      ]
     },
     "execution_count": 91,
     "metadata": {},
     "output_type": "execute_result"
    }
   ],
   "source": [
    "x = np.array([[0, 1], [1, 1], [2, 2]])\n",
    "rowsum = x.sum(-1)\n",
    "rowsum"
   ]
  },
  {
   "cell_type": "code",
   "execution_count": 93,
   "id": "5fd2fdd4-6478-4708-98aa-8360ddb2adba",
   "metadata": {},
   "outputs": [
    {
     "data": {
      "text/plain": [
       "array([[0, 1],\n",
       "       [1, 1]])"
      ]
     },
     "execution_count": 93,
     "metadata": {},
     "output_type": "execute_result"
    }
   ],
   "source": [
    "x[rowsum <=2,:]"
   ]
  },
  {
   "cell_type": "code",
   "execution_count": null,
   "id": "26ddbe0b-4256-482d-8b3d-008e462050b3",
   "metadata": {},
   "outputs": [],
   "source": []
  }
 ],
 "metadata": {
  "kernelspec": {
   "display_name": "Python 3 (ipykernel)",
   "language": "python",
   "name": "python3"
  },
  "language_info": {
   "codemirror_mode": {
    "name": "ipython",
    "version": 3
   },
   "file_extension": ".py",
   "mimetype": "text/x-python",
   "name": "python",
   "nbconvert_exporter": "python",
   "pygments_lexer": "ipython3",
   "version": "3.8.10"
  }
 },
 "nbformat": 4,
 "nbformat_minor": 5
}
