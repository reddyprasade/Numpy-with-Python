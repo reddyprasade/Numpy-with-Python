{
  "cells": [
    {
      "cell_type": "markdown",
      "metadata": {
        "id": "HeihsM2K8lYS"
      },
      "source": [
        "# Computation on Arrays: Broadcasting"
      ]
    },
    {
      "cell_type": "markdown",
      "metadata": {
        "id": "YK48Vtjz8lYa"
      },
      "source": [
        "We saw in [Computation on NumPy Arrays: Universal Functions](02.03-Computation-on-arrays-ufuncs.ipynb) how NumPy's universal functions can be used to *vectorize* operations and thereby remove slow Python loops.\n",
        "This chapter discusses *broadcasting*: a set of rules by which NumPy lets you apply binary operations (e.g., addition, subtraction, multiplication, etc.) between arrays of different sizes and shapes."
      ]
    },
    {
      "cell_type": "markdown",
      "metadata": {
        "id": "JoOcLBeb8lYd"
      },
      "source": [
        "## Introducing Broadcasting\n",
        "\n",
        "Recall that for arrays of the same size, binary operations are performed on an element-by-element basis:"
      ]
    },
    {
      "cell_type": "code",
      "execution_count": null,
      "metadata": {
        "jupyter": {
          "outputs_hidden": false
        },
        "id": "hT12nXOK8lYf"
      },
      "outputs": [],
      "source": [
        "import numpy as np"
      ]
    },
    {
      "cell_type": "code",
      "execution_count": null,
      "metadata": {
        "jupyter": {
          "outputs_hidden": false
        },
        "id": "Z8f6urGH8lYm",
        "outputId": "1c06f03b-5303-44e7-bbb6-70e915c6bfed"
      },
      "outputs": [
        {
          "data": {
            "text/plain": [
              "array([5, 6, 7])"
            ]
          },
          "execution_count": 2,
          "metadata": {},
          "output_type": "execute_result"
        }
      ],
      "source": [
        "a = np.array([0, 1, 2])\n",
        "b = np.array([5, 5, 5])\n",
        "a + b"
      ]
    },
    {
      "cell_type": "markdown",
      "metadata": {
        "id": "Pdw197SO8lYo"
      },
      "source": [
        "Broadcasting allows these types of binary operations to be performed on arrays of different sizes—for example, we can just as easily add a scalar (think of it as a zero-dimensional array) to an array:"
      ]
    },
    {
      "cell_type": "code",
      "execution_count": null,
      "metadata": {
        "jupyter": {
          "outputs_hidden": false
        },
        "id": "-Y_j6Qhw8lYr",
        "outputId": "e443d21c-50aa-493b-b18e-8b964e328907"
      },
      "outputs": [
        {
          "data": {
            "text/plain": [
              "array([5, 6, 7])"
            ]
          },
          "execution_count": 3,
          "metadata": {},
          "output_type": "execute_result"
        }
      ],
      "source": [
        "a + 5"
      ]
    },
    {
      "cell_type": "markdown",
      "metadata": {
        "id": "3u4huxJD8lYt"
      },
      "source": [
        "We can think of this as an operation that stretches or duplicates the value `5` into the array `[5, 5, 5]`, and adds the results.\n",
        "\n",
        "We can similarly extend this idea to arrays of higher dimension. Observe the result when we add a one-dimensional array to a two-dimensional array:"
      ]
    },
    {
      "cell_type": "code",
      "execution_count": null,
      "metadata": {
        "jupyter": {
          "outputs_hidden": false
        },
        "id": "y64AWP7M8lYu",
        "outputId": "8815fcd6-13cc-438a-bff1-d7d39fd1a807"
      },
      "outputs": [
        {
          "data": {
            "text/plain": [
              "array([[1., 1., 1.],\n",
              "       [1., 1., 1.],\n",
              "       [1., 1., 1.]])"
            ]
          },
          "execution_count": 4,
          "metadata": {},
          "output_type": "execute_result"
        }
      ],
      "source": [
        "M = np.ones((3, 3))\n",
        "M"
      ]
    },
    {
      "cell_type": "code",
      "execution_count": null,
      "metadata": {
        "jupyter": {
          "outputs_hidden": false
        },
        "id": "-JIZARPI8lYw",
        "outputId": "1e1b56b5-a086-4ba1-f9f8-7bda3e246238"
      },
      "outputs": [
        {
          "data": {
            "text/plain": [
              "array([[1., 2., 3.],\n",
              "       [1., 2., 3.],\n",
              "       [1., 2., 3.]])"
            ]
          },
          "execution_count": 5,
          "metadata": {},
          "output_type": "execute_result"
        }
      ],
      "source": [
        "M + a"
      ]
    },
    {
      "cell_type": "markdown",
      "metadata": {
        "id": "hG5tzw1T8lYx"
      },
      "source": [
        "Here the one-dimensional array `a` is stretched, or broadcasted, across the second dimension in order to match the shape of `M`.\n",
        "\n",
        "While these examples are relatively easy to understand, more complicated cases can involve broadcasting of both arrays. Consider the following example:"
      ]
    },
    {
      "cell_type": "code",
      "execution_count": null,
      "metadata": {
        "jupyter": {
          "outputs_hidden": false
        },
        "id": "kOZvVLuT8lYy",
        "outputId": "0562ccd8-d305-46b7-8de2-269d491aba87"
      },
      "outputs": [
        {
          "name": "stdout",
          "output_type": "stream",
          "text": [
            "[0 1 2]\n",
            "[[0]\n",
            " [1]\n",
            " [2]]\n"
          ]
        }
      ],
      "source": [
        "a = np.arange(3)\n",
        "b = np.arange(3)[:, np.newaxis]\n",
        "\n",
        "print(a)\n",
        "print(b)"
      ]
    },
    {
      "cell_type": "code",
      "execution_count": null,
      "metadata": {
        "jupyter": {
          "outputs_hidden": false
        },
        "id": "0ba1u7Lv8lYz",
        "outputId": "29e62d9e-abed-40c8-f56a-2f178cb3140e"
      },
      "outputs": [
        {
          "data": {
            "text/plain": [
              "array([[0, 1, 2],\n",
              "       [1, 2, 3],\n",
              "       [2, 3, 4]])"
            ]
          },
          "execution_count": 7,
          "metadata": {},
          "output_type": "execute_result"
        }
      ],
      "source": [
        "a + b"
      ]
    },
    {
      "cell_type": "markdown",
      "metadata": {
        "id": "GP0dl4dh8lY0"
      },
      "source": [
        "Just as before we stretched or broadcasted one value to match the shape of the other, here we've stretched *both* `a` and `b` to match a common shape, and the result is a two-dimensional array!\n",
        "The geometry of these examples is visualized in the following figure. (Code to produce this plot can be found in the online [appendix](https://github.com/jakevdp/PythonDataScienceHandbook/blob/master/notebooks/06.00-Figure-Code.ipynb#Broadcasting), and is adapted from a source published in the [astroML](http://astroml.org) documentation. Used by permission.)"
      ]
    },
    {
      "cell_type": "markdown",
      "metadata": {
        "id": "8SqXNSJG8lY0"
      },
      "source": [
        "![Broadcasting Visual](https://github.com/jakevdp/PythonDataScienceHandbook/blob/master/notebooks/images/02.05-broadcasting.png?raw=1)"
      ]
    },
    {
      "cell_type": "markdown",
      "metadata": {
        "id": "4HI305GN8lY1"
      },
      "source": [
        "The light boxes represent the broadcasted values. This way of thinking about broadcasting may raise questions about its efficiency in terms of memory use, but worry not: NumPy broadcasting does not actually copy the broadcasted values in memory. Still, this can be a useful mental model as we think about broadcasting."
      ]
    },
    {
      "cell_type": "markdown",
      "metadata": {
        "id": "3hiVwd3S8lY2"
      },
      "source": [
        "## Rules of Broadcasting\n",
        "\n",
        "Broadcasting in NumPy follows a strict set of rules to determine the interaction between the two arrays:\n",
        "\n",
        "- Rule 1: If the two arrays differ in their number of dimensions, the shape of the one with fewer dimensions is *padded* with ones on its leading (left) side.\n",
        "- Rule 2: If the shape of the two arrays does not match in any dimension, the array with shape equal to 1 in that dimension is stretched to match the other shape.\n",
        "- Rule 3: If in any dimension the sizes disagree and neither is equal to 1, an error is raised.\n",
        "\n",
        "To make these rules clear, let's consider a few examples in detail."
      ]
    },
    {
      "cell_type": "markdown",
      "metadata": {
        "id": "Eg4lNWBG8lY2"
      },
      "source": [
        "### Broadcasting Example 1\n",
        "\n",
        "Suppose we want to add a two-dimensional array to a one-dimensional array:"
      ]
    },
    {
      "cell_type": "code",
      "execution_count": null,
      "metadata": {
        "jupyter": {
          "outputs_hidden": false
        },
        "id": "zhuXfF8I8lY3"
      },
      "outputs": [],
      "source": [
        "M = np.ones((2, 3))\n",
        "a = np.arange(3)"
      ]
    },
    {
      "cell_type": "markdown",
      "metadata": {
        "id": "ABPqpumB8lY3"
      },
      "source": [
        "Let's consider an operation on these two arrays, which have the following shapes:\n",
        "\n",
        "- `M.shape` is `(2, 3)`\n",
        "- `a.shape` is `(3,)`\n",
        "\n",
        "We see by rule 1 that the array `a` has fewer dimensions, so we pad it on the left with ones:\n",
        "\n",
        "- `M.shape` remains `(2, 3)`\n",
        "- `a.shape` becomes `(1, 3)`\n",
        "\n",
        "By rule 2, we now see that the first dimension disagrees, so we stretch this dimension to match:\n",
        "\n",
        "- `M.shape` remains `(2, 3)`\n",
        "- `a.shape` becomes `(2, 3)`\n",
        "\n",
        "The shapes now match, and we see that the final shape will be `(2, 3)`:"
      ]
    },
    {
      "cell_type": "code",
      "execution_count": null,
      "metadata": {
        "jupyter": {
          "outputs_hidden": false
        },
        "id": "QSRadiqw8lY4",
        "outputId": "5d7b22b8-2c36-4b3c-f16a-b6ed9223e93f"
      },
      "outputs": [
        {
          "data": {
            "text/plain": [
              "array([[1., 2., 3.],\n",
              "       [1., 2., 3.]])"
            ]
          },
          "execution_count": 9,
          "metadata": {},
          "output_type": "execute_result"
        }
      ],
      "source": [
        "M + a"
      ]
    },
    {
      "cell_type": "markdown",
      "metadata": {
        "id": "FaTUQORS8lY6"
      },
      "source": [
        "### Broadcasting Example 2\n",
        "\n",
        "Now let's take a look at an example where both arrays need to be broadcast:"
      ]
    },
    {
      "cell_type": "code",
      "execution_count": null,
      "metadata": {
        "jupyter": {
          "outputs_hidden": false
        },
        "id": "WAXc_8j08lY6"
      },
      "outputs": [],
      "source": [
        "a = np.arange(3).reshape((3, 1))\n",
        "b = np.arange(3)"
      ]
    },
    {
      "cell_type": "markdown",
      "metadata": {
        "id": "oASYfb2Z8lY7"
      },
      "source": [
        "Again, we'll start by determining the shapes of the arrays:\n",
        "\n",
        "- `a.shape` is `(3, 1)`\n",
        "- `b.shape` is `(3,)`\n",
        "\n",
        "Rule 1 says we must pad the shape of `b` with ones:\n",
        "\n",
        "- `a.shape` remains `(3, 1)`\n",
        "- `b.shape` becomes `(1, 3)`\n",
        "\n",
        "And rule 2 tells us that we must upgrade each of these ``1``s to match the corresponding size of the other array:\n",
        "\n",
        "- `a.shape` becomes `(3, 3)`\n",
        "- `b.shape` becomes `(3, 3)`\n",
        "\n",
        "Because the results match, these shapes are compatible. We can see this here:"
      ]
    },
    {
      "cell_type": "code",
      "execution_count": null,
      "metadata": {
        "jupyter": {
          "outputs_hidden": false
        },
        "id": "demlfJA48lY7",
        "outputId": "e3505b0e-997e-4ddb-a1ca-787052a457b2"
      },
      "outputs": [
        {
          "data": {
            "text/plain": [
              "array([[0, 1, 2],\n",
              "       [1, 2, 3],\n",
              "       [2, 3, 4]])"
            ]
          },
          "execution_count": 11,
          "metadata": {},
          "output_type": "execute_result"
        }
      ],
      "source": [
        "a + b"
      ]
    },
    {
      "cell_type": "markdown",
      "metadata": {
        "id": "cN76BBDY8lY7"
      },
      "source": [
        "### Broadcasting Example 3\n",
        "\n",
        "Next, let's take a look at an example in which the two arrays are not compatible:"
      ]
    },
    {
      "cell_type": "code",
      "execution_count": null,
      "metadata": {
        "jupyter": {
          "outputs_hidden": false
        },
        "id": "2jbr7Oml8lY8"
      },
      "outputs": [],
      "source": [
        "M = np.ones((3, 2))\n",
        "a = np.arange(3)"
      ]
    },
    {
      "cell_type": "markdown",
      "metadata": {
        "id": "gFER_8k08lY8"
      },
      "source": [
        "This is just a slightly different situation than in the first example: the matrix `M` is transposed.\n",
        "How does this affect the calculation? The shapes of the arrays are as follows:\n",
        "\n",
        "- `M.shape` is `(3, 2)`\n",
        "- `a.shape` is `(3,)`\n",
        "\n",
        "Again, rule 1 tells us that we must pad the shape of `a` with ones:\n",
        "\n",
        "- `M.shape` remains `(3, 2)`\n",
        "- `a.shape` becomes `(1, 3)`\n",
        "\n",
        "By rule 2, the first dimension of `a` is then stretched to match that of `M`:\n",
        "\n",
        "- `M.shape` remains `(3, 2)`\n",
        "- `a.shape` becomes `(3, 3)`\n",
        "\n",
        "Now we hit rule 3—the final shapes do not match, so these two arrays are incompatible, as we can observe by attempting this operation:"
      ]
    },
    {
      "cell_type": "code",
      "execution_count": null,
      "metadata": {
        "jupyter": {
          "outputs_hidden": false
        },
        "id": "G7X9OqiC8lY9",
        "outputId": "e8eda372-8527-474b-fb64-f6ac7f80a134"
      },
      "outputs": [
        {
          "ename": "ValueError",
          "evalue": "operands could not be broadcast together with shapes (3,2) (3,) ",
          "output_type": "error",
          "traceback": [
            "\u001b[0;31m---------------------------------------------------------------------------\u001b[0m",
            "\u001b[0;31mValueError\u001b[0m                                Traceback (most recent call last)",
            "\u001b[0;32m<ipython-input-13-8cac1d547906>\u001b[0m in \u001b[0;36m<module>\u001b[0;34m\u001b[0m\n\u001b[0;32m----> 1\u001b[0;31m \u001b[0mM\u001b[0m \u001b[0;34m+\u001b[0m \u001b[0ma\u001b[0m\u001b[0;34m\u001b[0m\u001b[0;34m\u001b[0m\u001b[0m\n\u001b[0m",
            "\u001b[0;31mValueError\u001b[0m: operands could not be broadcast together with shapes (3,2) (3,) "
          ]
        }
      ],
      "source": [
        "M + a"
      ]
    },
    {
      "cell_type": "markdown",
      "metadata": {
        "id": "pHgO_v8X8lY9"
      },
      "source": [
        "Note the potential confusion here: you could imagine making `a` and `M` compatible by, say, padding `a`'s shape with ones on the right rather than the left.\n",
        "But this is not how the broadcasting rules work!\n",
        "That sort of flexibility might be useful in some cases, but it would lead to potential areas of ambiguity.\n",
        "If right-side padding is what you'd like, you can do this explicitly by reshaping the array (we'll use the `np.newaxis` keyword introduced in [The Basics of NumPy Arrays](02.02-The-Basics-Of-NumPy-Arrays.ipynb) for this):"
      ]
    },
    {
      "cell_type": "code",
      "execution_count": null,
      "metadata": {
        "jupyter": {
          "outputs_hidden": false
        },
        "id": "cEuEASL68lY-",
        "outputId": "ec5c368f-76a0-47e9-d8f3-d692a82c2ea3"
      },
      "outputs": [
        {
          "data": {
            "text/plain": [
              "(3, 1)"
            ]
          },
          "execution_count": 14,
          "metadata": {},
          "output_type": "execute_result"
        }
      ],
      "source": [
        "a[:, np.newaxis].shape"
      ]
    },
    {
      "cell_type": "code",
      "execution_count": null,
      "metadata": {
        "jupyter": {
          "outputs_hidden": false
        },
        "id": "gP0xTxth8lY-",
        "outputId": "2e15e6ef-d337-4cac-a0a8-8915d04d762f"
      },
      "outputs": [
        {
          "data": {
            "text/plain": [
              "array([[1., 1.],\n",
              "       [2., 2.],\n",
              "       [3., 3.]])"
            ]
          },
          "execution_count": 15,
          "metadata": {},
          "output_type": "execute_result"
        }
      ],
      "source": [
        "M + a[:, np.newaxis]"
      ]
    },
    {
      "cell_type": "markdown",
      "metadata": {
        "id": "Jx6y9o7j8lY_"
      },
      "source": [
        "Also notice that while we've been focusing on the `+` operator here, these broadcasting rules apply to *any* binary ufunc.\n",
        "For example, here is the `logaddexp(a, b)` function, which computes `log(exp(a) + exp(b))` with more precision than the naive approach:"
      ]
    },
    {
      "cell_type": "code",
      "execution_count": null,
      "metadata": {
        "jupyter": {
          "outputs_hidden": false
        },
        "id": "At_hafP58lY_",
        "outputId": "af3c900c-e9f7-4161-b262-fb3f7d8f181f"
      },
      "outputs": [
        {
          "data": {
            "text/plain": [
              "array([[1.31326169, 1.31326169],\n",
              "       [1.69314718, 1.69314718],\n",
              "       [2.31326169, 2.31326169]])"
            ]
          },
          "execution_count": 16,
          "metadata": {},
          "output_type": "execute_result"
        }
      ],
      "source": [
        "np.logaddexp(M, a[:, np.newaxis])"
      ]
    },
    {
      "cell_type": "markdown",
      "metadata": {
        "id": "MLvlhvNt8lZA"
      },
      "source": [
        "For more information on the many available universal functions, refer to [Computation on NumPy Arrays: Universal Functions](02.03-Computation-on-arrays-ufuncs.ipynb)."
      ]
    },
    {
      "cell_type": "markdown",
      "metadata": {
        "id": "jUfE2-x68lZA"
      },
      "source": [
        "## Broadcasting in Practice"
      ]
    },
    {
      "cell_type": "markdown",
      "metadata": {
        "id": "7WwOdzfP8lZB"
      },
      "source": [
        "Broadcasting operations form the core of many examples you'll see throughout this book.\n",
        "We'll now take a look at some instances of where they can be useful."
      ]
    },
    {
      "cell_type": "markdown",
      "metadata": {
        "id": "h1knteJJ8lZB"
      },
      "source": [
        "### Centering an Array"
      ]
    },
    {
      "cell_type": "markdown",
      "metadata": {
        "id": "Av_he-kv8lZC"
      },
      "source": [
        "In [Computation on NumPy Arrays: Universal Functions](02.03-Computation-on-arrays-ufuncs.ipynb), we saw that ufuncs allow a NumPy user to remove the need to explicitly write slow Python loops. Broadcasting extends this ability.\n",
        "One commonly seen example in data science is subtracting the row-wise mean from an array of data.\n",
        "Imagine we have an array of 10 observations, each of which consists of 3 values.\n",
        "Using the standard convention (see [Data Representation in Scikit-Learn](05.02-Introducing-Scikit-Learn.ipynb#Data-Representation-in-Scikit-Learn)), we'll store this in a $10 \\times 3$ array:"
      ]
    },
    {
      "cell_type": "code",
      "execution_count": null,
      "metadata": {
        "jupyter": {
          "outputs_hidden": false
        },
        "id": "iU_EXNEv8lZN"
      },
      "outputs": [],
      "source": [
        "rng = np.random.default_rng(seed=1701)\n",
        "X = rng.random((10, 3))"
      ]
    },
    {
      "cell_type": "markdown",
      "metadata": {
        "id": "AJtbF3J88lZN"
      },
      "source": [
        "We can compute the mean of each column using the `mean` aggregate across the first dimension:"
      ]
    },
    {
      "cell_type": "code",
      "execution_count": null,
      "metadata": {
        "jupyter": {
          "outputs_hidden": false
        },
        "id": "SWcPwuxL8lZO",
        "outputId": "8a13b838-f985-46de-e506-9b3548c81cc1"
      },
      "outputs": [
        {
          "data": {
            "text/plain": [
              "array([0.38503638, 0.36991443, 0.63896043])"
            ]
          },
          "execution_count": 18,
          "metadata": {},
          "output_type": "execute_result"
        }
      ],
      "source": [
        "Xmean = X.mean(0)\n",
        "Xmean"
      ]
    },
    {
      "cell_type": "markdown",
      "metadata": {
        "id": "PnYc7NmD8lZO"
      },
      "source": [
        "And now we can center the `X` array by subtracting the mean (this is a broadcasting operation):"
      ]
    },
    {
      "cell_type": "code",
      "execution_count": null,
      "metadata": {
        "jupyter": {
          "outputs_hidden": false
        },
        "id": "tVWVLuC58lZO"
      },
      "outputs": [],
      "source": [
        "X_centered = X - Xmean"
      ]
    },
    {
      "cell_type": "markdown",
      "metadata": {
        "id": "s3Fw_ZWo8lZP"
      },
      "source": [
        "To double-check that we've done this correctly, we can check that the centered array has a mean near zero:"
      ]
    },
    {
      "cell_type": "code",
      "execution_count": null,
      "metadata": {
        "jupyter": {
          "outputs_hidden": false
        },
        "id": "wwF50iUe8lZP",
        "outputId": "36393787-1d1b-4fee-c247-bab9c23c0255"
      },
      "outputs": [
        {
          "data": {
            "text/plain": [
              "array([ 4.99600361e-17, -4.44089210e-17,  0.00000000e+00])"
            ]
          },
          "execution_count": 20,
          "metadata": {},
          "output_type": "execute_result"
        }
      ],
      "source": [
        "X_centered.mean(0)"
      ]
    },
    {
      "cell_type": "markdown",
      "metadata": {
        "id": "QE2AuQis8lZP"
      },
      "source": [
        "To within machine precision, the mean is now zero."
      ]
    },
    {
      "cell_type": "markdown",
      "metadata": {
        "id": "3XafOoGr8lZQ"
      },
      "source": [
        "### Plotting a Two-Dimensional Function"
      ]
    },
    {
      "cell_type": "markdown",
      "metadata": {
        "id": "PcWn_A918lZQ"
      },
      "source": [
        "One place that broadcasting often comes in handy is in displaying images based on two-dimensional functions.\n",
        "If we want to define a function $z = f(x, y)$, broadcasting can be used to compute the function across the grid:"
      ]
    },
    {
      "cell_type": "code",
      "execution_count": null,
      "metadata": {
        "jupyter": {
          "outputs_hidden": false
        },
        "id": "dozrPr788lZQ"
      },
      "outputs": [],
      "source": [
        "# x and y have 50 steps from 0 to 5\n",
        "x = np.linspace(0, 5, 50)\n",
        "y = np.linspace(0, 5, 50)[:, np.newaxis]\n",
        "\n",
        "z = np.sin(x) ** 10 + np.cos(10 + y * x) * np.cos(x)"
      ]
    },
    {
      "cell_type": "markdown",
      "metadata": {
        "id": "Ex3VShuk8lZR"
      },
      "source": [
        "We'll use Matplotlib to plot this two-dimensional array, shown in the following figure (these tools will be discussed in full in [Density and Contour Plots](04.04-Density-and-Contour-Plots.ipynb)):"
      ]
    },
    {
      "cell_type": "code",
      "execution_count": null,
      "metadata": {
        "jupyter": {
          "outputs_hidden": false
        },
        "id": "1baelSEb8lZR"
      },
      "outputs": [],
      "source": [
        "%matplotlib inline\n",
        "import matplotlib.pyplot as plt"
      ]
    },
    {
      "cell_type": "code",
      "execution_count": null,
      "metadata": {
        "jupyter": {
          "outputs_hidden": false
        },
        "id": "8m_x__Pc8lZR",
        "outputId": "3b51971c-cd1f-465a-88a0-7f33f8020dde"
      },
      "outputs": [
        {
          "data": {
            "image/png": "[encoded data removed]",
            "text/plain": [
              "<Figure size 432x288 with 2 Axes>"
            ]
          },
          "metadata": {
            "needs_background": "light"
          },
          "output_type": "display_data"
        }
      ],
      "source": [
        "plt.imshow(z, origin='lower', extent=[0, 5, 0, 5])\n",
        "plt.colorbar();"
      ]
    },
    {
      "cell_type": "markdown",
      "metadata": {
        "id": "leBVw9Jx8lZS"
      },
      "source": [
        "The result is a compelling visualization of the two-dimensional function."
      ]
    }
  ],
  "metadata": {
    "anaconda-cloud": {},
    "jupytext": {
      "formats": "ipynb,md"
    },
    "kernelspec": {
      "display_name": "Python 3",
      "language": "python",
      "name": "python3"
    },
    "language_info": {
      "codemirror_mode": {
        "name": "ipython",
        "version": 3
      },
      "file_extension": ".py",
      "mimetype": "text/x-python",
      "name": "python",
      "nbconvert_exporter": "python",
      "pygments_lexer": "ipython3",
      "version": "3.9.2"
    },
    "colab": {
      "provenance": []
    }
  },
  "nbformat": 4,
  "nbformat_minor": 0
}