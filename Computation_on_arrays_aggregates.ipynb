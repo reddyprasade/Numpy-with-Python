{
  "cells": [
    {
      "cell_type": "markdown",
      "metadata": {
        "id": "lI-4Xbcj8kH-"
      },
      "source": [
        "# Aggregations: min, max, and Everything in Between"
      ]
    },
    {
      "cell_type": "markdown",
      "metadata": {
        "id": "K620TW4u8kIE"
      },
      "source": [
        "A first step in exploring any dataset is often to compute various summary statistics.\n",
        "Perhaps the most common summary statistics are the mean and standard deviation, which allow you to summarize the \"typical\" values in a dataset, but other aggregations are useful as well (the sum, product, median, minimum and maximum, quantiles, etc.).\n",
        "\n",
        "NumPy has fast built-in aggregation functions for working on arrays; we'll discuss and try out some of them here."
      ]
    },
    {
      "cell_type": "markdown",
      "metadata": {
        "id": "mSkPw6CV8kIG"
      },
      "source": [
        "## Summing the Values in an Array\n",
        "\n",
        "As a quick example, consider computing the sum of all values in an array.\n",
        "Python itself can do this using the built-in `sum` function:"
      ]
    },
    {
      "cell_type": "code",
      "execution_count": null,
      "metadata": {
        "jupyter": {
          "outputs_hidden": false
        },
        "id": "0jTm7YzL8kIG"
      },
      "outputs": [],
      "source": [
        "import numpy as np\n",
        "rng = np.random.default_rng()"
      ]
    },
    {
      "cell_type": "code",
      "execution_count": null,
      "metadata": {
        "jupyter": {
          "outputs_hidden": false
        },
        "id": "JLbcfSD38kIJ",
        "outputId": "f2765e56-634b-492b-ab28-7d552ed67139"
      },
      "outputs": [
        {
          "data": {
            "text/plain": [
              "52.76825337322368"
            ]
          },
          "execution_count": 2,
          "metadata": {},
          "output_type": "execute_result"
        }
      ],
      "source": [
        "L = rng.random(100)\n",
        "sum(L)"
      ]
    },
    {
      "cell_type": "markdown",
      "metadata": {
        "id": "VvS2yMoj8kIN"
      },
      "source": [
        "The syntax is quite similar to that of NumPy's `sum` function, and the result is the same in the simplest case:"
      ]
    },
    {
      "cell_type": "code",
      "execution_count": null,
      "metadata": {
        "jupyter": {
          "outputs_hidden": false
        },
        "id": "ofUsrbIx8kIO",
        "outputId": "11b5e8ea-7225-44c0-e288-b86b4e9865e5"
      },
      "outputs": [
        {
          "data": {
            "text/plain": [
              "52.76825337322366"
            ]
          },
          "execution_count": 3,
          "metadata": {},
          "output_type": "execute_result"
        }
      ],
      "source": [
        "np.sum(L)"
      ]
    },
    {
      "cell_type": "markdown",
      "metadata": {
        "id": "J910yTzD8kIQ"
      },
      "source": [
        "However, because it executes the operation in compiled code, NumPy's version of the operation is computed much more quickly:"
      ]
    },
    {
      "cell_type": "code",
      "execution_count": null,
      "metadata": {
        "jupyter": {
          "outputs_hidden": false
        },
        "id": "PH-3nCuB8kIR",
        "outputId": "d4adc993-c218-4fc8-9cc8-27fe54415d1c"
      },
      "outputs": [
        {
          "name": "stdout",
          "output_type": "stream",
          "text": [
            "89.9 ms ± 233 µs per loop (mean ± std. dev. of 7 runs, 10 loops each)\n",
            "521 µs ± 8.37 µs per loop (mean ± std. dev. of 7 runs, 1000 loops each)\n"
          ]
        }
      ],
      "source": [
        "big_array = rng.random(1000000)\n",
        "%timeit sum(big_array)\n",
        "%timeit np.sum(big_array)"
      ]
    },
    {
      "cell_type": "markdown",
      "metadata": {
        "id": "YDT-JeUX8kIS"
      },
      "source": [
        "Be careful, though: the `sum` function and the `np.sum` function are not identical, which can sometimes lead to confusion!\n",
        "In particular, their optional arguments have different meanings (`sum(x, 1)` initializes the sum at `1`, while `np.sum(x, 1)` sums along axis `1`), and `np.sum` is aware of multiple array dimensions, as we will see in the following section."
      ]
    },
    {
      "cell_type": "markdown",
      "metadata": {
        "id": "fFPVMpwL8kIT"
      },
      "source": [
        "## Minimum and Maximum\n",
        "\n",
        "Similarly, Python has built-in `min` and `max` functions, used to find the minimum value and maximum value of any given array:"
      ]
    },
    {
      "cell_type": "code",
      "execution_count": null,
      "metadata": {
        "jupyter": {
          "outputs_hidden": false
        },
        "id": "OAgoveMF8kIU",
        "outputId": "80aa3161-83de-4e35-fed3-0b3b6c20f856"
      },
      "outputs": [
        {
          "data": {
            "text/plain": [
              "(2.0114398036064074e-07, 0.9999997912802653)"
            ]
          },
          "execution_count": 5,
          "metadata": {},
          "output_type": "execute_result"
        }
      ],
      "source": [
        "min(big_array), max(big_array)"
      ]
    },
    {
      "cell_type": "markdown",
      "metadata": {
        "id": "zBqzacn18kIU"
      },
      "source": [
        "NumPy's corresponding functions have similar syntax, and again operate much more quickly:"
      ]
    },
    {
      "cell_type": "code",
      "execution_count": null,
      "metadata": {
        "jupyter": {
          "outputs_hidden": false
        },
        "id": "sxENcA4h8kIV",
        "outputId": "1a66d5b0-7f19-4e1d-b1dd-db349282cf3c"
      },
      "outputs": [
        {
          "data": {
            "text/plain": [
              "(2.0114398036064074e-07, 0.9999997912802653)"
            ]
          },
          "execution_count": 6,
          "metadata": {},
          "output_type": "execute_result"
        }
      ],
      "source": [
        "np.min(big_array), np.max(big_array)"
      ]
    },
    {
      "cell_type": "code",
      "execution_count": null,
      "metadata": {
        "jupyter": {
          "outputs_hidden": false
        },
        "id": "C_cnxhuP8kIV",
        "outputId": "52246aab-4ea9-4074-84c8-df849daccaa3"
      },
      "outputs": [
        {
          "name": "stdout",
          "output_type": "stream",
          "text": [
            "72 ms ± 177 µs per loop (mean ± std. dev. of 7 runs, 10 loops each)\n",
            "564 µs ± 3.11 µs per loop (mean ± std. dev. of 7 runs, 1000 loops each)\n"
          ]
        }
      ],
      "source": [
        "%timeit min(big_array)\n",
        "%timeit np.min(big_array)"
      ]
    },
    {
      "cell_type": "markdown",
      "metadata": {
        "id": "mvFqpsbz8kIW"
      },
      "source": [
        "For `min`, `max`, `sum`, and several other NumPy aggregates, a shorter syntax is to use methods of the array object itself:"
      ]
    },
    {
      "cell_type": "code",
      "execution_count": null,
      "metadata": {
        "jupyter": {
          "outputs_hidden": false
        },
        "id": "lZ0sOsBQ8kIW",
        "outputId": "c6b1a66b-4bef-4fce-9ccf-17fab7b7bbb3"
      },
      "outputs": [
        {
          "name": "stdout",
          "output_type": "stream",
          "text": [
            "2.0114398036064074e-07 0.9999997912802653 499854.0273321711\n"
          ]
        }
      ],
      "source": [
        "print(big_array.min(), big_array.max(), big_array.sum())"
      ]
    },
    {
      "cell_type": "markdown",
      "metadata": {
        "id": "19B-FtZ_8kIX"
      },
      "source": [
        "Whenever possible, make sure that you are using the NumPy version of these aggregates when operating on NumPy arrays!"
      ]
    },
    {
      "cell_type": "markdown",
      "metadata": {
        "id": "94z5NJem8kIY"
      },
      "source": [
        "### Multidimensional Aggregates\n",
        "\n",
        "One common type of aggregation operation is an aggregate along a row or column.\n",
        "Say you have some data stored in a two-dimensional array:"
      ]
    },
    {
      "cell_type": "code",
      "execution_count": null,
      "metadata": {
        "jupyter": {
          "outputs_hidden": false
        },
        "id": "Mq0NL2uA8kIY",
        "outputId": "d880a970-0c5a-4143-8621-6f3ab02c39ee"
      },
      "outputs": [
        {
          "name": "stdout",
          "output_type": "stream",
          "text": [
            "[[0 3 1 2]\n",
            " [1 9 7 0]\n",
            " [4 8 3 7]]\n"
          ]
        }
      ],
      "source": [
        "M = rng.integers(0, 10, (3, 4))\n",
        "print(M)"
      ]
    },
    {
      "cell_type": "markdown",
      "metadata": {
        "id": "ucP_50H-8kIZ"
      },
      "source": [
        "NumPy aggregations will apply across all elements of a multidimensional array:"
      ]
    },
    {
      "cell_type": "code",
      "execution_count": null,
      "metadata": {
        "jupyter": {
          "outputs_hidden": false
        },
        "id": "YEYTsLQo8kIZ",
        "outputId": "29cc59f1-0253-455d-86ac-06beb017c86f"
      },
      "outputs": [
        {
          "data": {
            "text/plain": [
              "45"
            ]
          },
          "execution_count": 10,
          "metadata": {},
          "output_type": "execute_result"
        }
      ],
      "source": [
        "M.sum()"
      ]
    },
    {
      "cell_type": "markdown",
      "metadata": {
        "id": "Avt5LAW88kIa"
      },
      "source": [
        "Aggregation functions take an additional argument specifying the *axis* along which the aggregate is computed. For example, we can find the minimum value within each column by specifying `axis=0`:"
      ]
    },
    {
      "cell_type": "code",
      "execution_count": null,
      "metadata": {
        "jupyter": {
          "outputs_hidden": false
        },
        "id": "DmrRx88i8kIa",
        "outputId": "7da0ffc0-7803-4144-bf76-1795797490ec"
      },
      "outputs": [
        {
          "data": {
            "text/plain": [
              "array([0, 3, 1, 0])"
            ]
          },
          "execution_count": 11,
          "metadata": {},
          "output_type": "execute_result"
        }
      ],
      "source": [
        "M.min(axis=0)"
      ]
    },
    {
      "cell_type": "markdown",
      "metadata": {
        "id": "pt1Zmcsc8kIb"
      },
      "source": [
        "The function returns four values, corresponding to the four columns of numbers.\n",
        "\n",
        "Similarly, we can find the maximum value within each row:"
      ]
    },
    {
      "cell_type": "code",
      "execution_count": null,
      "metadata": {
        "jupyter": {
          "outputs_hidden": false
        },
        "id": "BvLZsZwk8kIb",
        "outputId": "cfd24c31-3fde-43a5-adf8-30e5c1c3320c"
      },
      "outputs": [
        {
          "data": {
            "text/plain": [
              "array([3, 9, 8])"
            ]
          },
          "execution_count": 12,
          "metadata": {},
          "output_type": "execute_result"
        }
      ],
      "source": [
        "M.max(axis=1)"
      ]
    },
    {
      "cell_type": "markdown",
      "metadata": {
        "id": "BYG66y_X8kIb"
      },
      "source": [
        "The way the axis is specified here can be confusing to users coming from other languages.\n",
        "The `axis` keyword specifies the dimension of the array that will be *collapsed*, rather than the dimension that will be returned.\n",
        "So, specifying `axis=0` means that axis 0 will be collapsed: for two-dimensional arrays, values within each column will be aggregated."
      ]
    },
    {
      "cell_type": "markdown",
      "metadata": {
        "id": "Tr8wpdgL8kIb"
      },
      "source": [
        "### Other Aggregation Functions\n",
        "\n",
        "NumPy provides several other aggregation functions with a similar API, and additionally most have a `NaN`-safe counterpart that computes the result while ignoring missing values, which are marked by the special IEEE floating-point `NaN` value (see [Handling Missing Data](03.04-Missing-Values.ipynb)).\n",
        "\n",
        "The following table provides a list of useful aggregation functions available in NumPy:\n",
        "\n",
        "|Function name    |   NaN-safe version| Description                                   |\n",
        "|-----------------|-------------------|-----------------------------------------------|\n",
        "| `np.sum`        | `np.nansum`       | Compute sum of elements                       |\n",
        "| `np.prod`       | `np.nanprod`      | Compute product of elements                   |\n",
        "| `np.mean`       | `np.nanmean`      | Compute mean of elements                      |\n",
        "| `np.std`        | `np.nanstd`       | Compute standard deviation                    |\n",
        "| `np.var`        | `np.nanvar`       | Compute variance                              |\n",
        "| `np.min`        | `np.nanmin`       | Find minimum value                            |\n",
        "| `np.max`        | `np.nanmax`       | Find maximum value                            |\n",
        "| `np.argmin`     | `np.nanargmin`    | Find index of minimum value                   |\n",
        "| `np.argmax`     | `np.nanargmax`    | Find index of maximum value                   |\n",
        "| `np.median`     | `np.nanmedian`    | Compute median of elements                    |\n",
        "| `np.percentile` | `np.nanpercentile`| Compute rank-based statistics of elements     |\n",
        "| `np.any`        | N/A               | Evaluate whether any elements are true        |\n",
        "| `np.all`        | N/A               | Evaluate whether all elements are true        |\n",
        "\n",
        "You will see these aggregates often throughout the rest of the book."
      ]
    },
    {
      "cell_type": "markdown",
      "metadata": {
        "id": "3sKiYnyI8kIc"
      },
      "source": [
        "## Example: What Is the Average Height of US Presidents?"
      ]
    },
    {
      "cell_type": "markdown",
      "metadata": {
        "id": "SuM3zh1g8kIc"
      },
      "source": [
        "Aggregates available in NumPy can act as summary statistics for a set of values.\n",
        "As a small example, let's consider the heights of all US presidents.\n",
        "This data is available in the file *president_heights.csv*, which is a comma-separated list of labels and values:"
      ]
    },
    {
      "cell_type": "code",
      "execution_count": null,
      "metadata": {
        "jupyter": {
          "outputs_hidden": false
        },
        "id": "kAM2zxpF8kIc",
        "outputId": "a525ab63-1c7b-4eea-e9f4-9ac619162782"
      },
      "outputs": [
        {
          "name": "stdout",
          "output_type": "stream",
          "text": [
            "order,name,height(cm)\n",
            "1,George Washington,189\n",
            "2,John Adams,170\n",
            "3,Thomas Jefferson,189\n"
          ]
        }
      ],
      "source": [
        "!head -4 data/president_heights.csv"
      ]
    },
    {
      "cell_type": "markdown",
      "metadata": {
        "id": "ph9YUMRY8kIc"
      },
      "source": [
        "We'll use the Pandas package, which we'll explore more fully in [Part 3](03.00-Introduction-to-Pandas.ipynb), to read the file and extract this information (note that the heights are measured in centimeters):"
      ]
    },
    {
      "cell_type": "code",
      "execution_count": null,
      "metadata": {
        "jupyter": {
          "outputs_hidden": false
        },
        "id": "wRV2-uPU8kIc",
        "outputId": "0c88ec51-7ea2-4f1b-9e31-385b641edcf5"
      },
      "outputs": [
        {
          "name": "stdout",
          "output_type": "stream",
          "text": [
            "[189 170 189 163 183 171 185 168 173 183 173 173 175 178 183 193 178 173\n",
            " 174 183 183 168 170 178 182 180 183 178 182 188 175 179 183 193 182 183\n",
            " 177 185 188 188 182 185 191 182]\n"
          ]
        }
      ],
      "source": [
        "import pandas as pd\n",
        "data = pd.read_csv('data/president_heights.csv')\n",
        "heights = np.array(data['height(cm)'])\n",
        "print(heights)"
      ]
    },
    {
      "cell_type": "markdown",
      "metadata": {
        "id": "-Ja3HaOw8kId"
      },
      "source": [
        "Now that we have this data array, we can compute a variety of summary statistics:"
      ]
    },
    {
      "cell_type": "code",
      "execution_count": null,
      "metadata": {
        "jupyter": {
          "outputs_hidden": false
        },
        "id": "R2B6Q6JX8kId",
        "outputId": "02ebcc84-6f56-40dc-9886-b24edee410ef"
      },
      "outputs": [
        {
          "name": "stdout",
          "output_type": "stream",
          "text": [
            "Mean height:        180.04545454545453\n",
            "Standard deviation: 6.983599441335736\n",
            "Minimum height:     163\n",
            "Maximum height:     193\n"
          ]
        }
      ],
      "source": [
        "print(\"Mean height:       \", heights.mean())\n",
        "print(\"Standard deviation:\", heights.std())\n",
        "print(\"Minimum height:    \", heights.min())\n",
        "print(\"Maximum height:    \", heights.max())"
      ]
    },
    {
      "cell_type": "markdown",
      "metadata": {
        "id": "8iYNJqYQ8kId"
      },
      "source": [
        "Note that in each case, the aggregation operation reduced the entire array to a single summarizing value, which gives us information about the distribution of values.\n",
        "We may also wish to compute quantiles:"
      ]
    },
    {
      "cell_type": "code",
      "execution_count": null,
      "metadata": {
        "jupyter": {
          "outputs_hidden": false
        },
        "id": "SJTPb4o38kIe",
        "outputId": "ea8072df-c02c-4b48-ec92-dc33f57290bc"
      },
      "outputs": [
        {
          "name": "stdout",
          "output_type": "stream",
          "text": [
            "25th percentile:    174.75\n",
            "Median:             182.0\n",
            "75th percentile:    183.5\n"
          ]
        }
      ],
      "source": [
        "print(\"25th percentile:   \", np.percentile(heights, 25))\n",
        "print(\"Median:            \", np.median(heights))\n",
        "print(\"75th percentile:   \", np.percentile(heights, 75))"
      ]
    },
    {
      "cell_type": "markdown",
      "metadata": {
        "id": "B_UXq-cw8kIe"
      },
      "source": [
        "We see that the median height of US presidents is 182 cm, or just shy of six feet.\n",
        "\n",
        "Of course, sometimes it's more useful to see a visual representation of this data, which we can accomplish using tools in Matplotlib (we'll discuss Matplotlib more fully in [Part 4](04.00-Introduction-To-Matplotlib.ipynb)). For example, this code generates the following chart:"
      ]
    },
    {
      "cell_type": "code",
      "execution_count": null,
      "metadata": {
        "jupyter": {
          "outputs_hidden": false
        },
        "id": "YGGKWmPa8kIe"
      },
      "outputs": [],
      "source": [
        "%matplotlib inline\n",
        "import matplotlib.pyplot as plt\n",
        "plt.style.use('seaborn-whitegrid')"
      ]
    },
    {
      "cell_type": "code",
      "execution_count": null,
      "metadata": {
        "jupyter": {
          "outputs_hidden": false
        },
        "id": "FSPnbMrI8kIm",
        "outputId": "7024b9b9-1809-410e-f0b7-1daa2bf1f3be"
      },
      "outputs": [
        {
          "data": {
            "image/png": "[encoded data removed]",
            "text/plain": [
              "<Figure size 432x288 with 1 Axes>"
            ]
          },
          "metadata": {},
          "output_type": "display_data"
        }
      ],
      "source": [
        "plt.hist(heights)\n",
        "plt.title('Height Distribution of US Presidents')\n",
        "plt.xlabel('height (cm)')\n",
        "plt.ylabel('number');"
      ]
    }
  ],
  "metadata": {
    "anaconda-cloud": {},
    "jupytext": {
      "formats": "ipynb,md"
    },
    "kernelspec": {
      "display_name": "Python 3",
      "language": "python",
      "name": "python3"
    },
    "language_info": {
      "codemirror_mode": {
        "name": "ipython",
        "version": 3
      },
      "file_extension": ".py",
      "mimetype": "text/x-python",
      "name": "python",
      "nbconvert_exporter": "python",
      "pygments_lexer": "ipython3",
      "version": "3.9.2"
    },
    "colab": {
      "provenance": []
    }
  },
  "nbformat": 4,
  "nbformat_minor": 0
}