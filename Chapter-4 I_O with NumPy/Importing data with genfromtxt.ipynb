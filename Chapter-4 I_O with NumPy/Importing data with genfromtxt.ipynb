{
 "cells": [
  {
   "cell_type": "markdown",
   "id": "4bc52fa6-3d86-4042-a9b4-a0caaebc3f89",
   "metadata": {},
   "source": [
    "* NumPy provides several functions to create arrays from tabular data. We focus here on the `genfromtxt` function.\n",
    "* In a nutshell, genfromtxt runs two main loops.\n",
    "* The `first loop` converts each line of the file in a `sequence of strings`.\n",
    "* The `second loop` converts each string to the appropriate `data type`.\n",
    "* This mechanism is slower than a single loop, but gives more flexibility.\n",
    "* In particular, genfromtxt is able to take missing data into account, when other faster and simpler functions like loadtxt cannot."
   ]
  },
  {
   "cell_type": "code",
   "execution_count": 1,
   "id": "cf53faf0-dc29-4856-9bb8-218e6368b1ef",
   "metadata": {},
   "outputs": [],
   "source": [
    "import numpy as np\n",
    "from io import StringIO"
   ]
  },
  {
   "cell_type": "code",
   "execution_count": 3,
   "id": "06a8fcee-2df5-4999-97a7-f0d6b16f164d",
   "metadata": {},
   "outputs": [
    {
     "data": {
      "text/plain": [
       "'1, 2, 3\\n4, 5, 6'"
      ]
     },
     "execution_count": 3,
     "metadata": {},
     "output_type": "execute_result"
    }
   ],
   "source": [
    "data = u\"1, 2, 3\\n4, 5, 6\"\n",
    "data"
   ]
  },
  {
   "cell_type": "code",
   "execution_count": 7,
   "id": "77efb939-bdc2-4f3e-a944-abddd5ddee8d",
   "metadata": {},
   "outputs": [
    {
     "data": {
      "text/plain": [
       "array([[1., 2., 3.],\n",
       "       [4., 5., 6.]])"
      ]
     },
     "execution_count": 7,
     "metadata": {},
     "output_type": "execute_result"
    }
   ],
   "source": [
    "np.genfromtxt(StringIO(data),delimiter=',')"
   ]
  },
  {
   "cell_type": "code",
   "execution_count": 8,
   "id": "565a57a6-cba8-427f-969a-a9dd695230ef",
   "metadata": {},
   "outputs": [
    {
     "data": {
      "text/plain": [
       "'  1  2  3\\n  4  5 67\\n890123  4'"
      ]
     },
     "execution_count": 8,
     "metadata": {},
     "output_type": "execute_result"
    }
   ],
   "source": [
    "data = u\"  1  2  3\\n  4  5 67\\n890123  4\"\n",
    "data"
   ]
  },
  {
   "cell_type": "code",
   "execution_count": 12,
   "id": "9155df4d-90cf-4e70-ba6f-3db264c06adf",
   "metadata": {},
   "outputs": [
    {
     "data": {
      "text/plain": [
       "array([[  1.,   2.,   3.],\n",
       "       [  4.,   5.,  67.],\n",
       "       [890., 123.,   4.]])"
      ]
     },
     "execution_count": 12,
     "metadata": {},
     "output_type": "execute_result"
    }
   ],
   "source": [
    "np.genfromtxt(StringIO(data),delimiter=3)"
   ]
  },
  {
   "cell_type": "code",
   "execution_count": 13,
   "id": "80fddfa9-ae36-4809-b7bf-c9a999cb2d2b",
   "metadata": {},
   "outputs": [],
   "source": [
    "data = u\"123456789\\n   4  7 9\\n   4567 9\""
   ]
  },
  {
   "cell_type": "code",
   "execution_count": 17,
   "id": "1d654478-03c1-4643-9361-08ebd35d74b5",
   "metadata": {},
   "outputs": [
    {
     "data": {
      "text/plain": [
       "array([[1234.,  567.,   89.],\n",
       "       [   4.,    7.,    9.],\n",
       "       [   4.,  567.,    9.]])"
      ]
     },
     "execution_count": 17,
     "metadata": {},
     "output_type": "execute_result"
    }
   ],
   "source": [
    "np.genfromtxt(StringIO(data),delimiter=(4,3,2))"
   ]
  },
  {
   "cell_type": "code",
   "execution_count": 18,
   "id": "ee8fa7d3-c4fd-488f-98ef-a33dd46ed8ee",
   "metadata": {},
   "outputs": [
    {
     "data": {
      "text/plain": [
       "'1, abc , 2\\n 3, xxx, 4'"
      ]
     },
     "execution_count": 18,
     "metadata": {},
     "output_type": "execute_result"
    }
   ],
   "source": [
    "data = u\"1, abc , 2\\n 3, xxx, 4\"\n",
    "data"
   ]
  },
  {
   "cell_type": "code",
   "execution_count": 19,
   "id": "0f9eea07-1e30-4f77-8f32-03d84005df25",
   "metadata": {},
   "outputs": [
    {
     "data": {
      "text/plain": [
       "array([['1', ' abc ', ' 2'],\n",
       "       ['3', ' xxx', ' 4']], dtype='<U5')"
      ]
     },
     "execution_count": 19,
     "metadata": {},
     "output_type": "execute_result"
    }
   ],
   "source": [
    "np.genfromtxt(StringIO(data), delimiter=\",\", dtype=\"|U5\")"
   ]
  },
  {
   "cell_type": "code",
   "execution_count": 20,
   "id": "2ba61d7c-d5c2-4171-be45-abc460d11b59",
   "metadata": {},
   "outputs": [
    {
     "data": {
      "text/plain": [
       "array([['1', 'abc', '2'],\n",
       "       ['3', 'xxx', '4']], dtype='<U5')"
      ]
     },
     "execution_count": 20,
     "metadata": {},
     "output_type": "execute_result"
    }
   ],
   "source": [
    "np.genfromtxt(StringIO(data), delimiter=\",\", dtype=\"|U5\", autostrip=True)"
   ]
  },
  {
   "cell_type": "code",
   "execution_count": 21,
   "id": "b6176c7c-6a71-4a68-9081-78f262bfc29b",
   "metadata": {},
   "outputs": [],
   "source": [
    "data = u\"\"\"#\n",
    "# Skip me !\n",
    "# Skip me too !\n",
    "1, 2\n",
    "3, 4\n",
    "5, 6 #This is the third line of the data\n",
    "7, 8\n",
    "# And here comes the last line\n",
    "9, 0\n",
    "\"\"\""
   ]
  },
  {
   "cell_type": "code",
   "execution_count": 22,
   "id": "a5abfc86-e41d-4bd4-8cd5-baf9a4a080ea",
   "metadata": {},
   "outputs": [
    {
     "data": {
      "text/plain": [
       "array([[1., 2.],\n",
       "       [3., 4.],\n",
       "       [5., 6.],\n",
       "       [7., 8.],\n",
       "       [9., 0.]])"
      ]
     },
     "execution_count": 22,
     "metadata": {},
     "output_type": "execute_result"
    }
   ],
   "source": [
    "np.genfromtxt(StringIO(data),comments='#',delimiter=',')"
   ]
  },
  {
   "cell_type": "code",
   "execution_count": 23,
   "id": "8c5791bc-54ef-4ae5-ad6b-ab0dad738c25",
   "metadata": {},
   "outputs": [
    {
     "data": {
      "text/plain": [
       "'0\\n1\\n2\\n3\\n4\\n5\\n6\\n7\\n8\\n9'"
      ]
     },
     "execution_count": 23,
     "metadata": {},
     "output_type": "execute_result"
    }
   ],
   "source": [
    "data = u\"\\n\".join(str(i) for i in range(10))\n",
    "data"
   ]
  },
  {
   "cell_type": "code",
   "execution_count": 24,
   "id": "c60b5682-f792-4b46-9210-6c7834193e7d",
   "metadata": {},
   "outputs": [
    {
     "data": {
      "text/plain": [
       "array([0., 1., 2., 3., 4., 5., 6., 7., 8., 9.])"
      ]
     },
     "execution_count": 24,
     "metadata": {},
     "output_type": "execute_result"
    }
   ],
   "source": [
    "np.genfromtxt(StringIO(data),)"
   ]
  },
  {
   "cell_type": "code",
   "execution_count": 26,
   "id": "29c76a1c-280b-4fa1-9958-f1bac3e73cf0",
   "metadata": {},
   "outputs": [
    {
     "data": {
      "text/plain": [
       "array([3., 4.])"
      ]
     },
     "execution_count": 26,
     "metadata": {},
     "output_type": "execute_result"
    }
   ],
   "source": [
    "np.genfromtxt(StringIO(data),\n",
    "             skip_header=3,skip_footer=5\n",
    "             )"
   ]
  },
  {
   "cell_type": "code",
   "execution_count": 27,
   "id": "620ed552-7059-4d40-949c-46fceffc1734",
   "metadata": {},
   "outputs": [
    {
     "data": {
      "text/plain": [
       "'1 2 3\\n4 5 6'"
      ]
     },
     "execution_count": 27,
     "metadata": {},
     "output_type": "execute_result"
    }
   ],
   "source": [
    "data = u\"1 2 3\\n4 5 6\"\n",
    "data"
   ]
  },
  {
   "cell_type": "code",
   "execution_count": 30,
   "id": "78b22cd8-3ac7-48c4-b161-87d9f43cbd48",
   "metadata": {},
   "outputs": [
    {
     "data": {
      "text/plain": [
       "array([[1., 2., 3.],\n",
       "       [4., 5., 6.]])"
      ]
     },
     "execution_count": 30,
     "metadata": {},
     "output_type": "execute_result"
    }
   ],
   "source": [
    "np.genfromtxt(StringIO(data),)"
   ]
  },
  {
   "cell_type": "code",
   "execution_count": 32,
   "id": "a9e4a1ab-586f-4cce-99e7-92957c5e52b0",
   "metadata": {},
   "outputs": [
    {
     "data": {
      "text/plain": [
       "array([[1., 3.],\n",
       "       [4., 6.]])"
      ]
     },
     "execution_count": 32,
     "metadata": {},
     "output_type": "execute_result"
    }
   ],
   "source": [
    "np.genfromtxt(StringIO(data),usecols=(0,-1))"
   ]
  },
  {
   "cell_type": "code",
   "execution_count": 33,
   "id": "d19681dd-4b53-4429-a5b4-3040d11951da",
   "metadata": {},
   "outputs": [
    {
     "data": {
      "text/plain": [
       "'1 2 3\\n4 5 6'"
      ]
     },
     "execution_count": 33,
     "metadata": {},
     "output_type": "execute_result"
    }
   ],
   "source": [
    "data = u\"1 2 3\\n4 5 6\"\n",
    "data"
   ]
  },
  {
   "cell_type": "code",
   "execution_count": 35,
   "id": "772d474d-6608-4b70-8a5d-76c44aae5e82",
   "metadata": {},
   "outputs": [
    {
     "data": {
      "text/plain": [
       "array([(1., 3.), (4., 6.)], dtype=[('a', '<f8'), ('c', '<f8')])"
      ]
     },
     "execution_count": 35,
     "metadata": {},
     "output_type": "execute_result"
    }
   ],
   "source": [
    "np.genfromtxt(StringIO(data),names=\"a,b,c\",usecols=(\"a\",'c'))"
   ]
  },
  {
   "cell_type": "code",
   "execution_count": 36,
   "id": "ad12624c-885f-49ef-b3da-d42c6689f7a7",
   "metadata": {},
   "outputs": [
    {
     "data": {
      "text/plain": [
       "array([(1., 3.), (4., 6.)], dtype=[('a', '<f8'), ('c', '<f8')])"
      ]
     },
     "execution_count": 36,
     "metadata": {},
     "output_type": "execute_result"
    }
   ],
   "source": [
    "np.genfromtxt(StringIO(data),\n",
    "              names=\"a, b, c\", usecols=(\"a, c\"))"
   ]
  },
  {
   "cell_type": "code",
   "execution_count": 37,
   "id": "c22660d9-2e57-4056-88e8-01cc7fea46ac",
   "metadata": {},
   "outputs": [
    {
     "data": {
      "text/plain": [
       "<_io.StringIO at 0x11d445655e0>"
      ]
     },
     "execution_count": 37,
     "metadata": {},
     "output_type": "execute_result"
    }
   ],
   "source": [
    "data = StringIO(\"1 2 3\\n 4 5 6\")\n",
    "data"
   ]
  },
  {
   "cell_type": "code",
   "execution_count": 38,
   "id": "030dc918-ffd2-4673-a8ce-3e92a0400cea",
   "metadata": {},
   "outputs": [
    {
     "data": {
      "text/plain": [
       "array([(1, 2, 3), (4, 5, 6)],\n",
       "      dtype=[('a', '<i4'), ('b', '<i4'), ('c', '<i4')])"
      ]
     },
     "execution_count": 38,
     "metadata": {},
     "output_type": "execute_result"
    }
   ],
   "source": [
    "np.genfromtxt(data, dtype=[(_, int) for _ in \"abc\"])"
   ]
  },
  {
   "cell_type": "code",
   "execution_count": 39,
   "id": "d22c46cc-a2bf-4244-86d2-7acdb989f5a5",
   "metadata": {},
   "outputs": [
    {
     "data": {
      "text/plain": [
       "array([(1., 2., 3.), (4., 5., 6.)],\n",
       "      dtype=[('A', '<f8'), ('B', '<f8'), ('C', '<f8')])"
      ]
     },
     "execution_count": 39,
     "metadata": {},
     "output_type": "execute_result"
    }
   ],
   "source": [
    "data = StringIO(\"1 2 3\\n 4 5 6\")\n",
    "np.genfromtxt(data, names=\"A, B, C\")"
   ]
  },
  {
   "cell_type": "code",
   "execution_count": 40,
   "id": "ba566ace-252f-4106-9736-ad8bba197209",
   "metadata": {},
   "outputs": [],
   "source": [
    "data = StringIO(\"1 2 3\\n 4 5 6\")\n",
    "ndtype=[('a',int), ('b', float), ('c', int)]\n",
    "names = [\"A\", \"B\", \"C\"]"
   ]
  },
  {
   "cell_type": "code",
   "execution_count": 41,
   "id": "2a369b7c-4c96-4fcd-a367-303461774f01",
   "metadata": {},
   "outputs": [
    {
     "data": {
      "text/plain": [
       "array([(1, 2., 3), (4, 5., 6)],\n",
       "      dtype=[('A', '<i4'), ('B', '<f8'), ('C', '<i4')])"
      ]
     },
     "execution_count": 41,
     "metadata": {},
     "output_type": "execute_result"
    }
   ],
   "source": [
    "np.genfromtxt(data, names=names, dtype=ndtype)"
   ]
  },
  {
   "cell_type": "code",
   "execution_count": 42,
   "id": "62e0c185-95d7-42cc-a665-f76467d00f9a",
   "metadata": {},
   "outputs": [],
   "source": [
    "convertfunc = lambda x: float(x.strip(b\"%\"))/100."
   ]
  },
  {
   "cell_type": "code",
   "execution_count": 43,
   "id": "3c99f7aa-2c2e-4d79-abc9-e4d41c52cd67",
   "metadata": {},
   "outputs": [],
   "source": [
    "data = u\"1, 2.3%, 45.\\n6, 78.9%, 0\""
   ]
  },
  {
   "cell_type": "code",
   "execution_count": 44,
   "id": "2377d9dd-46f0-48a3-833d-db8ed0123167",
   "metadata": {},
   "outputs": [],
   "source": [
    "names = (\"i\", \"p\", \"n\")"
   ]
  },
  {
   "cell_type": "code",
   "execution_count": 45,
   "id": "c6ccb907-2ae9-4d8a-a4a3-c7c5026afc6f",
   "metadata": {},
   "outputs": [
    {
     "data": {
      "text/plain": [
       "array([(1., nan, 45.), (6., nan,  0.)],\n",
       "      dtype=[('i', '<f8'), ('p', '<f8'), ('n', '<f8')])"
      ]
     },
     "execution_count": 45,
     "metadata": {},
     "output_type": "execute_result"
    }
   ],
   "source": [
    "np.genfromtxt(StringIO(data), delimiter=\",\", names=names)"
   ]
  },
  {
   "cell_type": "code",
   "execution_count": 46,
   "id": "df90f050-eea2-4ea5-881c-c22222e83cb4",
   "metadata": {},
   "outputs": [
    {
     "data": {
      "text/plain": [
       "array([(1., 0.023, 45.), (6., 0.789,  0.)],\n",
       "      dtype=[('i', '<f8'), ('p', '<f8'), ('n', '<f8')])"
      ]
     },
     "execution_count": 46,
     "metadata": {},
     "output_type": "execute_result"
    }
   ],
   "source": [
    "np.genfromtxt(StringIO(data), delimiter=\",\", names=names,\n",
    "              converters={1: convertfunc})"
   ]
  },
  {
   "cell_type": "code",
   "execution_count": 47,
   "id": "7539a9fd-c8f0-4070-91ba-ebb13d4e16b9",
   "metadata": {},
   "outputs": [
    {
     "data": {
      "text/plain": [
       "array([(1., 0.023, 45.), (6., 0.789,  0.)],\n",
       "      dtype=[('i', '<f8'), ('p', '<f8'), ('n', '<f8')])"
      ]
     },
     "execution_count": 47,
     "metadata": {},
     "output_type": "execute_result"
    }
   ],
   "source": [
    "np.genfromtxt(StringIO(data), delimiter=\",\", names=names,\n",
    "              converters={\"p\": convertfunc})"
   ]
  },
  {
   "cell_type": "code",
   "execution_count": null,
   "id": "ae6e814f-fdd0-458c-8529-e0aae2a29523",
   "metadata": {},
   "outputs": [],
   "source": []
  }
 ],
 "metadata": {
  "kernelspec": {
   "display_name": "Python 3 (ipykernel)",
   "language": "python",
   "name": "python3"
  },
  "language_info": {
   "codemirror_mode": {
    "name": "ipython",
    "version": 3
   },
   "file_extension": ".py",
   "mimetype": "text/x-python",
   "name": "python",
   "nbconvert_exporter": "python",
   "pygments_lexer": "ipython3",
   "version": "3.8.10"
  }
 },
 "nbformat": 4,
 "nbformat_minor": 5
}
