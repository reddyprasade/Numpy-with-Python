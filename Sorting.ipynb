{
  "cells": [
    {
      "cell_type": "markdown",
      "metadata": {
        "id": "jwtiTsPb8nZz"
      },
      "source": [
        "# Sorting Arrays"
      ]
    },
    {
      "cell_type": "markdown",
      "metadata": {
        "id": "JCoBd9W88nZ-"
      },
      "source": [
        "Up to this point we have been concerned mainly with tools to access and operate on array data with NumPy.\n",
        "This chapter covers algorithms related to sorting values in NumPy arrays.\n",
        "These algorithms are a favorite topic in introductory computer science courses: if you've ever taken one, you probably have had dreams (or, depending on your temperament, nightmares) about *insertion sorts*, *selection sorts*, *merge sorts*, *quick sorts*, *bubble sorts*, and many, many more.\n",
        "All are means of accomplishing a similar task: sorting the values in a list or array.\n",
        "\n",
        "Python has a couple of built-in functions and methods for sorting lists and other iterable objects. The `sorted` function accepts a list and returns a sorted version of it:"
      ]
    },
    {
      "cell_type": "code",
      "execution_count": null,
      "metadata": {
        "id": "MLL-PQfO8naB",
        "outputId": "7b602456-1d02-4ed5-d552-9ddbf5029955"
      },
      "outputs": [
        {
          "data": {
            "text/plain": [
              "[1, 1, 2, 3, 4, 5, 6, 9]"
            ]
          },
          "execution_count": 1,
          "metadata": {},
          "output_type": "execute_result"
        }
      ],
      "source": [
        "L = [3, 1, 4, 1, 5, 9, 2, 6]\n",
        "sorted(L)  # returns a sorted copy"
      ]
    },
    {
      "cell_type": "markdown",
      "metadata": {
        "id": "yLZBaK2A8naH"
      },
      "source": [
        "By contrast, the `sort` method of lists will sort the list in-place:"
      ]
    },
    {
      "cell_type": "code",
      "execution_count": null,
      "metadata": {
        "id": "euu3T6vL8naJ",
        "outputId": "9041bc57-5af8-47bd-edad-c0a04c91d980"
      },
      "outputs": [
        {
          "name": "stdout",
          "output_type": "stream",
          "text": [
            "[1, 1, 2, 3, 4, 5, 6, 9]\n"
          ]
        }
      ],
      "source": [
        "L.sort()  # acts in-place and returns None\n",
        "print(L)"
      ]
    },
    {
      "cell_type": "markdown",
      "metadata": {
        "id": "xGJ6vv-R8naL"
      },
      "source": [
        "Python's sorting methods are quite flexible, and can handle any iterable object. For example, here we sort a string:"
      ]
    },
    {
      "cell_type": "code",
      "execution_count": null,
      "metadata": {
        "id": "916bIE4H8naM",
        "outputId": "21a4d07d-d460-4cfc-c93b-4fe8ae7ac32c"
      },
      "outputs": [
        {
          "data": {
            "text/plain": [
              "['h', 'n', 'o', 'p', 't', 'y']"
            ]
          },
          "execution_count": 3,
          "metadata": {},
          "output_type": "execute_result"
        }
      ],
      "source": [
        "sorted('python')"
      ]
    },
    {
      "cell_type": "markdown",
      "metadata": {
        "id": "dj7AemGs8naT"
      },
      "source": [
        "These built-in sorting methods are convenient, but as previously discussed, the dynamism of Python values means they are less performant than routines designed specifically for uniform arrays of numbers.\n",
        "This is where NumPy's sorting routines come in."
      ]
    },
    {
      "cell_type": "markdown",
      "metadata": {
        "id": "t_fYxIxb8naU"
      },
      "source": [
        "## Fast Sorting in NumPy: np.sort and np.argsort\n",
        "\n",
        "The `np.sort` function is analogous to Python's built-in `sorted` function, and will efficiently return a sorted copy of an array:"
      ]
    },
    {
      "cell_type": "code",
      "execution_count": null,
      "metadata": {
        "jupyter": {
          "outputs_hidden": false
        },
        "id": "URkAZWIB8naW",
        "outputId": "f3edf9c1-db41-4bdf-a600-313345c8f7c7"
      },
      "outputs": [
        {
          "data": {
            "text/plain": [
              "array([1, 2, 3, 4, 5])"
            ]
          },
          "execution_count": 4,
          "metadata": {},
          "output_type": "execute_result"
        }
      ],
      "source": [
        "import numpy as np\n",
        "\n",
        "x = np.array([2, 1, 4, 3, 5])\n",
        "np.sort(x)"
      ]
    },
    {
      "cell_type": "markdown",
      "metadata": {
        "id": "qi5SAx418naX"
      },
      "source": [
        "Similarly to the `sort` method of Python lists, you can also sort an array in-place using the array `sort` method:"
      ]
    },
    {
      "cell_type": "code",
      "execution_count": null,
      "metadata": {
        "jupyter": {
          "outputs_hidden": false
        },
        "id": "KnJ1l-fF8naY",
        "outputId": "db37b6a2-a894-41f4-a04b-5459fe67654b"
      },
      "outputs": [
        {
          "name": "stdout",
          "output_type": "stream",
          "text": [
            "[1 2 3 4 5]\n"
          ]
        }
      ],
      "source": [
        "x.sort()\n",
        "print(x)"
      ]
    },
    {
      "cell_type": "markdown",
      "metadata": {
        "id": "KDwVgVza8naZ"
      },
      "source": [
        "A related function is `argsort`, which instead returns the *indices* of the sorted elements:"
      ]
    },
    {
      "cell_type": "code",
      "execution_count": null,
      "metadata": {
        "jupyter": {
          "outputs_hidden": false
        },
        "id": "XuHroV2V8naa",
        "outputId": "3d2f21e0-0a95-4b52-ab7f-4c9e18344cf1"
      },
      "outputs": [
        {
          "name": "stdout",
          "output_type": "stream",
          "text": [
            "[1 0 3 2 4]\n"
          ]
        }
      ],
      "source": [
        "x = np.array([2, 1, 4, 3, 5])\n",
        "i = np.argsort(x)\n",
        "print(i)"
      ]
    },
    {
      "cell_type": "markdown",
      "metadata": {
        "id": "0p0hiy468nab"
      },
      "source": [
        "The first element of this result gives the index of the smallest element, the second value gives the index of the second smallest, and so on.\n",
        "These indices can then be used (via fancy indexing) to construct the sorted array if desired:"
      ]
    },
    {
      "cell_type": "code",
      "execution_count": null,
      "metadata": {
        "jupyter": {
          "outputs_hidden": false
        },
        "id": "IM-kbvMg8nac",
        "outputId": "551ac449-3b82-4f07-8816-d83a8cfd5752"
      },
      "outputs": [
        {
          "data": {
            "text/plain": [
              "array([1, 2, 3, 4, 5])"
            ]
          },
          "execution_count": 7,
          "metadata": {},
          "output_type": "execute_result"
        }
      ],
      "source": [
        "x[i]"
      ]
    },
    {
      "cell_type": "markdown",
      "metadata": {
        "id": "49BftKZU8nad"
      },
      "source": [
        "You'll see an application of `argsort` later in this chapter.\n",
        "\n",
        "### Sorting Along Rows or Columns"
      ]
    },
    {
      "cell_type": "markdown",
      "metadata": {
        "id": "S-7vhaAC8nad"
      },
      "source": [
        "A useful feature of NumPy's sorting algorithms is the ability to sort along specific rows or columns of a multidimensional array using the `axis` argument. For example:"
      ]
    },
    {
      "cell_type": "code",
      "execution_count": null,
      "metadata": {
        "jupyter": {
          "outputs_hidden": false
        },
        "id": "JNnRXx5x8nae",
        "outputId": "76022e1f-9e32-43e9-dd1c-9150e9e31fe1"
      },
      "outputs": [
        {
          "name": "stdout",
          "output_type": "stream",
          "text": [
            "[[0 7 6 4 4 8]\n",
            " [0 6 2 0 5 9]\n",
            " [7 7 7 7 5 1]\n",
            " [8 4 5 3 1 9]]\n"
          ]
        }
      ],
      "source": [
        "rng = np.random.default_rng(seed=42)\n",
        "X = rng.integers(0, 10, (4, 6))\n",
        "print(X)"
      ]
    },
    {
      "cell_type": "code",
      "execution_count": null,
      "metadata": {
        "jupyter": {
          "outputs_hidden": false
        },
        "id": "pDjkl2uA8naf",
        "outputId": "318ed0c8-ec9d-477e-8776-059c35e88885"
      },
      "outputs": [
        {
          "data": {
            "text/plain": [
              "array([[0, 4, 2, 0, 1, 1],\n",
              "       [0, 6, 5, 3, 4, 8],\n",
              "       [7, 7, 6, 4, 5, 9],\n",
              "       [8, 7, 7, 7, 5, 9]])"
            ]
          },
          "execution_count": 9,
          "metadata": {},
          "output_type": "execute_result"
        }
      ],
      "source": [
        "# sort each column of X\n",
        "np.sort(X, axis=0)"
      ]
    },
    {
      "cell_type": "code",
      "execution_count": null,
      "metadata": {
        "jupyter": {
          "outputs_hidden": false
        },
        "id": "JcD61HFi8nag",
        "outputId": "ef058a15-ab07-4138-fdcf-4e150cb5073b"
      },
      "outputs": [
        {
          "data": {
            "text/plain": [
              "array([[0, 4, 4, 6, 7, 8],\n",
              "       [0, 0, 2, 5, 6, 9],\n",
              "       [1, 5, 7, 7, 7, 7],\n",
              "       [1, 3, 4, 5, 8, 9]])"
            ]
          },
          "execution_count": 10,
          "metadata": {},
          "output_type": "execute_result"
        }
      ],
      "source": [
        "# sort each row of X\n",
        "np.sort(X, axis=1)"
      ]
    },
    {
      "cell_type": "markdown",
      "metadata": {
        "id": "zADXwoPN8nah"
      },
      "source": [
        "Keep in mind that this treats each row or column as an independent array, and any relationships between the row or column values will be lost!"
      ]
    },
    {
      "cell_type": "markdown",
      "metadata": {
        "id": "UdhhTfTx8nai"
      },
      "source": [
        "## Partial Sorts: Partitioning\n",
        "\n",
        "Sometimes we're not interested in sorting the entire array, but simply want to find the *k* smallest values in the array. NumPy enables this with the `np.partition` function. `np.partition` takes an array and a number *K*; the result is a new array with the smallest *K* values to the left of the partition and the remaining values to the right:"
      ]
    },
    {
      "cell_type": "code",
      "execution_count": null,
      "metadata": {
        "jupyter": {
          "outputs_hidden": false
        },
        "id": "zX64nGzd8nai",
        "outputId": "7c6dc752-7cf4-46f6-edcf-c49130314426"
      },
      "outputs": [
        {
          "data": {
            "text/plain": [
              "array([2, 1, 3, 4, 6, 5, 7])"
            ]
          },
          "execution_count": 11,
          "metadata": {},
          "output_type": "execute_result"
        }
      ],
      "source": [
        "x = np.array([7, 2, 3, 1, 6, 5, 4])\n",
        "np.partition(x, 3)"
      ]
    },
    {
      "cell_type": "markdown",
      "metadata": {
        "id": "mOaPBIWN8naj"
      },
      "source": [
        "Notice that the first three values in the resulting array are the three smallest in the array, and the remaining array positions contain the remaining values.\n",
        "Within the two partitions, the elements have arbitrary order.\n",
        "\n",
        "Similarly to sorting, we can partition along an arbitrary axis of a multidimensional array:"
      ]
    },
    {
      "cell_type": "code",
      "execution_count": null,
      "metadata": {
        "jupyter": {
          "outputs_hidden": false
        },
        "id": "KzVMmZt28nak",
        "outputId": "ad338c66-0205-4ced-f2fa-718c681bbf6f"
      },
      "outputs": [
        {
          "data": {
            "text/plain": [
              "array([[0, 4, 4, 7, 6, 8],\n",
              "       [0, 0, 2, 6, 5, 9],\n",
              "       [1, 5, 7, 7, 7, 7],\n",
              "       [1, 3, 4, 5, 8, 9]])"
            ]
          },
          "execution_count": 12,
          "metadata": {},
          "output_type": "execute_result"
        }
      ],
      "source": [
        "np.partition(X, 2, axis=1)"
      ]
    },
    {
      "cell_type": "markdown",
      "metadata": {
        "id": "FWsn74bL8nal"
      },
      "source": [
        "The result is an array where the first two slots in each row contain the smallest values from that row, with the remaining values filling the remaining slots.\n",
        "\n",
        "Finally, just as there is an `np.argsort` function that computes indices of the sort, there is an `np.argpartition` function that computes indices of the partition.\n",
        "We'll see both of these in action in the following section."
      ]
    },
    {
      "cell_type": "markdown",
      "metadata": {
        "id": "c1VqkW9E8nal"
      },
      "source": [
        "## Example: k-Nearest Neighbors\n",
        "\n",
        "Let's quickly see how we might use the `argsort` function along multiple axes to find the nearest neighbors of each point in a set.\n",
        "We'll start by creating a random set of 10 points on a two-dimensional plane.\n",
        "Using the standard convention, we'll arrange these in a $10\\times 2$ array:"
      ]
    },
    {
      "cell_type": "code",
      "execution_count": null,
      "metadata": {
        "jupyter": {
          "outputs_hidden": false
        },
        "id": "03PbWevU8nam"
      },
      "outputs": [],
      "source": [
        "X = rng.random((10, 2))"
      ]
    },
    {
      "cell_type": "markdown",
      "metadata": {
        "id": "psiQ3fjI8nam"
      },
      "source": [
        "To get an idea of how these points look, let's generate a quick scatter plot (see the following figure):"
      ]
    },
    {
      "cell_type": "code",
      "execution_count": null,
      "metadata": {
        "jupyter": {
          "outputs_hidden": false
        },
        "id": "Xf6b4NHw8nan",
        "outputId": "3ca3e08a-70d8-4f45-f4b3-3b226e821da9"
      },
      "outputs": [
        {
          "data": {
            "image/png": "[encoded data removed]",
            "text/plain": [
              "<Figure size 432x288 with 1 Axes>"
            ]
          },
          "metadata": {},
          "output_type": "display_data"
        }
      ],
      "source": [
        "%matplotlib inline\n",
        "import matplotlib.pyplot as plt\n",
        "plt.style.use('seaborn-whitegrid')\n",
        "plt.scatter(X[:, 0], X[:, 1], s=100);"
      ]
    },
    {
      "cell_type": "markdown",
      "metadata": {
        "id": "C1zs1_6l8nan"
      },
      "source": [
        "Now we'll compute the distance between each pair of points.\n",
        "Recall that the squared distance between two points is the sum of the squared differences in each dimension;\n",
        "using the efficient broadcasting ([Computation on Arrays: Broadcasting](02.05-Computation-on-arrays-broadcasting.ipynb)) and aggregation ([Aggregations: Min, Max, and Everything In Between](02.04-Computation-on-arrays-aggregates.ipynb))  routines provided by NumPy we can compute the matrix of square distances in a single line of code:"
      ]
    },
    {
      "cell_type": "code",
      "execution_count": null,
      "metadata": {
        "jupyter": {
          "outputs_hidden": false
        },
        "id": "aViSTJ7x8nao"
      },
      "outputs": [],
      "source": [
        "dist_sq = np.sum((X[:, np.newaxis] - X[np.newaxis, :]) ** 2, axis=-1)"
      ]
    },
    {
      "cell_type": "markdown",
      "metadata": {
        "id": "QwkyWg_j8nao"
      },
      "source": [
        "This operation has a lot packed into it, and it might be a bit confusing if you're unfamiliar with NumPy's broadcasting rules. When you come across code like this, it can be useful to break it down into its component steps:"
      ]
    },
    {
      "cell_type": "code",
      "execution_count": null,
      "metadata": {
        "jupyter": {
          "outputs_hidden": false
        },
        "id": "e3skkqpn8nap",
        "outputId": "5a28f8af-4072-466e-d3d6-0b2911a61307"
      },
      "outputs": [
        {
          "data": {
            "text/plain": [
              "(10, 10, 2)"
            ]
          },
          "execution_count": 16,
          "metadata": {},
          "output_type": "execute_result"
        }
      ],
      "source": [
        "# for each pair of points, compute differences in their coordinates\n",
        "differences = X[:, np.newaxis] - X[np.newaxis, :]\n",
        "differences.shape"
      ]
    },
    {
      "cell_type": "code",
      "execution_count": null,
      "metadata": {
        "jupyter": {
          "outputs_hidden": false
        },
        "id": "kdy5QNw-8naq",
        "outputId": "5d7e3d23-1eef-4f4a-ceec-0b9eb05c8ea2"
      },
      "outputs": [
        {
          "data": {
            "text/plain": [
              "(10, 10, 2)"
            ]
          },
          "execution_count": 17,
          "metadata": {},
          "output_type": "execute_result"
        }
      ],
      "source": [
        "# square the coordinate differences\n",
        "sq_differences = differences ** 2\n",
        "sq_differences.shape"
      ]
    },
    {
      "cell_type": "code",
      "execution_count": null,
      "metadata": {
        "jupyter": {
          "outputs_hidden": false
        },
        "id": "y5jTJEcU8naq",
        "outputId": "dfbc88fd-797d-4b9d-b203-779833a415a5"
      },
      "outputs": [
        {
          "data": {
            "text/plain": [
              "(10, 10)"
            ]
          },
          "execution_count": 18,
          "metadata": {},
          "output_type": "execute_result"
        }
      ],
      "source": [
        "# sum the coordinate differences to get the squared distance\n",
        "dist_sq = sq_differences.sum(-1)\n",
        "dist_sq.shape"
      ]
    },
    {
      "cell_type": "markdown",
      "metadata": {
        "id": "MSlnyO-68nas"
      },
      "source": [
        "As a quick check of our logic, we should see that the diagonal of this matrix (i.e., the set of distances between each point and itself) is all zeros:"
      ]
    },
    {
      "cell_type": "code",
      "execution_count": null,
      "metadata": {
        "jupyter": {
          "outputs_hidden": false
        },
        "id": "Fkgr9WE78nas",
        "outputId": "cdf46d2b-9f00-4068-ca7b-4845c3bdc1da"
      },
      "outputs": [
        {
          "data": {
            "text/plain": [
              "array([0., 0., 0., 0., 0., 0., 0., 0., 0., 0.])"
            ]
          },
          "execution_count": 19,
          "metadata": {},
          "output_type": "execute_result"
        }
      ],
      "source": [
        "dist_sq.diagonal()"
      ]
    },
    {
      "cell_type": "markdown",
      "metadata": {
        "id": "QOqka4Yb8na5"
      },
      "source": [
        "With the pairwise square distances converted, we can now use `np.argsort` to sort along each row. The leftmost columns will then give the indices of the nearest neighbors:"
      ]
    },
    {
      "cell_type": "code",
      "execution_count": null,
      "metadata": {
        "jupyter": {
          "outputs_hidden": false
        },
        "id": "3OYKvcgh8na6",
        "outputId": "7c105df9-acc8-4b5b-f7b5-d6cae3f1780a"
      },
      "outputs": [
        {
          "name": "stdout",
          "output_type": "stream",
          "text": [
            "[[0 9 3 5 4 8 1 6 2 7]\n",
            " [1 7 2 6 4 8 3 0 9 5]\n",
            " [2 7 1 6 4 3 8 0 9 5]\n",
            " [3 0 4 5 9 6 1 2 8 7]\n",
            " [4 6 3 1 2 7 0 5 9 8]\n",
            " [5 9 3 0 4 6 8 1 2 7]\n",
            " [6 4 2 1 7 3 0 5 9 8]\n",
            " [7 2 1 6 4 3 8 0 9 5]\n",
            " [8 0 1 9 3 4 7 2 6 5]\n",
            " [9 0 5 3 4 8 6 1 2 7]]\n"
          ]
        }
      ],
      "source": [
        "nearest = np.argsort(dist_sq, axis=1)\n",
        "print(nearest)"
      ]
    },
    {
      "cell_type": "markdown",
      "metadata": {
        "id": "AfQE5fuT8na7"
      },
      "source": [
        "Notice that the first column gives the numbers 0 through 9 in order: this is due to the fact that each point's closest neighbor is itself, as we would expect.\n",
        "\n",
        "By using a full sort here, we've actually done more work than we need to in this case. If we're simply interested in the nearest $k$ neighbors, all we need to do is partition each row so that the smallest $k + 1$ squared distances come first, with larger distances filling the remaining positions of the array. We can do this with the `np.argpartition` function:"
      ]
    },
    {
      "cell_type": "code",
      "execution_count": null,
      "metadata": {
        "jupyter": {
          "outputs_hidden": false
        },
        "id": "peVK7wr18na7"
      },
      "outputs": [],
      "source": [
        "K = 2\n",
        "nearest_partition = np.argpartition(dist_sq, K + 1, axis=1)"
      ]
    },
    {
      "cell_type": "markdown",
      "metadata": {
        "id": "il1mPAQp8na8"
      },
      "source": [
        "In order to visualize this network of neighbors, let's quickly plot the points along with lines representing the connections from each point to its two nearest neighbors (see the following figure):"
      ]
    },
    {
      "cell_type": "code",
      "execution_count": null,
      "metadata": {
        "jupyter": {
          "outputs_hidden": false
        },
        "id": "ABzjDN8n8na8",
        "outputId": "8ff27165-2d00-4475-b30f-5157ccda0a61"
      },
      "outputs": [
        {
          "data": {
            "image/png": "[encoded data removed]",
            "text/plain": [
              "<Figure size 432x288 with 1 Axes>"
            ]
          },
          "metadata": {},
          "output_type": "display_data"
        }
      ],
      "source": [
        "plt.scatter(X[:, 0], X[:, 1], s=100)\n",
        "\n",
        "# draw lines from each point to its two nearest neighbors\n",
        "K = 2\n",
        "\n",
        "for i in range(X.shape[0]):\n",
        "    for j in nearest_partition[i, :K+1]:\n",
        "        # plot a line from X[i] to X[j]\n",
        "        # use some zip magic to make it happen:\n",
        "        plt.plot(*zip(X[j], X[i]), color='black')"
      ]
    },
    {
      "cell_type": "markdown",
      "metadata": {
        "id": "OMy77JN08na9"
      },
      "source": [
        "Each point in the plot has lines drawn to its two nearest neighbors.\n",
        "At first glance, it might seem strange that some of the points have more than two lines coming out of them: this is due to the fact that if point A is one of the two nearest neighbors of point B, this does not necessarily imply that point B is one of the two nearest neighbors of point A.\n",
        "\n",
        "Although the broadcasting and row-wise sorting of this approach might seem less straightforward than writing a loop, it turns out to be a very efficient way of operating on this data in Python.\n",
        "You might be tempted to do the same type of operation by manually looping through the data and sorting each set of neighbors individually, but this would almost certainly lead to a slower algorithm than the vectorized version we used. The beauty of this approach is that it's written in a way that's agnostic to the size of the input data: we could just as easily compute the neighbors among 100 or 1,000,000 points in any number of dimensions, and the code would look the same.\n",
        "\n",
        "Finally, I'll note that when doing very large nearest neighbor searches, there are tree-based and/or approximate algorithms that can scale as $\\mathcal{O}[N\\log N]$ or better rather than the $\\mathcal{O}[N^2]$ of the brute-force algorithm. One example of this is the KD-Tree, [implemented in Scikit-Learn](http://scikit-learn.org/stable/modules/generated/sklearn.neighbors.KDTree.html)."
      ]
    }
  ],
  "metadata": {
    "anaconda-cloud": {},
    "jupytext": {
      "formats": "ipynb,md"
    },
    "kernelspec": {
      "display_name": "Python 3 (ipykernel)",
      "language": "python",
      "name": "python3"
    },
    "language_info": {
      "codemirror_mode": {
        "name": "ipython",
        "version": 3
      },
      "file_extension": ".py",
      "mimetype": "text/x-python",
      "name": "python",
      "nbconvert_exporter": "python",
      "pygments_lexer": "ipython3",
      "version": "3.9.2"
    },
    "colab": {
      "provenance": []
    }
  },
  "nbformat": 4,
  "nbformat_minor": 0
}