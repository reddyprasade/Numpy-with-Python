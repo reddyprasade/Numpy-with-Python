{
 "cells": [
  {
   "cell_type": "markdown",
   "id": "f4455052-22ed-42c3-b7c4-74fd2afb6193",
   "metadata": {},
   "source": [
    "## Copies and views"
   ]
  },
  {
   "cell_type": "markdown",
   "id": "66992287-894c-454c-83ea-933848c20dfa",
   "metadata": {},
   "source": [
    "### Copy\n",
    "\n",
    "* When a `new array` is created by duplicating the data buffer as well as the metadata, it is called a `copy`.\n",
    "* Changes made to the copy do not reflect on the original array.\n",
    "* Making a copy is slower and memory-consuming but sometimes necessary.\n",
    "* A copy can be forced by using `ndarray.copy`."
   ]
  },
  {
   "cell_type": "code",
   "execution_count": 9,
   "id": "2950ea78-f2dc-468e-b5b2-9eaf9bcea1a6",
   "metadata": {},
   "outputs": [],
   "source": [
    "import numpy as np"
   ]
  },
  {
   "cell_type": "code",
   "execution_count": 10,
   "id": "b9f95dc5-a526-4215-bd5e-36bd5afa5109",
   "metadata": {},
   "outputs": [
    {
     "data": {
      "text/plain": [
       "array([[0, 1],\n",
       "       [2, 3],\n",
       "       [4, 5],\n",
       "       [6, 7],\n",
       "       [8, 9]])"
      ]
     },
     "execution_count": 10,
     "metadata": {},
     "output_type": "execute_result"
    }
   ],
   "source": [
    "a = np.arange(10).reshape(5,2)  # Orginal Array \n",
    "a"
   ]
  },
  {
   "cell_type": "code",
   "execution_count": 11,
   "id": "b9a07d28-60ff-4433-8b63-0b68e364e44c",
   "metadata": {},
   "outputs": [
    {
     "data": {
      "text/plain": [
       "array([[0, 1],\n",
       "       [2, 3],\n",
       "       [4, 5],\n",
       "       [6, 7],\n",
       "       [8, 9]])"
      ]
     },
     "execution_count": 11,
     "metadata": {},
     "output_type": "execute_result"
    }
   ],
   "source": [
    "b = a  # Copy array\n",
    "b"
   ]
  },
  {
   "cell_type": "code",
   "execution_count": 12,
   "id": "0ee5a493-0a00-449d-b71f-e73a7ace710e",
   "metadata": {},
   "outputs": [
    {
     "data": {
      "text/plain": [
       "array([[100,   1],\n",
       "       [  2,   3],\n",
       "       [  4,   5],\n",
       "       [  6,   7],\n",
       "       [  8,   9]])"
      ]
     },
     "execution_count": 12,
     "metadata": {},
     "output_type": "execute_result"
    }
   ],
   "source": [
    "b[0][0] = 100\n",
    "b"
   ]
  },
  {
   "cell_type": "code",
   "execution_count": 13,
   "id": "469778dd-c3e6-4fde-b456-16b4d3766988",
   "metadata": {},
   "outputs": [
    {
     "data": {
      "text/plain": [
       "array([[100,   1],\n",
       "       [  2,   3],\n",
       "       [  4,   5],\n",
       "       [  6,   7],\n",
       "       [  8,   9]])"
      ]
     },
     "execution_count": 13,
     "metadata": {},
     "output_type": "execute_result"
    }
   ],
   "source": [
    "a"
   ]
  },
  {
   "cell_type": "markdown",
   "id": "23bd6524-5da1-44a5-ac11-734939f795d9",
   "metadata": {},
   "source": [
    "* Views are created when elements can be addressed with offsets and strides in the original array. Hence, basic indexing always creates views."
   ]
  },
  {
   "cell_type": "code",
   "execution_count": 14,
   "id": "fe848205-d813-471e-a7d1-3b06c7a41803",
   "metadata": {},
   "outputs": [
    {
     "data": {
      "text/plain": [
       "array([0, 1, 2, 3, 4, 5, 6, 7, 8, 9])"
      ]
     },
     "execution_count": 14,
     "metadata": {},
     "output_type": "execute_result"
    }
   ],
   "source": [
    "x = np.arange(10)\n",
    "x"
   ]
  },
  {
   "cell_type": "code",
   "execution_count": 17,
   "id": "805849b3-bb78-4865-9aba-4f7e203271eb",
   "metadata": {},
   "outputs": [
    {
     "data": {
      "text/plain": [
       "array([1, 2])"
      ]
     },
     "execution_count": 17,
     "metadata": {},
     "output_type": "execute_result"
    }
   ],
   "source": [
    "y = x[1:3]\n",
    "y"
   ]
  },
  {
   "cell_type": "code",
   "execution_count": 18,
   "id": "87da553e-30a8-47f1-9776-2127dbd5121f",
   "metadata": {},
   "outputs": [
    {
     "data": {
      "text/plain": [
       "array([ 0, 10, 11,  3,  4,  5,  6,  7,  8,  9])"
      ]
     },
     "execution_count": 18,
     "metadata": {},
     "output_type": "execute_result"
    }
   ],
   "source": [
    "x[1:3] = [10, 11]\n",
    "x"
   ]
  },
  {
   "cell_type": "code",
   "execution_count": 19,
   "id": "0abd1ce5-3826-4477-9aba-221124158808",
   "metadata": {},
   "outputs": [
    {
     "data": {
      "text/plain": [
       "array([10, 11])"
      ]
     },
     "execution_count": 19,
     "metadata": {},
     "output_type": "execute_result"
    }
   ],
   "source": [
    "y"
   ]
  },
  {
   "cell_type": "markdown",
   "id": "9adca89e-f00e-456d-97b1-3ab20a01da69",
   "metadata": {},
   "source": [
    "![](https://media.geeksforgeeks.org/wp-content/uploads/shallow-copy.jpg)"
   ]
  },
  {
   "cell_type": "markdown",
   "id": "62f37811-47ba-45a2-99a9-cec16dfc3906",
   "metadata": {},
   "source": [
    "* A deep copy creates a new compound object before inserting copies of the items found in the original into it in a recursive manner.\n",
    "![](https://media.geeksforgeeks.org/wp-content/uploads/deep-copy.jpg)"
   ]
  },
  {
   "cell_type": "code",
   "execution_count": 24,
   "id": "c4143b64-ed68-418c-bea5-383b7d02021e",
   "metadata": {},
   "outputs": [],
   "source": [
    "original_array = np.array([5, 10, 15, 20,25])"
   ]
  },
  {
   "cell_type": "code",
   "execution_count": 25,
   "id": "7c693c9e-34fc-4229-bf76-38a9e8edee60",
   "metadata": {},
   "outputs": [
    {
     "name": "stdout",
     "output_type": "stream",
     "text": [
      "Original array:\n",
      " [ 4.54  6.99  8.42 10.87 16.94]\n"
     ]
    }
   ],
   "source": [
    "# Creating a numpy array \n",
    "array = np.array([4.54, 6.99, 8.42, 10.87, 16.94])\n",
    "print(\"Original array:\\n\",array)\n"
   ]
  },
  {
   "cell_type": "code",
   "execution_count": 26,
   "id": "05eeb972-7158-471b-9eb7-1bcb12cdff47",
   "metadata": {},
   "outputs": [
    {
     "name": "stdout",
     "output_type": "stream",
     "text": [
      "After getting the copied array:\n",
      " [ 4.54  6.99  8.42 10.87 16.94]\n"
     ]
    }
   ],
   "source": [
    "copy_array = np.copy(array)\n",
    "print(\"After getting the copied array:\\n\",copy_array)"
   ]
  },
  {
   "cell_type": "code",
   "execution_count": 27,
   "id": "dd6059df-b44c-4ee4-bba6-5802c065d798",
   "metadata": {},
   "outputs": [
    {
     "name": "stdout",
     "output_type": "stream",
     "text": [
      "Original array:\n",
      " [[12 18 44]\n",
      " [66 37 89]\n",
      " [31 47 88]]\n",
      "After getting the copied multi-dimensional array:\n",
      " [[12 18 44]\n",
      " [66 37 89]\n",
      " [31 47 88]]\n"
     ]
    }
   ],
   "source": [
    "# Creating a 3-D numpy array\n",
    "array = np.array([[12,18,44], [66,37,89],[31,47,88]])\n",
    "print(\"Original array:\\n\",array)\n",
    " \n",
    "# Use numpy.copy() function\n",
    "# Use multi-dimensional array\n",
    "copy_array = np.copy(array)\n",
    "print(\"After getting the copied multi-dimensional array:\\n\",copy_array)"
   ]
  },
  {
   "cell_type": "code",
   "execution_count": 28,
   "id": "cd3bf2ed-6556-4cc8-9426-ab8ac293a3e1",
   "metadata": {},
   "outputs": [
    {
     "name": "stdout",
     "output_type": "stream",
     "text": [
      "After getting the copied array:\n",
      " [77 10 15 20 25]\n"
     ]
    }
   ],
   "source": [
    "# Using assignment operator\n",
    "copy_array = original_array\n",
    "\n",
    "# Let's change the value.\n",
    "original_array[0] = 77\n",
    "print(\"After getting the copied array:\\n\",copy_array)"
   ]
  },
  {
   "cell_type": "code",
   "execution_count": 29,
   "id": "5fd96244-8c3f-4272-9cfd-d8165ff47178",
   "metadata": {},
   "outputs": [
    {
     "data": {
      "text/plain": [
       "array([77, 10, 15, 20, 25])"
      ]
     },
     "execution_count": 29,
     "metadata": {},
     "output_type": "execute_result"
    }
   ],
   "source": [
    "original_array"
   ]
  },
  {
   "cell_type": "code",
   "execution_count": 30,
   "id": "896812b9-0fcc-4172-9f70-eb5dd571da16",
   "metadata": {},
   "outputs": [
    {
     "name": "stdout",
     "output_type": "stream",
     "text": [
      "Original array:\n",
      " [ 0  3  5  7  9 11 13 15 17 19]\n"
     ]
    }
   ],
   "source": [
    "# Creating a numpy array\n",
    "array = np.array([0,3,5,7,9,11,13,15,17,19])\n",
    "print(\"Original array:\\n\",array)\n"
   ]
  },
  {
   "cell_type": "code",
   "execution_count": 31,
   "id": "1719e52b-55cb-42c1-9a7b-abed754c05c6",
   "metadata": {},
   "outputs": [
    {
     "data": {
      "text/plain": [
       "array([-1030792151,  1074931957, -1889785610,  1075574210,  1030792151,\n",
       "        1075894026, -1546188227,  1076215152,  -687194767,  1076949155])"
      ]
     },
     "execution_count": 31,
     "metadata": {},
     "output_type": "execute_result"
    }
   ],
   "source": [
    "# Creating an empty Numpy array\n",
    "# Similar to array\n",
    "copy1 = np.empty_like(array)\n",
    "copy1"
   ]
  },
  {
   "cell_type": "code",
   "execution_count": 32,
   "id": "13af4485-3406-458f-a26e-bb2e4da234aa",
   "metadata": {},
   "outputs": [
    {
     "name": "stdout",
     "output_type": "stream",
     "text": [
      "Copy of the given array:\n",
      " [ 0  3  5  7  9 11 13 15 17 19]\n"
     ]
    }
   ],
   "source": [
    "# Now assign array to copy\n",
    "copy1[:] = array\n",
    "print(\"Copy of the given array:\\n\",copy1)"
   ]
  },
  {
   "cell_type": "code",
   "execution_count": 33,
   "id": "60ffbd5d-ddf8-4558-8a8a-e80964d378fd",
   "metadata": {},
   "outputs": [
    {
     "data": {
      "text/plain": [
       "array([[1., 1., 1.],\n",
       "       [1., 1., 1.]])"
      ]
     },
     "execution_count": 33,
     "metadata": {},
     "output_type": "execute_result"
    }
   ],
   "source": [
    "x = np.ones((2, 3))\n",
    "x"
   ]
  },
  {
   "cell_type": "code",
   "execution_count": 34,
   "id": "c95b4a5f-1459-472a-8b54-587bed9fd6fa",
   "metadata": {},
   "outputs": [
    {
     "data": {
      "text/plain": [
       "array([[1., 1.],\n",
       "       [1., 1.],\n",
       "       [1., 1.]])"
      ]
     },
     "execution_count": 34,
     "metadata": {},
     "output_type": "execute_result"
    }
   ],
   "source": [
    "y = x.T\n",
    "y"
   ]
  },
  {
   "cell_type": "code",
   "execution_count": 35,
   "id": "772f4294-2898-4569-8bb4-ae3e8bebba0c",
   "metadata": {},
   "outputs": [
    {
     "data": {
      "text/plain": [
       "array([[1., 1.],\n",
       "       [1., 1.],\n",
       "       [1., 1.]])"
      ]
     },
     "execution_count": 35,
     "metadata": {},
     "output_type": "execute_result"
    }
   ],
   "source": [
    "z = y.copy()\n",
    "z"
   ]
  },
  {
   "cell_type": "code",
   "execution_count": 36,
   "id": "09ff77f5-ee05-4f33-875e-da18b46d721f",
   "metadata": {},
   "outputs": [
    {
     "data": {
      "text/plain": [
       "1.0"
      ]
     },
     "execution_count": 36,
     "metadata": {},
     "output_type": "execute_result"
    }
   ],
   "source": [
    "z[0][0]"
   ]
  },
  {
   "cell_type": "code",
   "execution_count": 37,
   "id": "1fdce4ae-30f3-4c84-ad8b-8a92a4ae9b05",
   "metadata": {},
   "outputs": [],
   "source": [
    "z[0][0] = 100"
   ]
  },
  {
   "cell_type": "code",
   "execution_count": 38,
   "id": "45e3a269-7186-4e73-9bba-0e8d985d53b1",
   "metadata": {},
   "outputs": [
    {
     "data": {
      "text/plain": [
       "array([[100.,   1.],\n",
       "       [  1.,   1.],\n",
       "       [  1.,   1.]])"
      ]
     },
     "execution_count": 38,
     "metadata": {},
     "output_type": "execute_result"
    }
   ],
   "source": [
    "z"
   ]
  },
  {
   "cell_type": "code",
   "execution_count": 39,
   "id": "a0c09689-ced9-4480-a7da-0a2be784da66",
   "metadata": {},
   "outputs": [
    {
     "data": {
      "text/plain": [
       "array([[1., 1.],\n",
       "       [1., 1.],\n",
       "       [1., 1.]])"
      ]
     },
     "execution_count": 39,
     "metadata": {},
     "output_type": "execute_result"
    }
   ],
   "source": [
    "y"
   ]
  },
  {
   "cell_type": "code",
   "execution_count": 40,
   "id": "769e4d89-6978-4a36-81c4-dfb9c5bd3683",
   "metadata": {},
   "outputs": [
    {
     "data": {
      "text/plain": [
       "array([[1., 1., 1.],\n",
       "       [1., 1., 1.]])"
      ]
     },
     "execution_count": 40,
     "metadata": {},
     "output_type": "execute_result"
    }
   ],
   "source": [
    "x"
   ]
  },
  {
   "cell_type": "code",
   "execution_count": 41,
   "id": "2fb87809-59d3-44e2-bf27-d7f960dfd26c",
   "metadata": {},
   "outputs": [
    {
     "data": {
      "text/plain": [
       "array([[1., 1.],\n",
       "       [1., 1.],\n",
       "       [1., 1.]])"
      ]
     },
     "execution_count": 41,
     "metadata": {},
     "output_type": "execute_result"
    }
   ],
   "source": [
    "y.view()"
   ]
  },
  {
   "cell_type": "code",
   "execution_count": 42,
   "id": "952fed57-7360-485f-a5c2-d587927ff8dd",
   "metadata": {},
   "outputs": [
    {
     "data": {
      "text/plain": [
       "array([[1., 1.],\n",
       "       [1., 1.],\n",
       "       [1., 1.]])"
      ]
     },
     "execution_count": 42,
     "metadata": {},
     "output_type": "execute_result"
    }
   ],
   "source": [
    "p = y.view()\n",
    "p"
   ]
  },
  {
   "cell_type": "code",
   "execution_count": 43,
   "id": "e901a885-1023-4aac-823b-ade08cd04daa",
   "metadata": {},
   "outputs": [
    {
     "data": {
      "text/plain": [
       "(3, 2)"
      ]
     },
     "execution_count": 43,
     "metadata": {},
     "output_type": "execute_result"
    }
   ],
   "source": [
    "p.shape"
   ]
  },
  {
   "cell_type": "code",
   "execution_count": 44,
   "id": "7ce64ad2-531c-4ee6-ac7b-cb8a8dc78f44",
   "metadata": {},
   "outputs": [
    {
     "ename": "AttributeError",
     "evalue": "Incompatible shape for in-place modification. Use `.reshape()` to make a copy with the desired shape.",
     "output_type": "error",
     "traceback": [
      "\u001b[1;31m---------------------------------------------------------------------------\u001b[0m",
      "\u001b[1;31mAttributeError\u001b[0m                            Traceback (most recent call last)",
      "Cell \u001b[1;32mIn[44], line 1\u001b[0m\n\u001b[1;32m----> 1\u001b[0m \u001b[43mp\u001b[49m\u001b[38;5;241;43m.\u001b[39;49m\u001b[43mshape\u001b[49m\u001b[38;5;241m=\u001b[39m \u001b[38;5;241m6\u001b[39m \n",
      "\u001b[1;31mAttributeError\u001b[0m: Incompatible shape for in-place modification. Use `.reshape()` to make a copy with the desired shape."
     ]
    }
   ],
   "source": [
    "p.shape= 6 "
   ]
  },
  {
   "cell_type": "code",
   "execution_count": null,
   "id": "26bcc0c4-8d45-4502-970c-cb202da8fd9f",
   "metadata": {},
   "outputs": [],
   "source": []
  }
 ],
 "metadata": {
  "kernelspec": {
   "display_name": "Python 3 (ipykernel)",
   "language": "python",
   "name": "python3"
  },
  "language_info": {
   "codemirror_mode": {
    "name": "ipython",
    "version": 3
   },
   "file_extension": ".py",
   "mimetype": "text/x-python",
   "name": "python",
   "nbconvert_exporter": "python",
   "pygments_lexer": "ipython3",
   "version": "3.8.10"
  }
 },
 "nbformat": 4,
 "nbformat_minor": 5
}
